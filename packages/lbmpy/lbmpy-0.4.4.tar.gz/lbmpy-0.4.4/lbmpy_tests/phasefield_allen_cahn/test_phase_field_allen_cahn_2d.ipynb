{
 "cells": [
  {
   "cell_type": "code",
   "execution_count": 1,
   "metadata": {},
   "outputs": [],
   "source": [
    "from collections import OrderedDict\n",
    "import math\n",
    "\n",
    "from pystencils.session import *\n",
    "from lbmpy.session import *\n",
    "\n",
    "from pystencils.boundaries.boundaryhandling import BoundaryHandling\n",
    "\n",
    "from lbmpy.moments import MOMENT_SYMBOLS\n",
    "\n",
    "from lbmpy.methods.creationfunctions import create_with_discrete_maxwellian_eq_moments\n",
    "\n",
    "from lbmpy.phasefield_allen_cahn.parameter_calculation import calculate_parameters_rti\n",
    "from lbmpy.phasefield_allen_cahn.kernel_equations import *\n",
    "from lbmpy.phasefield_allen_cahn.force_model import CentralMomentMultiphaseForceModel\n",
    "from lbmpy.phasefield_allen_cahn.contact_angle import ContactAngle"
   ]
  },
  {
   "cell_type": "code",
   "execution_count": 2,
   "metadata": {},
   "outputs": [
    {
     "name": "stdout",
     "output_type": "stream",
     "text": [
      "No pycuda installed\n"
     ]
    }
   ],
   "source": [
    "try:\n",
    "    import pycuda\n",
    "except ImportError:\n",
    "    pycuda = None\n",
    "    target = ps.Target.CPU\n",
    "    print('No pycuda installed')\n",
    "\n",
    "if pycuda:\n",
    "    target = ps.Target.GPU"
   ]
  },
  {
   "cell_type": "code",
   "execution_count": 3,
   "metadata": {},
   "outputs": [],
   "source": [
    "stencil_phase = LBStencil(Stencil.D2Q9)\n",
    "stencil_hydro = LBStencil(Stencil.D2Q9)\n",
    "fd_stencil = LBStencil(Stencil.D2Q9)\n",
    "assert stencil_phase.D == stencil_hydro.D\n",
    "\n",
    "dimensions = stencil_phase.D"
   ]
  },
  {
   "cell_type": "code",
   "execution_count": 4,
   "metadata": {},
   "outputs": [],
   "source": [
    "# domain \n",
    "L0 = 256\n",
    "domain_size = (L0, 4 * L0)\n",
    "# time step\n",
    "timesteps = 1000\n",
    "\n",
    "# reference time\n",
    "reference_time = 8000\n",
    "# density of the heavier fluid\n",
    "rho_H = 1.0\n",
    "\n",
    "# calculate the parameters for the RTI\n",
    "parameters = calculate_parameters_rti(reference_length=L0,\n",
    "                                      reference_time=reference_time,\n",
    "                                      density_heavy=rho_H,\n",
    "                                      capillary_number=0.44,\n",
    "                                      reynolds_number=3000,\n",
    "                                      atwood_number=0.998,\n",
    "                                      peclet_number=1000,\n",
    "                                      density_ratio=1000,\n",
    "                                      viscosity_ratio=100)\n",
    "# get the parameters\n",
    "rho_L = parameters.get(\"density_light\")\n",
    "\n",
    "mu_H = parameters.get(\"dynamic_viscosity_heavy\")\n",
    "mu_L = parameters.get(\"dynamic_viscosity_light\")\n",
    "\n",
    "tau_H = parameters.get(\"relaxation_time_heavy\")\n",
    "tau_L = parameters.get(\"relaxation_time_light\")\n",
    "\n",
    "sigma = parameters.get(\"surface_tension\")\n",
    "M = parameters.get(\"mobility\")\n",
    "gravitational_acceleration = parameters.get(\"gravitational_acceleration\")\n",
    "\n",
    "\n",
    "drho3 = (rho_H - rho_L)/3\n",
    "# interface thickness\n",
    "W = 5\n",
    "# coeffcient related to surface tension\n",
    "beta = 12.0 * (sigma/W)\n",
    "# coeffcient related to surface tension\n",
    "kappa = 1.5 * sigma*W\n",
    "# relaxation rate allen cahn (h)\n",
    "w_c = 1.0/(0.5 + (3.0 * M))"
   ]
  },
  {
   "cell_type": "code",
   "execution_count": 5,
   "metadata": {},
   "outputs": [],
   "source": [
    "dh = ps.create_data_handling((domain_size), periodicity=(True, False), parallel=False, default_target=target)\n",
    "\n",
    "g = dh.add_array(\"g\", values_per_cell=len(stencil_hydro))\n",
    "dh.fill(\"g\", 0.0, ghost_layers=True)\n",
    "h = dh.add_array(\"h\",values_per_cell=len(stencil_phase))\n",
    "dh.fill(\"h\", 0.0, ghost_layers=True)\n",
    "\n",
    "g_tmp = dh.add_array(\"g_tmp\", values_per_cell=len(stencil_hydro))\n",
    "dh.fill(\"g_tmp\", 0.0, ghost_layers=True)\n",
    "h_tmp = dh.add_array(\"h_tmp\",values_per_cell=len(stencil_phase))\n",
    "dh.fill(\"h_tmp\", 0.0, ghost_layers=True)\n",
    "\n",
    "u = dh.add_array(\"u\", values_per_cell=dh.dim)\n",
    "dh.fill(\"u\", 0.0, ghost_layers=True)\n",
    "\n",
    "C = dh.add_array(\"C\")\n",
    "dh.fill(\"C\", 0.0, ghost_layers=True)\n",
    "C_tmp = dh.add_array(\"C_tmp\")\n",
    "dh.fill(\"C_tmp\", 0.0, ghost_layers=True)"
   ]
  },
  {
   "cell_type": "code",
   "execution_count": 6,
   "metadata": {},
   "outputs": [],
   "source": [
    "tau = 0.5 + tau_L + (C.center) * (tau_H - tau_L)\n",
    "s8 = 1/(tau)\n",
    "\n",
    "rho = rho_L + (C.center) * (rho_H - rho_L)\n",
    "\n",
    "body_force = [0, 0, 0]\n",
    "body_force[1] = gravitational_acceleration * rho"
   ]
  },
  {
   "cell_type": "code",
   "execution_count": 7,
   "metadata": {},
   "outputs": [],
   "source": [
    "config = ps.CreateKernelConfig(target=dh.default_target, cpu_openmp=True)"
   ]
  },
  {
   "cell_type": "code",
   "execution_count": 8,
   "metadata": {},
   "outputs": [],
   "source": [
    "config_phase = LBMConfig(stencil=stencil_phase, method=Method.CENTRAL_MOMENT, compressible=True,\n",
    "                         relaxation_rate=1, equilibrium_order=4)\n",
    "\n",
    "config_hydro = LBMConfig(stencil=stencil_hydro, method=Method.CENTRAL_MOMENT, compressible=False,\n",
    "                         relaxation_rate=s8, equilibrium_order=4)"
   ]
  },
  {
   "cell_type": "code",
   "execution_count": 9,
   "metadata": {},
   "outputs": [],
   "source": [
    "method_phase = create_lb_method(lbm_config=config_phase)\n",
    "method_phase.set_first_moment_relaxation_rate(w_c)\n",
    "\n",
    "method_hydro = create_lb_method(lbm_config=config_hydro)"
   ]
  },
  {
   "cell_type": "code",
   "execution_count": 10,
   "metadata": {},
   "outputs": [],
   "source": [
    "# initialize the domain\n",
    "def Initialize_distributions():\n",
    "    Nx = domain_size[0]\n",
    "    Ny = domain_size[1]\n",
    "    \n",
    "    for block in dh.iterate(ghost_layers=True, inner_ghost_layers=False):\n",
    "        x = np.zeros_like(block.midpoint_arrays[0])\n",
    "        x[:, :] = block.midpoint_arrays[0]\n",
    "        \n",
    "        y = np.zeros_like(block.midpoint_arrays[1])\n",
    "        y[:, :] = block.midpoint_arrays[1]\n",
    "\n",
    "        y -= 2 * L0\n",
    "        tmp = 0.1 * Nx * np.cos((2 * math.pi * x) / Nx)\n",
    "        init_values = 0.5 + 0.5 * np.tanh((y - tmp) / (W / 2))\n",
    "        block[\"C\"][:, :] = init_values\n",
    "        \n",
    "    if target == ps.Target.GPU:\n",
    "        dh.all_to_gpu()            \n",
    "    \n",
    "    dh.run_kernel(h_init)\n",
    "    dh.run_kernel(g_init)"
   ]
  },
  {
   "cell_type": "code",
   "execution_count": 11,
   "metadata": {},
   "outputs": [],
   "source": [
    "h_updates = initializer_kernel_phase_field_lb(h, C, u, method_phase, W, fd_stencil=fd_stencil)\n",
    "g_updates = initializer_kernel_hydro_lb(g, u, method_hydro)\n",
    "\n",
    "h_init = ps.create_kernel(h_updates, config=config).compile()\n",
    "g_init = ps.create_kernel(g_updates, config=config).compile()"
   ]
  },
  {
   "cell_type": "code",
   "execution_count": 12,
   "metadata": {},
   "outputs": [],
   "source": [
    "force_h = [f / 3 for f in interface_tracking_force(C, stencil_phase, W, fd_stencil=stencil_phase)]\n",
    "force_model_h = CentralMomentMultiphaseForceModel(force=force_h)\n",
    "\n",
    "force_g = hydrodynamic_force(g, C, method_hydro, tau, rho_H, rho_L, kappa, beta, body_force)\n",
    "force_model_g = CentralMomentMultiphaseForceModel(force=force_g, rho=rho)"
   ]
  },
  {
   "cell_type": "code",
   "execution_count": 13,
   "metadata": {
    "scrolled": false
   },
   "outputs": [],
   "source": [
    "allen_cahn_lb = get_collision_assignments_phase(lb_method=method_phase,\n",
    "                                                velocity_input=u,\n",
    "                                                output={'density': C_tmp},\n",
    "                                                force_model=force_model_h,\n",
    "                                                symbolic_fields={\"symbolic_field\": h,\n",
    "                                                                 \"symbolic_temporary_field\": h_tmp},\n",
    "                                                kernel_type='stream_pull_collide')\n",
    "\n",
    "allen_cahn_lb = sympy_cse(allen_cahn_lb)\n",
    "\n",
    "ast_allen_cahn_lb = ps.create_kernel(allen_cahn_lb, config=config)\n",
    "kernel_allen_cahn_lb = ast_allen_cahn_lb.compile()"
   ]
  },
  {
   "cell_type": "code",
   "execution_count": 14,
   "metadata": {},
   "outputs": [],
   "source": [
    "hydro_lb_update_rule = get_collision_assignments_hydro(lb_method=method_hydro,\n",
    "                                                       density=rho,\n",
    "                                                       velocity_input=u,\n",
    "                                                       force_model=force_model_g,\n",
    "                                                       sub_iterations=2,\n",
    "                                                       symbolic_fields={\"symbolic_field\": g,\n",
    "                                                                        \"symbolic_temporary_field\": g_tmp},\n",
    "                                                       kernel_type='collide_stream_push')\n",
    "\n",
    "hydro_lb_update_rule = sympy_cse(hydro_lb_update_rule)\n",
    "\n",
    "ast_hydro_lb = ps.create_kernel(hydro_lb_update_rule, config=config)\n",
    "kernel_hydro_lb = ast_hydro_lb.compile()"
   ]
  },
  {
   "cell_type": "code",
   "execution_count": 15,
   "metadata": {},
   "outputs": [],
   "source": [
    "# periodic Boundarys for g, h and C\n",
    "periodic_BC_C = dh.synchronization_function(C.name, target=dh.default_target, optimization = {\"openmp\": True})\n",
    "\n",
    "periodic_BC_g = LBMPeriodicityHandling(stencil=stencil_hydro, data_handling=dh, pdf_field_name=g.name,\n",
    "                                       streaming_pattern='push')\n",
    "periodic_BC_h = LBMPeriodicityHandling(stencil=stencil_phase, data_handling=dh, pdf_field_name=h.name,\n",
    "                                       streaming_pattern='pull')\n",
    "\n",
    "# No slip boundary for the phasefield lbm\n",
    "bh_allen_cahn = LatticeBoltzmannBoundaryHandling(method_phase, dh, 'h',\n",
    "                                                 target=dh.default_target, name='boundary_handling_h',\n",
    "                                                 streaming_pattern='pull')\n",
    "\n",
    "# No slip boundary for the velocityfield lbm\n",
    "bh_hydro = LatticeBoltzmannBoundaryHandling(method_hydro, dh, 'g' ,\n",
    "                                            target=dh.default_target, name='boundary_handling_g',\n",
    "                                            streaming_pattern='push')\n",
    "\n",
    "contact_angle = BoundaryHandling(dh, C.name, fd_stencil, target=dh.default_target)\n",
    "\n",
    "contact = ContactAngle(45, W)\n",
    "wall = NoSlip()\n",
    "\n",
    "if dimensions == 2:\n",
    "    bh_allen_cahn.set_boundary(wall, make_slice[:, 0])\n",
    "    bh_allen_cahn.set_boundary(wall, make_slice[:, -1])\n",
    "\n",
    "    bh_hydro.set_boundary(wall, make_slice[:, 0])\n",
    "    bh_hydro.set_boundary(wall, make_slice[:, -1])\n",
    "    \n",
    "    contact_angle.set_boundary(contact, make_slice[:, 0])\n",
    "    contact_angle.set_boundary(contact, make_slice[:, -1])\n",
    "else:\n",
    "    bh_allen_cahn.set_boundary(wall, make_slice[:, 0, :])\n",
    "    bh_allen_cahn.set_boundary(wall, make_slice[:, -1, :])\n",
    "\n",
    "    bh_hydro.set_boundary(wall, make_slice[:, 0, :])\n",
    "    bh_hydro.set_boundary(wall, make_slice[:, -1, :])\n",
    "    \n",
    "    contact_angle.set_boundary(contact, make_slice[:, 0, :])\n",
    "    contact_angle.set_boundary(contact, make_slice[:, -1, :])\n",
    "\n",
    "\n",
    "bh_allen_cahn.prepare()\n",
    "bh_hydro.prepare()"
   ]
  },
  {
   "cell_type": "code",
   "execution_count": 16,
   "metadata": {},
   "outputs": [],
   "source": [
    "# definition of the timestep for the immiscible fluids model\n",
    "def Improved_PhaseField_h_g():\n",
    "    periodic_BC_h()\n",
    "    bh_allen_cahn()\n",
    "    \n",
    "    # run the phase-field LB\n",
    "    dh.run_kernel(kernel_allen_cahn_lb)\n",
    "    dh.swap(\"C\", \"C_tmp\")\n",
    "    contact_angle()\n",
    "    # periodic BC of the phase-field\n",
    "    periodic_BC_C()\n",
    "    \n",
    "    dh.run_kernel(kernel_hydro_lb)\n",
    "    periodic_BC_g()\n",
    "    bh_hydro()\n",
    "\n",
    "    # field swaps\n",
    "    dh.swap(\"h\", \"h_tmp\")\n",
    "    dh.swap(\"g\", \"g_tmp\")"
   ]
  },
  {
   "cell_type": "code",
   "execution_count": 17,
   "metadata": {
    "scrolled": false
   },
   "outputs": [],
   "source": [
    "Initialize_distributions()\n",
    "\n",
    "for i in range(0, timesteps): \n",
    "    Improved_PhaseField_h_g()"
   ]
  },
  {
   "cell_type": "code",
   "execution_count": 18,
   "metadata": {},
   "outputs": [],
   "source": [
    "if target == ps.Target.GPU:\n",
    "    dh.to_cpu(\"C\")\n",
    "\n",
    "Ny = domain_size[1]\n",
    "\n",
    "pos_liquid_front = (np.argmax(dh.cpu_arrays[\"C\"][L0//2, :] > 0.5) - Ny//2)/L0\n",
    "pos_bubble_front = (np.argmax(dh.cpu_arrays[\"C\"][0, :] > 0.5) - Ny//2)/L0"
   ]
  },
  {
   "cell_type": "code",
   "execution_count": 19,
   "metadata": {},
   "outputs": [],
   "source": [
    "assert(np.isclose(pos_liquid_front, -1e-1, atol=0.01))\n",
    "assert(np.isclose(pos_bubble_front, 9e-2, atol=0.01))"
   ]
  }
 ],
 "metadata": {
  "kernelspec": {
   "display_name": "Python 3 (ipykernel)",
   "language": "python",
   "name": "python3"
  },
  "language_info": {
   "codemirror_mode": {
    "name": "ipython",
    "version": 3
   },
   "file_extension": ".py",
   "mimetype": "text/x-python",
   "name": "python",
   "nbconvert_exporter": "python",
   "pygments_lexer": "ipython3",
   "version": "3.9.7"
  }
 },
 "nbformat": 4,
 "nbformat_minor": 2
}
