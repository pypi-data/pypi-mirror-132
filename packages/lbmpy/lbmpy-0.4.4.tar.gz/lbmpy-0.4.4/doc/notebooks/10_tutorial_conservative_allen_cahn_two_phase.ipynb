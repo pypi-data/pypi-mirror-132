{
 "cells": [
  {
   "cell_type": "markdown",
   "metadata": {},
   "source": [
    "# The conservative Allen-Cahn model for high Reynolds number, two phase flow with large-density and viscosity constrast"
   ]
  },
  {
   "cell_type": "code",
   "execution_count": 1,
   "metadata": {},
   "outputs": [],
   "source": [
    "from pystencils.session import *\n",
    "from lbmpy.session import *\n",
    "\n",
    "from pystencils.simp import sympy_cse\n",
    "from pystencils.boundaries import BoundaryHandling\n",
    "\n",
    "from lbmpy.phasefield_allen_cahn.contact_angle import ContactAngle\n",
    "from lbmpy.phasefield_allen_cahn.force_model import MultiphaseForceModel, CentralMomentMultiphaseForceModel\n",
    "from lbmpy.phasefield_allen_cahn.kernel_equations import *\n",
    "from lbmpy.phasefield_allen_cahn.parameter_calculation import calculate_parameters_rti\n",
    "\n",
    "from lbmpy.advanced_streaming import LBMPeriodicityHandling\n",
    "from lbmpy.boundaries import NoSlip, LatticeBoltzmannBoundaryHandling"
   ]
  },
  {
   "cell_type": "markdown",
   "metadata": {},
   "source": [
    "If `pycuda` is installed the simulation automatically runs on GPU"
   ]
  },
  {
   "cell_type": "code",
   "execution_count": 2,
   "metadata": {},
   "outputs": [
    {
     "name": "stdout",
     "output_type": "stream",
     "text": [
      "No pycuda installed\n"
     ]
    }
   ],
   "source": [
    "try:\n",
    "    import pycuda\n",
    "except ImportError:\n",
    "    pycuda = None\n",
    "    gpu = False\n",
    "    target = ps.Target.CPU\n",
    "    print('No pycuda installed')\n",
    "\n",
    "if pycuda:\n",
    "    gpu = True\n",
    "    target = ps.Target.GPU"
   ]
  },
  {
   "cell_type": "markdown",
   "metadata": {},
   "source": [
    "The conservative Allen-Cahn model (CACM) for two-phase flow is based on the work of Fakhari et al. (2017) [Improved locality of the phase-field lattice-Boltzmann model for immiscible fluids at high density ratios](http://dx.doi.org/10.1103/PhysRevE.96.053301). The model can be created for two-dimensional problems as well as three-dimensional problems, which have been described by Mitchell et al. (2018) [Development of a three-dimensional\n",
    "phase-field lattice Boltzmann method for the study of immiscible fluids at high density ratios](http://dx.doi.org/10.1103/PhysRevE.96.053301). Furthermore, cascaded lattice Boltzmann methods can be combined with the model which was described in [A cascaded phase-field lattice Boltzmann model for the simulation of incompressible, immiscible fluids with high density contrast](http://dx.doi.org/10.1016/j.camwa.2019.08.018)\n",
    "\n",
    "\n",
    "The CACM is suitable for simulating highly complex two phase flow problems with high-density ratios and high Reynolds numbers. In this tutorial, an overview is provided on how to derive the model with lbmpy. For this, the model is defined with two LBM populations. One for the interface tracking, which we call the phase-field LB step and one for recovering the hydrodynamic properties. The latter is called the hydrodynamic LB step."
   ]
  },
  {
   "cell_type": "markdown",
   "metadata": {},
   "source": [
    "## Geometry Setup\n",
    "\n",
    "First of all, the stencils for the phase-field LB step as well as the stencil for the hydrodynamic LB step are defined. According to the stencils, the simulation can be performed in either 2D- or 3D-space. For 2D simulations, only the D2Q9 stencil is supported. For 3D simulations, the D3Q15, D3Q19 and the D3Q27 stencil are supported. Note here that the cascaded LBM can not be derived for D3Q15 stencils."
   ]
  },
  {
   "cell_type": "code",
   "execution_count": 3,
   "metadata": {},
   "outputs": [],
   "source": [
    "stencil_phase = LBStencil(Stencil.D2Q9)\n",
    "stencil_hydro = LBStencil(Stencil.D2Q9)\n",
    "assert(len(stencil_phase[0]) == len(stencil_hydro[0]))\n",
    "\n",
    "dimensions = len(stencil_phase[0])"
   ]
  },
  {
   "cell_type": "markdown",
   "metadata": {},
   "source": [
    "Definition of the domain size"
   ]
  },
  {
   "cell_type": "code",
   "execution_count": 4,
   "metadata": {},
   "outputs": [],
   "source": [
    "# domain \n",
    "L0 = 256\n",
    "domain_size = (L0, 4 * L0)"
   ]
  },
  {
   "cell_type": "markdown",
   "metadata": {},
   "source": [
    "## Parameter definition\n",
    "\n",
    "The next step is to calculate all parameters which are needed for the simulation. In this example, a Rayleigh-Taylor instability test case is set up. The parameter calculation for this setup is already implemented in lbmpy and can be used with the dimensionless parameters which describe the problem."
   ]
  },
  {
   "cell_type": "code",
   "execution_count": 5,
   "metadata": {},
   "outputs": [],
   "source": [
    "# time step\n",
    "timesteps = 8000\n",
    "\n",
    "# reference time\n",
    "reference_time = 4000\n",
    "# density of the heavier fluid\n",
    "rho_H = 1.0\n",
    "\n",
    "# calculate the parameters for the RTI\n",
    "parameters = calculate_parameters_rti(reference_length=L0,\n",
    "                                      reference_time=reference_time,\n",
    "                                      density_heavy=rho_H,\n",
    "                                      capillary_number=0.44,\n",
    "                                      reynolds_number=3000,\n",
    "                                      atwood_number=0.998,\n",
    "                                      peclet_number=1000,\n",
    "                                      density_ratio=1000,\n",
    "                                      viscosity_ratio=100)\n",
    "# get the parameters\n",
    "rho_L = parameters.get(\"density_light\")\n",
    "\n",
    "mu_H = parameters.get(\"dynamic_viscosity_heavy\")\n",
    "mu_L = parameters.get(\"dynamic_viscosity_light\")\n",
    "\n",
    "tau_H = parameters.get(\"relaxation_time_heavy\")\n",
    "tau_L = parameters.get(\"relaxation_time_light\")\n",
    "\n",
    "sigma = parameters.get(\"surface_tension\")\n",
    "M = parameters.get(\"mobility\")\n",
    "gravitational_acceleration = parameters.get(\"gravitational_acceleration\")\n",
    "\n",
    "\n",
    "drho3 = (rho_H - rho_L)/3\n",
    "# interface thickness\n",
    "W = 5\n",
    "# coeffcient related to surface tension\n",
    "beta = 12.0 * (sigma/W)\n",
    "# coeffcient related to surface tension\n",
    "kappa = 1.5 * sigma*W\n",
    "# relaxation rate allen cahn (h)\n",
    "w_c = 1.0/(0.5 + (3.0 * M))"
   ]
  },
  {
   "cell_type": "markdown",
   "metadata": {},
   "source": [
    "## Fields\n",
    "\n",
    "As a next step all fields which are needed get defined. To do so, we create a `datahandling` object. More details about it can be found in the third tutorial of the [pystencils framework]( http://pycodegen.pages.walberla.net/pystencils/). This object holds all fields and manages the kernel runs."
   ]
  },
  {
   "cell_type": "code",
   "execution_count": 6,
   "metadata": {},
   "outputs": [],
   "source": [
    "# create a datahandling object\n",
    "dh = ps.create_data_handling((domain_size), periodicity=(True, False), parallel=False, default_target=target)\n",
    "\n",
    "# pdf fields. g is used for hydrodynamics and h for the interface tracking \n",
    "g = dh.add_array(\"g\", values_per_cell=len(stencil_hydro))\n",
    "dh.fill(\"g\", 0.0, ghost_layers=True)\n",
    "h = dh.add_array(\"h\",values_per_cell=len(stencil_phase))\n",
    "dh.fill(\"h\", 0.0, ghost_layers=True)\n",
    "\n",
    "g_tmp = dh.add_array(\"g_tmp\", values_per_cell=len(stencil_hydro))\n",
    "dh.fill(\"g_tmp\", 0.0, ghost_layers=True)\n",
    "h_tmp = dh.add_array(\"h_tmp\",values_per_cell=len(stencil_phase))\n",
    "dh.fill(\"h_tmp\", 0.0, ghost_layers=True)\n",
    "\n",
    "# velocity field\n",
    "u = dh.add_array(\"u\", values_per_cell=dh.dim)\n",
    "dh.fill(\"u\", 0.0, ghost_layers=True)\n",
    "\n",
    "# phase-field\n",
    "C = dh.add_array(\"C\")\n",
    "dh.fill(\"C\", 0.0, ghost_layers=True)\n",
    "C_tmp = dh.add_array(\"C_tmp\")\n",
    "dh.fill(\"C_tmp\", 0.0, ghost_layers=True)"
   ]
  },
  {
   "cell_type": "markdown",
   "metadata": {},
   "source": [
    "As a next step the relaxation time is stated in a symbolic form. It is calculated via interpolation."
   ]
  },
  {
   "cell_type": "code",
   "execution_count": 7,
   "metadata": {},
   "outputs": [],
   "source": [
    "# relaxation time and rate\n",
    "tau = 0.5 + tau_L + (C.center) * (tau_H - tau_L)\n",
    "s8 = 1/(tau)\n",
    "\n",
    "# density for the whole domain\n",
    "rho = rho_L + (C.center) * (rho_H - rho_L)\n",
    "\n",
    "# body force\n",
    "body_force = [0, 0, 0]\n",
    "body_force[1] = gravitational_acceleration * rho"
   ]
  },
  {
   "cell_type": "markdown",
   "metadata": {},
   "source": [
    "## Definition of the lattice Boltzmann methods"
   ]
  },
  {
   "cell_type": "markdown",
   "metadata": {},
   "source": [
    "For both LB steps, a weighted orthogonal MRT (WMRT) method is used. It is also possible to change the method to a simpler SRT scheme or a more complicated CLBM scheme. The CLBM scheme can be obtained by commenting in the python snippets in the notebook cells below. Note here that the hydrodynamic LB step is formulated as an incompressible velocity-based LBM. Thus, the velocity terms can not be removed from the equilibrium in the central moment space."
   ]
  },
  {
   "cell_type": "code",
   "execution_count": 8,
   "metadata": {},
   "outputs": [
    {
     "data": {
      "text/html": [
       "\n",
       "        <table style=\"border:none; width: 100%\">\n",
       "            <tr style=\"border:none\">\n",
       "                <th style=\"border:none\" >Moment</th>\n",
       "                <th style=\"border:none\" >Eq. Value </th>\n",
       "                <th style=\"border:none\" >Relaxation Rate</th>\n",
       "            </tr>\n",
       "            <tr style=\"border:none\">\n",
       "                            <td style=\"border:none\">$1$</td>\n",
       "                            <td style=\"border:none\">$\\rho$</td>\n",
       "                            <td style=\"border:none\">$0$</td>\n",
       "                         </tr>\n",
       "<tr style=\"border:none\">\n",
       "                            <td style=\"border:none\">$x$</td>\n",
       "                            <td style=\"border:none\">$\\rho u_{0}$</td>\n",
       "                            <td style=\"border:none\">$1.8208262344103532$</td>\n",
       "                         </tr>\n",
       "<tr style=\"border:none\">\n",
       "                            <td style=\"border:none\">$y$</td>\n",
       "                            <td style=\"border:none\">$\\rho u_{1}$</td>\n",
       "                            <td style=\"border:none\">$1.8208262344103532$</td>\n",
       "                         </tr>\n",
       "<tr style=\"border:none\">\n",
       "                            <td style=\"border:none\">$x^{2} - y^{2}$</td>\n",
       "                            <td style=\"border:none\">$\\rho u_{0}^{2} - \\rho u_{1}^{2}$</td>\n",
       "                            <td style=\"border:none\">$1$</td>\n",
       "                         </tr>\n",
       "<tr style=\"border:none\">\n",
       "                            <td style=\"border:none\">$x y$</td>\n",
       "                            <td style=\"border:none\">$\\rho u_{0} u_{1}$</td>\n",
       "                            <td style=\"border:none\">$1$</td>\n",
       "                         </tr>\n",
       "<tr style=\"border:none\">\n",
       "                            <td style=\"border:none\">$3 x^{2} + 3 y^{2} - 2$</td>\n",
       "                            <td style=\"border:none\">$3 \\rho u_{0}^{2} + 3 \\rho u_{1}^{2}$</td>\n",
       "                            <td style=\"border:none\">$1$</td>\n",
       "                         </tr>\n",
       "<tr style=\"border:none\">\n",
       "                            <td style=\"border:none\">$3 x^{2} y - y$</td>\n",
       "                            <td style=\"border:none\">$0$</td>\n",
       "                            <td style=\"border:none\">$1$</td>\n",
       "                         </tr>\n",
       "<tr style=\"border:none\">\n",
       "                            <td style=\"border:none\">$3 x y^{2} - x$</td>\n",
       "                            <td style=\"border:none\">$0$</td>\n",
       "                            <td style=\"border:none\">$1$</td>\n",
       "                         </tr>\n",
       "<tr style=\"border:none\">\n",
       "                            <td style=\"border:none\">$9 x^{2} y^{2} - 3 x^{2} - 3 y^{2} + 1$</td>\n",
       "                            <td style=\"border:none\">$0$</td>\n",
       "                            <td style=\"border:none\">$1$</td>\n",
       "                         </tr>\n",
       "\n",
       "        </table>\n",
       "        "
      ],
      "text/plain": [
       "<lbmpy.methods.momentbased.momentbasedmethod.MomentBasedLbMethod at 0x12a4075e0>"
      ]
     },
     "execution_count": 8,
     "metadata": {},
     "output_type": "execute_result"
    }
   ],
   "source": [
    "config_phase = LBMConfig(stencil=stencil_phase, method=Method.MRT, compressible=True,\n",
    "                         weighted=True, relaxation_rates=[1, 1, 1, 1, 1])\n",
    "\n",
    "method_phase = create_lb_method(lbm_config=config_phase)\n",
    "method_phase.set_first_moment_relaxation_rate(w_c)\n",
    "\n",
    "# config_phase = LBMConfig(stencil=stencil_phase, method=Method.CENTRAL_MOMENT, compressible=True,\n",
    "#                          weighted=True, relaxation_rates=[0, w_c, 1, 1, 1], equilibrium_order=4)\n",
    "\n",
    "# method_phase = create_lb_method(lbm_config=config_phase)\n",
    "method_phase"
   ]
  },
  {
   "cell_type": "code",
   "execution_count": 9,
   "metadata": {},
   "outputs": [
    {
     "data": {
      "text/html": [
       "\n",
       "        <table style=\"border:none; width: 100%\">\n",
       "            <tr style=\"border:none\">\n",
       "                <th style=\"border:none\" >Moment</th>\n",
       "                <th style=\"border:none\" >Eq. Value </th>\n",
       "                <th style=\"border:none\" >Relaxation Rate</th>\n",
       "            </tr>\n",
       "            <tr style=\"border:none\">\n",
       "                            <td style=\"border:none\">$1$</td>\n",
       "                            <td style=\"border:none\">$\\rho$</td>\n",
       "                            <td style=\"border:none\">$0$</td>\n",
       "                         </tr>\n",
       "<tr style=\"border:none\">\n",
       "                            <td style=\"border:none\">$x$</td>\n",
       "                            <td style=\"border:none\">$u_{0}$</td>\n",
       "                            <td style=\"border:none\">$0$</td>\n",
       "                         </tr>\n",
       "<tr style=\"border:none\">\n",
       "                            <td style=\"border:none\">$y$</td>\n",
       "                            <td style=\"border:none\">$u_{1}$</td>\n",
       "                            <td style=\"border:none\">$0$</td>\n",
       "                         </tr>\n",
       "<tr style=\"border:none\">\n",
       "                            <td style=\"border:none\">$x^{2} - y^{2}$</td>\n",
       "                            <td style=\"border:none\">$u_{0}^{2} - u_{1}^{2}$</td>\n",
       "                            <td style=\"border:none\">$\\frac{1}{0.664004086170318 - 0.147603677553286 {{C}_{(0,0)}}}$</td>\n",
       "                         </tr>\n",
       "<tr style=\"border:none\">\n",
       "                            <td style=\"border:none\">$x y$</td>\n",
       "                            <td style=\"border:none\">$u_{0} u_{1}$</td>\n",
       "                            <td style=\"border:none\">$\\frac{1}{0.664004086170318 - 0.147603677553286 {{C}_{(0,0)}}}$</td>\n",
       "                         </tr>\n",
       "<tr style=\"border:none\">\n",
       "                            <td style=\"border:none\">$3 x^{2} + 3 y^{2} - 2$</td>\n",
       "                            <td style=\"border:none\">$3 u_{0}^{2} + 3 u_{1}^{2}$</td>\n",
       "                            <td style=\"border:none\">$1$</td>\n",
       "                         </tr>\n",
       "<tr style=\"border:none\">\n",
       "                            <td style=\"border:none\">$3 x^{2} y - y$</td>\n",
       "                            <td style=\"border:none\">$0$</td>\n",
       "                            <td style=\"border:none\">$1$</td>\n",
       "                         </tr>\n",
       "<tr style=\"border:none\">\n",
       "                            <td style=\"border:none\">$3 x y^{2} - x$</td>\n",
       "                            <td style=\"border:none\">$0$</td>\n",
       "                            <td style=\"border:none\">$1$</td>\n",
       "                         </tr>\n",
       "<tr style=\"border:none\">\n",
       "                            <td style=\"border:none\">$9 x^{2} y^{2} - 3 x^{2} - 3 y^{2} + 1$</td>\n",
       "                            <td style=\"border:none\">$0$</td>\n",
       "                            <td style=\"border:none\">$1$</td>\n",
       "                         </tr>\n",
       "\n",
       "        </table>\n",
       "        "
      ],
      "text/plain": [
       "<lbmpy.methods.momentbased.momentbasedmethod.MomentBasedLbMethod at 0x11ff35c10>"
      ]
     },
     "execution_count": 9,
     "metadata": {},
     "output_type": "execute_result"
    }
   ],
   "source": [
    "config_hydro = LBMConfig(stencil=stencil_hydro, method=Method.MRT, compressible=False,\n",
    "                         weighted=True, relaxation_rates=[s8, 1, 1, 1])\n",
    "\n",
    "method_hydro = create_lb_method(lbm_config=config_hydro)\n",
    "\n",
    "\n",
    "# config_hydro = LBMConfig(stencil=stencil_hydro, method=Method.CENTRAL_MOMENT, compressible=False,\n",
    "#                          weighted=True, relaxation_rates=[s8, 1, 1], equilibrium_order=4)\n",
    "\n",
    "# method_hydro = create_lb_method(lbm_config=config_hydro)\n",
    "\n",
    "method_hydro"
   ]
  },
  {
   "cell_type": "markdown",
   "metadata": {},
   "source": [
    "## Initialization"
   ]
  },
  {
   "cell_type": "markdown",
   "metadata": {},
   "source": [
    "The probability distribution functions (pdfs) are initialised with the equilibrium distribution for the LB methods."
   ]
  },
  {
   "cell_type": "code",
   "execution_count": 10,
   "metadata": {},
   "outputs": [],
   "source": [
    "h_updates = initializer_kernel_phase_field_lb(h, C, u, method_phase, W)\n",
    "g_updates = initializer_kernel_hydro_lb(g, u, method_hydro)\n",
    "\n",
    "h_init = ps.create_kernel(h_updates, target=dh.default_target, cpu_openmp=True).compile()\n",
    "g_init = ps.create_kernel(g_updates, target=dh.default_target, cpu_openmp=True).compile()"
   ]
  },
  {
   "cell_type": "markdown",
   "metadata": {},
   "source": [
    "Following this, the phase field is initialised directly in python."
   ]
  },
  {
   "cell_type": "code",
   "execution_count": 11,
   "metadata": {},
   "outputs": [],
   "source": [
    "# initialize the domain\n",
    "def Initialize_distributions():\n",
    "    Nx = domain_size[0]\n",
    "    Ny = domain_size[1]\n",
    "    \n",
    "    for block in dh.iterate(ghost_layers=True, inner_ghost_layers=False):\n",
    "        x = np.zeros_like(block.midpoint_arrays[0])\n",
    "        x[:, :] = block.midpoint_arrays[0]\n",
    "        \n",
    "        y = np.zeros_like(block.midpoint_arrays[1])\n",
    "        y[:, :] = block.midpoint_arrays[1]\n",
    "\n",
    "        y -= 2 * L0\n",
    "        tmp = 0.1 * Nx * np.cos((2 * np.pi * x) / Nx)\n",
    "        init_values = 0.5 + 0.5 * np.tanh((y - tmp) / (W / 2))\n",
    "        block[\"C\"][:, :] = init_values\n",
    "        block[\"C_tmp\"][:, :] = init_values\n",
    "        \n",
    "    if gpu:\n",
    "        dh.all_to_gpu()            \n",
    "    \n",
    "    dh.run_kernel(h_init)\n",
    "    dh.run_kernel(g_init)"
   ]
  },
  {
   "cell_type": "code",
   "execution_count": 12,
   "metadata": {},
   "outputs": [
    {
     "data": {
      "text/plain": [
       "<matplotlib.image.AxesImage at 0x12a9da5e0>"
      ]
     },
     "execution_count": 12,
     "metadata": {},
     "output_type": "execute_result"
    },
    {
     "data": {
      "image/png": "[encoded data removed]",
      "text/plain": [
       "<Figure size 1152x432 with 1 Axes>"
      ]
     },
     "metadata": {
      "needs_background": "light"
     },
     "output_type": "display_data"
    }
   ],
   "source": [
    "Initialize_distributions()\n",
    "plt.scalar_field(dh.gather_array(C.name))"
   ]
  },
  {
   "cell_type": "markdown",
   "metadata": {},
   "source": [
    "## Source Terms"
   ]
  },
  {
   "cell_type": "markdown",
   "metadata": {},
   "source": [
    "For the Allen-Cahn LB step, the Allen-Cahn equation needs to be applied as a source term. Here, a simple forcing model is used which is directly applied in the moment space: \n",
    "$$\n",
    "F_i^\\phi (\\boldsymbol{x}, t) = \\Delta t \\frac{\\left[1 - 4 \\left(\\phi - \\phi_0\\right)^2\\right]}{\\xi} w_i \\boldsymbol{c}_i \\cdot \\frac{\\nabla \\phi}{|{\\nabla \\phi}|},\n",
    "$$\n",
    "where $\\phi$ is the phase-field, $\\phi_0$ is the interface location, $\\Delta t$ it the timestep size $\\xi$ is the interface width, $\\boldsymbol{c}_i$ is the discrete direction from stencil_phase and $w_i$ are the weights. Furthermore, the equilibrium needs to be shifted:\n",
    "\n",
    "$$\n",
    "\\bar{h}^{eq}_\\alpha = h^{eq}_\\alpha - \\frac{1}{2} F^\\phi_\\alpha\n",
    "$$\n",
    "\n",
    "The hydrodynamic force is given by:\n",
    "$$\n",
    "F_i (\\boldsymbol{x}, t) = \\Delta t w_i \\frac{\\boldsymbol{c}_i \\boldsymbol{F}}{\\rho c_s^2},\n",
    "$$\n",
    "where $\\rho$ is the interpolated density and $\\boldsymbol{F}$ is the source term which consists of the pressure force \n",
    "$$\n",
    "\\boldsymbol{F}_p = -p^* c_s^2 \\nabla \\rho,\n",
    "$$\n",
    "the surface tension force:\n",
    "$$\n",
    "\\boldsymbol{F}_s = \\mu_\\phi \\nabla \\phi\n",
    "$$\n",
    "and the viscous force term:\n",
    "$$\n",
    "F_{\\mu, i}^{\\mathrm{MRT}} = - \\frac{\\nu}{c_s^2 \\Delta t} \\left[\\sum_{\\beta} c_{\\beta i} c_{\\beta j} \\times \\sum_{\\alpha} \\Omega_{\\beta \\alpha}(g_\\alpha - g_\\alpha^{\\mathrm{eq}})\\right] \\frac{\\partial \\rho}{\\partial x_j}.\n",
    "$$\n",
    "\n",
    "In the above equations $p^*$ is the normalised pressure which can be obtained from the zeroth order moment of the hydrodynamic distribution function $g$. The lattice speed of sound is given with $c_s$ and the chemical potential is $\\mu_\\phi$. Furthermore, the viscosity is $\\nu$ and $\\Omega$ is the moment-based collision operator. Note here that the hydrodynamic equilibrium is also adjusted as shown above for the phase-field distribution functions.\n",
    "\n",
    "\n",
    "For CLBM methods the forcing is applied directly in the central moment space. This is done with the `CentralMomentMultiphaseForceModel`. Furthermore, the GUO force model is applied here to be consistent with [A cascaded phase-field lattice Boltzmann model for the simulation of incompressible, immiscible fluids with high density contrast](http://dx.doi.org/10.1016/j.camwa.2019.08.018). Here we refer to equation D.7 which can be derived for 3D stencils automatically with lbmpy."
   ]
  },
  {
   "cell_type": "code",
   "execution_count": 13,
   "metadata": {},
   "outputs": [],
   "source": [
    "force_h = [f / 3 for f in interface_tracking_force(C, stencil_phase, W)]\n",
    "force_g = hydrodynamic_force(g, C, method_hydro, tau, rho_H, rho_L, kappa, beta, body_force)\n",
    "\n",
    "\n",
    "if isinstance(method_phase, CentralMomentBasedLbMethod):\n",
    "    force_model_h = CentralMomentMultiphaseForceModel(force=force_h)\n",
    "else:\n",
    "    force_model_h = MultiphaseForceModel(force=force_h)\n",
    "\n",
    "\n",
    "if isinstance(method_hydro, CentralMomentBasedLbMethod):\n",
    "    force_model_g = CentralMomentMultiphaseForceModel(force=force_g, rho=rho)\n",
    "else:\n",
    "    force_model_g = MultiphaseForceModel(force=force_g, rho=rho)"
   ]
  },
  {
   "cell_type": "markdown",
   "metadata": {},
   "source": [
    "## Definition of the LB update rules"
   ]
  },
  {
   "cell_type": "markdown",
   "metadata": {},
   "source": [
    "The update rule for the phase-field LB step is defined as:\n",
    "\n",
    "$$\n",
    "h_i (\\boldsymbol{x} + \\boldsymbol{c}_i \\Delta t, t + \\Delta t) = h_i(\\boldsymbol{x}, t) + \\Omega_{ij}^h(\\bar{h_j}^{eq} - h_j)|_{(\\boldsymbol{x}, t)} + F_i^\\phi(\\boldsymbol{x}, t).\n",
    "$$\n",
    "In our framework the pull scheme is applied as streaming step. Furthermore, the update of the phase-field is directly integrated into the kernel. As a result of this, a second temporary phase-field is needed."
   ]
  },
  {
   "cell_type": "code",
   "execution_count": 14,
   "metadata": {},
   "outputs": [],
   "source": [
    "allen_cahn_lb = get_collision_assignments_phase(lb_method=method_phase,\n",
    "                                                velocity_input=u,\n",
    "                                                output={'density': C_tmp},\n",
    "                                                force_model=force_model_h,\n",
    "                                                symbolic_fields={\"symbolic_field\": h,\n",
    "                                                                 \"symbolic_temporary_field\": h_tmp},\n",
    "                                                kernel_type='stream_pull_collide')\n",
    "\n",
    "# allen_cahn_lb = sympy_cse(allen_cahn_lb)\n",
    "\n",
    "ast_allen_cahn_lb = ps.create_kernel(allen_cahn_lb, target=dh.default_target, cpu_openmp=True)\n",
    "kernel_allen_cahn_lb = ast_allen_cahn_lb.compile()"
   ]
  },
  {
   "cell_type": "markdown",
   "metadata": {},
   "source": [
    "The update rule for the hydrodynmaic LB step is defined as:\n",
    "\n",
    "$$\n",
    "g_i (\\boldsymbol{x} + \\boldsymbol{c}_i \\Delta t, t + \\Delta t) = g_i(\\boldsymbol{x}, t) + \\Omega_{ij}^g(\\bar{g_j}^{eq} - g_j)|_{(\\boldsymbol{x}, t)} + F_i(\\boldsymbol{x}, t).\n",
    "$$\n",
    "\n",
    "Here, the push scheme is applied which is easier due to the data access required for the viscous force term. Furthermore, the velocity update is directly done in the kernel."
   ]
  },
  {
   "cell_type": "code",
   "execution_count": 15,
   "metadata": {
    "scrolled": false
   },
   "outputs": [],
   "source": [
    "hydro_lb_update_rule = get_collision_assignments_hydro(lb_method=method_hydro,\n",
    "                                                       density=rho,\n",
    "                                                       velocity_input=u,\n",
    "                                                       force_model=force_model_g,\n",
    "                                                       sub_iterations=2,\n",
    "                                                       symbolic_fields={\"symbolic_field\": g,\n",
    "                                                                        \"symbolic_temporary_field\": g_tmp},\n",
    "                                                       kernel_type='collide_stream_push')\n",
    "\n",
    "# hydro_lb_update_rule = sympy_cse(hydro_lb_update_rule)\n",
    "\n",
    "ast_hydro_lb = ps.create_kernel(hydro_lb_update_rule, target=dh.default_target, cpu_openmp=True)\n",
    "kernel_hydro_lb = ast_hydro_lb.compile()"
   ]
  },
  {
   "cell_type": "markdown",
   "metadata": {},
   "source": [
    "## Boundary Conditions"
   ]
  },
  {
   "cell_type": "markdown",
   "metadata": {},
   "source": [
    "As a last step suitable boundary conditions are applied"
   ]
  },
  {
   "cell_type": "code",
   "execution_count": 16,
   "metadata": {},
   "outputs": [],
   "source": [
    "# periodic Boundarys for g, h and C\n",
    "periodic_BC_C = dh.synchronization_function(C.name, target=dh.default_target, optimization = {\"openmp\": True})\n",
    "\n",
    "periodic_BC_g = LBMPeriodicityHandling(stencil=stencil_hydro, data_handling=dh, pdf_field_name=g.name,\n",
    "                                       streaming_pattern='push')\n",
    "periodic_BC_h = LBMPeriodicityHandling(stencil=stencil_phase, data_handling=dh, pdf_field_name=h.name,\n",
    "                                       streaming_pattern='pull')\n",
    "\n",
    "# No slip boundary for the phasefield lbm\n",
    "bh_allen_cahn = LatticeBoltzmannBoundaryHandling(method_phase, dh, 'h',\n",
    "                                                 target=dh.default_target, name='boundary_handling_h',\n",
    "                                                 streaming_pattern='pull')\n",
    "\n",
    "# No slip boundary for the velocityfield lbm\n",
    "bh_hydro = LatticeBoltzmannBoundaryHandling(method_hydro, dh, 'g' ,\n",
    "                                            target=dh.default_target, name='boundary_handling_g',\n",
    "                                            streaming_pattern='push')\n",
    "\n",
    "contact_angle = BoundaryHandling(dh, C.name, stencil_hydro, target=dh.default_target)\n",
    "contact = ContactAngle(90, W)\n",
    "\n",
    "wall = NoSlip()\n",
    "if dimensions == 2:\n",
    "    bh_allen_cahn.set_boundary(wall, make_slice[:, 0])\n",
    "    bh_allen_cahn.set_boundary(wall, make_slice[:, -1])\n",
    "\n",
    "    bh_hydro.set_boundary(wall, make_slice[:, 0])\n",
    "    bh_hydro.set_boundary(wall, make_slice[:, -1])\n",
    "    \n",
    "    contact_angle.set_boundary(contact, make_slice[:, 0])\n",
    "    contact_angle.set_boundary(contact, make_slice[:, -1])\n",
    "else:\n",
    "    bh_allen_cahn.set_boundary(wall, make_slice[:, 0, :])\n",
    "    bh_allen_cahn.set_boundary(wall, make_slice[:, -1, :])\n",
    "\n",
    "    bh_hydro.set_boundary(wall, make_slice[:, 0, :])\n",
    "    bh_hydro.set_boundary(wall, make_slice[:, -1, :])\n",
    "    \n",
    "    contact_angle.set_boundary(contact, make_slice[:, 0, :])\n",
    "    contact_angle.set_boundary(contact, make_slice[:, -1, :])\n",
    "\n",
    "\n",
    "bh_allen_cahn.prepare()\n",
    "bh_hydro.prepare()\n",
    "contact_angle.prepare()"
   ]
  },
  {
   "cell_type": "markdown",
   "metadata": {},
   "source": [
    "## Full timestep"
   ]
  },
  {
   "cell_type": "code",
   "execution_count": 17,
   "metadata": {},
   "outputs": [],
   "source": [
    "# definition of the timestep for the immiscible fluids model\n",
    "def timeloop():\n",
    "    # Solve the interface tracking LB step with boundary conditions\n",
    "    periodic_BC_h()\n",
    "    bh_allen_cahn()    \n",
    "    dh.run_kernel(kernel_allen_cahn_lb)\n",
    "    dh.swap(\"C\", \"C_tmp\")\n",
    "    \n",
    "    # apply the three phase-phase contact angle\n",
    "    contact_angle()\n",
    "    # periodic BC of the phase-field\n",
    "    periodic_BC_C()\n",
    "    \n",
    "    # solve the hydro LB step with boundary conditions\n",
    "    dh.run_kernel(kernel_hydro_lb)\n",
    "    periodic_BC_g()\n",
    "    bh_hydro()\n",
    "\n",
    "    \n",
    "    # field swaps\n",
    "    dh.swap(\"h\", \"h_tmp\")\n",
    "    dh.swap(\"g\", \"g_tmp\")"
   ]
  },
  {
   "cell_type": "code",
   "execution_count": 18,
   "metadata": {
    "scrolled": false
   },
   "outputs": [
    {
     "data": {
      "text/html": [
       "<video controls width=\"80%\">\n",
       " <source src=\"data:video/x-m4v;base64,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\" type=\"video/mp4\">\n",
       " Your browser does not support the video tag.\n",
       "</video>"
      ],
      "text/plain": [
       "<IPython.core.display.HTML object>"
      ]
     },
     "execution_count": 18,
     "metadata": {},
     "output_type": "execute_result"
    }
   ],
   "source": [
    "Initialize_distributions()\n",
    "\n",
    "frames = 300\n",
    "steps_per_frame = (timesteps//frames) + 1\n",
    "\n",
    "if 'is_test_run' not in globals():\n",
    "    def run():\n",
    "        for i in range(steps_per_frame):\n",
    "            timeloop()\n",
    "            \n",
    "        if gpu:\n",
    "            dh.to_cpu(\"C\")\n",
    "        return dh.gather_array(C.name)\n",
    "\n",
    "    animation = plt.scalar_field_animation(run, frames=frames, rescale=True)\n",
    "    set_display_mode('video')\n",
    "    res = display_animation(animation)\n",
    "else:\n",
    "    timeloop()\n",
    "    res = None\n",
    "res"
   ]
  },
  {
   "cell_type": "markdown",
   "metadata": {},
   "source": [
    "Note that the video is played for 10 seconds while the simulation time is only 2 seconds!"
   ]
  }
 ],
 "metadata": {
  "kernelspec": {
   "display_name": "Python 3 (ipykernel)",
   "language": "python",
   "name": "python3"
  },
  "language_info": {
   "codemirror_mode": {
    "name": "ipython",
    "version": 3
   },
   "file_extension": ".py",
   "mimetype": "text/x-python",
   "name": "python",
   "nbconvert_exporter": "python",
   "pygments_lexer": "ipython3",
   "version": "3.9.7"
  }
 },
 "nbformat": 4,
 "nbformat_minor": 2
}
