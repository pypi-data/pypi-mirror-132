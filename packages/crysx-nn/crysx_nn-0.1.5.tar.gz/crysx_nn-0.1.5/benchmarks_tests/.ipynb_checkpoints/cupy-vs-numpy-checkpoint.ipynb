{
 "cells": [
  {
   "cell_type": "markdown",
   "metadata": {
    "execution": {
     "iopub.execute_input": "2021-12-26T22:07:49.572013Z",
     "iopub.status.busy": "2021-12-26T22:07:49.571647Z",
     "iopub.status.idle": "2021-12-26T22:07:49.593881Z",
     "shell.execute_reply": "2021-12-26T22:07:49.593150Z",
     "shell.execute_reply.started": "2021-12-26T22:07:49.571919Z"
    }
   },
   "source": [
    "# CuPy vs NumPy einsum performance"
   ]
  },
  {
   "cell_type": "code",
   "execution_count": 1,
   "metadata": {
    "execution": {
     "iopub.execute_input": "2021-12-26T23:08:02.541366Z",
     "iopub.status.busy": "2021-12-26T23:08:02.540923Z",
     "iopub.status.idle": "2021-12-26T23:08:04.761072Z",
     "shell.execute_reply": "2021-12-26T23:08:04.760283Z",
     "shell.execute_reply.started": "2021-12-26T23:08:02.541273Z"
    }
   },
   "outputs": [
    {
     "name": "stderr",
     "output_type": "stream",
     "text": [
      "C:\\Users\\manas\\anaconda3\\envs\\crysx_nn\\lib\\site-packages\\cupy\\_environment.py:214: UserWarning: CUDA path could not be detected. Set CUDA_PATH environment variable if CuPy fails to load.\n",
      "  'CUDA path could not be detected.'\n"
     ]
    },
    {
     "ename": "ImportError",
     "evalue": "\n================================================================\nFailed to import CuPy.\n\nIf you installed CuPy via wheels (cupy-cudaXXX or cupy-rocm-X-X), make sure that the package matches with the version of CUDA or ROCm installed.\n\nOn Linux, you may need to set LD_LIBRARY_PATH environment variable depending on how you installed CUDA/ROCm.\nOn Windows, try setting CUDA_PATH environment variable.\n\nCheck the Installation Guide for details:\n  https://docs.cupy.dev/en/latest/install.html\n\nOriginal error:\n  ImportError: DLL load failed: The specified module could not be found.\n================================================================\n",
     "output_type": "error",
     "traceback": [
      "\u001b[1;31m---------------------------------------------------------------------------\u001b[0m",
      "\u001b[1;31mImportError\u001b[0m                               Traceback (most recent call last)",
      "\u001b[1;32m~\\anaconda3\\envs\\crysx_nn\\lib\\site-packages\\cupy\\__init__.py\u001b[0m in \u001b[0;36m<module>\u001b[1;34m\u001b[0m\n\u001b[0;32m     17\u001b[0m \u001b[1;32mtry\u001b[0m\u001b[1;33m:\u001b[0m\u001b[1;33m\u001b[0m\u001b[1;33m\u001b[0m\u001b[0m\n\u001b[1;32m---> 18\u001b[1;33m     \u001b[1;32mfrom\u001b[0m \u001b[0mcupy\u001b[0m \u001b[1;32mimport\u001b[0m \u001b[0m_core\u001b[0m  \u001b[1;31m# NOQA\u001b[0m\u001b[1;33m\u001b[0m\u001b[1;33m\u001b[0m\u001b[0m\n\u001b[0m\u001b[0;32m     19\u001b[0m \u001b[1;32mexcept\u001b[0m \u001b[0mImportError\u001b[0m \u001b[1;32mas\u001b[0m \u001b[0me\u001b[0m\u001b[1;33m:\u001b[0m\u001b[1;33m\u001b[0m\u001b[1;33m\u001b[0m\u001b[0m\n",
      "\u001b[1;32m~\\anaconda3\\envs\\crysx_nn\\lib\\site-packages\\cupy\\_core\\__init__.py\u001b[0m in \u001b[0;36m<module>\u001b[1;34m\u001b[0m\n\u001b[1;32m----> 1\u001b[1;33m \u001b[1;32mfrom\u001b[0m \u001b[0mcupy\u001b[0m\u001b[1;33m.\u001b[0m\u001b[0m_core\u001b[0m \u001b[1;32mimport\u001b[0m \u001b[0mcore\u001b[0m  \u001b[1;31m# NOQA\u001b[0m\u001b[1;33m\u001b[0m\u001b[1;33m\u001b[0m\u001b[0m\n\u001b[0m\u001b[0;32m      2\u001b[0m \u001b[1;32mfrom\u001b[0m \u001b[0mcupy\u001b[0m\u001b[1;33m.\u001b[0m\u001b[0m_core\u001b[0m \u001b[1;32mimport\u001b[0m \u001b[0mfusion\u001b[0m  \u001b[1;31m# NOQA\u001b[0m\u001b[1;33m\u001b[0m\u001b[1;33m\u001b[0m\u001b[0m\n\u001b[0;32m      3\u001b[0m \u001b[1;32mfrom\u001b[0m \u001b[0mcupy\u001b[0m\u001b[1;33m.\u001b[0m\u001b[0m_core\u001b[0m \u001b[1;32mimport\u001b[0m \u001b[0minternal\u001b[0m  \u001b[1;31m# NOQA\u001b[0m\u001b[1;33m\u001b[0m\u001b[1;33m\u001b[0m\u001b[0m\n",
      "\u001b[1;32mcupy\\_core\\core.pyx\u001b[0m in \u001b[0;36minit cupy._core.core\u001b[1;34m()\u001b[0m\n",
      "\u001b[1;32m~\\anaconda3\\envs\\crysx_nn\\lib\\site-packages\\cupy\\cuda\\__init__.py\u001b[0m in \u001b[0;36m<module>\u001b[1;34m\u001b[0m\n\u001b[0;32m      7\u001b[0m \u001b[1;32mfrom\u001b[0m \u001b[0mcupy\u001b[0m\u001b[1;33m.\u001b[0m\u001b[0m_environment\u001b[0m \u001b[1;32mimport\u001b[0m \u001b[0mget_hipcc_path\u001b[0m  \u001b[1;31m# NOQA\u001b[0m\u001b[1;33m\u001b[0m\u001b[1;33m\u001b[0m\u001b[0m\n\u001b[1;32m----> 8\u001b[1;33m \u001b[1;32mfrom\u001b[0m \u001b[0mcupy\u001b[0m\u001b[1;33m.\u001b[0m\u001b[0mcuda\u001b[0m \u001b[1;32mimport\u001b[0m \u001b[0mcompiler\u001b[0m  \u001b[1;31m# NOQA\u001b[0m\u001b[1;33m\u001b[0m\u001b[1;33m\u001b[0m\u001b[0m\n\u001b[0m\u001b[0;32m      9\u001b[0m \u001b[1;32mfrom\u001b[0m \u001b[0mcupy\u001b[0m\u001b[1;33m.\u001b[0m\u001b[0mcuda\u001b[0m \u001b[1;32mimport\u001b[0m \u001b[0mdevice\u001b[0m  \u001b[1;31m# NOQA\u001b[0m\u001b[1;33m\u001b[0m\u001b[1;33m\u001b[0m\u001b[0m\n",
      "\u001b[1;32m~\\anaconda3\\envs\\crysx_nn\\lib\\site-packages\\cupy\\cuda\\compiler.py\u001b[0m in \u001b[0;36m<module>\u001b[1;34m\u001b[0m\n\u001b[0;32m     12\u001b[0m \u001b[1;33m\u001b[0m\u001b[0m\n\u001b[1;32m---> 13\u001b[1;33m \u001b[1;32mfrom\u001b[0m \u001b[0mcupy\u001b[0m\u001b[1;33m.\u001b[0m\u001b[0mcuda\u001b[0m \u001b[1;32mimport\u001b[0m \u001b[0mdevice\u001b[0m\u001b[1;33m\u001b[0m\u001b[1;33m\u001b[0m\u001b[0m\n\u001b[0m\u001b[0;32m     14\u001b[0m \u001b[1;32mfrom\u001b[0m \u001b[0mcupy\u001b[0m\u001b[1;33m.\u001b[0m\u001b[0mcuda\u001b[0m \u001b[1;32mimport\u001b[0m \u001b[0mfunction\u001b[0m\u001b[1;33m\u001b[0m\u001b[1;33m\u001b[0m\u001b[0m\n",
      "\u001b[1;32mcupy\\cuda\\device.pyx\u001b[0m in \u001b[0;36minit cupy.cuda.device\u001b[1;34m()\u001b[0m\n",
      "\u001b[1;31mImportError\u001b[0m: DLL load failed: The specified module could not be found.",
      "\nThe above exception was the direct cause of the following exception:\n",
      "\u001b[1;31mImportError\u001b[0m                               Traceback (most recent call last)",
      "\u001b[1;32m~\\AppData\\Local\\Temp/ipykernel_5428/1413671387.py\u001b[0m in \u001b[0;36m<module>\u001b[1;34m\u001b[0m\n\u001b[1;32m----> 1\u001b[1;33m \u001b[1;32mimport\u001b[0m \u001b[0mcupy\u001b[0m \u001b[1;32mas\u001b[0m \u001b[0mcp\u001b[0m\u001b[1;33m\u001b[0m\u001b[1;33m\u001b[0m\u001b[0m\n\u001b[0m\u001b[0;32m      2\u001b[0m \u001b[1;32mimport\u001b[0m \u001b[0mnumpy\u001b[0m \u001b[1;32mas\u001b[0m \u001b[0mnp\u001b[0m\u001b[1;33m\u001b[0m\u001b[1;33m\u001b[0m\u001b[0m\n",
      "\u001b[1;32m~\\anaconda3\\envs\\crysx_nn\\lib\\site-packages\\cupy\\__init__.py\u001b[0m in \u001b[0;36m<module>\u001b[1;34m\u001b[0m\n\u001b[0;32m     25\u001b[0m   \u001b[1;33m{\u001b[0m\u001b[0mtype\u001b[0m\u001b[1;33m(\u001b[0m\u001b[0me\u001b[0m\u001b[1;33m)\u001b[0m\u001b[1;33m.\u001b[0m\u001b[0m__name__\u001b[0m\u001b[1;33m}\u001b[0m\u001b[1;33m:\u001b[0m \u001b[1;33m{\u001b[0m\u001b[0me\u001b[0m\u001b[1;33m}\u001b[0m\u001b[1;33m\u001b[0m\u001b[1;33m\u001b[0m\u001b[0m\n\u001b[0;32m     26\u001b[0m \u001b[1;33m==\u001b[0m\u001b[1;33m==\u001b[0m\u001b[1;33m==\u001b[0m\u001b[1;33m==\u001b[0m\u001b[1;33m==\u001b[0m\u001b[1;33m==\u001b[0m\u001b[1;33m==\u001b[0m\u001b[1;33m==\u001b[0m\u001b[1;33m==\u001b[0m\u001b[1;33m==\u001b[0m\u001b[1;33m==\u001b[0m\u001b[1;33m==\u001b[0m\u001b[1;33m==\u001b[0m\u001b[1;33m==\u001b[0m\u001b[1;33m==\u001b[0m\u001b[1;33m==\u001b[0m\u001b[1;33m==\u001b[0m\u001b[1;33m==\u001b[0m\u001b[1;33m==\u001b[0m\u001b[1;33m==\u001b[0m\u001b[1;33m==\u001b[0m\u001b[1;33m==\u001b[0m\u001b[1;33m==\u001b[0m\u001b[1;33m==\u001b[0m\u001b[1;33m==\u001b[0m\u001b[1;33m==\u001b[0m\u001b[1;33m==\u001b[0m\u001b[1;33m==\u001b[0m\u001b[1;33m==\u001b[0m\u001b[1;33m==\u001b[0m\u001b[1;33m==\u001b[0m\u001b[1;33m==\u001b[0m\u001b[1;33m\u001b[0m\u001b[1;33m\u001b[0m\u001b[0m\n\u001b[1;32m---> 27\u001b[1;33m ''') from e\n\u001b[0m\u001b[0;32m     28\u001b[0m \u001b[1;33m\u001b[0m\u001b[0m\n\u001b[0;32m     29\u001b[0m \u001b[1;33m\u001b[0m\u001b[0m\n",
      "\u001b[1;31mImportError\u001b[0m: \n================================================================\nFailed to import CuPy.\n\nIf you installed CuPy via wheels (cupy-cudaXXX or cupy-rocm-X-X), make sure that the package matches with the version of CUDA or ROCm installed.\n\nOn Linux, you may need to set LD_LIBRARY_PATH environment variable depending on how you installed CUDA/ROCm.\nOn Windows, try setting CUDA_PATH environment variable.\n\nCheck the Installation Guide for details:\n  https://docs.cupy.dev/en/latest/install.html\n\nOriginal error:\n  ImportError: DLL load failed: The specified module could not be found.\n================================================================\n"
     ]
    }
   ],
   "source": [
    "import cupy as cp\n",
    "import numpy as np"
   ]
  },
  {
   "cell_type": "code",
   "execution_count": 2,
   "metadata": {
    "execution": {
     "iopub.execute_input": "2021-12-26T23:08:04.763270Z",
     "iopub.status.busy": "2021-12-26T23:08:04.762974Z",
     "iopub.status.idle": "2021-12-26T23:08:04.767285Z",
     "shell.execute_reply": "2021-12-26T23:08:04.766429Z",
     "shell.execute_reply.started": "2021-12-26T23:08:04.763235Z"
    }
   },
   "outputs": [],
   "source": [
    "nsize = 500"
   ]
  },
  {
   "cell_type": "code",
   "execution_count": 3,
   "metadata": {
    "execution": {
     "iopub.execute_input": "2021-12-26T23:08:04.769113Z",
     "iopub.status.busy": "2021-12-26T23:08:04.768551Z",
     "iopub.status.idle": "2021-12-26T23:08:05.202138Z",
     "shell.execute_reply": "2021-12-26T23:08:05.201400Z",
     "shell.execute_reply.started": "2021-12-26T23:08:04.769076Z"
    }
   },
   "outputs": [],
   "source": [
    "a = np.random.rand(nsize,nsize).astype(np.float32)\n",
    "b = np.random.rand(nsize,nsize).astype(np.float32)\n",
    "\n",
    "a_cupy = cp.asarray(a)\n",
    "b_cupy = cp.asarray(b)"
   ]
  },
  {
   "cell_type": "markdown",
   "metadata": {},
   "source": [
    "CuPy"
   ]
  },
  {
   "cell_type": "code",
   "execution_count": 4,
   "metadata": {
    "execution": {
     "iopub.execute_input": "2021-12-26T23:08:05.203702Z",
     "iopub.status.busy": "2021-12-26T23:08:05.203459Z",
     "iopub.status.idle": "2021-12-26T23:08:39.184060Z",
     "shell.execute_reply": "2021-12-26T23:08:39.183303Z",
     "shell.execute_reply.started": "2021-12-26T23:08:05.203670Z"
    }
   },
   "outputs": [],
   "source": [
    "%timeit cp.einsum('ij,jk->ijk',a_cupy,b_cupy)\n",
    "%timeit cp.einsum('ij,ik->ijk',a_cupy,a_cupy)"
   ]
  },
  {
   "cell_type": "markdown",
   "metadata": {},
   "source": [
    "NumPy"
   ]
  },
  {
   "cell_type": "code",
   "execution_count": 5,
   "metadata": {
    "execution": {
     "iopub.execute_input": "2021-12-26T23:08:39.196688Z",
     "iopub.status.busy": "2021-12-26T23:08:39.186230Z",
     "iopub.status.idle": "2021-12-26T23:08:55.240375Z",
     "shell.execute_reply": "2021-12-26T23:08:55.238796Z",
     "shell.execute_reply.started": "2021-12-26T23:08:39.196650Z"
    }
   },
   "outputs": [],
   "source": [
    "%timeit np.einsum('ij,jk->ijk',a,b)\n",
    "%timeit np.einsum('ij,ik->ijk',a,a)"
   ]
  },
  {
   "cell_type": "markdown",
   "metadata": {},
   "source": [
    "## SoftmaxTimesVector (the name of one of the functions in crysx_n)"
   ]
  },
  {
   "cell_type": "code",
   "execution_count": 10,
   "metadata": {
    "execution": {
     "iopub.execute_input": "2021-12-26T23:10:47.852511Z",
     "iopub.status.busy": "2021-12-26T23:10:47.852250Z",
     "iopub.status.idle": "2021-12-26T23:10:47.958093Z",
     "shell.execute_reply": "2021-12-26T23:10:47.957241Z",
     "shell.execute_reply.started": "2021-12-26T23:10:47.852484Z"
    }
   },
   "outputs": [],
   "source": [
    "a = np.random.rand(32,nsize,nsize).astype(np.float32)\n",
    "b = np.random.rand(32,nsize).astype(np.float32)\n",
    "\n",
    "a_cupy = cp.asarray(a)\n",
    "b_cupy = cp.asarray(b)"
   ]
  },
  {
   "cell_type": "code",
   "execution_count": 11,
   "metadata": {
    "execution": {
     "iopub.execute_input": "2021-12-26T23:10:48.174927Z",
     "iopub.status.busy": "2021-12-26T23:10:48.174216Z",
     "iopub.status.idle": "2021-12-26T23:10:48.178594Z",
     "shell.execute_reply": "2021-12-26T23:10:48.177922Z",
     "shell.execute_reply.started": "2021-12-26T23:10:48.174892Z"
    }
   },
   "outputs": [],
   "source": [
    "from numba import njit, prange, cuda"
   ]
  },
  {
   "cell_type": "code",
   "execution_count": 12,
   "metadata": {
    "execution": {
     "iopub.execute_input": "2021-12-26T23:10:48.507166Z",
     "iopub.status.busy": "2021-12-26T23:10:48.506620Z",
     "iopub.status.idle": "2021-12-26T23:10:48.511792Z",
     "shell.execute_reply": "2021-12-26T23:10:48.510833Z",
     "shell.execute_reply.started": "2021-12-26T23:10:48.507130Z"
    }
   },
   "outputs": [],
   "source": [
    "def softmaxTimesVector_cupy(a,b):\n",
    "    # Reference: https://stackoverflow.com/questions/59289754/numpy-multiply-3d-array-with-2d-array\n",
    "    ## Both the following methods are equally fast and give correct results\n",
    "    output = cp.einsum('ijk,ik->ij',a,b)\n",
    "    # output = (a @ b[..., cp.newaxis])[..., 0]\n",
    "    return output"
   ]
  },
  {
   "cell_type": "code",
   "execution_count": 16,
   "metadata": {
    "execution": {
     "iopub.execute_input": "2021-12-26T23:11:04.594521Z",
     "iopub.status.busy": "2021-12-26T23:11:04.594261Z",
     "iopub.status.idle": "2021-12-26T23:11:07.725540Z",
     "shell.execute_reply": "2021-12-26T23:11:07.724898Z",
     "shell.execute_reply.started": "2021-12-26T23:11:04.594492Z"
    }
   },
   "outputs": [],
   "source": [
    "\n",
    "\n",
    "%timeit softmaxTimesVector_cupy(a_cupy,b_cupy)"
   ]
  },
  {
   "cell_type": "code",
   "execution_count": 17,
   "metadata": {
    "execution": {
     "iopub.execute_input": "2021-12-26T23:11:07.731283Z",
     "iopub.status.busy": "2021-12-26T23:11:07.729500Z",
     "iopub.status.idle": "2021-12-26T23:11:07.739147Z",
     "shell.execute_reply": "2021-12-26T23:11:07.738252Z",
     "shell.execute_reply.started": "2021-12-26T23:11:07.731247Z"
    }
   },
   "outputs": [],
   "source": [
    "@njit(cache=False,fastmath=True, parallel=False) #Works faster without tha parallel flag\n",
    "def softmaxTimesVector(a,b):\n",
    "    output = np.zeros((a.shape[0],a.shape[1]),dtype=np.float32)\n",
    "    for i in prange(a.shape[0]):\n",
    "#         a_temp = \n",
    "#         output[i,:] = np.dot(a[i,:,:], b[i,:]).T \n",
    "        output[i] = np.dot(a[i], b[i])\n",
    "    return output"
   ]
  },
  {
   "cell_type": "code",
   "execution_count": 18,
   "metadata": {
    "execution": {
     "iopub.execute_input": "2021-12-26T23:11:07.746182Z",
     "iopub.status.busy": "2021-12-26T23:11:07.743565Z",
     "iopub.status.idle": "2021-12-26T23:11:07.998016Z",
     "shell.execute_reply": "2021-12-26T23:11:07.997081Z",
     "shell.execute_reply.started": "2021-12-26T23:11:07.745997Z"
    }
   },
   "outputs": [],
   "source": [
    "%timeit softmaxTimesVector(a,b)"
   ]
  },
  {
   "cell_type": "code",
   "execution_count": null,
   "metadata": {},
   "outputs": [],
   "source": []
  }
 ],
 "metadata": {
  "kernelspec": {
   "display_name": "Python 3 (ipykernel)",
   "language": "python",
   "name": "python3"
  },
  "language_info": {
   "codemirror_mode": {
    "name": "ipython",
    "version": 3
   },
   "file_extension": ".py",
   "mimetype": "text/x-python",
   "name": "python",
   "nbconvert_exporter": "python",
   "pygments_lexer": "ipython3",
   "version": "3.7.11"
  }
 },
 "nbformat": 4,
 "nbformat_minor": 4
}
