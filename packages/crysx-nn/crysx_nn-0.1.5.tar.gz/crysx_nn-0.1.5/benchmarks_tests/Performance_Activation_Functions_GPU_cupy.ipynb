{
  "cells": [
    {
      "cell_type": "markdown",
      "id": "6552ade6",
      "metadata": {
        "id": "6552ade6"
      },
      "source": [
        "# Performance as well as Validation benchmarks for activation function implementations in the different frameworks\n",
        "\n",
        "# GPU versions only\n",
        "\n",
        "Windows 11\n",
        "i7 11800H\n",
        "Nvidia 3050 Ti\n"
      ]
    },
    {
      "cell_type": "code",
      "execution_count": null,
      "id": "s1vpf81h3qfU",
      "metadata": {
        "colab": {
          "base_uri": "https://localhost:8080/",
          "height": 975
        },
        "id": "s1vpf81h3qfU",
        "outputId": "b243aa11-abd3-4da4-b9db-ae2b67c7c4e4"
      },
      "outputs": [
        {
          "name": "stdout",
          "output_type": "stream",
          "text": [
            "Collecting crysx_nn\n",
            "  Downloading crysx_nn-0.1.3.tar.gz (40.1 MB)\n",
            "\u001b[K     |████████████████████████████████| 40.1 MB 13.4 MB/s \n",
            "\u001b[?25hCollecting numba>=0.54.1\n",
            "  Downloading numba-0.54.1-cp37-cp37m-manylinux2014_x86_64.manylinux_2_17_x86_64.whl (3.3 MB)\n",
            "\u001b[K     |████████████████████████████████| 3.3 MB 34.0 MB/s \n",
            "\u001b[?25hCollecting numpy==1.19.2\n",
            "  Downloading numpy-1.19.2-cp37-cp37m-manylinux2010_x86_64.whl (14.5 MB)\n",
            "\u001b[K     |████████████████████████████████| 14.5 MB 23.3 MB/s \n",
            "\u001b[?25hRequirement already satisfied: autograd in /usr/local/lib/python3.7/dist-packages (from crysx_nn) (1.3)\n",
            "Requirement already satisfied: tqdm in /usr/local/lib/python3.7/dist-packages (from crysx_nn) (4.62.3)\n",
            "Requirement already satisfied: opt_einsum in /usr/local/lib/python3.7/dist-packages (from crysx_nn) (3.3.0)\n",
            "Collecting nnv\n",
            "  Downloading nnv-0.0.5-py3-none-any.whl (4.9 kB)\n",
            "Requirement already satisfied: matplotlib in /usr/local/lib/python3.7/dist-packages (from crysx_nn) (3.2.2)\n",
            "Requirement already satisfied: numexpr in /usr/local/lib/python3.7/dist-packages (from crysx_nn) (2.7.3)\n",
            "Requirement already satisfied: tomli in /usr/local/lib/python3.7/dist-packages (from crysx_nn) (1.2.2)\n",
            "Requirement already satisfied: setuptools in /usr/local/lib/python3.7/dist-packages (from numba>=0.54.1->crysx_nn) (57.4.0)\n",
            "Collecting llvmlite<0.38,>=0.37.0rc1\n",
            "  Downloading llvmlite-0.37.0-cp37-cp37m-manylinux2014_x86_64.whl (26.3 MB)\n",
            "\u001b[K     |████████████████████████████████| 26.3 MB 7.6 MB/s \n",
            "\u001b[?25hRequirement already satisfied: future>=0.15.2 in /usr/local/lib/python3.7/dist-packages (from autograd->crysx_nn) (0.16.0)\n",
            "Requirement already satisfied: cycler>=0.10 in /usr/local/lib/python3.7/dist-packages (from matplotlib->crysx_nn) (0.11.0)\n",
            "Requirement already satisfied: python-dateutil>=2.1 in /usr/local/lib/python3.7/dist-packages (from matplotlib->crysx_nn) (2.8.2)\n",
            "Requirement already satisfied: kiwisolver>=1.0.1 in /usr/local/lib/python3.7/dist-packages (from matplotlib->crysx_nn) (1.3.2)\n",
            "Requirement already satisfied: pyparsing!=2.0.4,!=2.1.2,!=2.1.6,>=2.0.1 in /usr/local/lib/python3.7/dist-packages (from matplotlib->crysx_nn) (3.0.6)\n",
            "Requirement already satisfied: six>=1.5 in /usr/local/lib/python3.7/dist-packages (from python-dateutil>=2.1->matplotlib->crysx_nn) (1.15.0)\n",
            "Building wheels for collected packages: crysx-nn\n",
            "  Building wheel for crysx-nn (setup.py) ... \u001b[?25l\u001b[?25hdone\n",
            "  Created wheel for crysx-nn: filename=crysx_nn-0.1.3-py3-none-any.whl size=15700 sha256=393c308e7bc534333817fad0ed12b3b09526791be00074e0400ae6b932b6e98f\n",
            "  Stored in directory: /root/.cache/pip/wheels/ca/3c/7a/2a82cf0413e646c0b0e78e1c74154fdca97026c57d23cc7b9f\n",
            "Successfully built crysx-nn\n",
            "Installing collected packages: numpy, llvmlite, numba, nnv, crysx-nn\n",
            "  Attempting uninstall: numpy\n",
            "    Found existing installation: numpy 1.19.5\n",
            "    Uninstalling numpy-1.19.5:\n",
            "      Successfully uninstalled numpy-1.19.5\n",
            "  Attempting uninstall: llvmlite\n",
            "    Found existing installation: llvmlite 0.34.0\n",
            "    Uninstalling llvmlite-0.34.0:\n",
            "      Successfully uninstalled llvmlite-0.34.0\n",
            "  Attempting uninstall: numba\n",
            "    Found existing installation: numba 0.51.2\n",
            "    Uninstalling numba-0.51.2:\n",
            "      Successfully uninstalled numba-0.51.2\n",
            "\u001b[31mERROR: pip's dependency resolver does not currently take into account all the packages that are installed. This behaviour is the source of the following dependency conflicts.\n",
            "datascience 0.10.6 requires folium==0.2.1, but you have folium 0.8.3 which is incompatible.\n",
            "albumentations 0.1.12 requires imgaug<0.2.7,>=0.2.5, but you have imgaug 0.2.9 which is incompatible.\u001b[0m\n",
            "Successfully installed crysx-nn-0.1.3 llvmlite-0.37.0 nnv-0.0.5 numba-0.54.1 numpy-1.19.2\n"
          ]
        },
        {
          "data": {
            "application/vnd.colab-display-data+json": {
              "pip_warning": {
                "packages": [
                  "numpy"
                ]
              }
            }
          },
          "metadata": {},
          "output_type": "display_data"
        }
      ],
      "source": [
        "! pip install crysx_nn"
      ]
    },
    {
      "cell_type": "code",
      "execution_count": null,
      "id": "FWnK_3r34bxy",
      "metadata": {
        "colab": {
          "base_uri": "https://localhost:8080/",
          "height": 726
        },
        "id": "FWnK_3r34bxy",
        "outputId": "fd5573fe-a277-4981-f1e6-cc11447836ab"
      },
      "outputs": [
        {
          "name": "stdout",
          "output_type": "stream",
          "text": [
            "Collecting IPython==7.7.0\n",
            "  Downloading ipython-7.7.0-py3-none-any.whl (774 kB)\n",
            "\u001b[K     |████████████████████████████████| 774 kB 5.1 MB/s \n",
            "\u001b[?25hRequirement already satisfied: jedi>=0.10 in /usr/local/lib/python3.7/dist-packages (from IPython==7.7.0) (0.18.1)\n",
            "Requirement already satisfied: pickleshare in /usr/local/lib/python3.7/dist-packages (from IPython==7.7.0) (0.7.5)\n",
            "Collecting prompt-toolkit<2.1.0,>=2.0.0\n",
            "  Downloading prompt_toolkit-2.0.10-py3-none-any.whl (340 kB)\n",
            "\u001b[K     |████████████████████████████████| 340 kB 46.2 MB/s \n",
            "\u001b[?25hRequirement already satisfied: pexpect in /usr/local/lib/python3.7/dist-packages (from IPython==7.7.0) (4.8.0)\n",
            "Requirement already satisfied: setuptools>=18.5 in /usr/local/lib/python3.7/dist-packages (from IPython==7.7.0) (57.4.0)\n",
            "Requirement already satisfied: decorator in /usr/local/lib/python3.7/dist-packages (from IPython==7.7.0) (4.4.2)\n",
            "Requirement already satisfied: traitlets>=4.2 in /usr/local/lib/python3.7/dist-packages (from IPython==7.7.0) (5.1.1)\n",
            "Requirement already satisfied: pygments in /usr/local/lib/python3.7/dist-packages (from IPython==7.7.0) (2.6.1)\n",
            "Requirement already satisfied: backcall in /usr/local/lib/python3.7/dist-packages (from IPython==7.7.0) (0.2.0)\n",
            "Requirement already satisfied: parso<0.9.0,>=0.8.0 in /usr/local/lib/python3.7/dist-packages (from jedi>=0.10->IPython==7.7.0) (0.8.3)\n",
            "Requirement already satisfied: six>=1.9.0 in /usr/local/lib/python3.7/dist-packages (from prompt-toolkit<2.1.0,>=2.0.0->IPython==7.7.0) (1.15.0)\n",
            "Requirement already satisfied: wcwidth in /usr/local/lib/python3.7/dist-packages (from prompt-toolkit<2.1.0,>=2.0.0->IPython==7.7.0) (0.2.5)\n",
            "Requirement already satisfied: ptyprocess>=0.5 in /usr/local/lib/python3.7/dist-packages (from pexpect->IPython==7.7.0) (0.7.0)\n",
            "Installing collected packages: prompt-toolkit, IPython\n",
            "  Attempting uninstall: prompt-toolkit\n",
            "    Found existing installation: prompt-toolkit 1.0.18\n",
            "    Uninstalling prompt-toolkit-1.0.18:\n",
            "      Successfully uninstalled prompt-toolkit-1.0.18\n",
            "  Attempting uninstall: IPython\n",
            "    Found existing installation: ipython 5.5.0\n",
            "    Uninstalling ipython-5.5.0:\n",
            "      Successfully uninstalled ipython-5.5.0\n",
            "\u001b[31mERROR: pip's dependency resolver does not currently take into account all the packages that are installed. This behaviour is the source of the following dependency conflicts.\n",
            "jupyter-console 5.2.0 requires prompt-toolkit<2.0.0,>=1.0.0, but you have prompt-toolkit 2.0.10 which is incompatible.\n",
            "google-colab 1.0.0 requires ipython~=5.5.0, but you have ipython 7.7.0 which is incompatible.\u001b[0m\n",
            "Successfully installed IPython-7.7.0 prompt-toolkit-2.0.10\n"
          ]
        },
        {
          "data": {
            "application/vnd.colab-display-data+json": {
              "pip_warning": {
                "packages": [
                  "IPython",
                  "prompt_toolkit"
                ]
              }
            }
          },
          "metadata": {},
          "output_type": "display_data"
        }
      ],
      "source": [
        "! pip install IPython==7.7.0\n"
      ]
    },
    {
      "cell_type": "code",
      "execution_count": null,
      "id": "35de3f19",
      "metadata": {
        "colab": {
          "base_uri": "https://localhost:8080/"
        },
        "id": "35de3f19",
        "outputId": "903fc54f-37dc-4229-cb5b-7efdb9fd45d3"
      },
      "outputs": [
        {
          "name": "stdout",
          "output_type": "stream",
          "text": [
            "blas_mkl_info:\n",
            "  NOT AVAILABLE\n",
            "blis_info:\n",
            "  NOT AVAILABLE\n",
            "openblas_info:\n",
            "    libraries = ['openblas', 'openblas']\n",
            "    library_dirs = ['/usr/local/lib']\n",
            "    language = c\n",
            "    define_macros = [('HAVE_CBLAS', None)]\n",
            "blas_opt_info:\n",
            "    libraries = ['openblas', 'openblas']\n",
            "    library_dirs = ['/usr/local/lib']\n",
            "    language = c\n",
            "    define_macros = [('HAVE_CBLAS', None)]\n",
            "lapack_mkl_info:\n",
            "  NOT AVAILABLE\n",
            "openblas_lapack_info:\n",
            "    libraries = ['openblas', 'openblas']\n",
            "    library_dirs = ['/usr/local/lib']\n",
            "    language = c\n",
            "    define_macros = [('HAVE_CBLAS', None)]\n",
            "lapack_opt_info:\n",
            "    libraries = ['openblas', 'openblas']\n",
            "    library_dirs = ['/usr/local/lib']\n",
            "    language = c\n",
            "    define_macros = [('HAVE_CBLAS', None)]\n",
            "numpy 1.19.2\n",
            "torch 1.10.0+cu111\n",
            "tensorflow 2.7.0\n",
            "cupy 9.4.0\n"
          ]
        }
      ],
      "source": [
        "\n",
        "\n",
        "import numpy as np\n",
        "np.show_config()\n",
        "print('numpy',np.__version__)\n",
        "import matplotlib.pyplot as plt\n",
        "\n",
        "# Import activation functions from crysx_nn\n",
        "from crysx_nn.activation import Sigmoid, Sigmoid_grad\n",
        "from crysx_nn.activation import Softmax, Softmax_grad\n",
        "from crysx_nn.activation import ReLU, ReLU_grad\n",
        "\n",
        "# PyTorch\n",
        "import torch\n",
        "print('torch',torch.__version__)\n",
        "\n",
        "# Tensorflow\n",
        "import tensorflow as tf\n",
        "print('tensorflow',tf.__version__)\n",
        "\n",
        "import cupy as cp\n",
        "print('cupy',cp.__version__)"
      ]
    },
    {
      "cell_type": "markdown",
      "id": "2fa7f96f",
      "metadata": {
        "id": "2fa7f96f"
      },
      "source": [
        "## Ensure that evertyhing is only using GPU"
      ]
    },
    {
      "cell_type": "code",
      "execution_count": null,
      "id": "d2989c59",
      "metadata": {
        "colab": {
          "base_uri": "https://localhost:8080/"
        },
        "id": "d2989c59",
        "outputId": "ad1e405c-ea84-45ad-cada-66b1175ccfc9"
      },
      "outputs": [
        {
          "data": {
            "text/plain": [
              "True"
            ]
          },
          "execution_count": 3,
          "metadata": {},
          "output_type": "execute_result"
        }
      ],
      "source": [
        "torch.cuda.is_available()"
      ]
    },
    {
      "cell_type": "code",
      "execution_count": null,
      "id": "KkvwtNuL8QlZ",
      "metadata": {
        "colab": {
          "base_uri": "https://localhost:8080/"
        },
        "id": "KkvwtNuL8QlZ",
        "outputId": "56de59f1-75ef-447b-986d-713461754371"
      },
      "outputs": [
        {
          "name": "stdout",
          "output_type": "stream",
          "text": [
            "0\n",
            "<torch.cuda.device object at 0x7fdeb0e25210>\n",
            "1\n",
            "Tesla K80\n"
          ]
        }
      ],
      "source": [
        "print(torch.cuda.current_device())\n",
        "print(torch.cuda.device(0))\n",
        "print(torch.cuda.device_count())\n",
        "print(torch.cuda.get_device_name(0))"
      ]
    },
    {
      "cell_type": "code",
      "execution_count": null,
      "id": "9e8ae4f1",
      "metadata": {
        "colab": {
          "base_uri": "https://localhost:8080/"
        },
        "id": "9e8ae4f1",
        "outputId": "b7927a3b-58dd-44a3-ba0f-d7381fb90e8f"
      },
      "outputs": [
        {
          "name": "stdout",
          "output_type": "stream",
          "text": [
            "Num GPUs Available:  1\n"
          ]
        }
      ],
      "source": [
        "print(\"Num GPUs Available: \", len(tf.config.list_physical_devices('GPU')))"
      ]
    },
    {
      "cell_type": "code",
      "execution_count": null,
      "id": "a5fb5e5b",
      "metadata": {
        "colab": {
          "base_uri": "https://localhost:8080/"
        },
        "id": "a5fb5e5b",
        "outputId": "e51679ee-8ee9-4d8a-b799-825342b3d9f8"
      },
      "outputs": [
        {
          "name": "stdout",
          "output_type": "stream",
          "text": [
            "WARNING:tensorflow:From <ipython-input-6-17bb7203622b>:1: is_gpu_available (from tensorflow.python.framework.test_util) is deprecated and will be removed in a future version.\n",
            "Instructions for updating:\n",
            "Use `tf.config.list_physical_devices('GPU')` instead.\n"
          ]
        },
        {
          "data": {
            "text/plain": [
              "True"
            ]
          },
          "execution_count": 6,
          "metadata": {},
          "output_type": "execute_result"
        }
      ],
      "source": [
        "tf.test.is_gpu_available()"
      ]
    },
    {
      "cell_type": "code",
      "execution_count": null,
      "id": "pSkV1Eo9ZlK4",
      "metadata": {
        "colab": {
          "base_uri": "https://localhost:8080/"
        },
        "id": "pSkV1Eo9ZlK4",
        "outputId": "dab20b0c-5dd8-4daf-f739-a9e7f738e710"
      },
      "outputs": [
        {
          "data": {
            "text/plain": [
              "[PhysicalDevice(name='/physical_device:GPU:0', device_type='GPU')]"
            ]
          },
          "execution_count": 7,
          "metadata": {},
          "output_type": "execute_result"
        }
      ],
      "source": [
        "tf.config.list_physical_devices('GPU')"
      ]
    },
    {
      "cell_type": "code",
      "execution_count": null,
      "id": "388538ba",
      "metadata": {
        "colab": {
          "base_uri": "https://localhost:8080/"
        },
        "id": "388538ba",
        "outputId": "ee6916fb-d018-4c0d-987b-e5a07d5a04f5"
      },
      "outputs": [
        {
          "name": "stdout",
          "output_type": "stream",
          "text": [
            "True\n"
          ]
        }
      ],
      "source": [
        "print(tf.test.is_built_with_cuda())"
      ]
    },
    {
      "cell_type": "code",
      "execution_count": null,
      "id": "a3wcJQXRY8T3",
      "metadata": {
        "id": "a3wcJQXRY8T3"
      },
      "outputs": [],
      "source": [
        "# tf.debugging.set_log_device_placement(True)"
      ]
    },
    {
      "cell_type": "code",
      "execution_count": null,
      "id": "vuiVJtzP3lmz",
      "metadata": {
        "id": "vuiVJtzP3lmz"
      },
      "outputs": [],
      "source": [
        "def Softmax(x):\n",
        "    '''\n",
        "    Performs the softmax activation on a given set of inputs\n",
        "    Input: x (N,k) ndarray (N: no. of samples, k: no. of nodes)\n",
        "    Returns: \n",
        "    Note: Works for 2D arrays only(rows for samples, columns for nodes/outputs)\n",
        "    '''\n",
        "    e_x = cp.exp(x - cp.max(x)) # For stability\n",
        "#     return e_x / e_x.sum(axis=1, keepdims=True) # only difference\n",
        "    return e_x / e_x.sum(axis=1).reshape((-1, 1)) # Alternative of keepdims=True for Numba compatibility\n",
        "\n",
        "def Softmax_grad(x): # Best implementation (VERY FAST)\n",
        "    '''Returns the jacobian of the Softmax function for the given set of inputs.\n",
        "    Inputs:\n",
        "    x: should be a 2d array where the rows correspond to the samples\n",
        "        and the columns correspond to the nodes.\n",
        "    Returns: jacobian\n",
        "    '''\n",
        "    s = Softmax(x)\n",
        "    a = cp.eye(s.shape[-1])\n",
        "    temp1 = cp.zeros((s.shape[0], s.shape[1], s.shape[1]),dtype=cp.float32)\n",
        "    temp2 = cp.zeros((s.shape[0], s.shape[1], s.shape[1]),dtype=cp.float32)\n",
        "    for i in range(s.shape[0]):\n",
        "        for j in range(s.shape[1]):\n",
        "            for k in range(s.shape[1]):\n",
        "                temp1[i,j,k] = s[i,j]*a[j,k]\n",
        "                temp2[i,j,k] = s[i,j]*s[i,k]\n",
        "    return temp1-temp2\n",
        "\n",
        "def Sigmoid(x):\n",
        "    return 1/(1+cp.exp(-x))\n",
        "\n",
        "def Sigmoid_grad(x):\n",
        "    return cp.exp(-x)/(cp.exp(-x)+1)**2\n",
        "\n",
        "\n",
        "def ReLU(x):\n",
        "    # Broadcasting seems expensive compared to TF and PyTorch\n",
        "    # return np.maximum(0.,x)\n",
        "    a = cp.zeros(x.shape,dtype=cp.float32)\n",
        "    return cp.maximum(a,x)\n",
        "\n",
        "def ReLU_grad(x):\n",
        "    return cp.greater(x, 0.).astype(cp.float32)"
      ]
    },
    {
      "cell_type": "markdown",
      "id": "8b18d617",
      "metadata": {
        "id": "8b18d617"
      },
      "source": [
        "## Generate an input `2d array` of type `float32` for benchmark (let's say using `torch`)"
      ]
    },
    {
      "cell_type": "code",
      "execution_count": null,
      "id": "bb32968b",
      "metadata": {
        "colab": {
          "base_uri": "https://localhost:8080/"
        },
        "id": "bb32968b",
        "outputId": "d9ff1d00-8230-4510-ec03-0726dd387c45"
      },
      "outputs": [
        {
          "name": "stdout",
          "output_type": "stream",
          "text": [
            "tensor([[-1.0295,  2.0987,  0.8457,  ..., -0.3645, -0.6727, -0.9104],\n",
            "        [-0.7141, -0.1804, -0.4025,  ...,  0.0691, -0.7614,  0.6997],\n",
            "        [-0.3864, -1.0156,  1.7384,  ..., -0.3077, -1.0511,  0.4586],\n",
            "        ...,\n",
            "        [ 0.1953,  0.9764, -1.0313,  ..., -1.0434, -1.1354, -0.4758],\n",
            "        [ 0.1263, -0.8687,  0.9475,  ..., -0.2371,  0.3656,  0.7102],\n",
            "        [ 0.7393, -0.3089, -0.0970,  ..., -0.4207, -0.7622,  1.3727]],\n",
            "       grad_fn=<ToCopyBackward0>)\n"
          ]
        }
      ],
      "source": [
        "X_torch = torch.randn((300,100),requires_grad=True)\n",
        "X_torch = X_torch.cuda()\n",
        "print(X_torch.cpu())"
      ]
    },
    {
      "cell_type": "markdown",
      "id": "ea839198",
      "metadata": {
        "id": "ea839198"
      },
      "source": [
        "## Convert it to numpy for `crysx_nn`"
      ]
    },
    {
      "cell_type": "code",
      "execution_count": null,
      "id": "5dfe4aef",
      "metadata": {
        "colab": {
          "base_uri": "https://localhost:8080/"
        },
        "id": "5dfe4aef",
        "outputId": "244de671-aee9-4e20-c74a-edeaad3f892e"
      },
      "outputs": [
        {
          "name": "stdout",
          "output_type": "stream",
          "text": [
            "float32\n"
          ]
        }
      ],
      "source": [
        "X_crysx_nn = X_torch.cpu().detach().numpy()\n",
        "X_cupy = cp.asarray(X_crysx_nn)\n",
        "print(X_crysx_nn.dtype)"
      ]
    },
    {
      "cell_type": "markdown",
      "id": "989ccc01",
      "metadata": {
        "id": "989ccc01"
      },
      "source": [
        "## Now finally convert it to a tensorflow tensor"
      ]
    },
    {
      "cell_type": "code",
      "execution_count": null,
      "id": "468a51b4",
      "metadata": {
        "id": "468a51b4"
      },
      "outputs": [],
      "source": [
        "X_tf = tf.convert_to_tensor(X_crysx_nn, dtype=tf.float32)"
      ]
    },
    {
      "cell_type": "markdown",
      "id": "7116bed6",
      "metadata": {
        "id": "7116bed6"
      },
      "source": [
        "## Benchmark ReLU"
      ]
    },
    {
      "cell_type": "markdown",
      "id": "b2d54c40",
      "metadata": {
        "id": "b2d54c40"
      },
      "source": [
        "### Confirm that all frameworks give the same results"
      ]
    },
    {
      "cell_type": "code",
      "execution_count": null,
      "id": "470bbd47",
      "metadata": {
        "colab": {
          "base_uri": "https://localhost:8080/"
        },
        "id": "470bbd47",
        "outputId": "506b003a-3abe-4df5-e0e8-27479846a9cc"
      },
      "outputs": [
        {
          "name": "stdout",
          "output_type": "stream",
          "text": [
            "Max abs diff b/w torch and tf 0.0\n",
            "Max abs diff b/w torch and CrysX 0.0\n"
          ]
        }
      ],
      "source": [
        "# Torch\n",
        "relu_torch_func = torch.nn.ReLU() # Get an instance of ReLU class for Pytorch\n",
        "relu_torch_value = relu_torch_func(X_torch)\n",
        "\n",
        "# CrysX\n",
        "relu_crysx_nn_value = ReLU(X_cupy)\n",
        "\n",
        "# Tensorflow\n",
        "relu_tf_value = tf.nn.relu(X_tf)#tf.keras.activations.relu(X_tf)\n",
        "\n",
        "#Diff b/w tf and torch\n",
        "print('Max abs diff b/w torch and tf', abs(relu_torch_value.cpu().detach().numpy() - relu_tf_value.numpy()).max())\n",
        "\n",
        "#Diff b/w crysx_nn and torch\n",
        "print('Max abs diff b/w torch and CrysX', abs(relu_torch_value.cpu().detach().numpy() - cp.asnumpy(relu_crysx_nn_value)).max())"
      ]
    },
    {
      "cell_type": "markdown",
      "id": "099cf5bc",
      "metadata": {
        "id": "099cf5bc"
      },
      "source": [
        "### Compare performance"
      ]
    },
    {
      "cell_type": "code",
      "execution_count": null,
      "id": "66bc3c9a",
      "metadata": {
        "colab": {
          "base_uri": "https://localhost:8080/"
        },
        "id": "66bc3c9a",
        "outputId": "e8d6e6ea-9df3-444e-9e87-c128db5a5c0e"
      },
      "outputs": [
        {
          "name": "stdout",
          "output_type": "stream",
          "text": [
            "PyTorch\n",
            "43.8 µs ± 5.59 µs per loop (mean ± std. dev. of 7 runs, 1000 loops each)\n",
            "CrysX-NN (crysx_nn)\n",
            "61.6 µs ± 5.61 µs per loop (mean ± std. dev. of 7 runs, 1000 loops each)\n",
            "Tensorflow\n",
            "105 µs ± 7.73 µs per loop (mean ± std. dev. of 7 runs, 1000 loops each)\n"
          ]
        }
      ],
      "source": [
        "# Torch\n",
        "print('PyTorch')\n",
        "relu_torch_func = torch.nn.ReLU() # Get an instance of ReLU class for Pytorch\n",
        "%timeit -n 1000 relu_torch_func(X_torch)\n",
        "\n",
        "# CrysX\n",
        "print('CrysX-NN (crysx_nn)')\n",
        "%timeit -n 1000 ReLU(X_cupy)\n",
        "\n",
        "# Tensorflow\n",
        "print('Tensorflow')\n",
        "%timeit -n 1000 tf.keras.activations.relu(X_tf)\n"
      ]
    },
    {
      "cell_type": "markdown",
      "id": "7e154ec2",
      "metadata": {
        "id": "7e154ec2"
      },
      "source": [
        "### Compare performance with arrays of different sizes"
      ]
    },
    {
      "cell_type": "code",
      "execution_count": null,
      "id": "bd3a77a8",
      "metadata": {
        "colab": {
          "base_uri": "https://localhost:8080/"
        },
        "id": "bd3a77a8",
        "outputId": "3eff5106-8f33-4525-8ce9-528f4fc957cc"
      },
      "outputs": [
        {
          "name": "stdout",
          "output_type": "stream",
          "text": [
            "40.5 µs ± 2.96 µs per loop (mean ± std. dev. of 7 runs, 500 loops each)\n",
            "50.8 µs ± 3.18 µs per loop (mean ± std. dev. of 7 runs, 500 loops each)\n",
            "65.4 µs ± 5.97 µs per loop (mean ± std. dev. of 7 runs, 500 loops each)\n",
            "62.5 µs ± 21.6 µs per loop (mean ± std. dev. of 7 runs, 500 loops each)\n",
            "64.2 µs ± 7.08 µs per loop (mean ± std. dev. of 7 runs, 500 loops each)\n",
            "67.1 µs ± 7.73 µs per loop (mean ± std. dev. of 7 runs, 500 loops each)\n",
            "45.3 µs ± 5.39 µs per loop (mean ± std. dev. of 7 runs, 500 loops each)\n",
            "133 µs ± 17.6 µs per loop (mean ± std. dev. of 7 runs, 500 loops each)\n",
            "109 µs ± 38 µs per loop (mean ± std. dev. of 7 runs, 500 loops each)\n",
            "98.7 µs ± 28.2 µs per loop (mean ± std. dev. of 7 runs, 500 loops each)\n",
            "284 µs ± 9.76 µs per loop (mean ± std. dev. of 7 runs, 500 loops each)\n",
            "The slowest run took 15.35 times longer than the fastest. This could mean that an intermediate result is being cached.\n",
            "154 µs ± 114 µs per loop (mean ± std. dev. of 7 runs, 500 loops each)\n",
            "The slowest run took 13.65 times longer than the fastest. This could mean that an intermediate result is being cached.\n",
            "171 µs ± 98 µs per loop (mean ± std. dev. of 7 runs, 500 loops each)\n",
            "498 µs ± 8.79 µs per loop (mean ± std. dev. of 7 runs, 500 loops each)\n",
            "The slowest run took 26.79 times longer than the fastest. This could mean that an intermediate result is being cached.\n",
            "268 µs ± 216 µs per loop (mean ± std. dev. of 7 runs, 500 loops each)\n",
            "The slowest run took 17.58 times longer than the fastest. This could mean that an intermediate result is being cached.\n",
            "266 µs ± 155 µs per loop (mean ± std. dev. of 7 runs, 500 loops each)\n",
            "771 µs ± 9.05 µs per loop (mean ± std. dev. of 7 runs, 500 loops each)\n",
            "The slowest run took 37.76 times longer than the fastest. This could mean that an intermediate result is being cached.\n",
            "413 µs ± 341 µs per loop (mean ± std. dev. of 7 runs, 500 loops each)\n"
          ]
        }
      ],
      "source": [
        "time_torch = []\n",
        "time_crysx_nn = []\n",
        "time_tf = []\n",
        "sizes = []\n",
        "\n",
        "for n_size in range(10,3000,500):\n",
        "    sizes.append(n_size*n_size)\n",
        "    # Torch input\n",
        "    X_torch = torch.randn((n_size,n_size),requires_grad=True)\n",
        "    X_torch = X_torch.cuda()\n",
        "    # CrysX-NN input\n",
        "    X_crysx_nn = X_torch.cpu().detach().numpy()\n",
        "    X_cupy = cp.asarray(X_crysx_nn)\n",
        "    # Tensorflow input\n",
        "    X_tf = tf.convert_to_tensor(X_crysx_nn, dtype=tf.float32)\n",
        "    \n",
        "    ##--Timings--\n",
        "    # Torch\n",
        "    relu_torch_func = torch.nn.ReLU() # Get an instance of ReLU class for Pytorch\n",
        "    time = %timeit -n 500 -o relu_torch_func(X_torch)\n",
        "    # For time of each run\n",
        "    time_torch.append(np.mean(time.timings)) \n",
        "    # For total time\n",
        "#     time_torch.append(np.mean(time.all_runs)) \n",
        "    # CrysX\n",
        "    time = %timeit -n 500 -o ReLU(X_cupy)\n",
        "    # For time of each run\n",
        "    time_crysx_nn.append(np.mean(time.timings))\n",
        "    # Tensorflow\n",
        "    time = %timeit -n 500 -o tf.nn.relu(X_tf)\n",
        "    # For time of each run\n",
        "    time_tf.append(np.mean(time.timings))"
      ]
    },
    {
      "cell_type": "markdown",
      "id": "976002e4",
      "metadata": {
        "id": "976002e4"
      },
      "source": [
        "### Plot the results"
      ]
    },
    {
      "cell_type": "code",
      "execution_count": null,
      "id": "e2fd1e34",
      "metadata": {
        "colab": {
          "base_uri": "https://localhost:8080/",
          "height": 295
        },
        "id": "e2fd1e34",
        "outputId": "73fe76e9-4922-48aa-8a90-1fcb146cbdf6",
        "scrolled": true
      },
      "outputs": [
        {
          "data": {
            "image/png": "[encoded data removed]",
            "text/plain": [
              "<Figure size 432x288 with 1 Axes>"
            ]
          },
          "metadata": {
            "needs_background": "light"
          },
          "output_type": "display_data"
        }
      ],
      "source": [
        "\n",
        "plt.plot(sizes,time_torch, label='PyTorch')\n",
        "plt.plot(sizes,time_crysx_nn, label='CrysX-NN')\n",
        "plt.plot(sizes,time_tf, label='Tensorflow')\n",
        "plt.legend()\n",
        "plt.xlabel('Array sizes')\n",
        "plt.ylabel('Timings')\n",
        "plt.title('Benchmark ReLU')\n",
        "plt.show()"
      ]
    },
    {
      "cell_type": "markdown",
      "id": "7045b443",
      "metadata": {
        "id": "7045b443"
      },
      "source": [
        "## Benchmark ReLU derivative (gradient) wrt input batch\n",
        "\n",
        "This is slightly tricky. \n",
        "PyTorch and Tensorflow don't explicitly come with a function that gives the gradient. \n",
        "Rather they use atuomatic differentiation.\n",
        "\n",
        "This is why, PyTorch would require the value of the output of the activation function as well, rather than just an input function. \n",
        "\n",
        "I will try to do the timings in a way that we can exclude this time from results.\n",
        "\n",
        "However, it is still not really evident if the timings can be taken as a good representative of the performance of PyTorch and Tensorflow frameworks.\n",
        "\n",
        "So take the timing results with a grain of salt."
      ]
    },
    {
      "cell_type": "code",
      "execution_count": null,
      "id": "f5282ecd",
      "metadata": {
        "id": "f5282ecd"
      },
      "outputs": [],
      "source": [
        "def tf_relu_grad(x):\n",
        "    with tf.GradientTape() as g:\n",
        "        g.watch(x)\n",
        "        relu_values = tf.nn.relu(x)\n",
        "    grad = g.gradient(relu_values, x)\n",
        "    return grad#.numpy()"
      ]
    },
    {
      "cell_type": "code",
      "execution_count": null,
      "id": "ed465fd1",
      "metadata": {
        "id": "ed465fd1"
      },
      "outputs": [],
      "source": [
        "def torch_relu_grad(relu_values, x):\n",
        "    device='cuda'\n",
        "    gradient = torch.autograd.grad(outputs=relu_values, inputs=x,\n",
        "                          grad_outputs=torch.ones(relu_values.size()).to(device),\n",
        "                          create_graph=True, retain_graph=True, only_inputs=True)[0]\n",
        "    return gradient"
      ]
    },
    {
      "cell_type": "markdown",
      "id": "fbe0b62a",
      "metadata": {
        "id": "fbe0b62a"
      },
      "source": [
        "### Confirm that all frameworks give the same results"
      ]
    },
    {
      "cell_type": "code",
      "execution_count": null,
      "id": "915234f9",
      "metadata": {
        "colab": {
          "base_uri": "https://localhost:8080/"
        },
        "id": "915234f9",
        "outputId": "b47d2650-55fe-4ca8-be8d-ae0cca8a14b3"
      },
      "outputs": [
        {
          "name": "stdout",
          "output_type": "stream",
          "text": [
            "Max abs diff b/w torch and tf 0.0\n",
            "Max abs diff b/w torch and CrysX 0.0\n"
          ]
        }
      ],
      "source": [
        "# Torch input\n",
        "X_torch = torch.randn((1000,1000),requires_grad=True)\n",
        "X_torch = X_torch.cuda()\n",
        "# CrysX-NN input\n",
        "X_crysx_nn = X_torch.cpu().detach().numpy()\n",
        "X_cupy = cp.asarray(X_crysx_nn)\n",
        "# Tensorflow input\n",
        "X_tf = tf.convert_to_tensor(X_crysx_nn, dtype=tf.float32)\n",
        "\n",
        "\n",
        "# Torch\n",
        "relu_torch_func = torch.nn.ReLU() # Get an instance of ReLU class for Pytorch\n",
        "relu_torch_value = relu_torch_func(X_torch)\n",
        "gradientsTorch = torch_relu_grad(relu_torch_value, X_torch)\n",
        "# print(gradientsTorch)\n",
        "\n",
        "# CrysX\n",
        "# softmax_crysx_nn_value = Softmax(X_crysx_nn)\n",
        "gradientsCrysx = ReLU_grad(X_cupy)\n",
        "# print(gradientsCrysx)\n",
        "\n",
        "# Tensorflow\n",
        "gradientsTF = tf_relu_grad(X_tf) # requires a computation of sigmoid values again\n",
        "with tf.GradientTape() as g:\n",
        "    g.watch(X_tf)\n",
        "    relu_tf_value = tf.nn.relu(X_tf)\n",
        "gradientsTF = g.gradient(relu_tf_value, X_tf)\n",
        "del g\n",
        "# print(gradientsTF)\n",
        "\n",
        "#Diff b/w tf and torch\n",
        "print('Max abs diff b/w torch and tf', abs(gradientsTorch.cpu().detach().numpy() - gradientsTF.numpy()).max())\n",
        "\n",
        "#Diff b/w crysx_nn and torch\n",
        "print('Max abs diff b/w torch and CrysX', abs(gradientsTorch.cpu().detach().numpy() - cp.asnumpy(gradientsCrysx)).max())\n"
      ]
    },
    {
      "cell_type": "markdown",
      "id": "23e53f07",
      "metadata": {
        "id": "23e53f07"
      },
      "source": [
        "### Compare performance\n",
        "\n",
        "Since, CrysX-NN also requires the calculation of softmax function, therefore we should also include this calculation time for PyTorch and Tensorflow.\n",
        "\n",
        "I would like to stress here again, that I am not really sure if the autodifferentiated implementations of softmax gradients that I have used, are a good representative of the real-world performance or not. \n",
        "\n",
        "Especially, the torch jacobian would be extreeeemely slowww due to the for loops. But tensorflow implementation isn't that fast either.\n",
        "\n",
        "So we would skip the plots of timings vs array_size for benchmarks."
      ]
    },
    {
      "cell_type": "code",
      "execution_count": null,
      "id": "adfb64db",
      "metadata": {
        "colab": {
          "base_uri": "https://localhost:8080/"
        },
        "id": "adfb64db",
        "outputId": "937ae662-2806-492c-dac1-0b9fbf78340f"
      },
      "outputs": [
        {
          "name": "stdout",
          "output_type": "stream",
          "text": [
            "PyTorch gradient only\n",
            "1.61 ms ± 74.6 µs per loop (mean ± std. dev. of 7 runs, 100 loops each)\n",
            "CrysX-NN (crysx_nn) gradient only\n",
            "110 µs ± 3.81 µs per loop (mean ± std. dev. of 7 runs, 100 loops each)\n",
            "Tensorflow gradient+value\n",
            "687 µs ± 64.4 µs per loop (mean ± std. dev. of 7 runs, 100 loops each)\n",
            "Tensorflow value only\n",
            "102 µs ± 8.31 µs per loop (mean ± std. dev. of 7 runs, 100 loops each)\n"
          ]
        }
      ],
      "source": [
        "# Torch\n",
        "print('PyTorch gradient only')\n",
        "relu_torch_func = torch.nn.ReLU() # Get an instance of ReLU class for Pytorch\n",
        "relu_torch_value = relu_torch_func(X_torch)\n",
        "%timeit -n 100 torch_relu_grad(relu_torch_value, X_torch)\n",
        "\n",
        "# CrysX\n",
        "print('CrysX-NN (crysx_nn) gradient only')\n",
        "%timeit -n 100 ReLU_grad(X_cupy)\n",
        "\n",
        "# Tensorflow\n",
        "print('Tensorflow gradient+value')\n",
        "with tf.GradientTape(persistent=False) as g:\n",
        "    g.watch(X_tf)\n",
        "    relu_tf_value = tf.nn.relu(X_tf)\n",
        "# %timeit -n 100 g.gradient(relu_tf_value, X_tf) # Doesn't work due to multiple runs of timeit and tape not supporting it\n",
        "%timeit -n 100  tf_relu_grad(X_tf)\n",
        "\n",
        "print('Tensorflow value only')\n",
        "%timeit -n 100 tf.keras.activations.relu(X_tf)\n"
      ]
    },
    {
      "cell_type": "markdown",
      "id": "56cafce9",
      "metadata": {
        "id": "56cafce9"
      },
      "source": [
        "In the above, we see that PyTorch is again quite fast a million element array. \n",
        "CrysX-NN gives decent performance.\n",
        "\n",
        "Tensorflow is a bit tricky. Due to `%timeit` requiring multiple runs, and tape being only restricted to a single run, I had to use the other implementation of gradient using tensorflow, where the `values+gradients` are computed.\n",
        "\n",
        "Therefore, to get a good idea of the tensorflow gradient performance I have also calculated the time taken by tensorflow for just evaluating the functions."
      ]
    },
    {
      "cell_type": "markdown",
      "id": "918ee5a5",
      "metadata": {
        "id": "918ee5a5"
      },
      "source": [
        "## Benchmark Sigmoid"
      ]
    },
    {
      "cell_type": "markdown",
      "id": "16dd0075",
      "metadata": {
        "id": "16dd0075"
      },
      "source": [
        "### Confirm that all frameworks give the same results"
      ]
    },
    {
      "cell_type": "code",
      "execution_count": null,
      "id": "9b757401",
      "metadata": {
        "colab": {
          "base_uri": "https://localhost:8080/"
        },
        "id": "9b757401",
        "outputId": "fe719671-8780-455c-a756-50fa8b91a065"
      },
      "outputs": [
        {
          "name": "stdout",
          "output_type": "stream",
          "text": [
            "Max abs diff b/w torch and tf 0.0\n",
            "Max abs diff b/w torch and CrysX 0.0\n"
          ]
        }
      ],
      "source": [
        "# Torch input\n",
        "X_torch = torch.randn((1000,1000),requires_grad=True)\n",
        "X_torch = X_torch.cuda()\n",
        "# CrysX-NN input\n",
        "X_crysx_nn = X_torch.cpu().detach().numpy()\n",
        "X_cupy = cp.asarray(X_crysx_nn)\n",
        "# Tensorflow input\n",
        "X_tf = tf.convert_to_tensor(X_crysx_nn, dtype=tf.float32)\n",
        "\n",
        "# Torch\n",
        "sigmoid_torch_func = torch.nn.Sigmoid() # Get an instance of Sigmoid class for Pytorch\n",
        "sigmoid_torch_value = sigmoid_torch_func(X_torch)\n",
        "\n",
        "# CrysX\n",
        "sigmoid_crysx_nn_value = Sigmoid(X_cupy)\n",
        "\n",
        "# Tensorflow\n",
        "sigmoid_tf_value = tf.keras.activations.sigmoid(X_tf)\n",
        "\n",
        "#Diff b/w tf and torch\n",
        "print('Max abs diff b/w torch and tf', abs(sigmoid_torch_value.cpu().detach().numpy() - sigmoid_tf_value.numpy()).max())\n",
        "\n",
        "#Diff b/w crysx_nn and torch\n",
        "print('Max abs diff b/w torch and CrysX', abs(sigmoid_torch_value.cpu().detach().numpy() - cp.asnumpy(sigmoid_crysx_nn_value)).max())\n"
      ]
    },
    {
      "cell_type": "markdown",
      "id": "721632a0",
      "metadata": {
        "id": "721632a0"
      },
      "source": [
        "### Compare performance"
      ]
    },
    {
      "cell_type": "code",
      "execution_count": null,
      "id": "cf835656",
      "metadata": {
        "colab": {
          "base_uri": "https://localhost:8080/"
        },
        "id": "cf835656",
        "outputId": "efe9f3ca-87d5-4e5a-ab9f-a8379e2f1a6b"
      },
      "outputs": [
        {
          "name": "stdout",
          "output_type": "stream",
          "text": [
            "PyTorch\n",
            "33.9 µs ± 1.25 µs per loop (mean ± std. dev. of 7 runs, 100 loops each)\n",
            "CrysX-NN (crysx_nn)\n",
            "227 µs ± 51.2 µs per loop (mean ± std. dev. of 7 runs, 100 loops each)\n",
            "Tensorflow\n",
            "113 µs ± 31.2 µs per loop (mean ± std. dev. of 7 runs, 100 loops each)\n"
          ]
        }
      ],
      "source": [
        "# Torch\n",
        "print('PyTorch')\n",
        "sigmoid_torch_func = torch.nn.Sigmoid() # Get an instance of Sigmoid class for Pytorch\n",
        "%timeit -n 100 sigmoid_torch_func(X_torch)\n",
        "\n",
        "# CrysX\n",
        "print('CrysX-NN (crysx_nn)')\n",
        "%timeit -n 100 Sigmoid(X_cupy)\n",
        "\n",
        "# Tensorflow\n",
        "print('Tensorflow')\n",
        "%timeit -n 100 tf.keras.activations.sigmoid(X_tf)\n"
      ]
    },
    {
      "cell_type": "markdown",
      "id": "a5796281",
      "metadata": {
        "id": "a5796281"
      },
      "source": [
        "### Compare performance with arrays of different sizes"
      ]
    },
    {
      "cell_type": "code",
      "execution_count": null,
      "id": "d7d8244d",
      "metadata": {
        "colab": {
          "base_uri": "https://localhost:8080/"
        },
        "id": "d7d8244d",
        "outputId": "86e08902-4d2e-41b8-e40d-f7f49abc65b0"
      },
      "outputs": [
        {
          "name": "stdout",
          "output_type": "stream",
          "text": [
            "15 µs ± 1.43 µs per loop (mean ± std. dev. of 7 runs, 100 loops each)\n",
            "84.7 µs ± 8.8 µs per loop (mean ± std. dev. of 7 runs, 100 loops each)\n",
            "57.2 µs ± 8.62 µs per loop (mean ± std. dev. of 7 runs, 100 loops each)\n",
            "14.2 µs ± 490 ns per loop (mean ± std. dev. of 7 runs, 100 loops each)\n",
            "83.6 µs ± 8.67 µs per loop (mean ± std. dev. of 7 runs, 100 loops each)\n",
            "61.2 µs ± 16.4 µs per loop (mean ± std. dev. of 7 runs, 100 loops each)\n",
            "14.6 µs ± 1.11 µs per loop (mean ± std. dev. of 7 runs, 100 loops each)\n",
            "255 µs ± 88.4 µs per loop (mean ± std. dev. of 7 runs, 100 loops each)\n",
            "55.5 µs ± 3.45 µs per loop (mean ± std. dev. of 7 runs, 100 loops each)\n",
            "20 µs ± 5.13 µs per loop (mean ± std. dev. of 7 runs, 100 loops each)\n",
            "The slowest run took 6.88 times longer than the fastest. This could mean that an intermediate result is being cached.\n",
            "546 µs ± 194 µs per loop (mean ± std. dev. of 7 runs, 100 loops each)\n",
            "52.4 µs ± 4.29 µs per loop (mean ± std. dev. of 7 runs, 100 loops each)\n",
            "15 µs ± 1.61 µs per loop (mean ± std. dev. of 7 runs, 100 loops each)\n",
            "The slowest run took 11.39 times longer than the fastest. This could mean that an intermediate result is being cached.\n",
            "965 µs ± 356 µs per loop (mean ± std. dev. of 7 runs, 100 loops each)\n",
            "55.1 µs ± 5.89 µs per loop (mean ± std. dev. of 7 runs, 100 loops each)\n",
            "14.2 µs ± 1.06 µs per loop (mean ± std. dev. of 7 runs, 100 loops each)\n",
            "The slowest run took 8.81 times longer than the fastest. This could mean that an intermediate result is being cached.\n",
            "1.5 ms ± 534 µs per loop (mean ± std. dev. of 7 runs, 100 loops each)\n",
            "53.3 µs ± 6.96 µs per loop (mean ± std. dev. of 7 runs, 100 loops each)\n"
          ]
        }
      ],
      "source": [
        "time_torch = []\n",
        "time_crysx_nn = []\n",
        "time_tf = []\n",
        "sizes = []\n",
        "\n",
        "for n_size in range(10,3000,500):\n",
        "    sizes.append(n_size*n_size)\n",
        "    # Torch input\n",
        "    X_torch = torch.randn((n_size,n_size),requires_grad=True)\n",
        "    X_torch = X_torch.cuda()\n",
        "    # CrysX-NN input\n",
        "    X_crysx_nn = X_torch.cpu().detach().numpy()\n",
        "    X_cupy = cp.asarray(X_crysx_nn)\n",
        "    # Tensorflow input\n",
        "    X_tf = tf.convert_to_tensor(X_crysx_nn, dtype=tf.float32)\n",
        "    \n",
        "    ##--Timings--\n",
        "    # Torch\n",
        "    sigmoid_torch_func = torch.nn.Sigmoid() # Get an instance of Sigmoid class for Pytorch\n",
        "    time = %timeit -n 100 -o sigmoid_torch_func(X_torch)\n",
        "    # For time of each run\n",
        "    time_torch.append(np.mean(time.timings)) \n",
        "    # For total time\n",
        "#     time_torch.append(np.mean(time.all_runs)) \n",
        "    # CrysX\n",
        "    time = %timeit -n 100 -o Sigmoid(X_cupy)\n",
        "    # For time of each run\n",
        "    time_crysx_nn.append(np.mean(time.timings))\n",
        "    # Tensorflow\n",
        "    time = %timeit -n 100 -o tf.keras.activations.sigmoid(X_tf)\n",
        "    # For time of each run\n",
        "    time_tf.append(np.mean(time.timings))\n",
        "    "
      ]
    },
    {
      "cell_type": "markdown",
      "id": "d193ae36",
      "metadata": {
        "id": "d193ae36"
      },
      "source": [
        "### Plot the results"
      ]
    },
    {
      "cell_type": "code",
      "execution_count": null,
      "id": "4b3de13a",
      "metadata": {
        "colab": {
          "base_uri": "https://localhost:8080/",
          "height": 295
        },
        "id": "4b3de13a",
        "outputId": "c1ca74a3-71ba-41e0-e7dd-7b64e3ba36de"
      },
      "outputs": [
        {
          "data": {
            "image/png": "[encoded data removed]",
            "text/plain": [
              "<Figure size 432x288 with 1 Axes>"
            ]
          },
          "metadata": {
            "needs_background": "light"
          },
          "output_type": "display_data"
        }
      ],
      "source": [
        "\n",
        "plt.plot(sizes,time_torch, label='PyTorch')\n",
        "plt.plot(sizes,time_crysx_nn, label='CrysX-NN')\n",
        "plt.plot(sizes,time_tf, label='Tensorflow')\n",
        "plt.legend()\n",
        "plt.xlabel('Array sizes')\n",
        "plt.ylabel('Timings')\n",
        "plt.title('Benchmark Sigmoid')\n",
        "plt.show()\n"
      ]
    },
    {
      "cell_type": "markdown",
      "id": "d365982e",
      "metadata": {
        "id": "d365982e"
      },
      "source": [
        "## Benchmark Sigmoid derivative (gradient) wrt input batch\n",
        "\n",
        "This is slightly tricky. \n",
        "PyTorch and Tensorflow don't explicitly come with a function that gives the gradient. \n",
        "Rather they use atuomatic differentiation.\n",
        "\n",
        "This is why, PyTorch would require the value of the output of the activation function as well, rather than just an input function. \n",
        "\n",
        "I will try to do the timings in a way that we can exclude this time from results.\n",
        "\n",
        "However, it is still not really evident if the timings can be taken as a good representative of the performance of PyTorch and Tensorflow frameworks.\n",
        "\n",
        "So take the timing results with a grain of salt."
      ]
    },
    {
      "cell_type": "code",
      "execution_count": null,
      "id": "bc6aa900",
      "metadata": {
        "id": "bc6aa900"
      },
      "outputs": [],
      "source": [
        "def tf_sigmoid_grad(x):\n",
        "    with tf.GradientTape() as g:\n",
        "        g.watch(x)\n",
        "        sigmoid_values = tf.nn.sigmoid(x)\n",
        "    grad = g.gradient(sigmoid_values, x)\n",
        "    return grad#.numpy()"
      ]
    },
    {
      "cell_type": "code",
      "execution_count": null,
      "id": "8a893e2e",
      "metadata": {
        "id": "8a893e2e"
      },
      "outputs": [],
      "source": [
        "def torch_sigmoid_grad(sigmoid_values, x):\n",
        "    device='cuda'\n",
        "    gradient = torch.autograd.grad(outputs=sigmoid_values, inputs=x,\n",
        "                          grad_outputs=torch.ones(sigmoid_values.size()).to(device),\n",
        "                          create_graph=True, retain_graph=True, only_inputs=True)[0]\n",
        "    return gradient"
      ]
    },
    {
      "cell_type": "markdown",
      "id": "aa6678b2",
      "metadata": {
        "id": "aa6678b2"
      },
      "source": [
        "### Confirm that all frameworks give the same results"
      ]
    },
    {
      "cell_type": "code",
      "execution_count": null,
      "id": "47d1c8fa",
      "metadata": {
        "colab": {
          "base_uri": "https://localhost:8080/"
        },
        "id": "47d1c8fa",
        "outputId": "bf6eb177-aaee-45bc-9b07-c4440c9aeb11"
      },
      "outputs": [
        {
          "name": "stdout",
          "output_type": "stream",
          "text": [
            "Max abs diff b/w torch and tf 0.0\n",
            "Max abs diff b/w torch and CrysX 8.940697e-08\n"
          ]
        }
      ],
      "source": [
        "# Torch input\n",
        "X_torch = torch.randn((1000,1000),requires_grad=True)\n",
        "X_torch = X_torch.cuda()\n",
        "# CrysX-NN input\n",
        "X_crysx_nn = X_torch.cpu().detach().numpy()\n",
        "X_cupy = cp.asarray(X_crysx_nn)\n",
        "# Tensorflow input\n",
        "X_tf = tf.convert_to_tensor(X_crysx_nn, dtype=tf.float32)\n",
        "\n",
        "\n",
        "# Torch\n",
        "sigmoid_torch_func = torch.nn.Sigmoid() # Get an instance of Sigmoid class for Pytorch\n",
        "sigmoid_torch_value = sigmoid_torch_func(X_torch)\n",
        "gradientsTorch = torch_sigmoid_grad(sigmoid_torch_value, X_torch)\n",
        "# print(gradientsTorch)\n",
        "\n",
        "# CrysX\n",
        "# softmax_crysx_nn_value = Softmax(X_crysx_nn)\n",
        "gradientsCrysx = Sigmoid_grad(X_cupy)\n",
        "# print(gradientsCrysx)\n",
        "\n",
        "# Tensorflow\n",
        "gradientsTF = tf_sigmoid_grad(X_tf) # requires a computation of sigmoid values again\n",
        "with tf.GradientTape() as g:\n",
        "    g.watch(X_tf)\n",
        "    sigmoid_tf_value = tf.nn.sigmoid(X_tf)\n",
        "gradientsTF = g.gradient(sigmoid_tf_value, X_tf)\n",
        "del g\n",
        "# print(gradientsTF)\n",
        "\n",
        "#Diff b/w tf and torch\n",
        "print('Max abs diff b/w torch and tf', abs(gradientsTorch.cpu().detach().numpy() - gradientsTF.numpy()).max())\n",
        "\n",
        "#Diff b/w crysx_nn and torch\n",
        "print('Max abs diff b/w torch and CrysX', abs(gradientsTorch.cpu().detach().numpy() - cp.asnumpy(gradientsCrysx)).max())\n"
      ]
    },
    {
      "cell_type": "markdown",
      "id": "db0c5e50",
      "metadata": {
        "id": "db0c5e50"
      },
      "source": [
        "### Compare performance\n",
        "\n",
        "Since, CrysX-NN also requires the calculation of softmax function, therefore we should also include this calculation time for PyTorch and Tensorflow.\n",
        "\n",
        "I would like to stress here again, that I am not really sure if the autodifferentiated implementations of softmax gradients that I have used, are a good representative of the real-world performance or not. \n",
        "\n",
        "Especially, the torch jacobian would be extreeeemely slowww due to the for loops. But tensorflow implementation isn't that fast either.\n",
        "\n",
        "So we would skip the plots of timings vs array_size for benchmarks."
      ]
    },
    {
      "cell_type": "code",
      "execution_count": null,
      "id": "97e0e0c4",
      "metadata": {
        "colab": {
          "base_uri": "https://localhost:8080/"
        },
        "id": "97e0e0c4",
        "outputId": "ee8f8614-d9d1-4550-a138-188a4b084e61"
      },
      "outputs": [
        {
          "name": "stdout",
          "output_type": "stream",
          "text": [
            "PyTorch gradient only\n",
            "1.68 ms ± 133 µs per loop (mean ± std. dev. of 7 runs, 100 loops each)\n",
            "CrysX-NN (crysx_nn) gradient only\n",
            "485 µs ± 111 µs per loop (mean ± std. dev. of 7 runs, 100 loops each)\n",
            "Tensorflow gradient+value\n",
            "833 µs ± 220 µs per loop (mean ± std. dev. of 7 runs, 100 loops each)\n",
            "Tensorflow value only\n",
            "116 µs ± 21.3 µs per loop (mean ± std. dev. of 7 runs, 100 loops each)\n"
          ]
        }
      ],
      "source": [
        "# Torch\n",
        "print('PyTorch gradient only')\n",
        "sigmoid_torch_func = torch.nn.Sigmoid() # Get an instance of Sigmoid class for Pytorch\n",
        "sigmoid_torch_value = sigmoid_torch_func(X_torch)\n",
        "%timeit -n 100 torch_sigmoid_grad(sigmoid_torch_value, X_torch)\n",
        "\n",
        "# CrysX\n",
        "print('CrysX-NN (crysx_nn) gradient only')\n",
        "%timeit -n 100 Sigmoid_grad(X_cupy)\n",
        "\n",
        "# Tensorflow\n",
        "print('Tensorflow gradient+value')\n",
        "with tf.GradientTape(persistent=False) as g:\n",
        "    g.watch(X_tf)\n",
        "    sigmoid_tf_value = tf.nn.sigmoid(X_tf)\n",
        "# %timeit -n 100 g.gradient(sigmoid_tf_value, X_tf) # Doesn't work due to multiple runs of timeit and tape not supporting it\n",
        "%timeit -n 100  tf_sigmoid_grad(X_tf)\n",
        "print('Tensorflow value only')\n",
        "%timeit -n 100 tf.keras.activations.sigmoid(X_tf)\n",
        "\n"
      ]
    },
    {
      "cell_type": "markdown",
      "id": "f22b3e63",
      "metadata": {
        "id": "f22b3e63"
      },
      "source": [
        "In the above, we see that PyTorch is again quite fast for a million element array. \n",
        "CrysX-NN gives decent performance.\n",
        "\n",
        "Tensorflow is a bit tricky. Due to `%timeit` requiring multiple runs, and tape being only restricted to a single run, I had to use the other implementation of gradient using tensorflow, where the `values+gradients` are computed.\n",
        "\n",
        "Therefore, to get a good idea of the tensorflow gradient performance I have also calculated the time taken by tensorflow for just evaluating the functions."
      ]
    },
    {
      "cell_type": "markdown",
      "id": "5851d1a9",
      "metadata": {
        "id": "5851d1a9"
      },
      "source": [
        "## Benchmark Softmax"
      ]
    },
    {
      "cell_type": "markdown",
      "id": "550907c0",
      "metadata": {
        "id": "550907c0"
      },
      "source": [
        "### Confirm that all frameworks give the same results"
      ]
    },
    {
      "cell_type": "code",
      "execution_count": null,
      "id": "492611ca",
      "metadata": {
        "colab": {
          "base_uri": "https://localhost:8080/"
        },
        "id": "492611ca",
        "outputId": "6d269945-751b-4e43-e1d0-06e374749a92"
      },
      "outputs": [
        {
          "name": "stdout",
          "output_type": "stream",
          "text": [
            "Max abs diff b/w torch and tf 1.4901161e-08\n",
            "Max abs diff b/w torch and CrysX 7.450581e-09\n"
          ]
        },
        {
          "name": "stderr",
          "output_type": "stream",
          "text": [
            "/usr/local/lib/python3.7/dist-packages/ipykernel_launcher.py:13: UserWarning: Implicit dimension choice for softmax has been deprecated. Change the call to include dim=X as an argument.\n",
            "  del sys.path[0]\n"
          ]
        }
      ],
      "source": [
        "# Torch input\n",
        "X_torch = torch.randn((1000,1000),requires_grad=True)\n",
        "X_torch = X_torch.cuda()\n",
        "# CrysX-NN input\n",
        "X_crysx_nn = X_torch.cpu().detach().numpy()\n",
        "X_cupy = cp.asarray(X_crysx_nn)\n",
        "# Tensorflow input\n",
        "X_tf = tf.convert_to_tensor(X_crysx_nn, dtype=tf.float32)\n",
        "\n",
        "\n",
        "# Torch\n",
        "softmax_torch_func = torch.nn.Softmax() # Get an instance of Softmax class for Pytorch\n",
        "softmax_torch_value = softmax_torch_func(X_torch)\n",
        "\n",
        "# CrysX\n",
        "softmax_crysx_nn_value = Softmax(X_cupy)\n",
        "\n",
        "# Tensorflow\n",
        "softmax_tf_value = tf.keras.activations.softmax(X_tf)\n",
        "\n",
        "#Diff b/w tf and torch\n",
        "print('Max abs diff b/w torch and tf', abs(softmax_torch_value.cpu().detach().numpy() - softmax_tf_value.numpy()).max())\n",
        "\n",
        "#Diff b/w crysx_nn and torch\n",
        "print('Max abs diff b/w torch and CrysX', abs(softmax_torch_value.cpu().detach().numpy() - cp.asnumpy(softmax_crysx_nn_value)).max())\n"
      ]
    },
    {
      "cell_type": "markdown",
      "id": "4c2e7e63",
      "metadata": {
        "id": "4c2e7e63"
      },
      "source": [
        "### Compare performance"
      ]
    },
    {
      "cell_type": "code",
      "execution_count": null,
      "id": "1c4d15a3",
      "metadata": {
        "colab": {
          "base_uri": "https://localhost:8080/"
        },
        "id": "1c4d15a3",
        "outputId": "0341c994-ac88-4390-b168-8e7990cee365"
      },
      "outputs": [
        {
          "name": "stdout",
          "output_type": "stream",
          "text": [
            "PyTorch\n",
            "The slowest run took 7.00 times longer than the fastest. This could mean that an intermediate result is being cached.\n",
            "170 µs ± 107 µs per loop (mean ± std. dev. of 7 runs, 100 loops each)\n",
            "CrysX-NN (crysx_nn)\n"
          ]
        },
        {
          "name": "stderr",
          "output_type": "stream",
          "text": [
            "/usr/local/lib/python3.7/dist-packages/ipykernel_launcher.py:1: UserWarning: Implicit dimension choice for softmax has been deprecated. Change the call to include dim=X as an argument.\n",
            "  \"\"\"Entry point for launching an IPython kernel.\n"
          ]
        },
        {
          "name": "stdout",
          "output_type": "stream",
          "text": [
            "1.49 ms ± 714 µs per loop (mean ± std. dev. of 7 runs, 100 loops each)\n",
            "Tensorflow\n",
            "The slowest run took 18.17 times longer than the fastest. This could mean that an intermediate result is being cached.\n",
            "708 µs ± 1.07 ms per loop (mean ± std. dev. of 7 runs, 100 loops each)\n"
          ]
        }
      ],
      "source": [
        "# Torch\n",
        "print('PyTorch')\n",
        "softmax_torch_func = torch.nn.Softmax() # Get an instance of Softmax class for Pytorch\n",
        "%timeit -n 100 softmax_torch_func(X_torch)\n",
        "\n",
        "# CrysX\n",
        "print('CrysX-NN (crysx_nn)')\n",
        "%timeit -n 100 Softmax(X_cupy)\n",
        "\n",
        "# Tensorflow\n",
        "print('Tensorflow')\n",
        "%timeit -n 100 tf.keras.activations.softmax(X_tf)\n"
      ]
    },
    {
      "cell_type": "markdown",
      "id": "0f6c0a4b",
      "metadata": {
        "id": "0f6c0a4b"
      },
      "source": [
        "### Compare performance with arrays of different sizes"
      ]
    },
    {
      "cell_type": "code",
      "execution_count": null,
      "id": "5759d8ef",
      "metadata": {
        "colab": {
          "base_uri": "https://localhost:8080/"
        },
        "id": "5759d8ef",
        "outputId": "62db2475-d36d-4341-aa11-99edfabc8f18"
      },
      "outputs": [
        {
          "name": "stderr",
          "output_type": "stream",
          "text": [
            "/usr/local/lib/python3.7/dist-packages/ipykernel_launcher.py:1: UserWarning: Implicit dimension choice for softmax has been deprecated. Change the call to include dim=X as an argument.\n",
            "  \"\"\"Entry point for launching an IPython kernel.\n"
          ]
        },
        {
          "name": "stdout",
          "output_type": "stream",
          "text": [
            "56.1 µs ± 4.11 µs per loop (mean ± std. dev. of 7 runs, 100 loops each)\n",
            "305 µs ± 63.9 µs per loop (mean ± std. dev. of 7 runs, 100 loops each)\n",
            "134 µs ± 3.3 µs per loop (mean ± std. dev. of 7 runs, 100 loops each)\n",
            "53.6 µs ± 2.29 µs per loop (mean ± std. dev. of 7 runs, 100 loops each)\n",
            "435 µs ± 159 µs per loop (mean ± std. dev. of 7 runs, 100 loops each)\n",
            "The slowest run took 7.26 times longer than the fastest. This could mean that an intermediate result is being cached.\n",
            "303 µs ± 272 µs per loop (mean ± std. dev. of 7 runs, 100 loops each)\n",
            "58.6 µs ± 4.63 µs per loop (mean ± std. dev. of 7 runs, 100 loops each)\n",
            "The slowest run took 8.52 times longer than the fastest. This could mean that an intermediate result is being cached.\n",
            "1.55 ms ± 826 µs per loop (mean ± std. dev. of 7 runs, 100 loops each)\n",
            "The slowest run took 31.41 times longer than the fastest. This could mean that an intermediate result is being cached.\n",
            "744 µs ± 1.37 ms per loop (mean ± std. dev. of 7 runs, 100 loops each)\n",
            "53.3 µs ± 2.8 µs per loop (mean ± std. dev. of 7 runs, 100 loops each)\n",
            "The slowest run took 17.86 times longer than the fastest. This could mean that an intermediate result is being cached.\n",
            "3.55 ms ± 1.68 ms per loop (mean ± std. dev. of 7 runs, 100 loops each)\n",
            "The slowest run took 128.90 times longer than the fastest. This could mean that an intermediate result is being cached.\n",
            "1.57 ms ± 3.22 ms per loop (mean ± std. dev. of 7 runs, 100 loops each)\n",
            "23.2 µs ± 770 ns per loop (mean ± std. dev. of 7 runs, 100 loops each)\n",
            "The slowest run took 9.75 times longer than the fastest. This could mean that an intermediate result is being cached.\n",
            "6.24 ms ± 2.85 ms per loop (mean ± std. dev. of 7 runs, 100 loops each)\n",
            "The slowest run took 218.47 times longer than the fastest. This could mean that an intermediate result is being cached.\n",
            "2.73 ms ± 5.69 ms per loop (mean ± std. dev. of 7 runs, 100 loops each)\n"
          ]
        }
      ],
      "source": [
        "time_torch = []\n",
        "time_crysx_nn = []\n",
        "time_tf = []\n",
        "sizes = []\n",
        "\n",
        "for n_size in range(10,2500,500):\n",
        "    sizes.append(n_size*n_size)\n",
        "    # Torch input\n",
        "    X_torch = torch.randn((n_size,n_size),requires_grad=True)\n",
        "    X_torch = X_torch.cuda()\n",
        "    # CrysX-NN input\n",
        "    X_crysx_nn = X_torch.cpu().detach().numpy()\n",
        "    X_cupy = cp.asarray(X_crysx_nn)\n",
        "    # Tensorflow input\n",
        "    X_tf = tf.convert_to_tensor(X_crysx_nn, dtype=tf.float32)\n",
        "    \n",
        "    ##--Timings--\n",
        "    # Torch\n",
        "    softmax_torch_func = torch.nn.Softmax() # Get an instance of Sigmoid class for Pytorch\n",
        "    time = %timeit -n 100 -o softmax_torch_func(X_torch)\n",
        "    # For time of each run\n",
        "    time_torch.append(np.mean(time.timings)) \n",
        "    # For total time\n",
        "#     time_torch.append(np.mean(time.all_runs)) \n",
        "    # CrysX\n",
        "    time = %timeit -n 100 -o Softmax(X_cupy)\n",
        "    # For time of each run\n",
        "    time_crysx_nn.append(np.mean(time.timings))\n",
        "    # Tensorflow\n",
        "    time = %timeit -n 100 -o tf.keras.activations.softmax(X_tf)\n",
        "    # For time of each run\n",
        "    time_tf.append(np.mean(time.timings))\n",
        "    "
      ]
    },
    {
      "cell_type": "markdown",
      "id": "7c96c36b",
      "metadata": {
        "id": "7c96c36b"
      },
      "source": [
        "### Plot the results"
      ]
    },
    {
      "cell_type": "code",
      "execution_count": null,
      "id": "a947be53",
      "metadata": {
        "colab": {
          "base_uri": "https://localhost:8080/",
          "height": 295
        },
        "id": "a947be53",
        "outputId": "fb9fbad3-c36a-4937-b9be-6b3c45c9770e"
      },
      "outputs": [
        {
          "data": {
            "image/png": "[encoded data removed]",
            "text/plain": [
              "<Figure size 432x288 with 1 Axes>"
            ]
          },
          "metadata": {
            "needs_background": "light"
          },
          "output_type": "display_data"
        }
      ],
      "source": [
        "\n",
        "plt.plot(sizes,time_torch, label='PyTorch')\n",
        "plt.plot(sizes,time_crysx_nn, label='CrysX-NN')\n",
        "plt.plot(sizes,time_tf, label='Tensorflow')\n",
        "plt.legend()\n",
        "plt.xlabel('Array sizes')\n",
        "plt.ylabel('Timings')\n",
        "plt.title('Benchmark Softmax')\n",
        "plt.show()\n"
      ]
    },
    {
      "cell_type": "markdown",
      "id": "59a07d20",
      "metadata": {
        "id": "59a07d20"
      },
      "source": [
        "## Benchmark Softmax derivative (gradient) wrt input batch\n",
        "\n",
        "This is slightly tricky. \n",
        "PyTorch and Tensorflow don't explicitly come with a function that gives the gradient. \n",
        "Rather they use atuomatic differentiation.\n",
        "\n",
        "This is why, PyTorch would require the value of the output of the activation function as well, rather than just an input function.\n",
        "\n",
        "Therefore, it is not really evident if the timings can be taken as a good representative of the performance of PyTorch and Tensorflow frameworks.\n",
        "\n",
        "#### Update: Seems to be really problematic to get the jacobian of Softmax wrt inputs in an efficient manner using the PyTorch framework. \n",
        "\n",
        "There are ways in which you can do it, but they would be slow. (https://discuss.pytorch.org/t/how-to-compute-jacobian-matrix-in-pytorch/14968/16)\n",
        "\n",
        "So take the timing results with a grain of salt."
      ]
    },
    {
      "cell_type": "code",
      "execution_count": null,
      "id": "1eda9eb2",
      "metadata": {
        "id": "1eda9eb2"
      },
      "outputs": [],
      "source": [
        "def tf_softmax_grad(z):\n",
        "#   z = tf.constant(z, dtype=tf.float32)\n",
        "    with tf.GradientTape() as g:\n",
        "        g.watch(z)\n",
        "        a = tf.nn.softmax(z) \n",
        "    jacob = g.batch_jacobian(a, z)\n",
        "    return jacob#.numpy()"
      ]
    },
    {
      "cell_type": "code",
      "execution_count": null,
      "id": "2ec068cd",
      "metadata": {
        "id": "2ec068cd"
      },
      "outputs": [],
      "source": [
        "# Reference: https://discuss.pytorch.org/t/how-to-compute-jacobian-matrix-in-pytorch/14968/16\n",
        "def torch_softmax_grad(wrt):\n",
        "    jacobian = []\n",
        "    softmax_func = torch.nn.Softmax() # Get an instance of Softmax class for Pytorch\n",
        "    softmax_func.eval()\n",
        "    for i in range(wrt.shape[0]):\n",
        "        jac = torch.autograd.functional.jacobian(softmax_func, wrt[i])\n",
        "        jacobian.append(jac)\n",
        "        #\n",
        "    return torch.stack(jacobian, 0)"
      ]
    },
    {
      "cell_type": "markdown",
      "id": "a5a55fc7",
      "metadata": {
        "id": "a5a55fc7"
      },
      "source": [
        "### Confirm that all frameworks give the same results"
      ]
    },
    {
      "cell_type": "code",
      "execution_count": null,
      "id": "7d1a9a63",
      "metadata": {
        "colab": {
          "base_uri": "https://localhost:8080/"
        },
        "id": "7d1a9a63",
        "outputId": "0e8c8bdf-92ff-43cd-ff1b-ca79cbfc2f2a"
      },
      "outputs": [
        {
          "name": "stderr",
          "output_type": "stream",
          "text": [
            "/usr/local/lib/python3.7/dist-packages/ipykernel_launcher.py:13: UserWarning: Implicit dimension choice for softmax has been deprecated. Change the call to include dim=X as an argument.\n",
            "  del sys.path[0]\n",
            "/usr/local/lib/python3.7/dist-packages/torch/autograd/functional.py:482: UserWarning: Implicit dimension choice for softmax has been deprecated. Change the call to include dim=X as an argument.\n",
            "  outputs = func(*inputs)\n"
          ]
        },
        {
          "name": "stdout",
          "output_type": "stream",
          "text": [
            "Max abs diff b/w torch and tf 1.4901161e-08\n",
            "Max abs diff b/w torch and CrysX 2.2351742e-08\n"
          ]
        }
      ],
      "source": [
        "# Torch input\n",
        "X_torch = torch.randn((100,100),requires_grad=True)\n",
        "X_torch = X_torch.cuda()\n",
        "# CrysX-NN input\n",
        "X_crysx_nn = X_torch.cpu().detach().numpy()\n",
        "X_cupy = cp.asarray(X_crysx_nn)\n",
        "# Tensorflow input\n",
        "X_tf = tf.convert_to_tensor(X_crysx_nn, dtype=tf.float32)\n",
        "\n",
        "\n",
        "# Torch\n",
        "# softmax_torch_func = torch.nn.Softmax() # Get an instance of Softmax class for Pytorch\n",
        "softmax_torch_value = softmax_torch_func(X_torch)\n",
        "device = 'cuda'\n",
        "gradientsTorch = torch_softmax_grad(X_torch)#torch.autograd.grad(outputs=softmax_torch_value, inputs=X_torch,\n",
        "#                           grad_outputs=torch.ones(softmax_torch_value.size()).to(device),\n",
        "#                           create_graph=True, retain_graph=True, only_inputs=True)[0]\n",
        "# print(gradientsTorch)\n",
        "\n",
        "# CrysX\n",
        "# softmax_crysx_nn_value = Softmax(X_crysx_nn)\n",
        "gradientsCrysx = Softmax_grad(X_cupy)\n",
        "# print(gradientsCrysx)\n",
        "\n",
        "# Tensorflow\n",
        "# softmax_tf_value = tf.nn.softmax(X_tf)\n",
        "gradientsTF = tf_softmax_grad(X_tf)\n",
        "# print(gradientsTF)\n",
        "\n",
        "#Diff b/w tf and torch\n",
        "print('Max abs diff b/w torch and tf', abs(gradientsTorch.cpu().detach().numpy() - gradientsTF.numpy()).max())\n",
        "\n",
        "#Diff b/w crysx_nn and torch\n",
        "print('Max abs diff b/w torch and CrysX', abs(gradientsTorch.cpu().detach().numpy() - cp.asnumpy(gradientsCrysx)).max())\n"
      ]
    },
    {
      "cell_type": "markdown",
      "id": "533e2cd0",
      "metadata": {
        "id": "533e2cd0"
      },
      "source": [
        "### Compare performance\n",
        "\n",
        "Since, CrysX-NN also requires the calculation of softmax function, therefore we should also include this calculation time for PyTorch and Tensorflow.\n",
        "\n",
        "I would like to stress here again, that I am not really sure if the autodifferentiated implementations of softmax gradients that I have used, are a good representative of the real-world performance or not. \n",
        "\n",
        "Especially, the torch jacobian would be extreeeemely slowww due to the for loops. But tensorflow implementation isn't that fast either.\n",
        "\n",
        "So we would skip the plots of timings vs array_size for benchmarks."
      ]
    },
    {
      "cell_type": "code",
      "execution_count": null,
      "id": "3622fa31",
      "metadata": {
        "colab": {
          "base_uri": "https://localhost:8080/",
          "height": 894
        },
        "id": "3622fa31",
        "outputId": "f24bf232-6225-4f0e-ef68-9dfa588099a1"
      },
      "outputs": [
        {
          "name": "stdout",
          "output_type": "stream",
          "text": [
            "PyTorch\n",
            "3.1 s ± 98.3 ms per loop (mean ± std. dev. of 7 runs, 2 loops each)\n",
            "CrysX-NN (crysx_nn)\n"
          ]
        },
        {
          "ename": "KeyboardInterrupt",
          "evalue": "ignored",
          "output_type": "error",
          "traceback": [
            "\u001b[0;31m---------------------------------------------------------------------------\u001b[0m",
            "\u001b[0;31mKeyboardInterrupt\u001b[0m                         Traceback (most recent call last)",
            "\u001b[0;32m<__array_function__ internals>\u001b[0m in \u001b[0;36mcan_cast\u001b[0;34m(*args, **kwargs)\u001b[0m\n",
            "\u001b[0;31mKeyboardInterrupt\u001b[0m: "
          ]
        },
        {
          "name": "stderr",
          "output_type": "stream",
          "text": [
            "Exception ignored in: 'cupy._core._kernel._can_cast'\n",
            "Traceback (most recent call last):\n",
            "  File \"<__array_function__ internals>\", line 2, in can_cast\n",
            "KeyboardInterrupt\n"
          ]
        },
        {
          "ename": "TypeError",
          "evalue": "ignored",
          "output_type": "error",
          "traceback": [
            "\u001b[0;31m---------------------------------------------------------------------------\u001b[0m",
            "\u001b[0;31mTypeError\u001b[0m                                 Traceback (most recent call last)",
            "\u001b[0;32m<ipython-input-56-ddf94697be31>\u001b[0m in \u001b[0;36m<module>\u001b[0;34m\u001b[0m\n\u001b[1;32m      5\u001b[0m \u001b[0;31m# CrysX\u001b[0m\u001b[0;34m\u001b[0m\u001b[0;34m\u001b[0m\u001b[0;34m\u001b[0m\u001b[0m\n\u001b[1;32m      6\u001b[0m \u001b[0mprint\u001b[0m\u001b[0;34m(\u001b[0m\u001b[0;34m'CrysX-NN (crysx_nn)'\u001b[0m\u001b[0;34m)\u001b[0m\u001b[0;34m\u001b[0m\u001b[0;34m\u001b[0m\u001b[0m\n\u001b[0;32m----> 7\u001b[0;31m \u001b[0mget_ipython\u001b[0m\u001b[0;34m(\u001b[0m\u001b[0;34m)\u001b[0m\u001b[0;34m.\u001b[0m\u001b[0mrun_line_magic\u001b[0m\u001b[0;34m(\u001b[0m\u001b[0;34m'timeit'\u001b[0m\u001b[0;34m,\u001b[0m \u001b[0;34m'-n 2 Softmax_grad(X_cupy)'\u001b[0m\u001b[0;34m)\u001b[0m\u001b[0;34m\u001b[0m\u001b[0;34m\u001b[0m\u001b[0m\n\u001b[0m\u001b[1;32m      8\u001b[0m \u001b[0;34m\u001b[0m\u001b[0m\n\u001b[1;32m      9\u001b[0m \u001b[0;31m# Tensorflow\u001b[0m\u001b[0;34m\u001b[0m\u001b[0;34m\u001b[0m\u001b[0;34m\u001b[0m\u001b[0m\n",
            "\u001b[0;32m/usr/local/lib/python3.7/dist-packages/IPython/core/interactiveshell.py\u001b[0m in \u001b[0;36mrun_line_magic\u001b[0;34m(self, magic_name, line, _stack_depth)\u001b[0m\n\u001b[1;32m   2312\u001b[0m                 \u001b[0mkwargs\u001b[0m\u001b[0;34m[\u001b[0m\u001b[0;34m'local_ns'\u001b[0m\u001b[0;34m]\u001b[0m \u001b[0;34m=\u001b[0m \u001b[0msys\u001b[0m\u001b[0;34m.\u001b[0m\u001b[0m_getframe\u001b[0m\u001b[0;34m(\u001b[0m\u001b[0mstack_depth\u001b[0m\u001b[0;34m)\u001b[0m\u001b[0;34m.\u001b[0m\u001b[0mf_locals\u001b[0m\u001b[0;34m\u001b[0m\u001b[0;34m\u001b[0m\u001b[0m\n\u001b[1;32m   2313\u001b[0m             \u001b[0;32mwith\u001b[0m \u001b[0mself\u001b[0m\u001b[0;34m.\u001b[0m\u001b[0mbuiltin_trap\u001b[0m\u001b[0;34m:\u001b[0m\u001b[0;34m\u001b[0m\u001b[0;34m\u001b[0m\u001b[0m\n\u001b[0;32m-> 2314\u001b[0;31m                 \u001b[0mresult\u001b[0m \u001b[0;34m=\u001b[0m \u001b[0mfn\u001b[0m\u001b[0;34m(\u001b[0m\u001b[0;34m*\u001b[0m\u001b[0margs\u001b[0m\u001b[0;34m,\u001b[0m \u001b[0;34m**\u001b[0m\u001b[0mkwargs\u001b[0m\u001b[0;34m)\u001b[0m\u001b[0;34m\u001b[0m\u001b[0;34m\u001b[0m\u001b[0m\n\u001b[0m\u001b[1;32m   2315\u001b[0m             \u001b[0;32mreturn\u001b[0m \u001b[0mresult\u001b[0m\u001b[0;34m\u001b[0m\u001b[0;34m\u001b[0m\u001b[0m\n\u001b[1;32m   2316\u001b[0m \u001b[0;34m\u001b[0m\u001b[0m\n",
            "\u001b[0;32m<decorator-gen-53>\u001b[0m in \u001b[0;36mtimeit\u001b[0;34m(self, line, cell, local_ns)\u001b[0m\n",
            "\u001b[0;32m/usr/local/lib/python3.7/dist-packages/IPython/core/magic.py\u001b[0m in \u001b[0;36m<lambda>\u001b[0;34m(f, *a, **k)\u001b[0m\n\u001b[1;32m    185\u001b[0m     \u001b[0;31m# but it's overkill for just that one bit of state.\u001b[0m\u001b[0;34m\u001b[0m\u001b[0;34m\u001b[0m\u001b[0;34m\u001b[0m\u001b[0m\n\u001b[1;32m    186\u001b[0m     \u001b[0;32mdef\u001b[0m \u001b[0mmagic_deco\u001b[0m\u001b[0;34m(\u001b[0m\u001b[0marg\u001b[0m\u001b[0;34m)\u001b[0m\u001b[0;34m:\u001b[0m\u001b[0;34m\u001b[0m\u001b[0;34m\u001b[0m\u001b[0m\n\u001b[0;32m--> 187\u001b[0;31m         \u001b[0mcall\u001b[0m \u001b[0;34m=\u001b[0m \u001b[0;32mlambda\u001b[0m \u001b[0mf\u001b[0m\u001b[0;34m,\u001b[0m \u001b[0;34m*\u001b[0m\u001b[0ma\u001b[0m\u001b[0;34m,\u001b[0m \u001b[0;34m**\u001b[0m\u001b[0mk\u001b[0m\u001b[0;34m:\u001b[0m \u001b[0mf\u001b[0m\u001b[0;34m(\u001b[0m\u001b[0;34m*\u001b[0m\u001b[0ma\u001b[0m\u001b[0;34m,\u001b[0m \u001b[0;34m**\u001b[0m\u001b[0mk\u001b[0m\u001b[0;34m)\u001b[0m\u001b[0;34m\u001b[0m\u001b[0;34m\u001b[0m\u001b[0m\n\u001b[0m\u001b[1;32m    188\u001b[0m \u001b[0;34m\u001b[0m\u001b[0m\n\u001b[1;32m    189\u001b[0m         \u001b[0;32mif\u001b[0m \u001b[0mcallable\u001b[0m\u001b[0;34m(\u001b[0m\u001b[0marg\u001b[0m\u001b[0;34m)\u001b[0m\u001b[0;34m:\u001b[0m\u001b[0;34m\u001b[0m\u001b[0;34m\u001b[0m\u001b[0m\n",
            "\u001b[0;32m/usr/local/lib/python3.7/dist-packages/IPython/core/magics/execution.py\u001b[0m in \u001b[0;36mtimeit\u001b[0;34m(self, line, cell, local_ns)\u001b[0m\n\u001b[1;32m   1160\u001b[0m                     \u001b[0;32mbreak\u001b[0m\u001b[0;34m\u001b[0m\u001b[0;34m\u001b[0m\u001b[0m\n\u001b[1;32m   1161\u001b[0m \u001b[0;34m\u001b[0m\u001b[0m\n\u001b[0;32m-> 1162\u001b[0;31m         \u001b[0mall_runs\u001b[0m \u001b[0;34m=\u001b[0m \u001b[0mtimer\u001b[0m\u001b[0;34m.\u001b[0m\u001b[0mrepeat\u001b[0m\u001b[0;34m(\u001b[0m\u001b[0mrepeat\u001b[0m\u001b[0;34m,\u001b[0m \u001b[0mnumber\u001b[0m\u001b[0;34m)\u001b[0m\u001b[0;34m\u001b[0m\u001b[0;34m\u001b[0m\u001b[0m\n\u001b[0m\u001b[1;32m   1163\u001b[0m         \u001b[0mbest\u001b[0m \u001b[0;34m=\u001b[0m \u001b[0mmin\u001b[0m\u001b[0;34m(\u001b[0m\u001b[0mall_runs\u001b[0m\u001b[0;34m)\u001b[0m \u001b[0;34m/\u001b[0m \u001b[0mnumber\u001b[0m\u001b[0;34m\u001b[0m\u001b[0;34m\u001b[0m\u001b[0m\n\u001b[1;32m   1164\u001b[0m         \u001b[0mworst\u001b[0m \u001b[0;34m=\u001b[0m \u001b[0mmax\u001b[0m\u001b[0;34m(\u001b[0m\u001b[0mall_runs\u001b[0m\u001b[0;34m)\u001b[0m \u001b[0;34m/\u001b[0m \u001b[0mnumber\u001b[0m\u001b[0;34m\u001b[0m\u001b[0;34m\u001b[0m\u001b[0m\n",
            "\u001b[0;32m/usr/lib/python3.7/timeit.py\u001b[0m in \u001b[0;36mrepeat\u001b[0;34m(self, repeat, number)\u001b[0m\n\u001b[1;32m    203\u001b[0m         \u001b[0mr\u001b[0m \u001b[0;34m=\u001b[0m \u001b[0;34m[\u001b[0m\u001b[0;34m]\u001b[0m\u001b[0;34m\u001b[0m\u001b[0;34m\u001b[0m\u001b[0m\n\u001b[1;32m    204\u001b[0m         \u001b[0;32mfor\u001b[0m \u001b[0mi\u001b[0m \u001b[0;32min\u001b[0m \u001b[0mrange\u001b[0m\u001b[0;34m(\u001b[0m\u001b[0mrepeat\u001b[0m\u001b[0;34m)\u001b[0m\u001b[0;34m:\u001b[0m\u001b[0;34m\u001b[0m\u001b[0;34m\u001b[0m\u001b[0m\n\u001b[0;32m--> 205\u001b[0;31m             \u001b[0mt\u001b[0m \u001b[0;34m=\u001b[0m \u001b[0mself\u001b[0m\u001b[0;34m.\u001b[0m\u001b[0mtimeit\u001b[0m\u001b[0;34m(\u001b[0m\u001b[0mnumber\u001b[0m\u001b[0;34m)\u001b[0m\u001b[0;34m\u001b[0m\u001b[0;34m\u001b[0m\u001b[0m\n\u001b[0m\u001b[1;32m    206\u001b[0m             \u001b[0mr\u001b[0m\u001b[0;34m.\u001b[0m\u001b[0mappend\u001b[0m\u001b[0;34m(\u001b[0m\u001b[0mt\u001b[0m\u001b[0;34m)\u001b[0m\u001b[0;34m\u001b[0m\u001b[0;34m\u001b[0m\u001b[0m\n\u001b[1;32m    207\u001b[0m         \u001b[0;32mreturn\u001b[0m \u001b[0mr\u001b[0m\u001b[0;34m\u001b[0m\u001b[0;34m\u001b[0m\u001b[0m\n",
            "\u001b[0;32m/usr/local/lib/python3.7/dist-packages/IPython/core/magics/execution.py\u001b[0m in \u001b[0;36mtimeit\u001b[0;34m(self, number)\u001b[0m\n\u001b[1;32m    167\u001b[0m         \u001b[0mgc\u001b[0m\u001b[0;34m.\u001b[0m\u001b[0mdisable\u001b[0m\u001b[0;34m(\u001b[0m\u001b[0;34m)\u001b[0m\u001b[0;34m\u001b[0m\u001b[0;34m\u001b[0m\u001b[0m\n\u001b[1;32m    168\u001b[0m         \u001b[0;32mtry\u001b[0m\u001b[0;34m:\u001b[0m\u001b[0;34m\u001b[0m\u001b[0;34m\u001b[0m\u001b[0m\n\u001b[0;32m--> 169\u001b[0;31m             \u001b[0mtiming\u001b[0m \u001b[0;34m=\u001b[0m \u001b[0mself\u001b[0m\u001b[0;34m.\u001b[0m\u001b[0minner\u001b[0m\u001b[0;34m(\u001b[0m\u001b[0mit\u001b[0m\u001b[0;34m,\u001b[0m \u001b[0mself\u001b[0m\u001b[0;34m.\u001b[0m\u001b[0mtimer\u001b[0m\u001b[0;34m)\u001b[0m\u001b[0;34m\u001b[0m\u001b[0;34m\u001b[0m\u001b[0m\n\u001b[0m\u001b[1;32m    170\u001b[0m         \u001b[0;32mfinally\u001b[0m\u001b[0;34m:\u001b[0m\u001b[0;34m\u001b[0m\u001b[0;34m\u001b[0m\u001b[0m\n\u001b[1;32m    171\u001b[0m             \u001b[0;32mif\u001b[0m \u001b[0mgcold\u001b[0m\u001b[0;34m:\u001b[0m\u001b[0;34m\u001b[0m\u001b[0;34m\u001b[0m\u001b[0m\n",
            "\u001b[0;32m<magic-timeit>\u001b[0m in \u001b[0;36minner\u001b[0;34m(_it, _timer)\u001b[0m\n",
            "\u001b[0;32m<ipython-input-10-051df68c41ae>\u001b[0m in \u001b[0;36mSoftmax_grad\u001b[0;34m(x)\u001b[0m\n\u001b[1;32m     24\u001b[0m         \u001b[0;32mfor\u001b[0m \u001b[0mj\u001b[0m \u001b[0;32min\u001b[0m \u001b[0mrange\u001b[0m\u001b[0;34m(\u001b[0m\u001b[0ms\u001b[0m\u001b[0;34m.\u001b[0m\u001b[0mshape\u001b[0m\u001b[0;34m[\u001b[0m\u001b[0;36m1\u001b[0m\u001b[0;34m]\u001b[0m\u001b[0;34m)\u001b[0m\u001b[0;34m:\u001b[0m\u001b[0;34m\u001b[0m\u001b[0;34m\u001b[0m\u001b[0m\n\u001b[1;32m     25\u001b[0m             \u001b[0;32mfor\u001b[0m \u001b[0mk\u001b[0m \u001b[0;32min\u001b[0m \u001b[0mrange\u001b[0m\u001b[0;34m(\u001b[0m\u001b[0ms\u001b[0m\u001b[0;34m.\u001b[0m\u001b[0mshape\u001b[0m\u001b[0;34m[\u001b[0m\u001b[0;36m1\u001b[0m\u001b[0;34m]\u001b[0m\u001b[0;34m)\u001b[0m\u001b[0;34m:\u001b[0m\u001b[0;34m\u001b[0m\u001b[0;34m\u001b[0m\u001b[0m\n\u001b[0;32m---> 26\u001b[0;31m                 \u001b[0mtemp1\u001b[0m\u001b[0;34m[\u001b[0m\u001b[0mi\u001b[0m\u001b[0;34m,\u001b[0m\u001b[0mj\u001b[0m\u001b[0;34m,\u001b[0m\u001b[0mk\u001b[0m\u001b[0;34m]\u001b[0m \u001b[0;34m=\u001b[0m \u001b[0ms\u001b[0m\u001b[0;34m[\u001b[0m\u001b[0mi\u001b[0m\u001b[0;34m,\u001b[0m\u001b[0mj\u001b[0m\u001b[0;34m]\u001b[0m\u001b[0;34m*\u001b[0m\u001b[0ma\u001b[0m\u001b[0;34m[\u001b[0m\u001b[0mj\u001b[0m\u001b[0;34m,\u001b[0m\u001b[0mk\u001b[0m\u001b[0;34m]\u001b[0m\u001b[0;34m\u001b[0m\u001b[0;34m\u001b[0m\u001b[0m\n\u001b[0m\u001b[1;32m     27\u001b[0m                 \u001b[0mtemp2\u001b[0m\u001b[0;34m[\u001b[0m\u001b[0mi\u001b[0m\u001b[0;34m,\u001b[0m\u001b[0mj\u001b[0m\u001b[0;34m,\u001b[0m\u001b[0mk\u001b[0m\u001b[0;34m]\u001b[0m \u001b[0;34m=\u001b[0m \u001b[0ms\u001b[0m\u001b[0;34m[\u001b[0m\u001b[0mi\u001b[0m\u001b[0;34m,\u001b[0m\u001b[0mj\u001b[0m\u001b[0;34m]\u001b[0m\u001b[0;34m*\u001b[0m\u001b[0ms\u001b[0m\u001b[0;34m[\u001b[0m\u001b[0mi\u001b[0m\u001b[0;34m,\u001b[0m\u001b[0mk\u001b[0m\u001b[0;34m]\u001b[0m\u001b[0;34m\u001b[0m\u001b[0;34m\u001b[0m\u001b[0m\n\u001b[1;32m     28\u001b[0m     \u001b[0;32mreturn\u001b[0m \u001b[0mtemp1\u001b[0m\u001b[0;34m-\u001b[0m\u001b[0mtemp2\u001b[0m\u001b[0;34m\u001b[0m\u001b[0;34m\u001b[0m\u001b[0m\n",
            "\u001b[0;32mcupy/_core/core.pyx\u001b[0m in \u001b[0;36mcupy._core.core.ndarray.__setitem__\u001b[0;34m()\u001b[0m\n",
            "\u001b[0;32mcupy/_core/_routines_indexing.pyx\u001b[0m in \u001b[0;36mcupy._core._routines_indexing._ndarray_setitem\u001b[0;34m()\u001b[0m\n",
            "\u001b[0;32mcupy/_core/_routines_indexing.pyx\u001b[0m in \u001b[0;36mcupy._core._routines_indexing._scatter_op\u001b[0;34m()\u001b[0m\n",
            "\u001b[0;32mcupy/_core/_kernel.pyx\u001b[0m in \u001b[0;36mcupy._core._kernel.ufunc.__call__\u001b[0;34m()\u001b[0m\n",
            "\u001b[0;32mcupy/_core/_kernel.pyx\u001b[0m in \u001b[0;36mcupy._core._kernel._get_out_args\u001b[0;34m()\u001b[0m\n",
            "\u001b[0;31mTypeError\u001b[0m: output (typecode 'd') could not be coerced to provided output parameter (typecode 'f') according to the casting rule \"unsafe\""
          ]
        }
      ],
      "source": [
        "# Torch\n",
        "print('PyTorch')\n",
        "%timeit -n 2 torch_softmax_grad(X_torch)\n",
        "\n",
        "# CrysX\n",
        "print('CrysX-NN (crysx_nn)')\n",
        "%timeit -n 2 Softmax_grad(X_cupy)\n",
        "\n",
        "# Tensorflow\n",
        "print('Tensorflow')\n",
        "%timeit -n 2 tf_softmax_grad(X_tf)\n"
      ]
    },
    {
      "cell_type": "code",
      "execution_count": null,
      "id": "b7d0a7d3",
      "metadata": {
        "id": "b7d0a7d3"
      },
      "outputs": [],
      "source": []
    },
    {
      "cell_type": "code",
      "execution_count": null,
      "id": "917a158b",
      "metadata": {
        "id": "917a158b"
      },
      "outputs": [],
      "source": []
    }
  ],
  "metadata": {
    "accelerator": "GPU",
    "colab": {
      "collapsed_sections": [],
      "name": "Performance_Activation_Functions_GPU_cupy.ipynb",
      "provenance": []
    },
    "kernelspec": {
      "display_name": "Python 3 (ipykernel)",
      "language": "python",
      "name": "python3"
    },
    "language_info": {
      "codemirror_mode": {
        "name": "ipython",
        "version": 3
      },
      "file_extension": ".py",
      "mimetype": "text/x-python",
      "name": "python",
      "nbconvert_exporter": "python",
      "pygments_lexer": "ipython3",
      "version": "3.7.11"
    }
  },
  "nbformat": 4,
  "nbformat_minor": 5
}
