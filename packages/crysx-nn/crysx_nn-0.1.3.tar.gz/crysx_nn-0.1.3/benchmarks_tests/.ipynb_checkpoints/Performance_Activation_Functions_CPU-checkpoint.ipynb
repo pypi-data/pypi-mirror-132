{
 "cells": [
  {
   "cell_type": "markdown",
   "id": "6552ade6",
   "metadata": {},
   "source": [
    "# Performance as well as Validation benchmarks for activation function implementations in the different frameworks\n",
    "\n",
    "# CPU versions only\n",
    "\n",
    "Windows 11\n",
    "i7 11800H\n",
    "Nvidia 3050 Ti"
   ]
  },
  {
   "cell_type": "code",
   "execution_count": 1,
   "id": "35de3f19",
   "metadata": {},
   "outputs": [],
   "source": [
    "import os\n",
    "os.environ[\"CUDA_VISIBLE_DEVICES\"] = \"-1\" # Ensure that evertyhing is only using CPU¶\n",
    "\n",
    "import numpy as np\n",
    "import matplotlib.pyplot as plt\n",
    "\n",
    "# Import activation functions from crysx_nn\n",
    "from crysx_nn.activation import Sigmoid, Sigmoid_grad\n",
    "from crysx_nn.activation import Softmax, Softmax_grad\n",
    "from crysx_nn.activation import ReLU, ReLU_grad\n",
    "\n",
    "# PyTorch\n",
    "import torch\n",
    "\n",
    "# Tensorflow\n",
    "import tensorflow as tf"
   ]
  },
  {
   "cell_type": "markdown",
   "id": "12e42c64",
   "metadata": {},
   "source": [
    "## Ensure that evertyhing is only using CPU"
   ]
  },
  {
   "cell_type": "code",
   "execution_count": 2,
   "id": "db352385",
   "metadata": {},
   "outputs": [
    {
     "data": {
      "text/plain": [
       "False"
      ]
     },
     "execution_count": 2,
     "metadata": {},
     "output_type": "execute_result"
    }
   ],
   "source": [
    "torch.cuda.is_available()"
   ]
  },
  {
   "cell_type": "code",
   "execution_count": 3,
   "id": "32d1bd6c",
   "metadata": {},
   "outputs": [
    {
     "name": "stdout",
     "output_type": "stream",
     "text": [
      "Num GPUs Available:  0\n"
     ]
    }
   ],
   "source": [
    "print(\"Num GPUs Available: \", len(tf.config.list_physical_devices('GPU')))"
   ]
  },
  {
   "cell_type": "code",
   "execution_count": 4,
   "id": "dc1a6309",
   "metadata": {},
   "outputs": [
    {
     "name": "stdout",
     "output_type": "stream",
     "text": [
      "WARNING:tensorflow:From C:\\Users\\manas\\AppData\\Local\\Temp/ipykernel_22756/337460670.py:1: is_gpu_available (from tensorflow.python.framework.test_util) is deprecated and will be removed in a future version.\n",
      "Instructions for updating:\n",
      "Use `tf.config.list_physical_devices('GPU')` instead.\n"
     ]
    },
    {
     "data": {
      "text/plain": [
       "False"
      ]
     },
     "execution_count": 4,
     "metadata": {},
     "output_type": "execute_result"
    }
   ],
   "source": [
    "tf.test.is_gpu_available()"
   ]
  },
  {
   "cell_type": "code",
   "execution_count": 5,
   "id": "ead08eec",
   "metadata": {},
   "outputs": [
    {
     "name": "stdout",
     "output_type": "stream",
     "text": [
      "True\n"
     ]
    }
   ],
   "source": [
    "print(tf.test.is_built_with_cuda())"
   ]
  },
  {
   "cell_type": "markdown",
   "id": "8b18d617",
   "metadata": {},
   "source": [
    "## Generate an input `2d array` of type `float32` for benchmark (let's say using `torch`)"
   ]
  },
  {
   "cell_type": "code",
   "execution_count": 6,
   "id": "bb32968b",
   "metadata": {},
   "outputs": [
    {
     "name": "stdout",
     "output_type": "stream",
     "text": [
      "tensor([[-4.3421e-01,  3.5710e-01,  3.5402e-01,  ...,  1.1374e+00,\n",
      "         -1.4815e+00, -1.8341e-01],\n",
      "        [ 6.8431e-01,  1.5363e+00, -7.9305e-02,  ...,  1.1017e+00,\n",
      "         -1.6957e+00,  5.7645e-01],\n",
      "        [ 8.2939e-01,  1.0416e+00,  7.5214e-01,  ..., -2.4173e-01,\n",
      "          7.2474e-01,  8.9568e-04],\n",
      "        ...,\n",
      "        [ 2.1155e-01, -8.4358e-01,  1.3671e+00,  ..., -1.4270e+00,\n",
      "          7.2513e-01,  9.8352e-01],\n",
      "        [ 9.4411e-01,  5.0665e-01, -6.4544e-02,  ...,  7.2608e-01,\n",
      "         -2.4950e-01, -1.1307e+00],\n",
      "        [ 1.5924e+00,  4.1661e-01,  3.2947e-01,  ...,  5.9052e-01,\n",
      "         -3.7065e-01, -1.5571e+00]], requires_grad=True)\n"
     ]
    }
   ],
   "source": [
    "X_torch = torch.randn((300,100),requires_grad=True)\n",
    "print(X_torch)"
   ]
  },
  {
   "cell_type": "markdown",
   "id": "ea839198",
   "metadata": {},
   "source": [
    "## Convert it to numpy for `crysx_nn`"
   ]
  },
  {
   "cell_type": "code",
   "execution_count": 7,
   "id": "5dfe4aef",
   "metadata": {},
   "outputs": [
    {
     "name": "stdout",
     "output_type": "stream",
     "text": [
      "float32\n"
     ]
    }
   ],
   "source": [
    "X_crysx_nn = X_torch.cpu().detach().numpy()\n",
    "print(X_crysx_nn.dtype)"
   ]
  },
  {
   "cell_type": "markdown",
   "id": "989ccc01",
   "metadata": {},
   "source": [
    "## Now finally convert it to a tensorflow tensor"
   ]
  },
  {
   "cell_type": "code",
   "execution_count": 8,
   "id": "468a51b4",
   "metadata": {},
   "outputs": [],
   "source": [
    "X_tf = tf.convert_to_tensor(X_crysx_nn, dtype=tf.float32)"
   ]
  },
  {
   "cell_type": "markdown",
   "id": "7116bed6",
   "metadata": {},
   "source": [
    "## Benchmark ReLU"
   ]
  },
  {
   "cell_type": "markdown",
   "id": "b2d54c40",
   "metadata": {},
   "source": [
    "### Confirm that all frameworks give the same results"
   ]
  },
  {
   "cell_type": "code",
   "execution_count": 9,
   "id": "470bbd47",
   "metadata": {},
   "outputs": [
    {
     "name": "stdout",
     "output_type": "stream",
     "text": [
      "Max abs diff b/w torch and tf 0.0\n",
      "Max abs diff b/w torch and CrysX 0.0\n"
     ]
    }
   ],
   "source": [
    "# Torch\n",
    "relu_torch_func = torch.nn.ReLU() # Get an instance of ReLU class for Pytorch\n",
    "relu_torch_value = relu_torch_func(X_torch)\n",
    "\n",
    "# CrysX\n",
    "relu_crysx_nn_value = ReLU(X_crysx_nn)\n",
    "\n",
    "# Tensorflow\n",
    "relu_tf_value = tf.nn.relu(X_tf)#tf.keras.activations.relu(X_tf)\n",
    "\n",
    "#Diff b/w tf and torch\n",
    "print('Max abs diff b/w torch and tf', abs(relu_torch_value.cpu().detach().numpy() - relu_tf_value.numpy()).max())\n",
    "\n",
    "#Diff b/w crysx_nn and torch\n",
    "print('Max abs diff b/w torch and CrysX', abs(relu_torch_value.cpu().detach().numpy() - relu_crysx_nn_value).max())"
   ]
  },
  {
   "cell_type": "markdown",
   "id": "099cf5bc",
   "metadata": {},
   "source": [
    "### Compare performance"
   ]
  },
  {
   "cell_type": "code",
   "execution_count": 10,
   "id": "66bc3c9a",
   "metadata": {},
   "outputs": [
    {
     "name": "stdout",
     "output_type": "stream",
     "text": [
      "PyTorch\n",
      "210 µs ± 7.65 µs per loop (mean ± std. dev. of 7 runs, 1000 loops each)\n",
      "CrysX-NN (crysx_nn)\n",
      "6.64 µs ± 142 ns per loop (mean ± std. dev. of 7 runs, 1000 loops each)\n",
      "Tensorflow\n",
      "7.52 µs ± 267 ns per loop (mean ± std. dev. of 7 runs, 1000 loops each)\n"
     ]
    }
   ],
   "source": [
    "# Torch\n",
    "print('PyTorch')\n",
    "relu_torch_func = torch.nn.ReLU() # Get an instance of ReLU class for Pytorch\n",
    "%timeit -n 1000 relu_torch_func(X_torch)\n",
    "\n",
    "# CrysX\n",
    "print('CrysX-NN (crysx_nn)')\n",
    "%timeit -n 1000 ReLU(X_crysx_nn)\n",
    "\n",
    "# Tensorflow\n",
    "print('Tensorflow')\n",
    "%timeit -n 1000 tf.keras.activations.relu(X_tf)\n"
   ]
  },
  {
   "cell_type": "markdown",
   "id": "7e154ec2",
   "metadata": {},
   "source": [
    "### Compare performance with arrays of different sizes"
   ]
  },
  {
   "cell_type": "code",
   "execution_count": 11,
   "id": "bd3a77a8",
   "metadata": {},
   "outputs": [
    {
     "name": "stdout",
     "output_type": "stream",
     "text": [
      "6.16 µs ± 416 ns per loop (mean ± std. dev. of 7 runs, 500 loops each)\n",
      "939 ns ± 46.4 ns per loop (mean ± std. dev. of 7 runs, 500 loops each)\n",
      "3.83 µs ± 625 ns per loop (mean ± std. dev. of 7 runs, 500 loops each)\n",
      "318 µs ± 7.09 µs per loop (mean ± std. dev. of 7 runs, 500 loops each)\n",
      "82.7 µs ± 3.3 µs per loop (mean ± std. dev. of 7 runs, 500 loops each)\n",
      "43.3 µs ± 2.73 µs per loop (mean ± std. dev. of 7 runs, 500 loops each)\n",
      "1.65 ms ± 66.4 µs per loop (mean ± std. dev. of 7 runs, 500 loops each)\n",
      "2.23 ms ± 428 µs per loop (mean ± std. dev. of 7 runs, 500 loops each)\n",
      "761 µs ± 20.2 µs per loop (mean ± std. dev. of 7 runs, 500 loops each)\n",
      "3.42 ms ± 38.1 µs per loop (mean ± std. dev. of 7 runs, 500 loops each)\n",
      "3.98 ms ± 35.8 µs per loop (mean ± std. dev. of 7 runs, 500 loops each)\n",
      "1.28 ms ± 22.6 µs per loop (mean ± std. dev. of 7 runs, 500 loops each)\n",
      "6.3 ms ± 315 µs per loop (mean ± std. dev. of 7 runs, 500 loops each)\n",
      "7.55 ms ± 527 µs per loop (mean ± std. dev. of 7 runs, 500 loops each)\n",
      "2.16 ms ± 25.6 µs per loop (mean ± std. dev. of 7 runs, 500 loops each)\n",
      "10.5 ms ± 549 µs per loop (mean ± std. dev. of 7 runs, 500 loops each)\n",
      "11 ms ± 61.9 µs per loop (mean ± std. dev. of 7 runs, 500 loops each)\n",
      "3.63 ms ± 54.5 µs per loop (mean ± std. dev. of 7 runs, 500 loops each)\n"
     ]
    }
   ],
   "source": [
    "time_torch = []\n",
    "time_crysx_nn = []\n",
    "time_tf = []\n",
    "sizes = []\n",
    "\n",
    "for n_size in range(10,3000,500):\n",
    "    sizes.append(n_size*n_size)\n",
    "    # Torch input\n",
    "    X_torch = torch.randn((n_size,n_size),requires_grad=True)\n",
    "    # CrysX-NN input\n",
    "    X_crysx_nn = X_torch.cpu().detach().numpy()\n",
    "    # Tensorflow input\n",
    "    X_tf = tf.convert_to_tensor(X_crysx_nn, dtype=tf.float32)\n",
    "    \n",
    "    ##--Timings--\n",
    "    # Torch\n",
    "    relu_torch_func = torch.nn.ReLU() # Get an instance of ReLU class for Pytorch\n",
    "    time = %timeit -n 500 -o relu_torch_func(X_torch)\n",
    "    # For time of each run\n",
    "    time_torch.append(np.mean(time.timings)) \n",
    "    # For total time\n",
    "#     time_torch.append(np.mean(time.all_runs)) \n",
    "    # CrysX\n",
    "    time = %timeit -n 500 -o ReLU(X_crysx_nn)\n",
    "    # For time of each run\n",
    "    time_crysx_nn.append(np.mean(time.timings))\n",
    "    # Tensorflow\n",
    "    with tf.device(\"cpu:0\"):\n",
    "        time = %timeit -n 500 -o tf.nn.relu(X_tf)\n",
    "    # For time of each run\n",
    "    time_tf.append(np.mean(time.timings))"
   ]
  },
  {
   "cell_type": "markdown",
   "id": "976002e4",
   "metadata": {},
   "source": [
    "### Plot the results"
   ]
  },
  {
   "cell_type": "code",
   "execution_count": 12,
   "id": "e2fd1e34",
   "metadata": {
    "scrolled": true
   },
   "outputs": [
    {
     "data": {
      "image/png": "[encoded data removed]",
      "text/plain": [
       "<Figure size 432x288 with 1 Axes>"
      ]
     },
     "metadata": {
      "needs_background": "light"
     },
     "output_type": "display_data"
    }
   ],
   "source": [
    "\n",
    "plt.plot(sizes,time_torch, label='PyTorch')\n",
    "plt.plot(sizes,time_crysx_nn, label='CrysX-NN')\n",
    "plt.plot(sizes,time_tf, label='Tensorflow')\n",
    "plt.legend()\n",
    "plt.xlabel('Array sizes')\n",
    "plt.ylabel('Timings')\n",
    "plt.title('Benchmark ReLU')\n",
    "plt.show()"
   ]
  },
  {
   "cell_type": "markdown",
   "id": "7045b443",
   "metadata": {},
   "source": [
    "## Benchmark ReLU derivative (gradient) wrt input batch\n",
    "\n",
    "This is slightly tricky. \n",
    "PyTorch and Tensorflow don't explicitly come with a function that gives the gradient. \n",
    "Rather they use atuomatic differentiation.\n",
    "\n",
    "This is why, PyTorch would require the value of the output of the activation function as well, rather than just an input function. \n",
    "\n",
    "I will try to do the timings in a way that we can exclude this time from results.\n",
    "\n",
    "However, it is still not really evident if the timings can be taken as a good representative of the performance of PyTorch and Tensorflow frameworks.\n",
    "\n",
    "So take the timing results with a grain of salt."
   ]
  },
  {
   "cell_type": "code",
   "execution_count": 13,
   "id": "f5282ecd",
   "metadata": {},
   "outputs": [],
   "source": [
    "def tf_relu_grad(x):\n",
    "    with tf.GradientTape() as g:\n",
    "        g.watch(x)\n",
    "        relu_values = tf.nn.relu(x)\n",
    "    grad = g.gradient(relu_values, x)\n",
    "    return grad#.numpy()"
   ]
  },
  {
   "cell_type": "code",
   "execution_count": 14,
   "id": "ed465fd1",
   "metadata": {},
   "outputs": [],
   "source": [
    "def torch_relu_grad(relu_values, x):\n",
    "    device='cpu'\n",
    "    gradient = torch.autograd.grad(outputs=relu_values, inputs=x,\n",
    "                          grad_outputs=torch.ones(relu_values.size()).to(device),\n",
    "                          create_graph=True, retain_graph=True, only_inputs=True)[0]\n",
    "    return gradient"
   ]
  },
  {
   "cell_type": "markdown",
   "id": "fbe0b62a",
   "metadata": {},
   "source": [
    "### Confirm that all frameworks give the same results"
   ]
  },
  {
   "cell_type": "code",
   "execution_count": 15,
   "id": "915234f9",
   "metadata": {},
   "outputs": [
    {
     "name": "stdout",
     "output_type": "stream",
     "text": [
      "Max abs diff b/w torch and tf 0.0\n",
      "Max abs diff b/w torch and CrysX 0.0\n"
     ]
    }
   ],
   "source": [
    "# Torch input\n",
    "X_torch = torch.randn((1000,1000),requires_grad=True)\n",
    "# CrysX-NN input\n",
    "X_crysx_nn = X_torch.cpu().detach().numpy()\n",
    "# Tensorflow input\n",
    "X_tf = tf.convert_to_tensor(X_crysx_nn, dtype=tf.float32)\n",
    "\n",
    "\n",
    "# Torch\n",
    "relu_torch_func = torch.nn.ReLU() # Get an instance of ReLU class for Pytorch\n",
    "relu_torch_value = relu_torch_func(X_torch)\n",
    "gradientsTorch = torch_relu_grad(relu_torch_value, X_torch)\n",
    "# print(gradientsTorch)\n",
    "\n",
    "# CrysX\n",
    "# softmax_crysx_nn_value = Softmax(X_crysx_nn)\n",
    "gradientsCrysx = ReLU_grad(X_crysx_nn)\n",
    "# print(gradientsCrysx)\n",
    "\n",
    "# Tensorflow\n",
    "gradientsTF = tf_relu_grad(X_tf) # requires a computation of sigmoid values again\n",
    "with tf.GradientTape() as g:\n",
    "    g.watch(X_tf)\n",
    "    relu_tf_value = tf.nn.relu(X_tf)\n",
    "gradientsTF = g.gradient(relu_tf_value, X_tf)\n",
    "del g\n",
    "# print(gradientsTF)\n",
    "\n",
    "#Diff b/w tf and torch\n",
    "print('Max abs diff b/w torch and tf', abs(gradientsTorch.cpu().detach().numpy() - gradientsTF.numpy()).max())\n",
    "\n",
    "#Diff b/w crysx_nn and torch\n",
    "print('Max abs diff b/w torch and CrysX', abs(gradientsTorch.cpu().detach().numpy() - gradientsCrysx).max())\n"
   ]
  },
  {
   "cell_type": "markdown",
   "id": "23e53f07",
   "metadata": {},
   "source": [
    "### Compare performance\n",
    "\n",
    "Since, CrysX-NN also requires the calculation of softmax function, therefore we should also include this calculation time for PyTorch and Tensorflow.\n",
    "\n",
    "I would like to stress here again, that I am not really sure if the autodifferentiated implementations of softmax gradients that I have used, are a good representative of the real-world performance or not. \n",
    "\n",
    "Especially, the torch jacobian would be extreeeemely slowww due to the for loops. But tensorflow implementation isn't that fast either.\n",
    "\n",
    "So we would skip the plots of timings vs array_size for benchmarks."
   ]
  },
  {
   "cell_type": "code",
   "execution_count": 16,
   "id": "adfb64db",
   "metadata": {},
   "outputs": [
    {
     "name": "stdout",
     "output_type": "stream",
     "text": [
      "PyTorch gradient only\n",
      "2.35 ms ± 64.9 µs per loop (mean ± std. dev. of 7 runs, 100 loops each)\n",
      "CrysX-NN (crysx_nn) gradient only\n",
      "1.06 ms ± 62.8 µs per loop (mean ± std. dev. of 7 runs, 100 loops each)\n",
      "Tensorflow gradient+value\n",
      "2.45 ms ± 66.2 µs per loop (mean ± std. dev. of 7 runs, 100 loops each)\n",
      "Tensorflow value only\n",
      "789 µs ± 12.2 µs per loop (mean ± std. dev. of 7 runs, 100 loops each)\n"
     ]
    }
   ],
   "source": [
    "# Torch\n",
    "print('PyTorch gradient only')\n",
    "relu_torch_func = torch.nn.ReLU() # Get an instance of ReLU class for Pytorch\n",
    "relu_torch_value = relu_torch_func(X_torch)\n",
    "%timeit -n 100 torch_relu_grad(relu_torch_value, X_torch)\n",
    "\n",
    "# CrysX\n",
    "print('CrysX-NN (crysx_nn) gradient only')\n",
    "%timeit -n 100 ReLU_grad(X_crysx_nn)\n",
    "\n",
    "# Tensorflow\n",
    "print('Tensorflow gradient+value')\n",
    "with tf.GradientTape(persistent=False) as g:\n",
    "    g.watch(X_tf)\n",
    "    relu_tf_value = tf.nn.relu(X_tf)\n",
    "# %timeit -n 100 g.gradient(relu_tf_value, X_tf) # Doesn't work due to multiple runs of timeit and tape not supporting it\n",
    "%timeit -n 100  tf_relu_grad(X_tf)\n",
    "\n",
    "print('Tensorflow value only')\n",
    "%timeit -n 100 tf.keras.activations.relu(X_tf)\n"
   ]
  },
  {
   "cell_type": "markdown",
   "id": "56cafce9",
   "metadata": {},
   "source": [
    "In the above, we see that PyTorch is again quite fast a million element array. \n",
    "CrysX-NN gives decent performance.\n",
    "\n",
    "Tensorflow is a bit tricky. Due to `%timeit` requiring multiple runs, and tape being only restricted to a single run, I had to use the other implementation of gradient using tensorflow, where the `values+gradients` are computed.\n",
    "\n",
    "Therefore, to get a good idea of the tensorflow gradient performance I have also calculated the time taken by tensorflow for just evaluating the functions."
   ]
  },
  {
   "cell_type": "markdown",
   "id": "918ee5a5",
   "metadata": {},
   "source": [
    "## Benchmark Sigmoid"
   ]
  },
  {
   "cell_type": "markdown",
   "id": "16dd0075",
   "metadata": {},
   "source": [
    "### Confirm that all frameworks give the same results"
   ]
  },
  {
   "cell_type": "code",
   "execution_count": 17,
   "id": "9b757401",
   "metadata": {},
   "outputs": [
    {
     "name": "stdout",
     "output_type": "stream",
     "text": [
      "Max abs diff b/w torch and tf 1.7881393e-07\n",
      "Max abs diff b/w torch and CrysX 1.1920929e-07\n"
     ]
    }
   ],
   "source": [
    "# Torch input\n",
    "X_torch = torch.randn((1000,1000),requires_grad=True)\n",
    "# CrysX-NN input\n",
    "X_crysx_nn = X_torch.cpu().detach().numpy()\n",
    "# Tensorflow input\n",
    "X_tf = tf.convert_to_tensor(X_crysx_nn, dtype=tf.float32)\n",
    "\n",
    "# Torch\n",
    "sigmoid_torch_func = torch.nn.Sigmoid() # Get an instance of Sigmoid class for Pytorch\n",
    "sigmoid_torch_value = sigmoid_torch_func(X_torch)\n",
    "\n",
    "# CrysX\n",
    "sigmoid_crysx_nn_value = Sigmoid(X_crysx_nn)\n",
    "\n",
    "# Tensorflow\n",
    "sigmoid_tf_value = tf.keras.activations.sigmoid(X_tf)\n",
    "\n",
    "#Diff b/w tf and torch\n",
    "print('Max abs diff b/w torch and tf', abs(sigmoid_torch_value.cpu().detach().numpy() - sigmoid_tf_value.numpy()).max())\n",
    "\n",
    "#Diff b/w crysx_nn and torch\n",
    "print('Max abs diff b/w torch and CrysX', abs(sigmoid_torch_value.cpu().detach().numpy() - sigmoid_crysx_nn_value).max())\n"
   ]
  },
  {
   "cell_type": "markdown",
   "id": "721632a0",
   "metadata": {},
   "source": [
    "### Compare performance"
   ]
  },
  {
   "cell_type": "code",
   "execution_count": 18,
   "id": "cf835656",
   "metadata": {},
   "outputs": [
    {
     "name": "stdout",
     "output_type": "stream",
     "text": [
      "PyTorch\n",
      "1.44 ms ± 36.9 µs per loop (mean ± std. dev. of 7 runs, 100 loops each)\n",
      "CrysX-NN (crysx_nn)\n",
      "1.26 ms ± 103 µs per loop (mean ± std. dev. of 7 runs, 100 loops each)\n",
      "Tensorflow\n",
      "782 µs ± 39.8 µs per loop (mean ± std. dev. of 7 runs, 100 loops each)\n"
     ]
    }
   ],
   "source": [
    "# Torch\n",
    "print('PyTorch')\n",
    "sigmoid_torch_func = torch.nn.Sigmoid() # Get an instance of Sigmoid class for Pytorch\n",
    "%timeit -n 100 sigmoid_torch_func(X_torch)\n",
    "\n",
    "# CrysX\n",
    "print('CrysX-NN (crysx_nn)')\n",
    "%timeit -n 100 Sigmoid(X_crysx_nn)\n",
    "\n",
    "# Tensorflow\n",
    "print('Tensorflow')\n",
    "%timeit -n 100 tf.keras.activations.sigmoid(X_tf)\n"
   ]
  },
  {
   "cell_type": "markdown",
   "id": "a5796281",
   "metadata": {},
   "source": [
    "### Compare performance with arrays of different sizes"
   ]
  },
  {
   "cell_type": "code",
   "execution_count": 19,
   "id": "d7d8244d",
   "metadata": {},
   "outputs": [
    {
     "name": "stdout",
     "output_type": "stream",
     "text": [
      "7.07 µs ± 1.29 µs per loop (mean ± std. dev. of 7 runs, 100 loops each)\n",
      "1.01 µs ± 55.9 ns per loop (mean ± std. dev. of 7 runs, 100 loops each)\n",
      "5.98 µs ± 1.16 µs per loop (mean ± std. dev. of 7 runs, 100 loops each)\n",
      "297 µs ± 8.68 µs per loop (mean ± std. dev. of 7 runs, 100 loops each)\n",
      "206 µs ± 26.1 µs per loop (mean ± std. dev. of 7 runs, 100 loops each)\n",
      "67.7 µs ± 3.49 µs per loop (mean ± std. dev. of 7 runs, 100 loops each)\n",
      "1.45 ms ± 15.4 µs per loop (mean ± std. dev. of 7 runs, 100 loops each)\n",
      "1.33 ms ± 111 µs per loop (mean ± std. dev. of 7 runs, 100 loops each)\n",
      "792 µs ± 27.9 µs per loop (mean ± std. dev. of 7 runs, 100 loops each)\n",
      "3.18 ms ± 52.6 µs per loop (mean ± std. dev. of 7 runs, 100 loops each)\n",
      "2.85 ms ± 166 µs per loop (mean ± std. dev. of 7 runs, 100 loops each)\n",
      "1.36 ms ± 67.3 µs per loop (mean ± std. dev. of 7 runs, 100 loops each)\n",
      "5.72 ms ± 234 µs per loop (mean ± std. dev. of 7 runs, 100 loops each)\n",
      "4.97 ms ± 217 µs per loop (mean ± std. dev. of 7 runs, 100 loops each)\n",
      "2.25 ms ± 86.5 µs per loop (mean ± std. dev. of 7 runs, 100 loops each)\n",
      "9.25 ms ± 498 µs per loop (mean ± std. dev. of 7 runs, 100 loops each)\n",
      "7.72 ms ± 274 µs per loop (mean ± std. dev. of 7 runs, 100 loops each)\n",
      "3.71 ms ± 54.2 µs per loop (mean ± std. dev. of 7 runs, 100 loops each)\n"
     ]
    }
   ],
   "source": [
    "time_torch = []\n",
    "time_crysx_nn = []\n",
    "time_tf = []\n",
    "sizes = []\n",
    "\n",
    "for n_size in range(10,3000,500):\n",
    "    sizes.append(n_size*n_size)\n",
    "    # Torch input\n",
    "    X_torch = torch.randn((n_size,n_size),requires_grad=True)\n",
    "    # CrysX-NN input\n",
    "    X_crysx_nn = X_torch.cpu().detach().numpy()\n",
    "    # Tensorflow input\n",
    "    X_tf = tf.convert_to_tensor(X_crysx_nn, dtype=tf.float32)\n",
    "    \n",
    "    ##--Timings--\n",
    "    # Torch\n",
    "    sigmoid_torch_func = torch.nn.Sigmoid() # Get an instance of Sigmoid class for Pytorch\n",
    "    time = %timeit -n 100 -o sigmoid_torch_func(X_torch)\n",
    "    # For time of each run\n",
    "    time_torch.append(np.mean(time.timings)) \n",
    "    # For total time\n",
    "#     time_torch.append(np.mean(time.all_runs)) \n",
    "    # CrysX\n",
    "    time = %timeit -n 100 -o Sigmoid(X_crysx_nn)\n",
    "    # For time of each run\n",
    "    time_crysx_nn.append(np.mean(time.timings))\n",
    "    # Tensorflow\n",
    "    time = %timeit -n 100 -o tf.keras.activations.sigmoid(X_tf)\n",
    "    # For time of each run\n",
    "    time_tf.append(np.mean(time.timings))\n",
    "    "
   ]
  },
  {
   "cell_type": "markdown",
   "id": "d193ae36",
   "metadata": {},
   "source": [
    "### Plot the results"
   ]
  },
  {
   "cell_type": "code",
   "execution_count": 20,
   "id": "4b3de13a",
   "metadata": {},
   "outputs": [
    {
     "data": {
      "image/png": "[encoded data removed]",
      "text/plain": [
       "<Figure size 432x288 with 1 Axes>"
      ]
     },
     "metadata": {
      "needs_background": "light"
     },
     "output_type": "display_data"
    }
   ],
   "source": [
    "\n",
    "plt.plot(sizes,time_torch, label='PyTorch')\n",
    "plt.plot(sizes,time_crysx_nn, label='CrysX-NN')\n",
    "plt.plot(sizes,time_tf, label='Tensorflow')\n",
    "plt.legend()\n",
    "plt.xlabel('Array sizes')\n",
    "plt.ylabel('Timings')\n",
    "plt.title('Benchmark Sigmoid')\n",
    "plt.show()\n"
   ]
  },
  {
   "cell_type": "markdown",
   "id": "d365982e",
   "metadata": {},
   "source": [
    "## Benchmark Sigmoid derivative (gradient) wrt input batch\n",
    "\n",
    "This is slightly tricky. \n",
    "PyTorch and Tensorflow don't explicitly come with a function that gives the gradient. \n",
    "Rather they use atuomatic differentiation.\n",
    "\n",
    "This is why, PyTorch would require the value of the output of the activation function as well, rather than just an input function. \n",
    "\n",
    "I will try to do the timings in a way that we can exclude this time from results.\n",
    "\n",
    "However, it is still not really evident if the timings can be taken as a good representative of the performance of PyTorch and Tensorflow frameworks.\n",
    "\n",
    "So take the timing results with a grain of salt."
   ]
  },
  {
   "cell_type": "code",
   "execution_count": 21,
   "id": "bc6aa900",
   "metadata": {},
   "outputs": [],
   "source": [
    "def tf_sigmoid_grad(x):\n",
    "    with tf.GradientTape() as g:\n",
    "        g.watch(x)\n",
    "        sigmoid_values = tf.nn.sigmoid(x)\n",
    "    grad = g.gradient(sigmoid_values, x)\n",
    "    return grad#.numpy()"
   ]
  },
  {
   "cell_type": "code",
   "execution_count": 22,
   "id": "8a893e2e",
   "metadata": {},
   "outputs": [],
   "source": [
    "def torch_sigmoid_grad(sigmoid_values, x):\n",
    "    device='cpu'\n",
    "    gradient = torch.autograd.grad(outputs=sigmoid_values, inputs=x,\n",
    "                          grad_outputs=torch.ones(sigmoid_values.size()).to(device),\n",
    "                          create_graph=True, retain_graph=True, only_inputs=True)[0]\n",
    "    return gradient"
   ]
  },
  {
   "cell_type": "markdown",
   "id": "aa6678b2",
   "metadata": {},
   "source": [
    "### Confirm that all frameworks give the same results"
   ]
  },
  {
   "cell_type": "code",
   "execution_count": 23,
   "id": "47d1c8fa",
   "metadata": {},
   "outputs": [
    {
     "name": "stdout",
     "output_type": "stream",
     "text": [
      "Max abs diff b/w torch and tf 1.7508864e-07\n",
      "Max abs diff b/w torch and CrysX 8.195639e-08\n"
     ]
    }
   ],
   "source": [
    "# Torch input\n",
    "X_torch = torch.randn((1000,1000),requires_grad=True)\n",
    "# CrysX-NN input\n",
    "X_crysx_nn = X_torch.cpu().detach().numpy()\n",
    "# Tensorflow input\n",
    "X_tf = tf.convert_to_tensor(X_crysx_nn, dtype=tf.float32)\n",
    "\n",
    "\n",
    "# Torch\n",
    "sigmoid_torch_func = torch.nn.Sigmoid() # Get an instance of Sigmoid class for Pytorch\n",
    "sigmoid_torch_value = sigmoid_torch_func(X_torch)\n",
    "gradientsTorch = torch_sigmoid_grad(sigmoid_torch_value, X_torch)\n",
    "# print(gradientsTorch)\n",
    "\n",
    "# CrysX\n",
    "# softmax_crysx_nn_value = Softmax(X_crysx_nn)\n",
    "gradientsCrysx = Sigmoid_grad(X_crysx_nn)\n",
    "# print(gradientsCrysx)\n",
    "\n",
    "# Tensorflow\n",
    "gradientsTF = tf_sigmoid_grad(X_tf) # requires a computation of sigmoid values again\n",
    "with tf.GradientTape() as g:\n",
    "    g.watch(X_tf)\n",
    "    sigmoid_tf_value = tf.nn.sigmoid(X_tf)\n",
    "gradientsTF = g.gradient(sigmoid_tf_value, X_tf)\n",
    "del g\n",
    "# print(gradientsTF)\n",
    "\n",
    "#Diff b/w tf and torch\n",
    "print('Max abs diff b/w torch and tf', abs(gradientsTorch.cpu().detach().numpy() - gradientsTF.numpy()).max())\n",
    "\n",
    "#Diff b/w crysx_nn and torch\n",
    "print('Max abs diff b/w torch and CrysX', abs(gradientsTorch.cpu().detach().numpy() - gradientsCrysx).max())\n"
   ]
  },
  {
   "cell_type": "markdown",
   "id": "db0c5e50",
   "metadata": {},
   "source": [
    "### Compare performance\n",
    "\n",
    "Since, CrysX-NN also requires the calculation of softmax function, therefore we should also include this calculation time for PyTorch and Tensorflow.\n",
    "\n",
    "I would like to stress here again, that I am not really sure if the autodifferentiated implementations of softmax gradients that I have used, are a good representative of the real-world performance or not. \n",
    "\n",
    "Especially, the torch jacobian would be extreeeemely slowww due to the for loops. But tensorflow implementation isn't that fast either.\n",
    "\n",
    "So we would skip the plots of timings vs array_size for benchmarks."
   ]
  },
  {
   "cell_type": "code",
   "execution_count": 24,
   "id": "97e0e0c4",
   "metadata": {},
   "outputs": [
    {
     "name": "stdout",
     "output_type": "stream",
     "text": [
      "PyTorch gradient only\n",
      "1.39 ms ± 39 µs per loop (mean ± std. dev. of 7 runs, 100 loops each)\n",
      "CrysX-NN (crysx_nn) gradient only\n",
      "1.35 ms ± 166 µs per loop (mean ± std. dev. of 7 runs, 100 loops each)\n",
      "Tensorflow gradient+value\n",
      "2.49 ms ± 95 µs per loop (mean ± std. dev. of 7 runs, 100 loops each)\n",
      "Tensorflow value only\n",
      "791 µs ± 14.3 µs per loop (mean ± std. dev. of 7 runs, 100 loops each)\n"
     ]
    }
   ],
   "source": [
    "# Torch\n",
    "print('PyTorch gradient only')\n",
    "sigmoid_torch_func = torch.nn.Sigmoid() # Get an instance of Sigmoid class for Pytorch\n",
    "sigmoid_torch_value = sigmoid_torch_func(X_torch)\n",
    "%timeit -n 100 torch_sigmoid_grad(sigmoid_torch_value, X_torch)\n",
    "\n",
    "# CrysX\n",
    "print('CrysX-NN (crysx_nn) gradient only')\n",
    "%timeit -n 100 Sigmoid_grad(X_crysx_nn)\n",
    "\n",
    "# Tensorflow\n",
    "print('Tensorflow gradient+value')\n",
    "with tf.GradientTape(persistent=False) as g:\n",
    "    g.watch(X_tf)\n",
    "    sigmoid_tf_value = tf.nn.sigmoid(X_tf)\n",
    "# %timeit -n 100 g.gradient(sigmoid_tf_value, X_tf) # Doesn't work due to multiple runs of timeit and tape not supporting it\n",
    "%timeit -n 100  tf_sigmoid_grad(X_tf)\n",
    "print('Tensorflow value only')\n",
    "%timeit -n 100 tf.keras.activations.sigmoid(X_tf)\n",
    "\n"
   ]
  },
  {
   "cell_type": "markdown",
   "id": "f22b3e63",
   "metadata": {},
   "source": [
    "In the above, we see that PyTorch is again quite fast for a million element array. \n",
    "CrysX-NN gives decent performance.\n",
    "\n",
    "Tensorflow is a bit tricky. Due to `%timeit` requiring multiple runs, and tape being only restricted to a single run, I had to use the other implementation of gradient using tensorflow, where the `values+gradients` are computed.\n",
    "\n",
    "Therefore, to get a good idea of the tensorflow gradient performance I have also calculated the time taken by tensorflow for just evaluating the functions."
   ]
  },
  {
   "cell_type": "markdown",
   "id": "5851d1a9",
   "metadata": {},
   "source": [
    "## Benchmark Softmax"
   ]
  },
  {
   "cell_type": "markdown",
   "id": "550907c0",
   "metadata": {},
   "source": [
    "### Confirm that all frameworks give the same results"
   ]
  },
  {
   "cell_type": "code",
   "execution_count": 25,
   "id": "492611ca",
   "metadata": {},
   "outputs": [
    {
     "name": "stderr",
     "output_type": "stream",
     "text": [
      "C:\\Users\\manas\\anaconda3\\envs\\crysx_nn\\lib\\site-packages\\ipykernel_launcher.py:11: UserWarning: Implicit dimension choice for softmax has been deprecated. Change the call to include dim=X as an argument.\n",
      "  # This is added back by InteractiveShellApp.init_path()\n"
     ]
    },
    {
     "name": "stdout",
     "output_type": "stream",
     "text": [
      "Max abs diff b/w torch and tf 6.7055225e-08\n",
      "Max abs diff b/w torch and CrysX 5.2154064e-08\n"
     ]
    }
   ],
   "source": [
    "# Torch input\n",
    "X_torch = torch.randn((1000,1000),requires_grad=True)\n",
    "# CrysX-NN input\n",
    "X_crysx_nn = X_torch.cpu().detach().numpy()\n",
    "# Tensorflow input\n",
    "X_tf = tf.convert_to_tensor(X_crysx_nn, dtype=tf.float32)\n",
    "\n",
    "\n",
    "# Torch\n",
    "softmax_torch_func = torch.nn.Softmax() # Get an instance of Softmax class for Pytorch\n",
    "softmax_torch_value = softmax_torch_func(X_torch)\n",
    "\n",
    "# CrysX\n",
    "softmax_crysx_nn_value = Softmax(X_crysx_nn)\n",
    "\n",
    "# Tensorflow\n",
    "softmax_tf_value = tf.keras.activations.softmax(X_tf)\n",
    "\n",
    "#Diff b/w tf and torch\n",
    "print('Max abs diff b/w torch and tf', abs(softmax_torch_value.cpu().detach().numpy() - softmax_tf_value.numpy()).max())\n",
    "\n",
    "#Diff b/w crysx_nn and torch\n",
    "print('Max abs diff b/w torch and CrysX', abs(softmax_torch_value.cpu().detach().numpy() - softmax_crysx_nn_value).max())\n"
   ]
  },
  {
   "cell_type": "markdown",
   "id": "4c2e7e63",
   "metadata": {},
   "source": [
    "### Compare performance"
   ]
  },
  {
   "cell_type": "code",
   "execution_count": 26,
   "id": "1c4d15a3",
   "metadata": {},
   "outputs": [
    {
     "name": "stdout",
     "output_type": "stream",
     "text": [
      "PyTorch\n"
     ]
    },
    {
     "name": "stderr",
     "output_type": "stream",
     "text": [
      "C:\\Users\\manas\\anaconda3\\envs\\crysx_nn\\lib\\site-packages\\ipykernel_launcher.py:1: UserWarning: Implicit dimension choice for softmax has been deprecated. Change the call to include dim=X as an argument.\n",
      "  \"\"\"Entry point for launching an IPython kernel.\n"
     ]
    },
    {
     "name": "stdout",
     "output_type": "stream",
     "text": [
      "2.19 ms ± 73.8 µs per loop (mean ± std. dev. of 7 runs, 100 loops each)\n",
      "CrysX-NN (crysx_nn)\n",
      "4.02 ms ± 209 µs per loop (mean ± std. dev. of 7 runs, 100 loops each)\n",
      "Tensorflow\n",
      "1.17 ms ± 169 µs per loop (mean ± std. dev. of 7 runs, 100 loops each)\n"
     ]
    }
   ],
   "source": [
    "# Torch\n",
    "print('PyTorch')\n",
    "softmax_torch_func = torch.nn.Softmax() # Get an instance of Softmax class for Pytorch\n",
    "%timeit -n 100 softmax_torch_func(X_torch)\n",
    "\n",
    "# CrysX\n",
    "print('CrysX-NN (crysx_nn)')\n",
    "%timeit -n 100 Softmax(X_crysx_nn)\n",
    "\n",
    "# Tensorflow\n",
    "print('Tensorflow')\n",
    "%timeit -n 100 tf.keras.activations.softmax(X_tf)\n"
   ]
  },
  {
   "cell_type": "markdown",
   "id": "0f6c0a4b",
   "metadata": {},
   "source": [
    "### Compare performance with arrays of different sizes"
   ]
  },
  {
   "cell_type": "code",
   "execution_count": 27,
   "id": "5759d8ef",
   "metadata": {},
   "outputs": [
    {
     "name": "stdout",
     "output_type": "stream",
     "text": [
      "8.49 µs ± 2.38 µs per loop (mean ± std. dev. of 7 runs, 100 loops each)\n",
      "1.03 µs ± 119 ns per loop (mean ± std. dev. of 7 runs, 100 loops each)\n",
      "5.99 µs ± 996 ns per loop (mean ± std. dev. of 7 runs, 100 loops each)\n",
      "316 µs ± 4.98 µs per loop (mean ± std. dev. of 7 runs, 100 loops each)\n",
      "236 µs ± 36.6 µs per loop (mean ± std. dev. of 7 runs, 100 loops each)\n",
      "77.8 µs ± 9.57 µs per loop (mean ± std. dev. of 7 runs, 100 loops each)\n",
      "1.75 ms ± 100 µs per loop (mean ± std. dev. of 7 runs, 100 loops each)\n",
      "1.81 ms ± 442 µs per loop (mean ± std. dev. of 7 runs, 100 loops each)\n",
      "1.02 ms ± 72.5 µs per loop (mean ± std. dev. of 7 runs, 100 loops each)\n",
      "3.93 ms ± 369 µs per loop (mean ± std. dev. of 7 runs, 100 loops each)\n",
      "2.92 ms ± 250 µs per loop (mean ± std. dev. of 7 runs, 100 loops each)\n",
      "1.59 ms ± 213 µs per loop (mean ± std. dev. of 7 runs, 100 loops each)\n",
      "7.02 ms ± 441 µs per loop (mean ± std. dev. of 7 runs, 100 loops each)\n",
      "5.13 ms ± 227 µs per loop (mean ± std. dev. of 7 runs, 100 loops each)\n",
      "3.35 ms ± 201 µs per loop (mean ± std. dev. of 7 runs, 100 loops each)\n"
     ]
    }
   ],
   "source": [
    "time_torch = []\n",
    "time_crysx_nn = []\n",
    "time_tf = []\n",
    "sizes = []\n",
    "\n",
    "for n_size in range(10,2500,500):\n",
    "    sizes.append(n_size*n_size)\n",
    "    # Torch input\n",
    "    X_torch = torch.randn((n_size,n_size),requires_grad=True)\n",
    "    # CrysX-NN input\n",
    "    X_crysx_nn = X_torch.cpu().detach().numpy()\n",
    "    # Tensorflow input\n",
    "    X_tf = tf.convert_to_tensor(X_crysx_nn, dtype=tf.float32)\n",
    "    \n",
    "    ##--Timings--\n",
    "    # Torch\n",
    "    sigmoid_torch_func = torch.nn.Sigmoid() # Get an instance of Sigmoid class for Pytorch\n",
    "    time = %timeit -n 100 -o sigmoid_torch_func(X_torch)\n",
    "    # For time of each run\n",
    "    time_torch.append(np.mean(time.timings)) \n",
    "    # For total time\n",
    "#     time_torch.append(np.mean(time.all_runs)) \n",
    "    # CrysX\n",
    "    time = %timeit -n 100 -o Sigmoid(X_crysx_nn)\n",
    "    # For time of each run\n",
    "    time_crysx_nn.append(np.mean(time.timings))\n",
    "    # Tensorflow\n",
    "    time = %timeit -n 100 -o tf.keras.activations.sigmoid(X_tf)\n",
    "    # For time of each run\n",
    "    time_tf.append(np.mean(time.timings))\n",
    "    "
   ]
  },
  {
   "cell_type": "markdown",
   "id": "7c96c36b",
   "metadata": {},
   "source": [
    "### Plot the results"
   ]
  },
  {
   "cell_type": "code",
   "execution_count": 28,
   "id": "a947be53",
   "metadata": {},
   "outputs": [
    {
     "data": {
      "image/png": "[encoded data removed]",
      "text/plain": [
       "<Figure size 432x288 with 1 Axes>"
      ]
     },
     "metadata": {
      "needs_background": "light"
     },
     "output_type": "display_data"
    }
   ],
   "source": [
    "\n",
    "plt.plot(sizes,time_torch, label='PyTorch')\n",
    "plt.plot(sizes,time_crysx_nn, label='CrysX-NN')\n",
    "plt.plot(sizes,time_tf, label='Tensorflow')\n",
    "plt.legend()\n",
    "plt.xlabel('Array sizes')\n",
    "plt.ylabel('Timings')\n",
    "plt.title('Benchmark Softmax')\n",
    "plt.show()\n"
   ]
  },
  {
   "cell_type": "markdown",
   "id": "59a07d20",
   "metadata": {},
   "source": [
    "## Benchmark Softmax derivative (gradient) wrt input batch\n",
    "\n",
    "This is slightly tricky. \n",
    "PyTorch and Tensorflow don't explicitly come with a function that gives the gradient. \n",
    "Rather they use atuomatic differentiation.\n",
    "\n",
    "This is why, PyTorch would require the value of the output of the activation function as well, rather than just an input function.\n",
    "\n",
    "Therefore, it is not really evident if the timings can be taken as a good representative of the performance of PyTorch and Tensorflow frameworks.\n",
    "\n",
    "#### Update: Seems to be really problematic to get the jacobian of Softmax wrt inputs in an efficient manner using the PyTorch framework. \n",
    "\n",
    "There are ways in which you can do it, but they would be slow. (https://discuss.pytorch.org/t/how-to-compute-jacobian-matrix-in-pytorch/14968/16)\n",
    "\n",
    "So take the timing results with a grain of salt."
   ]
  },
  {
   "cell_type": "code",
   "execution_count": 29,
   "id": "1eda9eb2",
   "metadata": {},
   "outputs": [],
   "source": [
    "def tf_softmax_grad(z):\n",
    "#   z = tf.constant(z, dtype=tf.float32)\n",
    "    with tf.GradientTape() as g:\n",
    "        g.watch(z)\n",
    "        a = tf.nn.softmax(z) \n",
    "    jacob = g.batch_jacobian(a, z)\n",
    "    return jacob#.numpy()"
   ]
  },
  {
   "cell_type": "code",
   "execution_count": 30,
   "id": "2ec068cd",
   "metadata": {},
   "outputs": [],
   "source": [
    "# Reference: https://discuss.pytorch.org/t/how-to-compute-jacobian-matrix-in-pytorch/14968/16\n",
    "def torch_softmax_grad(wrt):\n",
    "    jacobian = []\n",
    "    softmax_func = torch.nn.Softmax() # Get an instance of Softmax class for Pytorch\n",
    "    softmax_func.eval()\n",
    "    for i in range(wrt.shape[0]):\n",
    "        jac = torch.autograd.functional.jacobian(softmax_func, wrt[i])\n",
    "        jacobian.append(jac)\n",
    "        #\n",
    "    return torch.stack(jacobian, 0)"
   ]
  },
  {
   "cell_type": "markdown",
   "id": "a5a55fc7",
   "metadata": {},
   "source": [
    "### Confirm that all frameworks give the same results"
   ]
  },
  {
   "cell_type": "code",
   "execution_count": 31,
   "id": "7d1a9a63",
   "metadata": {},
   "outputs": [
    {
     "name": "stderr",
     "output_type": "stream",
     "text": [
      "C:\\Users\\manas\\anaconda3\\envs\\crysx_nn\\lib\\site-packages\\ipykernel_launcher.py:11: UserWarning: Implicit dimension choice for softmax has been deprecated. Change the call to include dim=X as an argument.\n",
      "  # This is added back by InteractiveShellApp.init_path()\n"
     ]
    },
    {
     "ename": "AttributeError",
     "evalue": "module 'torch.autograd' has no attribute 'functional'",
     "output_type": "error",
     "traceback": [
      "\u001b[1;31m---------------------------------------------------------------------------\u001b[0m",
      "\u001b[1;31mAttributeError\u001b[0m                            Traceback (most recent call last)",
      "\u001b[1;32m~\\AppData\\Local\\Temp/ipykernel_22756/2107557924.py\u001b[0m in \u001b[0;36m<module>\u001b[1;34m\u001b[0m\n\u001b[0;32m     11\u001b[0m \u001b[0msoftmax_torch_value\u001b[0m \u001b[1;33m=\u001b[0m \u001b[0msoftmax_torch_func\u001b[0m\u001b[1;33m(\u001b[0m\u001b[0mX_torch\u001b[0m\u001b[1;33m)\u001b[0m\u001b[1;33m\u001b[0m\u001b[1;33m\u001b[0m\u001b[0m\n\u001b[0;32m     12\u001b[0m \u001b[0mdevice\u001b[0m \u001b[1;33m=\u001b[0m \u001b[1;34m'cpu'\u001b[0m\u001b[1;33m\u001b[0m\u001b[1;33m\u001b[0m\u001b[0m\n\u001b[1;32m---> 13\u001b[1;33m \u001b[0mgradientsTorch\u001b[0m \u001b[1;33m=\u001b[0m \u001b[0mtorch_softmax_grad\u001b[0m\u001b[1;33m(\u001b[0m\u001b[0mX_torch\u001b[0m\u001b[1;33m)\u001b[0m\u001b[1;31m#torch.autograd.grad(outputs=softmax_torch_value, inputs=X_torch,\u001b[0m\u001b[1;33m\u001b[0m\u001b[1;33m\u001b[0m\u001b[0m\n\u001b[0m\u001b[0;32m     14\u001b[0m \u001b[1;31m#                           grad_outputs=torch.ones(softmax_torch_value.size()).to(device),\u001b[0m\u001b[1;33m\u001b[0m\u001b[1;33m\u001b[0m\u001b[1;33m\u001b[0m\u001b[0m\n\u001b[0;32m     15\u001b[0m \u001b[1;31m#                           create_graph=True, retain_graph=True, only_inputs=True)[0]\u001b[0m\u001b[1;33m\u001b[0m\u001b[1;33m\u001b[0m\u001b[1;33m\u001b[0m\u001b[0m\n",
      "\u001b[1;32m~\\AppData\\Local\\Temp/ipykernel_22756/2962669671.py\u001b[0m in \u001b[0;36mtorch_softmax_grad\u001b[1;34m(wrt)\u001b[0m\n\u001b[0;32m      5\u001b[0m     \u001b[0msoftmax_func\u001b[0m\u001b[1;33m.\u001b[0m\u001b[0meval\u001b[0m\u001b[1;33m(\u001b[0m\u001b[1;33m)\u001b[0m\u001b[1;33m\u001b[0m\u001b[1;33m\u001b[0m\u001b[0m\n\u001b[0;32m      6\u001b[0m     \u001b[1;32mfor\u001b[0m \u001b[0mi\u001b[0m \u001b[1;32min\u001b[0m \u001b[0mrange\u001b[0m\u001b[1;33m(\u001b[0m\u001b[0mwrt\u001b[0m\u001b[1;33m.\u001b[0m\u001b[0mshape\u001b[0m\u001b[1;33m[\u001b[0m\u001b[1;36m0\u001b[0m\u001b[1;33m]\u001b[0m\u001b[1;33m)\u001b[0m\u001b[1;33m:\u001b[0m\u001b[1;33m\u001b[0m\u001b[1;33m\u001b[0m\u001b[0m\n\u001b[1;32m----> 7\u001b[1;33m         \u001b[0mjac\u001b[0m \u001b[1;33m=\u001b[0m \u001b[0mtorch\u001b[0m\u001b[1;33m.\u001b[0m\u001b[0mautograd\u001b[0m\u001b[1;33m.\u001b[0m\u001b[0mfunctional\u001b[0m\u001b[1;33m.\u001b[0m\u001b[0mjacobian\u001b[0m\u001b[1;33m(\u001b[0m\u001b[0msoftmax_func\u001b[0m\u001b[1;33m,\u001b[0m \u001b[0mwrt\u001b[0m\u001b[1;33m[\u001b[0m\u001b[0mi\u001b[0m\u001b[1;33m]\u001b[0m\u001b[1;33m)\u001b[0m\u001b[1;33m\u001b[0m\u001b[1;33m\u001b[0m\u001b[0m\n\u001b[0m\u001b[0;32m      8\u001b[0m         \u001b[0mjacobian\u001b[0m\u001b[1;33m.\u001b[0m\u001b[0mappend\u001b[0m\u001b[1;33m(\u001b[0m\u001b[0mjac\u001b[0m\u001b[1;33m)\u001b[0m\u001b[1;33m\u001b[0m\u001b[1;33m\u001b[0m\u001b[0m\n\u001b[0;32m      9\u001b[0m         \u001b[1;31m#\u001b[0m\u001b[1;33m\u001b[0m\u001b[1;33m\u001b[0m\u001b[1;33m\u001b[0m\u001b[0m\n",
      "\u001b[1;31mAttributeError\u001b[0m: module 'torch.autograd' has no attribute 'functional'"
     ]
    }
   ],
   "source": [
    "# Torch input\n",
    "X_torch = torch.randn((100,100),requires_grad=True)\n",
    "# CrysX-NN input\n",
    "X_crysx_nn = X_torch.cpu().detach().numpy()\n",
    "# Tensorflow input\n",
    "X_tf = tf.convert_to_tensor(X_crysx_nn, dtype=tf.float32)\n",
    "\n",
    "\n",
    "# Torch\n",
    "# softmax_torch_func = torch.nn.Softmax() # Get an instance of Softmax class for Pytorch\n",
    "softmax_torch_value = softmax_torch_func(X_torch)\n",
    "device = 'cpu'\n",
    "gradientsTorch = torch_softmax_grad(X_torch)#torch.autograd.grad(outputs=softmax_torch_value, inputs=X_torch,\n",
    "#                           grad_outputs=torch.ones(softmax_torch_value.size()).to(device),\n",
    "#                           create_graph=True, retain_graph=True, only_inputs=True)[0]\n",
    "# print(gradientsTorch)\n",
    "\n",
    "# CrysX\n",
    "# softmax_crysx_nn_value = Softmax(X_crysx_nn)\n",
    "gradientsCrysx = Softmax_grad(X_crysx_nn)\n",
    "# print(gradientsCrysx)\n",
    "\n",
    "# Tensorflow\n",
    "# softmax_tf_value = tf.nn.softmax(X_tf)\n",
    "gradientsTF = tf_softmax_grad(X_tf)\n",
    "# print(gradientsTF)\n",
    "\n",
    "#Diff b/w tf and torch\n",
    "print('Max abs diff b/w torch and tf', abs(gradientsTorch.cpu().detach().numpy() - gradientsTF.numpy()).max())\n",
    "\n",
    "#Diff b/w crysx_nn and torch\n",
    "print('Max abs diff b/w torch and CrysX', abs(gradientsTorch.cpu().detach().numpy() - gradientsCrysx).max())\n"
   ]
  },
  {
   "cell_type": "markdown",
   "id": "533e2cd0",
   "metadata": {},
   "source": [
    "### Compare performance\n",
    "\n",
    "Since, CrysX-NN also requires the calculation of softmax function, therefore we should also include this calculation time for PyTorch and Tensorflow.\n",
    "\n",
    "I would like to stress here again, that I am not really sure if the autodifferentiated implementations of softmax gradients that I have used, are a good representative of the real-world performance or not. \n",
    "\n",
    "Especially, the torch jacobian would be extreeeemely slowww due to the for loops. But tensorflow implementation isn't that fast either.\n",
    "\n",
    "So we would skip the plots of timings vs array_size for benchmarks."
   ]
  },
  {
   "cell_type": "code",
   "execution_count": null,
   "id": "3622fa31",
   "metadata": {},
   "outputs": [],
   "source": [
    "# Torch\n",
    "print('PyTorch')\n",
    "%timeit -n 10 torch_softmax_grad(X_torch)\n",
    "\n",
    "# CrysX\n",
    "print('CrysX-NN (crysx_nn)')\n",
    "%timeit -n 10 Softmax_grad(X_crysx_nn)\n",
    "\n",
    "# Tensorflow\n",
    "print('Tensorflow')\n",
    "%timeit -n 10 tf_softmax_grad(X_tf)\n"
   ]
  },
  {
   "cell_type": "code",
   "execution_count": null,
   "id": "b7d0a7d3",
   "metadata": {},
   "outputs": [],
   "source": []
  }
 ],
 "metadata": {
  "kernelspec": {
   "display_name": "Python 3 (ipykernel)",
   "language": "python",
   "name": "python3"
  },
  "language_info": {
   "codemirror_mode": {
    "name": "ipython",
    "version": 3
   },
   "file_extension": ".py",
   "mimetype": "text/x-python",
   "name": "python",
   "nbconvert_exporter": "python",
   "pygments_lexer": "ipython3",
   "version": "3.7.11"
  }
 },
 "nbformat": 4,
 "nbformat_minor": 5
}
