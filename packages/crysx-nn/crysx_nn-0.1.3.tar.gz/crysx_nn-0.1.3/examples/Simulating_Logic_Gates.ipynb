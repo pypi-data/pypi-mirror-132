{
 "cells": [
  {
   "cell_type": "markdown",
   "id": "3d64328b",
   "metadata": {},
   "source": [
    "# Simulating logic gates using `crysx_nn`"
   ]
  },
  {
   "cell_type": "code",
   "execution_count": 1,
   "id": "8425c979",
   "metadata": {},
   "outputs": [
    {
     "name": "stderr",
     "output_type": "stream",
     "text": [
      "/Users/admin/opt/anaconda3/envs/performance/lib/python3.7/site-packages/crysx_nn/network.py:12: TqdmExperimentalWarning: Using `tqdm.autonotebook.tqdm` in notebook mode. Use `tqdm.tqdm` instead to force console mode (e.g. in jupyter console)\n",
      "  from tqdm.autonotebook import tqdm\n"
     ]
    }
   ],
   "source": [
    "import numpy as np\n",
    "import matplotlib.pyplot as plt\n",
    "\n",
    "\n",
    "# Import CrysX_nn related stuff\n",
    "\n",
    "# Import loss functions\n",
    "from crysx_nn.loss import MSE_loss, MSE_loss_grad\n",
    "from crysx_nn.loss import BCE_loss, BCE_loss_grad\n",
    "# Import activation functions\n",
    "from crysx_nn.activation import Sigmoid, Sigmoid_grad\n",
    "from crysx_nn.activation import Softmax, Softmax_grad\n",
    "from crysx_nn.activation import Tanh_offset, Tanh_offset\n",
    "# Import neural network functions\n",
    "from crysx_nn.network import back_propagation, back_propagation_fast\n",
    "from crysx_nn.network import nn_optimize, nn_optimize_fast\n",
    "from crysx_nn.network import forward_feed\n",
    "\n",
    "from crysx_nn.network import visualize"
   ]
  },
  {
   "cell_type": "markdown",
   "id": "1e04ce91",
   "metadata": {},
   "source": [
    "## Define some network parameters that we will be using later on"
   ]
  },
  {
   "cell_type": "code",
   "execution_count": 2,
   "id": "a25ad560",
   "metadata": {},
   "outputs": [],
   "source": [
    "nInputs = 2 # No. of nodes in the input layer\n",
    "neurons_per_layer = [3,1] # Neurons per layer (excluding the input layer)\n",
    "activation_func_names = ['Sigmoid', 'Sigmoid']\n",
    "nLayers = len(neurons_per_layer)\n",
    "eeta = 0.5\n",
    "nEpochs=10**4\n",
    "batchSize = 4 # No. of input samples to process at a time for optimization"
   ]
  },
  {
   "cell_type": "markdown",
   "id": "0932dc0b",
   "metadata": {},
   "source": [
    "## Visualize the network"
   ]
  },
  {
   "cell_type": "code",
   "execution_count": 3,
   "id": "da6fc156",
   "metadata": {},
   "outputs": [
    {
     "data": {
      "image/png": "[encoded data removed]",
      "text/plain": [
       "<Figure size 1008x720 with 1 Axes>"
      ]
     },
     "metadata": {
      "needs_background": "light"
     },
     "output_type": "display_data"
    }
   ],
   "source": [
    "visualize(nInputs, neurons_per_layer, activation_func_names)"
   ]
  },
  {
   "cell_type": "markdown",
   "id": "c5d9a547",
   "metadata": {},
   "source": [
    "## Set the inputs (rows correspond to different set of inputs and columns represent the inputs)"
   ]
  },
  {
   "cell_type": "code",
   "execution_count": 4,
   "id": "72497675",
   "metadata": {},
   "outputs": [
    {
     "name": "stdout",
     "output_type": "stream",
     "text": [
      "[[0. 0.]\n",
      " [0. 1.]\n",
      " [1. 0.]\n",
      " [1. 1.]]\n",
      "float32\n"
     ]
    }
   ],
   "source": [
    "inputs = np.array([[0.,0.,1.,1.],[0.,1.,0.,1.]]).T.astype('float32')\n",
    "print(inputs)\n",
    "print(inputs.dtype)"
   ]
  },
  {
   "cell_type": "markdown",
   "id": "885dc2cf",
   "metadata": {},
   "source": [
    "## Outputs for different logic gates"
   ]
  },
  {
   "cell_type": "code",
   "execution_count": 5,
   "id": "b91298a9",
   "metadata": {},
   "outputs": [],
   "source": [
    "# AND function\n",
    "outputAND = np.array([0.,0.,0.,1.])\n",
    "outputAND = np.asarray([outputAND]).T\n",
    "# OR function\n",
    "outputOR = np.array([0.,1.,1.,1.])\n",
    "outputOR = np.asarray([outputOR]).T\n",
    "# NAND function\n",
    "outputNAND = np.array([1.,1.,1.,0.])\n",
    "outputNAND = np.asarray([outputNAND]).T\n",
    "# XOR function\n",
    "outputXOR = np.array([0.,1.,1.,0.])\n",
    "outputXOR = np.asarray([outputXOR]).T"
   ]
  },
  {
   "cell_type": "code",
   "execution_count": 6,
   "id": "f3262298",
   "metadata": {},
   "outputs": [
    {
     "name": "stdout",
     "output_type": "stream",
     "text": [
      "AND outputs\n",
      " [[0.]\n",
      " [0.]\n",
      " [0.]\n",
      " [1.]]\n",
      "OR outputs\n",
      " [[0.]\n",
      " [1.]\n",
      " [1.]\n",
      " [1.]]\n",
      "XOR outputs\n",
      " [[0.]\n",
      " [1.]\n",
      " [1.]\n",
      " [0.]]\n",
      "NAND outputs\n",
      " [[1.]\n",
      " [1.]\n",
      " [1.]\n",
      " [0.]]\n"
     ]
    }
   ],
   "source": [
    "print('AND outputs\\n', outputAND)\n",
    "print('OR outputs\\n', outputOR)\n",
    "print('XOR outputs\\n', outputXOR)\n",
    "print('NAND outputs\\n', outputNAND)"
   ]
  },
  {
   "cell_type": "markdown",
   "id": "96880a85",
   "metadata": {},
   "source": [
    "## Define/ generate initial guess and weights"
   ]
  },
  {
   "cell_type": "code",
   "execution_count": 7,
   "id": "5a30e194",
   "metadata": {},
   "outputs": [
    {
     "name": "stdout",
     "output_type": "stream",
     "text": [
      "Weights matrices:  [array([[0.3 , 0.45],\n",
      "       [0.55, 0.5 ],\n",
      "       [0.2 , 0.35]]), array([[0.15, 0.4 , 0.25]])]\n",
      "Biases:  [array([0.6, 0.6, 0.6]), array([0.05])]\n"
     ]
    }
   ],
   "source": [
    "# Initial guesses for weights\n",
    "w1 = 0.30\n",
    "w2 = 0.55\n",
    "w3 = 0.20\n",
    "w4 = 0.45\n",
    "w5 = 0.50\n",
    "w6 = 0.35\n",
    "w7 = 0.15\n",
    "w8 = 0.40\n",
    "w9 = 0.25\n",
    "\n",
    "# Initial guesses for biases\n",
    "b1 = 0.60\n",
    "b2 = 0.05\n",
    "\n",
    "# need to use a list instead of a numpy array, since the \n",
    "#weight matrices at each layer are not of the same dimensions\n",
    "weights = [] \n",
    "# Weights for layer 1 --> 2\n",
    "weights.append(np.array([[w1,w4],[w2, w5], [w3, w6]]))\n",
    "# Weights for layer 2 --> 3\n",
    "weights.append(np.array([[w7, w8, w9]]))\n",
    "# List of biases at each layer\n",
    "biases = []\n",
    "biases.append(np.array([b1,b1,b1]))\n",
    "biases.append(np.array([b2]))\n",
    "\n",
    "weightsOriginal = weights\n",
    "biasesOriginal = biases\n",
    "\n",
    "print('Weights matrices: ',weights)\n",
    "print('Biases: ',biases)"
   ]
  },
  {
   "cell_type": "markdown",
   "id": "061878d4",
   "metadata": {},
   "source": [
    "## Train neural network for AND gate\n",
    "We will use the Mean Squared Error loss function (MSE_loss)"
   ]
  },
  {
   "cell_type": "code",
   "execution_count": 8,
   "id": "f235eb69",
   "metadata": {},
   "outputs": [
    {
     "data": {
      "application/vnd.jupyter.widget-view+json": {
       "model_id": "efb51e2686e2494c9dd0cfa9d7d4620d",
       "version_major": 2,
       "version_minor": 0
      },
      "text/plain": [
       "  0%|          | 0/10000 [00:00<?, ?it/s]"
      ]
     },
     "metadata": {},
     "output_type": "display_data"
    },
    {
     "name": "stdout",
     "output_type": "stream",
     "text": [
      "Average Error with initial weights and biases: 0.3434138907896084\n"
     ]
    }
   ],
   "source": [
    "\n",
    "# Run optimization\n",
    "optWeights, optBiases, errorPlot = nn_optimize_fast(inputs, outputAND, activation_func_names, nLayers, nEpochs=nEpochs, batchSize=batchSize, eeta=eeta, weights=weightsOriginal, biases=biasesOriginal, errorFunc=MSE_loss, gradErrorFunc=MSE_loss_grad,miniterEpoch=1,batchProgressBar=False,miniterBatch=100)\n",
    "\n"
   ]
  },
  {
   "cell_type": "markdown",
   "id": "8b25bc07",
   "metadata": {},
   "source": [
    "### Visualize the training loss"
   ]
  },
  {
   "cell_type": "code",
   "execution_count": 9,
   "id": "0c82e25f",
   "metadata": {},
   "outputs": [
    {
     "data": {
      "image/png": "[encoded data removed]",
      "text/plain": [
       "<Figure size 648x432 with 1 Axes>"
      ]
     },
     "metadata": {
      "needs_background": "light"
     },
     "output_type": "display_data"
    }
   ],
   "source": [
    "# Plot the error vs epochs\n",
    "plt.plot(errorPlot)\n",
    "plt.yscale('log')\n",
    "plt.show()"
   ]
  },
  {
   "cell_type": "markdown",
   "id": "7b33b211",
   "metadata": {},
   "source": [
    "### Optimized weights and biases"
   ]
  },
  {
   "cell_type": "code",
   "execution_count": 10,
   "id": "ea939b60",
   "metadata": {},
   "outputs": [
    {
     "name": "stdout",
     "output_type": "stream",
     "text": [
      "Optimized Weights:  [array([[-0.06778792,  0.05656752],\n",
      "       [ 3.62657092,  3.656029  ],\n",
      "       [-1.97129046, -1.93792648]]), array([[-0.30045878,  8.48767361, -4.29360306]])]\n",
      "Optimized Biases:  [array([ 0.74201331, -5.25315442,  2.58093136]), array([-2.56813668])]\n"
     ]
    }
   ],
   "source": [
    "# Optimized weights and biases\n",
    "print('Optimized Weights: ', optWeights)\n",
    "print('Optimized Biases: ', optBiases)"
   ]
  },
  {
   "cell_type": "markdown",
   "id": "605cf9f2",
   "metadata": {},
   "source": [
    "### Make predictions using the optimized weights"
   ]
  },
  {
   "cell_type": "code",
   "execution_count": 11,
   "id": "0ccc8430",
   "metadata": {},
   "outputs": [
    {
     "name": "stdout",
     "output_type": "stream",
     "text": [
      "Outputs at each layer (including input layer):\n",
      "  [array([[0., 0.],\n",
      "       [0., 1.],\n",
      "       [1., 0.],\n",
      "       [1., 1.]], dtype=float32), array([[0.67743595, 0.00520377, 0.92962423],\n",
      "       [0.68967082, 0.16838376, 0.6554324 ],\n",
      "       [0.66244865, 0.16429893, 0.64785888],\n",
      "       [0.67497925, 0.88385417, 0.20944309]]), array([[0.00120635],\n",
      "       [0.01536264],\n",
      "       [0.01545407],\n",
      "       [0.97878617]])]\n",
      "Inputs at each layer :\n",
      "  [array([[ 0.74201331, -5.25315442,  2.58093136],\n",
      "       [ 0.79858083, -1.59712542,  0.64300488],\n",
      "       [ 0.67422539, -1.6265835 ,  0.6096409 ],\n",
      "       [ 0.7307929 ,  2.0294455 , -1.32828557]]), array([[-6.71894777],\n",
      "       [-4.1603345 ],\n",
      "       [-4.15430842],\n",
      "       [ 3.83166007]])]\n",
      "New Average Error with optimized weights:\n",
      " 0.00023158017727845274\n",
      "Input:  [[0. 0.]\n",
      " [0. 1.]\n",
      " [1. 0.]\n",
      " [1. 1.]]\n",
      "Output:  [[0.00120635]\n",
      " [0.01536264]\n",
      " [0.01545407]\n",
      " [0.97878617]]\n",
      "Expected Output:  [[0.]\n",
      " [0.]\n",
      " [0.]\n",
      " [1.]]\n"
     ]
    }
   ],
   "source": [
    "# Forward feed with optimized weights\n",
    "# Perform Forward feed and get the outputs at each layers and the inputs at each layer\n",
    "a, z = forward_feed(inputs, nLayers, optWeights, optBiases, activation_func_names)\n",
    "print('Outputs at each layer (including input layer):\\n ',a)\n",
    "print('Inputs at each layer :\\n ', z)\n",
    "# New Error\n",
    "print('New Average Error with optimized weights:\\n', MSE_loss(a[nLayers],outputAND)/batchSize)\n",
    "print('Input: ',inputs)\n",
    "print('Output: ',a[nLayers])\n",
    "print('Expected Output: ',outputAND)"
   ]
  },
  {
   "cell_type": "markdown",
   "id": "dd94a3f0",
   "metadata": {},
   "source": [
    "## Train neural network for NAND gate\n",
    "We will use the Mean Squared Error loss function (MSE_loss)"
   ]
  },
  {
   "cell_type": "code",
   "execution_count": 12,
   "id": "82b7840f",
   "metadata": {},
   "outputs": [
    {
     "data": {
      "application/vnd.jupyter.widget-view+json": {
       "model_id": "9ad7cff6e35f4cc2a9011aadd67df51b",
       "version_major": 2,
       "version_minor": 0
      },
      "text/plain": [
       "  0%|          | 0/10000 [00:00<?, ?it/s]"
      ]
     },
     "metadata": {},
     "output_type": "display_data"
    },
    {
     "name": "stdout",
     "output_type": "stream",
     "text": [
      "Average Error with initial weights and biases: 0.20379890408215076\n"
     ]
    }
   ],
   "source": [
    "\n",
    "# Run optimization\n",
    "optWeights, optBiases, errorPlot = nn_optimize_fast(inputs, outputNAND, activation_func_names, nLayers, nEpochs=nEpochs, batchSize=batchSize, eeta=eeta, weights=weightsOriginal, biases=biasesOriginal, errorFunc=MSE_loss, gradErrorFunc=MSE_loss_grad,miniterEpoch=1,batchProgressBar=False,miniterBatch=100)\n",
    "\n"
   ]
  },
  {
   "cell_type": "markdown",
   "id": "4ca46cf5",
   "metadata": {},
   "source": [
    "### Visualize the training loss"
   ]
  },
  {
   "cell_type": "code",
   "execution_count": 13,
   "id": "8e90e1e2",
   "metadata": {},
   "outputs": [
    {
     "data": {
      "image/png": "[encoded data removed]",
      "text/plain": [
       "<Figure size 648x432 with 1 Axes>"
      ]
     },
     "metadata": {
      "needs_background": "light"
     },
     "output_type": "display_data"
    }
   ],
   "source": [
    "# Plot the error vs epochs\n",
    "plt.plot(errorPlot)\n",
    "plt.yscale('log')\n",
    "plt.show()"
   ]
  },
  {
   "cell_type": "markdown",
   "id": "fa5cb76f",
   "metadata": {},
   "source": [
    "### Optimized weights and biases"
   ]
  },
  {
   "cell_type": "code",
   "execution_count": 14,
   "id": "770846c7",
   "metadata": {},
   "outputs": [
    {
     "name": "stdout",
     "output_type": "stream",
     "text": [
      "Optimized Weights:  [array([[ 1.30945639,  1.57270365],\n",
      "       [ 1.20521794,  1.03510894],\n",
      "       [-3.76155863, -3.68126811]]), array([[-3.46654703, -2.68891187,  8.73862491]])]\n",
      "Optimized Biases:  [array([-1.42913229, -0.65379534,  5.28759182]), array([0.34611876])]\n"
     ]
    }
   ],
   "source": [
    "# Optimized weights and biases\n",
    "print('Optimized Weights: ', optWeights)\n",
    "print('Optimized Biases: ', optBiases)"
   ]
  },
  {
   "cell_type": "markdown",
   "id": "cfa71972",
   "metadata": {},
   "source": [
    "### Make predictions using the optimized weights"
   ]
  },
  {
   "cell_type": "code",
   "execution_count": 15,
   "id": "0d26c68e",
   "metadata": {},
   "outputs": [
    {
     "name": "stdout",
     "output_type": "stream",
     "text": [
      "Outputs at each layer (including input layer):\n",
      "  [array([[0., 0.],\n",
      "       [0., 1.],\n",
      "       [1., 0.],\n",
      "       [1., 1.]], dtype=float32), array([[0.19323392, 0.34213478, 0.9949715 ],\n",
      "       [0.53583131, 0.59418989, 0.83290036],\n",
      "       [0.47011668, 0.63446558, 0.82142518],\n",
      "       [0.81046397, 0.83012756, 0.10384305]]), array([[0.99941946],\n",
      "       [0.98477259],\n",
      "       [0.98505825],\n",
      "       [0.02213769]])]\n",
      "Inputs at each layer :\n",
      "  [array([[-1.42913229, -0.65379534,  5.28759182],\n",
      "       [ 0.14357137,  0.3813136 ,  1.60632372],\n",
      "       [-0.1196759 ,  0.5514226 ,  1.52603319],\n",
      "       [ 1.45302776,  1.58653154, -2.15523491]]), array([[ 7.45097674],\n",
      "       [ 4.16931387],\n",
      "       [ 4.18854168],\n",
      "       [-3.78808707]])]\n",
      "New Average Error with optimized weights:\n",
      " 0.00023638606611737408\n",
      "Input:  [[0. 0.]\n",
      " [0. 1.]\n",
      " [1. 0.]\n",
      " [1. 1.]]\n",
      "Output:  [[0.99941946]\n",
      " [0.98477259]\n",
      " [0.98505825]\n",
      " [0.02213769]]\n",
      "Expected Output:  [[1.]\n",
      " [1.]\n",
      " [1.]\n",
      " [0.]]\n"
     ]
    }
   ],
   "source": [
    "# Forward feed with optimized weights\n",
    "# Perform Forward feed and get the outputs at each layers and the inputs at each layer\n",
    "a, z = forward_feed(inputs, nLayers, optWeights, optBiases, activation_func_names)\n",
    "print('Outputs at each layer (including input layer):\\n ',a)\n",
    "print('Inputs at each layer :\\n ', z)\n",
    "# New Error\n",
    "print('New Average Error with optimized weights:\\n', MSE_loss(a[nLayers],outputNAND)/batchSize)\n",
    "print('Input: ',inputs)\n",
    "print('Output: ',a[nLayers])\n",
    "print('Expected Output: ',outputNAND)"
   ]
  },
  {
   "cell_type": "markdown",
   "id": "025b4361",
   "metadata": {},
   "source": [
    "## Train neural network for OR gate\n",
    "We will use the Mean Squared Error loss function (MSE_loss)"
   ]
  },
  {
   "cell_type": "code",
   "execution_count": 16,
   "id": "05f386bc",
   "metadata": {},
   "outputs": [
    {
     "data": {
      "application/vnd.jupyter.widget-view+json": {
       "model_id": "8c6a2eaac51642058da98c1681cb104c",
       "version_major": 2,
       "version_minor": 0
      },
      "text/plain": [
       "  0%|          | 0/10000 [00:00<?, ?it/s]"
      ]
     },
     "metadata": {},
     "output_type": "display_data"
    },
    {
     "name": "stdout",
     "output_type": "stream",
     "text": [
      "Average Error with initial weights and biases: 0.18928981997409644\n"
     ]
    }
   ],
   "source": [
    "\n",
    "# Run optimization\n",
    "optWeights, optBiases, errorPlot = nn_optimize_fast(inputs, outputOR, activation_func_names, nLayers, nEpochs=nEpochs, batchSize=batchSize, eeta=eeta, weights=weightsOriginal, biases=biasesOriginal, errorFunc=MSE_loss, gradErrorFunc=MSE_loss_grad,miniterEpoch=1,batchProgressBar=False,miniterBatch=100)\n",
    "\n"
   ]
  },
  {
   "cell_type": "markdown",
   "id": "708ebc97",
   "metadata": {},
   "source": [
    "### Visualize the training loss"
   ]
  },
  {
   "cell_type": "code",
   "execution_count": 17,
   "id": "268cc187",
   "metadata": {},
   "outputs": [
    {
     "data": {
      "image/png": "[encoded data removed]",
      "text/plain": [
       "<Figure size 648x432 with 1 Axes>"
      ]
     },
     "metadata": {
      "needs_background": "light"
     },
     "output_type": "display_data"
    }
   ],
   "source": [
    "# Plot the error vs epochs\n",
    "plt.plot(errorPlot)\n",
    "plt.yscale('log')\n",
    "plt.show()"
   ]
  },
  {
   "cell_type": "markdown",
   "id": "3db6437f",
   "metadata": {},
   "source": [
    "### Optimized weights and biases"
   ]
  },
  {
   "cell_type": "code",
   "execution_count": 18,
   "id": "2550afef",
   "metadata": {},
   "outputs": [
    {
     "name": "stdout",
     "output_type": "stream",
     "text": [
      "Optimized Weights:  [array([[2.30490019, 2.34416973],\n",
      "       [4.39174881, 4.3473229 ],\n",
      "       [2.11485639, 2.16063872]]), array([[2.68763038, 6.87748256, 2.36481151]])]\n",
      "Optimized Biases:  [array([-1.37621614, -2.35668634, -1.27302976]), array([-5.3504584])]\n"
     ]
    }
   ],
   "source": [
    "# Optimized weights and biases\n",
    "print('Optimized Weights: ', optWeights)\n",
    "print('Optimized Biases: ', optBiases)"
   ]
  },
  {
   "cell_type": "markdown",
   "id": "58703cea",
   "metadata": {},
   "source": [
    "### Make predictions using the optimized weights"
   ]
  },
  {
   "cell_type": "code",
   "execution_count": 19,
   "id": "bacdcc96",
   "metadata": {},
   "outputs": [
    {
     "name": "stdout",
     "output_type": "stream",
     "text": [
      "Outputs at each layer (including input layer):\n",
      "  [array([[0., 0.],\n",
      "       [0., 1.],\n",
      "       [1., 0.],\n",
      "       [1., 1.]], dtype=float32), array([[0.20161739, 0.08653577, 0.21873905],\n",
      "       [0.72471142, 0.87981047, 0.7083965 ],\n",
      "       [0.71680823, 0.88442954, 0.69884979],\n",
      "       [0.9634857 , 0.99831177, 0.95268538]]), array([[0.02421759],\n",
      "       [0.98691869],\n",
      "       [0.98676222],\n",
      "       [0.99826987]])]\n",
      "Inputs at each layer :\n",
      "  [array([[-1.37621614, -2.35668634, -1.27302976],\n",
      "       [ 0.96795359,  1.99063657,  0.88760896],\n",
      "       [ 0.92868405,  2.03506248,  0.84182663],\n",
      "       [ 3.27285378,  6.38238538,  3.00246535]]), array([[-3.69616049],\n",
      "       [ 4.32340336],\n",
      "       [ 4.31135394],\n",
      "       [ 6.35782819]])]\n",
      "New Average Error with optimized weights:\n",
      " 0.00023396110659277538\n",
      "Input:  [[0. 0.]\n",
      " [0. 1.]\n",
      " [1. 0.]\n",
      " [1. 1.]]\n",
      "Output:  [[0.02421759]\n",
      " [0.98691869]\n",
      " [0.98676222]\n",
      " [0.99826987]]\n",
      "Expected Output:  [[0.]\n",
      " [1.]\n",
      " [1.]\n",
      " [1.]]\n"
     ]
    }
   ],
   "source": [
    "# Forward feed with optimized weights\n",
    "# Perform Forward feed and get the outputs at each layers and the inputs at each layer\n",
    "a, z = forward_feed(inputs, nLayers, optWeights, optBiases, activation_func_names)\n",
    "print('Outputs at each layer (including input layer):\\n ',a)\n",
    "print('Inputs at each layer :\\n ', z)\n",
    "# New Error\n",
    "print('New Average Error with optimized weights:\\n', MSE_loss(a[nLayers],outputOR)/batchSize)\n",
    "print('Input: ',inputs)\n",
    "print('Output: ',a[nLayers])\n",
    "print('Expected Output: ',outputOR)"
   ]
  },
  {
   "cell_type": "markdown",
   "id": "41614673",
   "metadata": {},
   "source": [
    "## Train neural network for XOR gate\n",
    "We will use the Mean Squared Error loss function (MSE_loss)"
   ]
  },
  {
   "cell_type": "code",
   "execution_count": 20,
   "id": "6f7d4d6a",
   "metadata": {},
   "outputs": [
    {
     "data": {
      "application/vnd.jupyter.widget-view+json": {
       "model_id": "eb7ddf14f0324441b4a0f89805c7dc38",
       "version_major": 2,
       "version_minor": 0
      },
      "text/plain": [
       "  0%|          | 0/10000 [00:00<?, ?it/s]"
      ]
     },
     "metadata": {},
     "output_type": "display_data"
    },
    {
     "name": "stdout",
     "output_type": "stream",
     "text": [
      "Average Error with initial weights and biases: 0.2727793847802973\n"
     ]
    }
   ],
   "source": [
    "\n",
    "# Run optimization\n",
    "optWeights, optBiases, errorPlot = nn_optimize_fast(inputs, outputXOR, activation_func_names, nLayers, nEpochs=nEpochs, batchSize=batchSize, eeta=eeta, weights=weightsOriginal, biases=biasesOriginal, errorFunc=MSE_loss, gradErrorFunc=MSE_loss_grad,miniterEpoch=1,batchProgressBar=False,miniterBatch=100)\n",
    "\n"
   ]
  },
  {
   "cell_type": "markdown",
   "id": "d5968459",
   "metadata": {},
   "source": [
    "### Visualize the training loss"
   ]
  },
  {
   "cell_type": "code",
   "execution_count": 21,
   "id": "3d179c16",
   "metadata": {},
   "outputs": [
    {
     "data": {
      "image/png": "[encoded data removed]",
      "text/plain": [
       "<Figure size 648x432 with 1 Axes>"
      ]
     },
     "metadata": {
      "needs_background": "light"
     },
     "output_type": "display_data"
    }
   ],
   "source": [
    "# Plot the error vs epochs\n",
    "plt.plot(errorPlot)\n",
    "plt.yscale('log')\n",
    "plt.show()"
   ]
  },
  {
   "cell_type": "markdown",
   "id": "25cb08b9",
   "metadata": {},
   "source": [
    "### Optimized weights and biases"
   ]
  },
  {
   "cell_type": "code",
   "execution_count": 22,
   "id": "31d4bfa6",
   "metadata": {},
   "outputs": [
    {
     "name": "stdout",
     "output_type": "stream",
     "text": [
      "Optimized Weights:  [array([[3.05947207, 3.06374699],\n",
      "       [6.47442676, 6.49014353],\n",
      "       [2.82204964, 2.82239255]]), array([[-6.43252328,  9.72357347, -5.97334068]])]\n",
      "Optimized Biases:  [array([-4.83905742, -2.94189566, -4.48657005]), array([-3.85977779])]\n"
     ]
    }
   ],
   "source": [
    "# Optimized weights and biases\n",
    "print('Optimized Weights: ', optWeights)\n",
    "print('Optimized Biases: ', optBiases)"
   ]
  },
  {
   "cell_type": "markdown",
   "id": "f9d62182",
   "metadata": {},
   "source": [
    "### Make predictions using the optimized weights"
   ]
  },
  {
   "cell_type": "code",
   "execution_count": 23,
   "id": "58de2485",
   "metadata": {},
   "outputs": [
    {
     "name": "stdout",
     "output_type": "stream",
     "text": [
      "Outputs at each layer (including input layer):\n",
      "  [array([[0., 0.],\n",
      "       [0., 1.],\n",
      "       [1., 0.],\n",
      "       [1., 1.]], dtype=float32), array([[0.00785236, 0.05012095, 0.01113384],\n",
      "       [0.14488317, 0.97202983, 0.15920201],\n",
      "       [0.14435434, 0.97159934, 0.15915612],\n",
      "       [0.78315735, 0.99995562, 0.76094586]]), array([[0.0296142 ],\n",
      "       [0.97608149],\n",
      "       [0.97606958],\n",
      "       [0.02366745]])]\n",
      "Inputs at each layer :\n",
      "  [array([[-4.83905742, -2.94189566, -4.48657005],\n",
      "       [-1.77531044,  3.54824787, -1.6641775 ],\n",
      "       [-1.77958535,  3.5325311 , -1.66452042],\n",
      "       [ 1.28416164, 10.02267462,  1.15787213]]), array([[-3.48943981],\n",
      "       [ 3.70889346],\n",
      "       [ 3.70838338],\n",
      "       [-3.71970255]])]\n",
      "New Average Error with optimized weights:\n",
      " 0.0006454772762122012\n",
      "Input:  [[0. 0.]\n",
      " [0. 1.]\n",
      " [1. 0.]\n",
      " [1. 1.]]\n",
      "Output:  [[0.0296142 ]\n",
      " [0.97608149]\n",
      " [0.97606958]\n",
      " [0.02366745]]\n",
      "Expected Output:  [[0.]\n",
      " [1.]\n",
      " [1.]\n",
      " [0.]]\n"
     ]
    }
   ],
   "source": [
    "# Forward feed with optimized weights\n",
    "# Perform Forward feed and get the outputs at each layers and the inputs at each layer\n",
    "a, z = forward_feed(inputs, nLayers, optWeights, optBiases, activation_func_names)\n",
    "print('Outputs at each layer (including input layer):\\n ',a)\n",
    "print('Inputs at each layer :\\n ', z)\n",
    "# New Error\n",
    "print('New Average Error with optimized weights:\\n', MSE_loss(a[nLayers],outputXOR)/batchSize)\n",
    "print('Input: ',inputs)\n",
    "print('Output: ',a[nLayers])\n",
    "print('Expected Output: ',outputXOR)"
   ]
  }
 ],
 "metadata": {
  "kernelspec": {
   "display_name": "Python 3 (ipykernel)",
   "language": "python",
   "name": "python3"
  },
  "language_info": {
   "codemirror_mode": {
    "name": "ipython",
    "version": 3
   },
   "file_extension": ".py",
   "mimetype": "text/x-python",
   "name": "python",
   "nbconvert_exporter": "python",
   "pygments_lexer": "ipython3",
   "version": "3.7.11"
  }
 },
 "nbformat": 4,
 "nbformat_minor": 5
}
