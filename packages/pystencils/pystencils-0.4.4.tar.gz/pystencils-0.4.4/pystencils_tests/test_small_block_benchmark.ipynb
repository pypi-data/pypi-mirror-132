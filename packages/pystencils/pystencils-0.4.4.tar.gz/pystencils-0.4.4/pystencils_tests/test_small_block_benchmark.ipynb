{
 "cells": [
  {
   "cell_type": "code",
   "execution_count": null,
   "metadata": {},
   "outputs": [],
   "source": [
    "import pytest\n",
    "pytest.importorskip('waLBerla')"
   ]
  },
  {
   "cell_type": "code",
   "execution_count": 1,
   "metadata": {},
   "outputs": [],
   "source": [
    "from pystencils.session import *\n",
    "from time import perf_counter\n",
    "from statistics import median\n",
    "from functools import partial"
   ]
  },
  {
   "cell_type": "markdown",
   "metadata": {},
   "source": [
    "## Benchmark for Python call overhead"
   ]
  },
  {
   "cell_type": "code",
   "execution_count": 2,
   "metadata": {},
   "outputs": [
    {
     "data": {
      "image/png": "[encoded data removed]",
      "text/latex": [
       "$\\displaystyle \\left[ 2, \\  4, \\  8, \\  16, \\  32, \\  64, \\  128\\right]$"
      ],
      "text/plain": [
       "[2, 4, 8, 16, 32, 64, 128]"
      ]
     },
     "execution_count": 2,
     "metadata": {},
     "output_type": "execute_result"
    }
   ],
   "source": [
    "inner_repeats = 100\n",
    "outer_repeats = 5\n",
    "sizes = [2**i for i in range(1, 8)]\n",
    "sizes"
   ]
  },
  {
   "cell_type": "code",
   "execution_count": 3,
   "metadata": {},
   "outputs": [],
   "source": [
    "def benchmark_pure(domain_size, extract_first=False):\n",
    "    src = np.zeros(domain_size)\n",
    "    dst = np.zeros_like(src)\n",
    "    f_src, f_dst = ps.fields(\"src, dst\", src=src, dst=dst)\n",
    "    kernel = ps.create_kernel(ps.Assignment(f_dst.center, f_src.center)).compile()\n",
    "    if extract_first:\n",
    "        kernel = kernel.kernel\n",
    "        start = perf_counter()\n",
    "        for i in range(inner_repeats):\n",
    "            kernel(src=src, dst=dst)\n",
    "            src, dst = dst, src\n",
    "        end = perf_counter()\n",
    "    else:\n",
    "        start = perf_counter()\n",
    "        for i in range(inner_repeats):\n",
    "            kernel(src=src, dst=dst)\n",
    "            src, dst = dst, src\n",
    "        end = perf_counter()\n",
    "    return (end - start) / inner_repeats\n",
    "\n",
    "def benchmark_datahandling(domain_size, parallel=False):\n",
    "    dh = ps.create_data_handling(domain_size, parallel=parallel)\n",
    "    f_src = dh.add_array('src')\n",
    "    f_dst = dh.add_array('dst')\n",
    "    kernel = ps.create_kernel(ps.Assignment(f_dst.center, f_src.center)).compile()\n",
    "    start = perf_counter()\n",
    "    for i in range(inner_repeats):\n",
    "        dh.run_kernel(kernel)\n",
    "        dh.swap('src', 'dst')\n",
    "    end = perf_counter()\n",
    "    return (end - start) / inner_repeats\n",
    "   \n",
    "    \n",
    "name_to_func = {\n",
    "    'pure_extract': partial(benchmark_pure, extract_first=True),\n",
    "    'pure_no_extract': partial(benchmark_pure, extract_first=False),\n",
    "    'dh_serial': partial(benchmark_datahandling, parallel=False),\n",
    "    'dh_parallel': partial(benchmark_datahandling, parallel=True),\n",
    "}"
   ]
  },
  {
   "cell_type": "code",
   "execution_count": 4,
   "metadata": {},
   "outputs": [
    {
     "name": "stdout",
     "output_type": "stream",
     "text": [
      "Computing size  2\n",
      "Computing size  4\n",
      "Computing size  8\n",
      "Computing size  16\n",
      "Computing size  32\n",
      "Computing size  64\n",
      "Computing size  128\n"
     ]
    }
   ],
   "source": [
    "result = {'block_size': [],\n",
    "          'name': [],\n",
    "          'time': []}\n",
    "\n",
    "for bs in sizes:\n",
    "    print(\"Computing size \", bs)\n",
    "    for name, func in name_to_func.items():\n",
    "        for i in range(outer_repeats):\n",
    "            time = func((bs, bs))\n",
    "            result['block_size'].append(bs)\n",
    "            result['name'].append(name)\n",
    "            result['time'].append(time)"
   ]
  },
  {
   "cell_type": "code",
   "execution_count": 5,
   "metadata": {},
   "outputs": [
    {
     "data": {
      "image/png": "[encoded data removed]",
      "text/plain": [
       "<Figure size 1152x432 with 2 Axes>"
      ]
     },
     "metadata": {
      "needs_background": "light"
     },
     "output_type": "display_data"
    }
   ],
   "source": [
    "if 'is_test_run' not in globals():\n",
    "    import pandas as pd\n",
    "    import seaborn as sns\n",
    "    \n",
    "    data = pd.DataFrame.from_dict(result)\n",
    "\n",
    "    plt.subplot(1,2,1)\n",
    "    sns.barplot(x='block_size', y='time', hue='name', data=data, alpha=0.6)\n",
    "    plt.yscale('log')\n",
    "\n",
    "    plt.subplot(1,2,2)\n",
    "    data = pd.DataFrame.from_dict(result)\n",
    "    sns.barplot(x='block_size', y='time', hue='name', data=data, alpha=0.6)"
   ]
  }
 ],
 "metadata": {
  "kernelspec": {
   "display_name": "Python 3",
   "language": "python",
   "name": "python3"
  },
  "language_info": {
   "codemirror_mode": {
    "name": "ipython",
    "version": 3
   },
   "file_extension": ".py",
   "mimetype": "text/x-python",
   "name": "python",
   "nbconvert_exporter": "python",
   "pygments_lexer": "ipython3",
   "version": "3.8.2"
  }
 },
 "nbformat": 4,
 "nbformat_minor": 2
}
