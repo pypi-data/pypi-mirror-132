{
 "cells": [
  {
   "cell_type": "code",
   "execution_count": null,
   "metadata": {},
   "outputs": [],
   "source": [
    "import numpy as np\n",
    "import matplotlib.pyplot as plt\n",
    "#from pydgrid.plot_bokeh import plot_results\n",
    "import sympy as sym\n",
    "import pydae.build as db\n",
    "import pydae.build_cffi as db\n",
    "\n",
    "from pydae.grid_urisi import unb_ri_si\n",
    "import json"
   ]
  },
  {
   "cell_type": "code",
   "execution_count": null,
   "metadata": {},
   "outputs": [],
   "source": [
    "!pip install pydgrid"
   ]
  },
  {
   "cell_type": "code",
   "execution_count": null,
   "metadata": {},
   "outputs": [],
   "source": [
    "grid = unb_ri_si('cigre_eu_lv.json')\n",
    "\n",
    "params_dict  = grid.dae['params']\n",
    "f_list = grid.dae['f']\n",
    "x_list = grid.dae['x']\n",
    "g_list = grid.dae['g'] \n",
    "y_list = grid.dae['y'] \n",
    "u_dict = grid.dae['u']\n",
    "\n",
    "\n",
    "h_dict = grid.dae['h_dict']\n",
    "h_dict.update(grid.dae['h_v_m_dict'])\n",
    "\n",
    "sys_dict = {'name':'cigre_eu_lv',\n",
    "           'params_dict':params_dict,\n",
    "           'f_list':f_list,\n",
    "           'g_list':g_list,\n",
    "           'x_list':x_list,\n",
    "           'y_ini_list':y_list,\n",
    "           'y_run_list':y_list,\n",
    "           'u_run_dict':u_dict,\n",
    "           'u_ini_dict':u_dict,\n",
    "           'h_dict':h_dict\n",
    "           }\n",
    "\n",
    "db.build(sys_dict,verbose=True)\n",
    "\n"
   ]
  },
  {
   "cell_type": "code",
   "execution_count": null,
   "metadata": {},
   "outputs": [],
   "source": [
    "db.compile_module_files('cigre_eu_lv')"
   ]
  },
  {
   "cell_type": "code",
   "execution_count": null,
   "metadata": {},
   "outputs": [],
   "source": [
    "delta = np.deg2rad(30)\n",
    "for item in grid.dae['xy_0_dict']:\n",
    "    ph = item.split('_')[2]\n",
    "    ir = item.split('_')[3]\n",
    "    if ph == 'a':\n",
    "        v = 400.0/np.sqrt(3)*np.exp(1j*0.0+delta)\n",
    "        if ir == 'r':\n",
    "            grid.dae['xy_0_dict'][item] = v.real\n",
    "        if ir == 'i':\n",
    "            grid.dae['xy_0_dict'][item] = v.imag\n",
    "    if ph == 'b':\n",
    "        v = 400.0/np.sqrt(3)*np.exp(1j*(-2/3*np.pi+delta))\n",
    "        if ir == 'r':\n",
    "            grid.dae['xy_0_dict'][item] = v.real\n",
    "        if ir == 'i':\n",
    "            grid.dae['xy_0_dict'][item] = v.imag  \n",
    "    if ph == 'c':\n",
    "        v = 400.0/np.sqrt(3)*np.exp(1j*(-4/3*np.pi+delta))\n",
    "        if ir == 'r':\n",
    "            grid.dae['xy_0_dict'][item] = v.real\n",
    "        if ir == 'i':\n",
    "            grid.dae['xy_0_dict'][item] = v.imag \n",
    "\n",
    "data = json.dumps(grid.dae['xy_0_dict'], indent=4)\n",
    "fobj = open(\"xy_0_dict.json\",\"w\")\n",
    "fobj.write(data)\n",
    "fobj.close()            "
   ]
  },
  {
   "cell_type": "code",
   "execution_count": null,
   "metadata": {},
   "outputs": [],
   "source": [
    "grid.dae['xy_0_dict']"
   ]
  },
  {
   "cell_type": "code",
   "execution_count": null,
   "metadata": {},
   "outputs": [],
   "source": [
    "import pydgrid"
   ]
  },
  {
   "cell_type": "code",
   "execution_count": null,
   "metadata": {},
   "outputs": [],
   "source": []
  },
  {
   "cell_type": "code",
   "execution_count": null,
   "metadata": {},
   "outputs": [],
   "source": [
    "grid = pydgrid.grid()\n",
    "grid.read('cigre_eu_lv.json')\n",
    "grid.pf()\n",
    "grid.buses"
   ]
  },
  {
   "cell_type": "code",
   "execution_count": null,
   "metadata": {},
   "outputs": [],
   "source": []
  },
  {
   "cell_type": "code",
   "execution_count": null,
   "metadata": {},
   "outputs": [],
   "source": [
    "grid = unb_ri_si('cigre_eu_lv_reduced.json')\n",
    "\n",
    "params_dict  = grid.dae['params']\n",
    "f_list = grid.dae['f']\n",
    "x_list = grid.dae['x']\n",
    "g_list = grid.dae['g'] \n",
    "y_list = grid.dae['y'] \n",
    "u_dict = grid.dae['u']\n",
    "\n",
    "\n",
    "h_dict = grid.dae['h_dict']\n",
    "h_dict.update(grid.dae['h_v_m_dict'])\n",
    "\n",
    "sys_dict = {'name':'cigre_eu_lv_reduced',\n",
    "           'params_dict':params_dict,\n",
    "           'f_list':f_list,\n",
    "           'g_list':g_list,\n",
    "           'x_list':x_list,\n",
    "           'y_ini_list':y_list,\n",
    "           'y_run_list':y_list,\n",
    "           'u_run_dict':u_dict,\n",
    "           'u_ini_dict':u_dict,\n",
    "           'h_dict':h_dict\n",
    "           }\n",
    "\n",
    "db.build(sys_dict,verbose=True)"
   ]
  },
  {
   "cell_type": "code",
   "execution_count": null,
   "metadata": {},
   "outputs": [],
   "source": []
  }
 ],
 "metadata": {
  "kernelspec": {
   "display_name": "Python 3 (ipykernel)",
   "language": "python",
   "name": "python3"
  },
  "language_info": {
   "codemirror_mode": {
    "name": "ipython",
    "version": 3
   },
   "file_extension": ".py",
   "mimetype": "text/x-python",
   "name": "python",
   "nbconvert_exporter": "python",
   "pygments_lexer": "ipython3",
   "version": "3.9.7"
  }
 },
 "nbformat": 4,
 "nbformat_minor": 4
}
