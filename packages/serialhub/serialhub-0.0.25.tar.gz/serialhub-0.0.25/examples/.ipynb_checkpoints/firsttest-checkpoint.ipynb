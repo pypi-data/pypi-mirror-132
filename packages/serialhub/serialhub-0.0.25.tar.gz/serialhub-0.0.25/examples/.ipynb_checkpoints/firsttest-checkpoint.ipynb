{
 "cells": [
  {
   "cell_type": "code",
   "execution_count": 1,
   "metadata": {},
   "outputs": [
    {
     "name": "stdout",
     "output_type": "stream",
     "text": [
      "\n",
      "    SerialHubWidget class inherits ipywidgets.DOMWidget\n",
      "      Model: SerialHubModel, View: SerialHubView\n",
      "      Synchronized attributes: value (Unicode), status (Unicode)\n",
      "    \n"
     ]
    },
    {
     "data": {
      "text/plain": [
       "'0.0.25'"
      ]
     },
     "execution_count": 1,
     "metadata": {},
     "output_type": "execute_result"
    }
   ],
   "source": [
    "### See cell at bottom if \"serialhub\" is not yet installed ###\n",
    "import serialhub;\n",
    "print(serialhub.backend.SerialHubWidget.__doc__)\n",
    "#print(serialhub.SerialHubWidget)\n",
    "serialhub.__version__"
   ]
  },
  {
   "cell_type": "code",
   "execution_count": 2,
   "metadata": {
    "tags": [
     "test-tag"
    ]
   },
   "outputs": [
    {
     "data": {
      "application/vnd.jupyter.widget-view+json": {
       "model_id": "5997994803d2462bad4f749960ca7417",
       "version_major": 2,
       "version_minor": 0
      },
      "text/plain": [
       "SerialHubWidget()"
      ]
     },
     "metadata": {},
     "output_type": "display_data"
    }
   ],
   "source": [
    "### If \"Unsupported\", then ensure using a modern version of Google Chrome\n",
    "### If on Linux and no input/output happens, check permissions on /dev/ttyACM* files!\n",
    "from IPython.display import display\n",
    "W = serialhub.SerialHubWidget()\n",
    "display(W)"
   ]
  },
  {
   "cell_type": "code",
   "execution_count": 3,
   "metadata": {},
   "outputs": [
    {
     "data": {
      "text/plain": [
       "True"
      ]
     },
     "execution_count": 3,
     "metadata": {},
     "output_type": "execute_result"
    }
   ],
   "source": [
    "W.value = \"CLEARED\\n\"\n",
    "W.isSupported"
   ]
  },
  {
   "cell_type": "code",
   "execution_count": 4,
   "metadata": {},
   "outputs": [
    {
     "data": {
      "application/javascript": [
       "let SPH = window.serPort //Hacky trick, use DOM search instead\n",
       "console.log(\"TEST\", SPH)\n"
      ],
      "text/plain": [
       "<IPython.core.display.Javascript object>"
      ]
     },
     "metadata": {},
     "output_type": "display_data"
    }
   ],
   "source": [
    "%%javascript\n",
    "let SPH = window.serPort //Hacky trick, use DOM search instead\n",
    "console.log(\"TEST\", SPH)"
   ]
  },
  {
   "cell_type": "code",
   "execution_count": 5,
   "metadata": {},
   "outputs": [
    {
     "name": "stdout",
     "output_type": "stream",
     "text": [
      "bytearray(b'abcdefg')\n"
     ]
    }
   ],
   "source": [
    "ba1 = bytearray(b'abcdefg')\n",
    "print(ba1)\n",
    "W.write_bytes(ba1)"
   ]
  },
  {
   "cell_type": "code",
   "execution_count": null,
   "metadata": {},
   "outputs": [],
   "source": [
    "W.send_custom( #Test message to examine marshaling/messaging to client\n",
    "    {'type':\"SEND2\", 'text':'Testing!!!',\n",
    "     'sub': {'a':21}, 'arr':[2,4,6] },\n",
    "    [b'ABC', b'BEEF', bytearray(b'Barakas')]\n",
    ")"
   ]
  },
  {
   "cell_type": "markdown",
   "metadata": {},
   "source": [
    "---"
   ]
  },
  {
   "cell_type": "code",
   "execution_count": null,
   "metadata": {},
   "outputs": [],
   "source": [
    "### TO INSTALL manually for individual user...followed by kernel restart & browser refresh ###\n",
    "%pip install serialhub\n",
    "\n",
    "!jupyter lab build --minimize=False\n",
    "\n",
    "from jupyterlab import labextensions;\n",
    "if (labextensions.check_extension('serialhub')):\n",
    "    import serialhub;\n",
    "    print(serialhub.__version__);\n",
    "    %pip show serialhub\n",
    "else:\n",
    "    print(\"Likely need to let jupyterlab rebuild, and also refresh browser\")\n",
    "#    print(\"I don't know if you also need to do a '%pip install serialhub' or not!\")\n",
    "#    labextensions.install_extension('serialhub');"
   ]
  }
 ],
 "metadata": {
  "kernelspec": {
   "display_name": "Python 3 (ipykernel)",
   "language": "python",
   "name": "python3"
  },
  "language_info": {
   "codemirror_mode": {
    "name": "ipython",
    "version": 3
   },
   "file_extension": ".py",
   "mimetype": "text/x-python",
   "name": "python",
   "nbconvert_exporter": "python",
   "pygments_lexer": "ipython3",
   "version": "3.10.0"
  }
 },
 "nbformat": 4,
 "nbformat_minor": 4
}
