{
 "cells": [
  {
   "cell_type": "code",
   "execution_count": 1,
   "metadata": {},
   "outputs": [],
   "source": [
    "#default_exp liftover"
   ]
  },
  {
   "cell_type": "code",
   "execution_count": 14,
   "metadata": {},
   "outputs": [],
   "source": [
    "#hide\n",
    "%load_ext autoreload\n",
    "%autoreload 2"
   ]
  },
  {
   "cell_type": "markdown",
   "metadata": {
    "tags": []
   },
   "source": [
    "# Liftover module\n",
    "\n",
    "> Liftover genodata and sumstat"
   ]
  },
  {
   "cell_type": "code",
   "execution_count": 2,
   "metadata": {},
   "outputs": [],
   "source": [
    "#hide\n",
    "from nbdev.showdoc import *"
   ]
  },
  {
   "cell_type": "code",
   "execution_count": 1,
   "metadata": {},
   "outputs": [],
   "source": [
    "#export\n",
    "import gzip\n",
    "from liftover import get_lifter"
   ]
  },
  {
   "cell_type": "code",
   "execution_count": 54,
   "metadata": {},
   "outputs": [],
   "source": [
    "#export\n",
    "class Liftover:\n",
    "    def __init__(self,fr='hg19',to='hg38'):\n",
    "        self.fr,self.to = fr,to\n",
    "        self.chainmap = get_lifter(fr, to)\n",
    "        #self.fasta \n",
    "              \n",
    "    def variants_liftover(self,chrom,pos):\n",
    "        if len(chrom) == 1:\n",
    "            chrom = [chrom]*len(pos)\n",
    "        lchr,lpos = [],[]\n",
    "        for c,p in zip(chrom,pos):\n",
    "            new_c,new_p = self.chrpos_liftover(c,p)\n",
    "            lchr.append(new_c)\n",
    "            lpos.append(new_p)\n",
    "        return lchr,lpos\n",
    "    \n",
    "    def chrpos_liftover(self,chrom,pos):\n",
    "        try:\n",
    "            if chrom == 'X':\n",
    "                chrom = 23\n",
    "            elif chrom =='Y':\n",
    "                chrom = 24\n",
    "            new_c,new_p,_ = self.chainmap[int(chrom)][pos][0]\n",
    "            return int(new_c[3:]),new_p\n",
    "        except:\n",
    "            return 0,0\n",
    "           \n",
    "        #The function to liftover bim\n",
    "    def bim_liftover(self,bim):\n",
    "        new_bim = bim.copy()\n",
    "        lchr,lpos = self.variants_liftover(bim.chrom,bim.pos)\n",
    "        new_bim.chrom =lchr\n",
    "        new_bim.pos = lpos\n",
    "        new_bim.snp = 'chr'+new_bim[['chrom','pos','a0','a1']].astype(str).agg(':'.join, axis=1)\n",
    "        return new_bim\n",
    "\n",
    "    \n",
    "    def sumstat_liftover(self,ss):\n",
    "        new_ss = ss.copy()\n",
    "        lchr,lpos = self.variants_liftover(ss.CHR,ss.POS)\n",
    "        new_ss.CHR =lchr\n",
    "        new_ss.POS = lpos\n",
    "        new_ss.SNP = 'chr'+new_ss[['CHR','POS','REF','ALT']].astype(str).agg(':'.join, axis=1)\n",
    "        return new_ss\n",
    "    \n",
    "    def vcf_liftover(self,vcf,vcf_out=None):\n",
    "        if vcf_out is None:\n",
    "            vcf_out = vcf[:-7]+'_'+self.fr+'To'+self.to+vcf[-7:]\n",
    "        count_fail,total= 0,0\n",
    "        with gzip.open(vcf, 'rt') as ifile:\n",
    "            with gzip.open(vcf_out,'wt') as ofile:\n",
    "                for line in ifile:\n",
    "                    if line.startswith(\"#\"):\n",
    "                        ofile.write(line)\n",
    "                    else:\n",
    "                        variant = [x for x in line.split('\\t')]\n",
    "                        new_c,new_p = self.chrpos_liftover(variant[0],int(variant[1]))\n",
    "                        if new_c == 0:\n",
    "                            count_fail +=1\n",
    "                        total +=1\n",
    "                        variant[0] = str(new_c)\n",
    "                        variant[1] = str(new_p)\n",
    "                        variant[2] = 'chr'+':'.join(variant[:2]+variant[3:5])\n",
    "                        ofile.write('\\t'.join(variant))\n",
    "            ofile.close()       \n",
    "        ifile.close()\n",
    "        print(\"Total number SNPs \",total,\". The number of SNPs failed to liftover \" count_fail)\n",
    "        \n",
    "    def region_liftover(self,region):\n",
    "        imp_cs,imp_start = self.chrpos_liftover(region[0],region[1])\n",
    "        imp_ce,imp_end = self.chrpos_liftover(region[0],region[2])\n",
    "        if imp_cs !=imp_ce:\n",
    "            raise ValueError('After liftover, the region is not in the same chromosome anymore.')\n",
    "        return imp_cs,imp_start,imp_end\n",
    "    \n",
    "    def df_liftover(self):\n",
    "        pass\n"
   ]
  },
  {
   "cell_type": "code",
   "execution_count": 55,
   "metadata": {},
   "outputs": [],
   "source": [
    "lf = Liftover('hg19','hg38')"
   ]
  },
  {
   "cell_type": "code",
   "execution_count": 11,
   "metadata": {},
   "outputs": [],
   "source": [
    "vcf ='data/GH.AR.SAD.P1.001.0_X3547_S42_1180478_GVCF.hard-filtered.gvcf.gz'"
   ]
  },
  {
   "cell_type": "code",
   "execution_count": 56,
   "metadata": {},
   "outputs": [
    {
     "data": {
      "text/plain": [
       "(5, 272626, 313413)"
      ]
     },
     "execution_count": 56,
     "metadata": {},
     "output_type": "execute_result"
    }
   ],
   "source": [
    "lf.region_liftover([5,272741,1213528-900000])"
   ]
  },
  {
   "cell_type": "code",
   "execution_count": 12,
   "metadata": {},
   "outputs": [],
   "source": [
    "lf.vcf_liftover(vcf)"
   ]
  },
  {
   "cell_type": "markdown",
   "metadata": {},
   "source": [
    "### Test liftover sumstat"
   ]
  },
  {
   "cell_type": "code",
   "execution_count": 16,
   "metadata": {},
   "outputs": [],
   "source": [
    "from LDtools.sumstat import Sumstat\n",
    "from LDtools.liftover import Liftover\n",
    "def gwas_liftover(input_path,output_path,output_unmapped,output_mapped,fr='hg19',to='hg38',remove_missing=False):\n",
    "    lf = Liftover(fr,to)\n",
    "    print(\"reading GWAS sumstat\")\n",
    "    sums = Sumstat(input_path)\n",
    "    print(\"liftover from\" + fr +\"to\" +to)\n",
    "    sums1 = lf.sumstat_liftover(sums.ss)\n",
    "    if remove_missing:\n",
    "        sums1[sums1.CHR == 0].to_csv(output_unmapped, compression='gzip', sep = \"\\t\", header = True, index = False)\n",
    "        sums1[sums1.CHR != 0].to_csv(output_mapped, compression='gzip', sep = \"\\t\", header = True, index = False)\n",
    "    else:\n",
    "        sums1.to_csv(output_path, compression='gzip', sep = \"\\t\", header = True, index = False)"
   ]
  },
  {
   "cell_type": "code",
   "execution_count": null,
   "metadata": {},
   "outputs": [],
   "source": [
    "def gwas_liftover(input_file,output_path=None,fr='hg19',to='hg38',remove_missing=False):\n",
    "    if output_path is None:\n",
    "        output_path = os.path.dirname(input_file)+'/'\n",
    "    basename = os.path.basename(input_file)\n",
    "    lf = Liftover('hg19','hg38')\n",
    "    print(\"reading GWAS sumstat\")\n",
    "    sums = Sumstat(input_path)\n",
    "    print(\"liftover from\" + fr +\"to\" +to)\n",
    "    sums1 = lf.sumstat_liftover(sums.ss)\n",
    "    if remove_missing:\n",
    "        sums1[sums1.CHR == 0].to_csv(output_unmapped, compression='gzip', sep = \"\\t\", header = True, index = False)\n",
    "        sums1[sums1.CHR != 0].to_csv(output_mapped, compression='gzip', sep = \"\\t\", header = True, index = False)\n",
    "    else:\n",
    "        sums1.to_csv(output_path, compression='gzip', sep = \"\\t\", header = True, index = False)"
   ]
  },
  {
   "cell_type": "code",
   "execution_count": null,
   "metadata": {},
   "outputs": [],
   "source": [
    "sumstats_lifted = f'{cwd}/{_input:bnn}.hg38.sumstats.gz',\n",
    "sumstats_unmapped = f'{cwd}/{_input:bnn}.hg38.sumstats_unmapped.gz',\n",
    "sumstats_mapped = f'{cwd}/{_input:bnn}.hg38.sumstats_mapped.gz'"
   ]
  },
  {
   "cell_type": "code",
   "execution_count": 37,
   "metadata": {},
   "outputs": [],
   "source": [
    "import os"
   ]
  },
  {
   "cell_type": "code",
   "execution_count": 41,
   "metadata": {},
   "outputs": [],
   "source": [
    "tmp = os.path.basename(input_path)"
   ]
  },
  {
   "cell_type": "code",
   "execution_count": 42,
   "metadata": {},
   "outputs": [
    {
     "data": {
      "text/plain": [
       "('100521_UKBB_Combined_f2247_f2257_expandedwhite_93258cases_237318ctrl_500k_PC1_PC2_f2247_f2257.regenie.snp_stats',\n",
       " '.gz')"
      ]
     },
     "execution_count": 42,
     "metadata": {},
     "output_type": "execute_result"
    }
   ],
   "source": [
    "os.path.splitext(tmp)"
   ]
  },
  {
   "cell_type": "code",
   "execution_count": 40,
   "metadata": {},
   "outputs": [
    {
     "data": {
      "text/plain": [
       "'/home/dmc2245/UKBiobank/results/REGENIE_results/results_imputed_data/2021_10_07_combined_500K/'"
      ]
     },
     "execution_count": 40,
     "metadata": {},
     "output_type": "execute_result"
    }
   ],
   "source": [
    "os.path.dirname(input_path)+'/'"
   ]
  },
  {
   "cell_type": "code",
   "execution_count": 19,
   "metadata": {},
   "outputs": [],
   "source": [
    "sums = Sumstat(input_path)"
   ]
  },
  {
   "cell_type": "code",
   "execution_count": 33,
   "metadata": {},
   "outputs": [],
   "source": [
    "lf = Liftover('hg19','hg38')"
   ]
  },
  {
   "cell_type": "code",
   "execution_count": 34,
   "metadata": {},
   "outputs": [
    {
     "data": {
      "text/html": [
       "<div>\n",
       "<style scoped>\n",
       "    .dataframe tbody tr th:only-of-type {\n",
       "        vertical-align: middle;\n",
       "    }\n",
       "\n",
       "    .dataframe tbody tr th {\n",
       "        vertical-align: top;\n",
       "    }\n",
       "\n",
       "    .dataframe thead th {\n",
       "        text-align: right;\n",
       "    }\n",
       "</style>\n",
       "<table border=\"1\" class=\"dataframe\">\n",
       "  <thead>\n",
       "    <tr style=\"text-align: right;\">\n",
       "      <th></th>\n",
       "      <th>CHR</th>\n",
       "      <th>POS</th>\n",
       "      <th>REF</th>\n",
       "      <th>ALT</th>\n",
       "      <th>SNP</th>\n",
       "      <th>BETA</th>\n",
       "      <th>SE</th>\n",
       "      <th>P</th>\n",
       "    </tr>\n",
       "  </thead>\n",
       "  <tbody>\n",
       "    <tr>\n",
       "      <th>0</th>\n",
       "      <td>1</td>\n",
       "      <td>13259</td>\n",
       "      <td>G</td>\n",
       "      <td>A</td>\n",
       "      <td>chr1:13259:G:A</td>\n",
       "      <td>0.434586</td>\n",
       "      <td>0.175780</td>\n",
       "      <td>0.014801</td>\n",
       "    </tr>\n",
       "    <tr>\n",
       "      <th>1</th>\n",
       "      <td>1</td>\n",
       "      <td>17569</td>\n",
       "      <td>C</td>\n",
       "      <td>A</td>\n",
       "      <td>chr1:17569:C:A</td>\n",
       "      <td>-0.030568</td>\n",
       "      <td>0.795968</td>\n",
       "      <td>0.969366</td>\n",
       "    </tr>\n",
       "    <tr>\n",
       "      <th>2</th>\n",
       "      <td>1</td>\n",
       "      <td>17641</td>\n",
       "      <td>G</td>\n",
       "      <td>A</td>\n",
       "      <td>chr1:17641:G:A</td>\n",
       "      <td>-0.078881</td>\n",
       "      <td>0.108663</td>\n",
       "      <td>0.467883</td>\n",
       "    </tr>\n",
       "    <tr>\n",
       "      <th>3</th>\n",
       "      <td>1</td>\n",
       "      <td>30741</td>\n",
       "      <td>C</td>\n",
       "      <td>A</td>\n",
       "      <td>chr1:30741:C:A</td>\n",
       "      <td>-1.599610</td>\n",
       "      <td>0.990472</td>\n",
       "      <td>0.044798</td>\n",
       "    </tr>\n",
       "    <tr>\n",
       "      <th>4</th>\n",
       "      <td>1</td>\n",
       "      <td>57222</td>\n",
       "      <td>T</td>\n",
       "      <td>C</td>\n",
       "      <td>chr1:57222:T:C</td>\n",
       "      <td>0.031666</td>\n",
       "      <td>0.121422</td>\n",
       "      <td>0.794253</td>\n",
       "    </tr>\n",
       "    <tr>\n",
       "      <th>5</th>\n",
       "      <td>1</td>\n",
       "      <td>58396</td>\n",
       "      <td>T</td>\n",
       "      <td>C</td>\n",
       "      <td>chr1:58396:T:C</td>\n",
       "      <td>0.366266</td>\n",
       "      <td>0.172004</td>\n",
       "      <td>0.035663</td>\n",
       "    </tr>\n",
       "    <tr>\n",
       "      <th>6</th>\n",
       "      <td>1</td>\n",
       "      <td>62157</td>\n",
       "      <td>G</td>\n",
       "      <td>A</td>\n",
       "      <td>chr1:62157:G:A</td>\n",
       "      <td>-0.147251</td>\n",
       "      <td>0.296105</td>\n",
       "      <td>0.618983</td>\n",
       "    </tr>\n",
       "    <tr>\n",
       "      <th>7</th>\n",
       "      <td>1</td>\n",
       "      <td>62595</td>\n",
       "      <td>C</td>\n",
       "      <td>T</td>\n",
       "      <td>chr1:62595:C:T</td>\n",
       "      <td>0.356993</td>\n",
       "      <td>0.171623</td>\n",
       "      <td>0.040096</td>\n",
       "    </tr>\n",
       "    <tr>\n",
       "      <th>8</th>\n",
       "      <td>1</td>\n",
       "      <td>69487</td>\n",
       "      <td>G</td>\n",
       "      <td>A</td>\n",
       "      <td>chr1:69487:G:A</td>\n",
       "      <td>-0.559373</td>\n",
       "      <td>0.853882</td>\n",
       "      <td>0.512407</td>\n",
       "    </tr>\n",
       "    <tr>\n",
       "      <th>9</th>\n",
       "      <td>1</td>\n",
       "      <td>69569</td>\n",
       "      <td>T</td>\n",
       "      <td>C</td>\n",
       "      <td>chr1:69569:T:C</td>\n",
       "      <td>0.232690</td>\n",
       "      <td>0.216585</td>\n",
       "      <td>0.282662</td>\n",
       "    </tr>\n",
       "  </tbody>\n",
       "</table>\n",
       "</div>"
      ],
      "text/plain": [
       "   CHR    POS REF ALT             SNP      BETA        SE         P\n",
       "0    1  13259   G   A  chr1:13259:G:A  0.434586  0.175780  0.014801\n",
       "1    1  17569   C   A  chr1:17569:C:A -0.030568  0.795968  0.969366\n",
       "2    1  17641   G   A  chr1:17641:G:A -0.078881  0.108663  0.467883\n",
       "3    1  30741   C   A  chr1:30741:C:A -1.599610  0.990472  0.044798\n",
       "4    1  57222   T   C  chr1:57222:T:C  0.031666  0.121422  0.794253\n",
       "5    1  58396   T   C  chr1:58396:T:C  0.366266  0.172004  0.035663\n",
       "6    1  62157   G   A  chr1:62157:G:A -0.147251  0.296105  0.618983\n",
       "7    1  62595   C   T  chr1:62595:C:T  0.356993  0.171623  0.040096\n",
       "8    1  69487   G   A  chr1:69487:G:A -0.559373  0.853882  0.512407\n",
       "9    1  69569   T   C  chr1:69569:T:C  0.232690  0.216585  0.282662"
      ]
     },
     "execution_count": 34,
     "metadata": {},
     "output_type": "execute_result"
    }
   ],
   "source": [
    "lf.sumstat_liftover(sums.ss[:10])"
   ]
  },
  {
   "cell_type": "code",
   "execution_count": 25,
   "metadata": {},
   "outputs": [],
   "source": [
    "\n",
    "def main(input_path,output_path,remove_missing):\n",
    "    sums = read_regenie(input_path)\n",
    "    sums1 = sumstat_liftover(sums)\n",
    "    if remove_missing:\n",
    "        sums1[sums1.CHR == 0].to_csv(output_path, sep = \"\\t\", header = True, index = False)\n",
    "    else:\n",
    "        sums1.to_csv(output_path, sep = \"\\t\", header = True, index = False)"
   ]
  },
  {
   "cell_type": "code",
   "execution_count": 18,
   "metadata": {},
   "outputs": [],
   "source": [
    "input_path = '/home/dmc2245/UKBiobank/results/REGENIE_results/results_imputed_data/2021_10_07_combined_500K/100521_UKBB_Combined_f2247_f2257_expandedwhite_93258cases_237318ctrl_500k_PC1_PC2_f2247_f2257.regenie.snp_stats.gz'\n",
    "output_path = ''\n",
    "remove_missing = True"
   ]
  },
  {
   "cell_type": "code",
   "execution_count": 2,
   "metadata": {},
   "outputs": [],
   "source": [
    "main(input_path,output_path,remove_missing)"
   ]
  },
  {
   "cell_type": "code",
   "execution_count": 44,
   "metadata": {},
   "outputs": [
    {
     "ename": "TypeError",
     "evalue": "sequence item 0: expected str instance, int found",
     "output_type": "error",
     "traceback": [
      "\u001b[0;31m---------------------------------------------------------------------------\u001b[0m",
      "\u001b[0;31mTypeError\u001b[0m                                 Traceback (most recent call last)",
      "\u001b[0;32m/tmp/1967998.1.high_mem.q/ipykernel_39087/731612175.py\u001b[0m in \u001b[0;36m<module>\u001b[0;34m\u001b[0m\n\u001b[0;32m----> 1\u001b[0;31m \u001b[0;34m':'\u001b[0m\u001b[0;34m.\u001b[0m\u001b[0mjoin\u001b[0m\u001b[0;34m(\u001b[0m\u001b[0;34m[\u001b[0m\u001b[0;36m1\u001b[0m\u001b[0;34m,\u001b[0m\u001b[0;34m'1'\u001b[0m\u001b[0;34m]\u001b[0m\u001b[0;34m)\u001b[0m\u001b[0;34m\u001b[0m\u001b[0;34m\u001b[0m\u001b[0m\n\u001b[0m",
      "\u001b[0;31mTypeError\u001b[0m: sequence item 0: expected str instance, int found"
     ]
    }
   ],
   "source": [
    "':'.join([1,'1'])"
   ]
  },
  {
   "cell_type": "code",
   "execution_count": null,
   "metadata": {},
   "outputs": [],
   "source": []
  }
 ],
 "metadata": {
  "kernelspec": {
   "display_name": "Python 3 (ipykernel)",
   "language": "python",
   "name": "python3"
  },
  "language_info": {
   "codemirror_mode": {
    "name": "ipython",
    "version": 3
   },
   "file_extension": ".py",
   "mimetype": "text/x-python",
   "name": "python",
   "nbconvert_exporter": "python",
   "pygments_lexer": "ipython3",
   "version": "3.8.5"
  }
 },
 "nbformat": 4,
 "nbformat_minor": 4
}
