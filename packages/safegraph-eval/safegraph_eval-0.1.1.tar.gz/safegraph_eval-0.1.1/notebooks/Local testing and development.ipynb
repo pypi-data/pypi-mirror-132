{
 "cells": [
  {
   "cell_type": "markdown",
   "id": "08264de9",
   "metadata": {},
   "source": [
    "# Steps to build and test your .py files in a notebook\n",
    "\n",
    "## 0. This assumes you cloned the github repo from here https://github.com/echong-SG/safegraph_eval\n",
    "\n",
    "## 1. Add wherever the cloned repo folder to your system path. This will allow you to import your function from this notebook folder."
   ]
  },
  {
   "cell_type": "code",
   "execution_count": 1,
   "id": "aa78278a",
   "metadata": {},
   "outputs": [
    {
     "name": "stdout",
     "output_type": "stream",
     "text": [
      "['/Users/jeffho/Documents/Github/safegraph_eval/notebooks', '/Users/jeffho/.pyenv/versions/3.7.0/lib/python37.zip', '/Users/jeffho/.pyenv/versions/3.7.0/lib/python3.7', '/Users/jeffho/.pyenv/versions/3.7.0/lib/python3.7/lib-dynload', '', '/Users/jeffho/.pyenv/versions/3.7.0/envs/python-3.7.0/lib/python3.7/site-packages', '/Users/jeffho/.pyenv/versions/3.7.0/envs/python-3.7.0/lib/python3.7/site-packages/IPython/extensions', '/Users/jeffho/.ipython', '/Users/jeffho/Documents/Github/safegraph_eval']\n"
     ]
    }
   ],
   "source": [
    "import sys\n",
    "import os\n",
    "\n",
    "module_path = os.path.abspath(os.path.join('..'))\n",
    "if module_path not in sys.path:\n",
    "    sys.path.append(module_path)\n",
    "print(sys.path)"
   ]
  },
  {
   "cell_type": "markdown",
   "id": "689d0d62",
   "metadata": {},
   "source": [
    "Notice how '/Users/jeffho/Documents/Github/safegraph_eval' is the latest entry."
   ]
  },
  {
   "cell_type": "code",
   "execution_count": 2,
   "id": "305d1532",
   "metadata": {},
   "outputs": [],
   "source": [
    "from safegraph_eval.ingest import ingest #note this is safegraph_eval/safegraph_eval/ingest/ingest.py NOT the src file"
   ]
  },
  {
   "cell_type": "code",
   "execution_count": 3,
   "id": "4f4f7c90",
   "metadata": {},
   "outputs": [
    {
     "data": {
      "text/plain": [
       "4"
      ]
     },
     "execution_count": 3,
     "metadata": {},
     "output_type": "execute_result"
    }
   ],
   "source": [
    "ingest.add_one(3)"
   ]
  },
  {
   "cell_type": "markdown",
   "id": "b6b84403",
   "metadata": {},
   "source": [
    "## 2. Enable autoreload magic command. This will allow you to edit raw .py files in src/safegraph_eval/wherever and not have to re-import them after every edit"
   ]
  },
  {
   "cell_type": "markdown",
   "id": "616f3e45",
   "metadata": {},
   "source": [
    "Go to safegraph_eval/safegraph_eval/ingest/ingest.py and make a function called add_two()"
   ]
  },
  {
   "cell_type": "code",
   "execution_count": 4,
   "id": "6461c776",
   "metadata": {},
   "outputs": [
    {
     "ename": "AttributeError",
     "evalue": "module 'safegraph_eval.ingest.ingest' has no attribute 'add_two'",
     "output_type": "error",
     "traceback": [
      "\u001b[0;31m---------------------------------------------------------------------------\u001b[0m",
      "\u001b[0;31mAttributeError\u001b[0m                            Traceback (most recent call last)",
      "\u001b[0;32m<ipython-input-4-281929eb6539>\u001b[0m in \u001b[0;36m<module>\u001b[0;34m\u001b[0m\n\u001b[0;32m----> 1\u001b[0;31m \u001b[0mingest\u001b[0m\u001b[0;34m.\u001b[0m\u001b[0madd_two\u001b[0m\u001b[0;34m(\u001b[0m\u001b[0;36m3\u001b[0m\u001b[0;34m)\u001b[0m \u001b[0;31m#this shouldn't work yet because you haven't run the next cell\u001b[0m\u001b[0;34m\u001b[0m\u001b[0m\n\u001b[0m",
      "\u001b[0;31mAttributeError\u001b[0m: module 'safegraph_eval.ingest.ingest' has no attribute 'add_two'"
     ]
    }
   ],
   "source": [
    "ingest.add_two(3) #this shouldn't work yet because you haven't run the next cell and haven't re-imported the module"
   ]
  },
  {
   "cell_type": "code",
   "execution_count": 5,
   "id": "569fd51c",
   "metadata": {},
   "outputs": [],
   "source": [
    "%load_ext autoreload\n",
    "%autoreload 2"
   ]
  },
  {
   "cell_type": "code",
   "execution_count": 7,
   "id": "c160d5e3",
   "metadata": {},
   "outputs": [
    {
     "data": {
      "text/plain": [
       "5"
      ]
     },
     "execution_count": 7,
     "metadata": {},
     "output_type": "execute_result"
    }
   ],
   "source": [
    "ingest.add_two(3) #this should work now without re-importing the module"
   ]
  }
 ],
 "metadata": {
  "kernelspec": {
   "display_name": "Python 3",
   "language": "python",
   "name": "python3"
  },
  "language_info": {
   "codemirror_mode": {
    "name": "ipython",
    "version": 3
   },
   "file_extension": ".py",
   "mimetype": "text/x-python",
   "name": "python",
   "nbconvert_exporter": "python",
   "pygments_lexer": "ipython3",
   "version": "3.7.0"
  }
 },
 "nbformat": 4,
 "nbformat_minor": 5
}
