{
 "cells": [
  {
   "cell_type": "code",
   "execution_count": 18,
   "metadata": {},
   "outputs": [],
   "source": [
    "import os\n",
    "import sys\n",
    "import re\n",
    "from shutil import rmtree\n",
    "import base64\n",
    "from github import Github, GithubException, UnknownObjectException"
   ]
  },
  {
   "cell_type": "code",
   "execution_count": 19,
   "metadata": {},
   "outputs": [],
   "source": [
    "ORG = 'Nino-cunei'\n",
    "REPO = 'oldbabylonian'\n",
    "COMMIT = '20173f788d445e60e4bc40891f2fee26044119a1'\n",
    "DWN = os.path.expanduser('~/Downloads')"
   ]
  },
  {
   "cell_type": "code",
   "execution_count": 20,
   "metadata": {},
   "outputs": [],
   "source": [
    "g = Github()\n",
    "repoObj = g.get_repo(f'{ORG}/{REPO}')"
   ]
  },
  {
   "cell_type": "code",
   "execution_count": 26,
   "metadata": {},
   "outputs": [
    {
     "data": {
      "text/plain": [
       "'https://codeload.github.com/Nino-cunei/oldbabylonian/legacy.zip/master'"
      ]
     },
     "execution_count": 26,
     "metadata": {},
     "output_type": "execute_result"
    }
   ],
   "source": [
    "repoObj.get_archive_link('zipball')"
   ]
  },
  {
   "cell_type": "code",
   "execution_count": 9,
   "metadata": {},
   "outputs": [],
   "source": [
    "repoObj2 = g.get_repo(f'Dans-labs/ehri-tools')"
   ]
  },
  {
   "cell_type": "code",
   "execution_count": 16,
   "metadata": {},
   "outputs": [
    {
     "name": "stdout",
     "output_type": "stream",
     "text": [
      "No release tagged \"v1.4\"\n"
     ]
    }
   ],
   "source": [
    "try:\n",
    "  releaseObjET = repoObj2.get_release('v1.4')\n",
    "except UnknownObjectException:\n",
    "  print('No release tagged \"v1.4\"')\n",
    "except Exception as exc:\n",
    "  print(f'error {exc}')"
   ]
  },
  {
   "cell_type": "code",
   "execution_count": 17,
   "metadata": {},
   "outputs": [
    {
     "name": "stdout",
     "output_type": "stream",
     "text": [
      "No releases\n"
     ]
    }
   ],
   "source": [
    "try:\n",
    "  releaseObjET = repoObj2.get_latest_release()\n",
    "except UnknownObjectException:\n",
    "  print('No releases')\n",
    "except Exception as exc:\n",
    "  print(f'error {exc}')"
   ]
  },
  {
   "cell_type": "code",
   "execution_count": 4,
   "metadata": {},
   "outputs": [],
   "source": [
    "releaseObj = repoObj.get_latest_release()"
   ]
  },
  {
   "cell_type": "code",
   "execution_count": 5,
   "metadata": {},
   "outputs": [
    {
     "data": {
      "text/plain": [
       "GitRelease(title=\"New data version\")"
      ]
     },
     "execution_count": 5,
     "metadata": {},
     "output_type": "execute_result"
    }
   ],
   "source": [
    "releaseObj"
   ]
  },
  {
   "cell_type": "code",
   "execution_count": 6,
   "metadata": {},
   "outputs": [],
   "source": [
    "releaseObj2 = repoObj.get_release('v1.4')"
   ]
  },
  {
   "cell_type": "code",
   "execution_count": 8,
   "metadata": {},
   "outputs": [
    {
     "data": {
      "text/plain": [
       "True"
      ]
     },
     "execution_count": 8,
     "metadata": {},
     "output_type": "execute_result"
    }
   ],
   "source": [
    "releaseObj == releaseObj2"
   ]
  },
  {
   "cell_type": "code",
   "execution_count": 14,
   "metadata": {},
   "outputs": [
    {
     "data": {
      "text/plain": [
       "'v1.4'"
      ]
     },
     "execution_count": 14,
     "metadata": {},
     "output_type": "execute_result"
    }
   ],
   "source": [
    "releaseObj.tag_name"
   ]
  },
  {
   "cell_type": "code",
   "execution_count": 7,
   "metadata": {},
   "outputs": [
    {
     "data": {
      "text/plain": [
       "'v1.4'"
      ]
     },
     "execution_count": 7,
     "metadata": {},
     "output_type": "execute_result"
    }
   ],
   "source": [
    "releaseObj2.tag_name"
   ]
  },
  {
   "cell_type": "code",
   "execution_count": 16,
   "metadata": {},
   "outputs": [
    {
     "data": {
      "text/plain": [
       "'master'"
      ]
     },
     "execution_count": 16,
     "metadata": {},
     "output_type": "execute_result"
    }
   ],
   "source": [
    "releaseObj.target_commitish"
   ]
  },
  {
   "cell_type": "code",
   "execution_count": 18,
   "metadata": {},
   "outputs": [],
   "source": [
    "ref = repoObj.get_git_ref(f'tags/{releaseObj.tag_name}')"
   ]
  },
  {
   "cell_type": "code",
   "execution_count": 19,
   "metadata": {},
   "outputs": [
    {
     "data": {
      "text/plain": [
       "GitRef(ref=\"refs/tags/v1.4\")"
      ]
     },
     "execution_count": 19,
     "metadata": {},
     "output_type": "execute_result"
    }
   ],
   "source": [
    "ref"
   ]
  },
  {
   "cell_type": "code",
   "execution_count": 21,
   "metadata": {},
   "outputs": [
    {
     "data": {
      "text/plain": [
       "'43c36d148794e3feeb3dd39e105ce6a4df79c467'"
      ]
     },
     "execution_count": 21,
     "metadata": {},
     "output_type": "execute_result"
    }
   ],
   "source": [
    "ref.object.sha"
   ]
  },
  {
   "cell_type": "code",
   "execution_count": 6,
   "metadata": {},
   "outputs": [],
   "source": [
    "commitsObj = repoObj.get_commits()"
   ]
  },
  {
   "cell_type": "code",
   "execution_count": 9,
   "metadata": {},
   "outputs": [
    {
     "data": {
      "text/plain": [
       "41"
      ]
     },
     "execution_count": 9,
     "metadata": {},
     "output_type": "execute_result"
    }
   ],
   "source": [
    "commitsObj.totalCount"
   ]
  },
  {
   "cell_type": "code",
   "execution_count": 10,
   "metadata": {},
   "outputs": [
    {
     "data": {
      "text/plain": [
       "Commit(sha=\"20173f788d445e60e4bc40891f2fee26044119a1\")"
      ]
     },
     "execution_count": 10,
     "metadata": {},
     "output_type": "execute_result"
    }
   ],
   "source": [
    "commitsObj[0]"
   ]
  },
  {
   "cell_type": "code",
   "execution_count": 11,
   "metadata": {},
   "outputs": [
    {
     "data": {
      "text/plain": [
       "'20173f788d445e60e4bc40891f2fee26044119a1'"
      ]
     },
     "execution_count": 11,
     "metadata": {},
     "output_type": "execute_result"
    }
   ],
   "source": [
    "commitsObj[0].sha"
   ]
  },
  {
   "cell_type": "code",
   "execution_count": 13,
   "metadata": {},
   "outputs": [],
   "source": [
    "def getGhDir(org, repo, commit, path, dest, exclude=None):\n",
    "  destPath = f'{dest}/{path}'\n",
    "  if os.path.exists(destPath):\n",
    "    rmtree(destPath)\n",
    "  os.makedirs(destPath, exist_ok=True)\n",
    "  \n",
    "  g = Github()\n",
    "  repoObj = g.get_repo(f'{org}/{repo}')\n",
    "  \n",
    "  excludeRe = re.compile(exclude) if exclude else None\n",
    "  \n",
    "  good = True\n",
    "  \n",
    "  def _getGhDir(subPath, level=0):\n",
    "    nonlocal good\n",
    "    lead = '\\t' * level\n",
    "    contents = repoObj.get_dir_contents(subPath, ref=commit)\n",
    "    for content in contents:\n",
    "      thisPath = content.path\n",
    "      sys.stdout.write(f'{lead}{thisPath}...')\n",
    "      if exclude and excludeRe.search(thisPath):\n",
    "        print('excluded')\n",
    "        continue\n",
    "      if content.type == 'dir':\n",
    "        print('directory')\n",
    "        os.makedirs(f'{dest}/{thisPath}', exist_ok=True)\n",
    "        _getGhDir(thisPath, level + 1)\n",
    "      else:\n",
    "        try:\n",
    "          fileContent = repoObj.get_git_blob(content.sha)\n",
    "          fileData = base64.b64decode(fileContent.content)\n",
    "          fileDest = f'{dest}/{thisPath}'\n",
    "          with open(fileDest, 'wb') as fd:\n",
    "            fd.write(fileData)\n",
    "          print('downloaded')\n",
    "        except (GithubException, IOError) as exc:\n",
    "          print('error')\n",
    "          print(f'{lead}{exc}')\n",
    "          good = False\n",
    "\n",
    "  _getGhDir(path, 0)\n",
    "  \n",
    "  if good:\n",
    "    print('OK')\n",
    "  else:\n",
    "    print('Done. There were errors')\n",
    "    \n",
    "  return good"
   ]
  },
  {
   "cell_type": "code",
   "execution_count": 16,
   "metadata": {},
   "outputs": [
    {
     "name": "stdout",
     "output_type": "stream",
     "text": [
      "parallels/tf/1.0.1...directory\n",
      "\tparallels/tf/1.0.1/sim.tf...excluded\n",
      "parallels/tf/1.0.4...directory\n",
      "\tparallels/tf/1.0.4/sim.tf...excluded\n",
      "OK\n"
     ]
    },
    {
     "data": {
      "text/plain": [
       "True"
      ]
     },
     "execution_count": 16,
     "metadata": {},
     "output_type": "execute_result"
    }
   ],
   "source": [
    "getGhDir(ORG, REPO, COMMIT, 'parallels/tf', DWN, exclude=r'\\.tf')"
   ]
  },
  {
   "cell_type": "code",
   "execution_count": null,
   "metadata": {},
   "outputs": [],
   "source": []
  }
 ],
 "metadata": {
  "kernelspec": {
   "display_name": "Python 3",
   "language": "python",
   "name": "python3"
  },
  "language_info": {
   "codemirror_mode": {
    "name": "ipython",
    "version": 3
   },
   "file_extension": ".py",
   "mimetype": "text/x-python",
   "name": "python",
   "nbconvert_exporter": "python",
   "pygments_lexer": "ipython3",
   "version": "3.7.2"
  }
 },
 "nbformat": 4,
 "nbformat_minor": 2
}
