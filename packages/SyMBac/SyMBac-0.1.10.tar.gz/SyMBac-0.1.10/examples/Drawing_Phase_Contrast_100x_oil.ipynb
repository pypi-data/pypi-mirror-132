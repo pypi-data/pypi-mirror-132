{
 "cells": [
  {
   "cell_type": "markdown",
   "id": "b7b91bac-bf4d-4f4d-83bc-2fe25972de3a",
   "metadata": {},
   "source": [
    "# SyMBac Example Notebook 1\n",
    "\n",
    "Drawing 100x images of _E. coli_ in the mother machine"
   ]
  },
  {
   "cell_type": "markdown",
   "id": "e1c27093-f392-4a19-9f9f-b8e6eb8ab6a2",
   "metadata": {},
   "source": [
    "### Imports"
   ]
  },
  {
   "cell_type": "code",
   "execution_count": null,
   "id": "3704125e",
   "metadata": {
    "pycharm": {
     "is_executing": true
    },
    "tags": []
   },
   "outputs": [],
   "source": [
    "import sys\n",
    "from SyMBac.cell import Cell\n",
    "from SyMBac.scene_functions import create_space, step_and_update\n",
    "from SyMBac.trench_geometry import trench_creator\n",
    "from SyMBac.phase_contrast_drawing import *\n",
    "from SyMBac.PSF import get_phase_contrast_kernel, get_condensers\n",
    "from SyMBac.misc import get_sample_images\n",
    "import napari, tifffile, os, skimage, gc\n",
    "\n",
    "from skimage.exposure import rescale_intensity\n",
    "from skimage.transform import rescale, resize, downscale_local_mean\n",
    "from skimage.exposure import rescale_intensity\n",
    "\n",
    "import numpy as np\n",
    "from ipywidgets import interact, interactive, fixed, interact_manual\n",
    "import ipywidgets as widgets\n",
    "from ipywidgets import interactive\n",
    "from PIL import Image\n",
    "from tqdm.notebook import tqdm\n",
    "import gc\n",
    "\n",
    "import importlib\n",
    "if importlib.util.find_spec(\"cupy\") is None:\n",
    "    manual_update = True\n",
    "else:\n",
    "    manual_update = False"
   ]
  },
  {
   "cell_type": "markdown",
   "id": "32a60e00-ad7e-431c-ba4c-b4fb7c3bc35d",
   "metadata": {},
   "source": [
    "## Load a real image\n",
    "\n",
    "* Make sure this image is somewhat representative of the data you want to simulate. The simulated data will have the same dimensions as the example image.\n",
    "* Also you will try to match the similarity of your synthetic images to this real image."
   ]
  },
  {
   "cell_type": "code",
   "execution_count": null,
   "id": "d341d240-ec00-43cd-9db8-26b65849ddc9",
   "metadata": {},
   "outputs": [],
   "source": [
    "real_image = get_sample_images()[\"E. coli 100x\"]\n",
    "print(real_image.shape)\n",
    "plt.imshow(real_image,cmap=\"Greys_r\")\n",
    "plt.show()"
   ]
  },
  {
   "cell_type": "markdown",
   "id": "fa476171-0ee2-4c5c-af18-a7fdf33e9374",
   "metadata": {},
   "source": [
    "## Scope properties\n",
    "\n",
    "Here we input the scope properties:\n",
    "* `W`, `R` and `diameter` are the dimensions (in mm) of the phase ring, retrieved from `get_condensers()`.\n",
    "* `λ` is the wavelength of the imaging light (in micron).\n",
    "* `resize_amount` is an **important** variable. This defines the internal resolution scaling of the rendering. If you choose a `resize_amount` of 3, then the point spread function (PSF) and all cell images are rendered at 3x the native imaging resolution, then downsampled back to the real resolution. \n",
    "* A `resize_amount` of $>2$ is recommended. If it's too low then the PSF is too low resolution, and therefore doesn't capture the desired information (oscillating phase and airy rings).\n",
    "* `pix_mic_conv` is the size of the pixels in the image (micron/pix)\n",
    "* `scale` is the pixel size that the PSF and all rendering will be done at, therefore it's set to `pix_mic_conv / resize_amount` by default.\n",
    "* `min_sigma` is a lower bound for the gaussian apodisation of the PSF. This variable isn't really important as you'll change it with the sliders at the end.\n",
    "* `NA` is the numerical aperture of the objective lens.\n",
    "* `n` is the refractive index of the imaging medium\n",
    "\n",
    "These parameters are then thrown into a `kernel_params` tuple."
   ]
  },
  {
   "cell_type": "code",
   "execution_count": null,
   "id": "51cc96ea-77be-4860-8f5d-eb0aaa1f4686",
   "metadata": {},
   "outputs": [],
   "source": [
    "condensers = get_condensers()\n",
    "W, R, diameter = condensers[\"Ph3\"]\n",
    "radius=50\n",
    "#F = 5\n",
    "λ = 0.75\n",
    "resize_amount = 3\n",
    "pix_mic_conv = 0.0655 ##0.108379937 micron/pix for 60x, 0.0655 for 100x\n",
    "scale = pix_mic_conv / resize_amount \n",
    "min_sigma = 0.42*0.6/6 / scale # micron#\n",
    "sigma=min_sigma\n",
    "NA=1.45\n",
    "n = 1.4\n",
    "kernel_params = (R,W,radius,scale,NA,n,sigma,λ)\n",
    "\n",
    "#kernel_params = (R,W,radius,scale,F,sigma,λ)\n"
   ]
  },
  {
   "cell_type": "markdown",
   "id": "87dffa43-0e61-4e4f-b1eb-c0da59ddbd4c",
   "metadata": {},
   "source": [
    "## Run the simulation\n",
    "\n",
    "Here we actually run the simulation of cell growth in the mother machine. \n",
    "\n",
    "* `sim_length` is the number of simulation frames to run.\n",
    "* `trench_length` is the length of the mother machine trench in micron.\n",
    "* `trench_width` is the width of the mother machine trench in micron.\n",
    "* `cell_max_length` is the mean maximum length of a cell in micron.\n",
    "* `cell_width` is the mean cell width in micron.\n",
    "* `gravity` is a parameter which can be used to add or remove pressure of cells on one another. This is useful if for some reason cells in your simulation are falling into each other (although you should change `phys_iters` first if this is happening).\n",
    "* `phys_iters` is the number of physics iterations per frame. 20 is a good starting point.\n",
    "* `max_length_var` is the variance of the mean maximum cell length. Don't make it too high, or some cells could have birth lengths greater than the mother length, or negative lengths. \n",
    "* `width_var` is the variance of the mean cell width\n",
    "* `save_dir` is the directory to save the simulation output if you want to analyse it later, or with other code.\n",
    "* `do_transformation` is a `bool` that decides whether cells are given a curve after the simulation, during rendering. \n",
    "\n",
    "If you don't like the way the simulation looks **restart the kernel** and try new parameters. I've found that for large deviations in cell length and width, and small deviations in trench length and width, a standard U-net implementation is very robust, so you really only need to guess these paramters for good training data."
   ]
  },
  {
   "cell_type": "code",
   "execution_count": null,
   "id": "621dbe9f-5640-4bdd-812c-f96a6c24965c",
   "metadata": {
    "tags": []
   },
   "outputs": [],
   "source": [
    "sim_length = 100\n",
    "cell_timeseries, space = run_simulation(\n",
    "    trench_length=15, \n",
    "    trench_width=1.5, \n",
    "    cell_max_length=6, #6, long cells # 1.65 short cells\n",
    "    cell_width= 1, #1 long cells # 0.95 short cells\n",
    "    sim_length = sim_length,\n",
    "    pix_mic_conv = pix_mic_conv,\n",
    "    gravity=0,\n",
    "    phys_iters=20,\n",
    "    max_length_var = 3,\n",
    "    width_var = 0.3,\n",
    "    save_dir=\"/tmp/\"\n",
    ") # growth phase\n",
    "main_segments = get_trench_segments(space)\n",
    "ID_props = generate_curve_props(cell_timeseries)\n",
    "cell_timeseries_properties = Parallel(n_jobs=-1)(\n",
    "    delayed(gen_cell_props_for_draw)(a, ID_props) for a in tqdm(cell_timeseries, desc='Timeseries Properties'))\n",
    "do_transformation = True\n",
    "offset = 30\n",
    "mask_threshold = 12\n",
    "label_masks = True\n",
    "space_size = get_space_size(cell_timeseries_properties)\n",
    "scenes = Parallel(n_jobs=13)(delayed(draw_scene)(\n",
    "    cell_properties, do_transformation, mask_threshold, space_size, offset, label_masks) for cell_properties in tqdm(cell_timeseries_properties, desc='Scene Draw:'))"
   ]
  },
  {
   "cell_type": "markdown",
   "id": "6b67441b-8a38-48dd-a94b-499bed5b11eb",
   "metadata": {},
   "source": [
    "### Generating a sample \n",
    "\n",
    "Here we generate some dummy samples which are later used."
   ]
  },
  {
   "cell_type": "code",
   "execution_count": null,
   "id": "bff99283-e3c0-4a79-8c4e-dbf2a25662f9",
   "metadata": {},
   "outputs": [],
   "source": [
    "media_multiplier=30\n",
    "cell_multiplier=1\n",
    "device_multiplier=-50\n",
    "y_border_expansion_coefficient = 2\n",
    "x_border_expansion_coefficient = 2\n",
    "\n",
    "\n",
    "\n",
    "temp_expanded_scene, temp_expanded_scene_no_cells, temp_expanded_mask = generate_PC_OPL(\n",
    "   main_segments=main_segments,\n",
    "    offset=offset,\n",
    "    scene = scenes[0][0],\n",
    "    mask = scenes[0][1],\n",
    "    media_multiplier=media_multiplier,\n",
    "    cell_multiplier=cell_multiplier,\n",
    "    device_multiplier=cell_multiplier,\n",
    "    y_border_expansion_coefficient = y_border_expansion_coefficient,\n",
    "    x_border_expansion_coefficient = x_border_expansion_coefficient,\n",
    "    fluorescence=False,\n",
    "    defocus=30\n",
    ")\n",
    "\n",
    "\n",
    "\n",
    "### Generate temporary image to make same shape\n",
    "temp_kernel = get_phase_contrast_kernel(*kernel_params)\n",
    "convolved = convolve_rescale(temp_expanded_scene, temp_kernel, 1/resize_amount, rescale_int = True)\n",
    "real_resize, expanded_resized = make_images_same_shape(real_image,convolved, rescale_int=True)"
   ]
  },
  {
   "cell_type": "markdown",
   "id": "7759aa42-c846-41e3-ab9f-a2d015d0cc2c",
   "metadata": {},
   "source": [
    "## Choosing intensities using Napari\n",
    "\n",
    "The following cell will open a Napari window where you will select intensities. \n",
    "\n",
    "* Select hte media/cell/device layer, and use the brush tool to paint over some (or all) of the mother machine device, media (area between cells) and the cells. \n",
    "* You can use the same label colour (`1`) for all of them, they are in different layers so it doesn't matter if they touch.\n",
    "* We do this because we want to find the 3 main intensities of the real image, the media, device and the cells. We then use these to estimate the similarity between the synthetic images and the real images."
   ]
  },
  {
   "cell_type": "code",
   "execution_count": null,
   "id": "276e6f39-8368-4bca-b4e2-73d8ac8fd30d",
   "metadata": {},
   "outputs": [],
   "source": [
    "viewer = napari.view_image(real_resize)\n",
    "media_label = viewer.add_labels(np.zeros(real_resize.shape).astype(int), name = \"media\")\n",
    "cell_label = viewer.add_labels(np.zeros(real_resize.shape).astype(int), name = \"cell\")\n",
    "device_label = viewer.add_labels(np.zeros(real_resize.shape).astype(int), name = \"device\")"
   ]
  },
  {
   "cell_type": "code",
   "execution_count": null,
   "id": "2ef464f9-754c-41ef-ad7a-3839d306e8cb",
   "metadata": {},
   "outputs": [],
   "source": [
    "real_media_mean = real_resize[np.where(media_label.data)].mean();\n",
    "real_cell_mean = real_resize[np.where(cell_label.data)].mean(); \n",
    "real_device_mean = real_resize[np.where(device_label.data)].mean()\n",
    "real_means = np.array((real_media_mean, real_cell_mean, real_device_mean))\n",
    "\n",
    "real_media_var = real_resize[np.where(media_label.data)].var();\n",
    "real_cell_var = real_resize[np.where(cell_label.data)].var(); \n",
    "real_device_var = real_resize[np.where(device_label.data)].var()\n",
    "real_vars = np.array((real_media_var, real_cell_var, real_device_var))\n",
    "\n",
    "image_params = (real_media_mean, real_cell_mean, real_device_mean, real_means, real_media_var, real_cell_var, real_device_var, real_vars)"
   ]
  },
  {
   "cell_type": "code",
   "execution_count": null,
   "id": "4cb1647a-2e38-40a4-9d86-49630cab30aa",
   "metadata": {},
   "outputs": [],
   "source": [
    "mean_error = []\n",
    "media_error = []\n",
    "cell_error = []\n",
    "device_error = []\n",
    "\n",
    "mean_var_error = []\n",
    "media_var_error = []\n",
    "cell_var_error = []\n",
    "device_var_error = []\n",
    "\n",
    "error_params = (mean_error,media_error,cell_error,device_error,mean_var_error,media_var_error,cell_var_error,device_var_error)\n",
    "\n",
    "params = interactive(\n",
    "    generate_test_comparison,\n",
    "    {'manual': manual_update},\n",
    "    media_multiplier=(-300,300,1),\n",
    "    cell_multiplier=(-30,30,0.01),\n",
    "    device_multiplier=(-300,300,1),\n",
    "    sigma=(min_sigma,min_sigma*20, min_sigma/20),\n",
    "    scene_no = (0,len(scenes)-1,1),\n",
    "    noise_var=(0,0.01, 0.0001),\n",
    "    scale=fixed(scale),\n",
    "    match_fourier = [True, False],\n",
    "    match_histogram = [True, False],\n",
    "    match_noise = [True, False],\n",
    "    offset=fixed(offset),\n",
    "    main_segments = fixed(main_segments),\n",
    "    debug_plot=fixed(True),\n",
    "    scenes = fixed(scenes),\n",
    "    kernel_params = fixed(kernel_params),\n",
    "    resize_amount = fixed(resize_amount), \n",
    "    real_image = fixed(real_image),\n",
    "    image_params = fixed(image_params),\n",
    "    error_params = fixed(error_params),\n",
    "    x_border_expansion_coefficient = fixed(x_border_expansion_coefficient),\n",
    "    y_border_expansion_coefficient = fixed(y_border_expansion_coefficient),\n",
    "    fluorescence=[False, True],\n",
    "    defocus=(0,20,0.1)\n",
    ");"
   ]
  },
  {
   "cell_type": "markdown",
   "id": "2490283d-4b5e-4a6d-b466-47899c77ce6b",
   "metadata": {},
   "source": [
    "## Manual image optimisation\n",
    "\n",
    "The image optimisation landscape is extremely noisy, and so I have not been able to find an objective function and optimiser which reliably converge and produce good images. Instead I've found that quickly playing with sliders is a very good way of getting the images to look correct. \n",
    "\n",
    "* `media_multiplier` is the intensity multiplier for the media part of the image\n",
    "* `cell_multiplier` is the intensity multiplier for cell parts of the image.\n",
    "* `device_multiplier` is the intensity multiplier for the device part of the image.\n",
    "* `sigma` is the radius (in pixels) of the gaussian apodisation of the phase contrast PSF (if you are using phase contrast).\n",
    "* `scene_no` is the index for the frame of the synthetic images you rendered.\n",
    "* `match_fourier` controls whether you are matching the rotational Fourier spectrum of the synthetic image to the real image. \n",
    "* `match_histogram` controls whether you are matching the intensity histogram of the images with each other.\n",
    "* `match_noise` controls whether you are matching the camera noise of the images with each other.\n",
    "* `noise_var` controls the variance of the shot noise added to the image.\n",
    "* `fluorescence` controls whether you are rendering a fluorescence of phase contrast image.\n",
    "* `defocus` controls the radius of a gaussian which simulates depth of focus and out of focus effects of the PSF."
   ]
  },
  {
   "cell_type": "code",
   "execution_count": null,
   "id": "378b3b24-0db2-4a17-9dca-832d2a064de6",
   "metadata": {},
   "outputs": [],
   "source": [
    "params"
   ]
  },
  {
   "cell_type": "code",
   "execution_count": null,
   "id": "332c02e6-af6f-41e7-979c-f00ee8e23781",
   "metadata": {
    "tags": []
   },
   "outputs": [],
   "source": [
    "generate_training_data(interactive_output = params, sample_amount = 0.05, randomise_hist_match = False, randomise_noise_match = True, sim_length = sim_length, burn_in = 0, n_samples =  10, save_dir = \"/tmp/\")"
   ]
  },
  {
   "cell_type": "code",
   "execution_count": null,
   "id": "f50c39f2-29cc-479f-88c6-aba35e0e4ffe",
   "metadata": {},
   "outputs": [],
   "source": [
    "params"
   ]
  },
  {
   "cell_type": "code",
   "execution_count": null,
   "id": "40d50f52-e51c-4995-8d06-0d6ed21d416d",
   "metadata": {},
   "outputs": [],
   "source": []
  }
 ],
 "metadata": {
  "kernelspec": {
   "display_name": "Python 3 (ipykernel)",
   "language": "python",
   "name": "python3"
  },
  "language_info": {
   "codemirror_mode": {
    "name": "ipython",
    "version": 3
   },
   "file_extension": ".py",
   "mimetype": "text/x-python",
   "name": "python",
   "nbconvert_exporter": "python",
   "pygments_lexer": "ipython3",
   "version": "3.9.7"
  }
 },
 "nbformat": 4,
 "nbformat_minor": 5
}
