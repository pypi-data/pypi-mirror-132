{
 "cells": [
  {
   "cell_type": "code",
   "execution_count": 23,
   "metadata": {},
   "outputs": [],
   "source": [
    "from hfradar.src.radials import Radial\n",
    "import os\n"
   ]
  },
  {
   "cell_type": "code",
   "execution_count": 24,
   "metadata": {},
   "outputs": [],
   "source": [
    "radial_file = '../hfradar/data/radials/ruv/SEAB/RDLi_SEAB_2019_01_01_0100.ruv'\n"
   ]
  },
  {
   "cell_type": "code",
   "execution_count": 21,
   "metadata": {},
   "outputs": [
    {
     "ename": "FileNotFoundError",
     "evalue": "[Errno 2] No such file or directory: '/hfradar/data/radials/ruv/SEAB/RDLi_SEAB_2019_01_01_0100.ruv'",
     "output_type": "error",
     "traceback": [
      "\u001B[0;31m---------------------------------------------------------------------------\u001B[0m",
      "\u001B[0;31mFileNotFoundError\u001B[0m                         Traceback (most recent call last)",
      "\u001B[0;32m<ipython-input-21-d8dddcac6048>\u001B[0m in \u001B[0;36m<module>\u001B[0;34m\u001B[0m\n\u001B[0;32m----> 1\u001B[0;31m \u001B[0mr\u001B[0m \u001B[0;34m=\u001B[0m \u001B[0mRadial\u001B[0m\u001B[0;34m(\u001B[0m\u001B[0mradial_file\u001B[0m\u001B[0;34m)\u001B[0m\u001B[0;34m\u001B[0m\u001B[0;34m\u001B[0m\u001B[0m\n\u001B[0m\u001B[1;32m      2\u001B[0m \u001B[0;34m\u001B[0m\u001B[0m\n",
      "\u001B[0;32m~/Documents/github/rucool/HFRadarPy/hfradar/src/radials.py\u001B[0m in \u001B[0;36m__init__\u001B[0;34m(self, fname, replace_invalid, mask_over_land)\u001B[0m\n\u001B[1;32m     45\u001B[0m     \u001B[0;32mdef\u001B[0m \u001B[0m__init__\u001B[0m\u001B[0;34m(\u001B[0m\u001B[0mself\u001B[0m\u001B[0;34m,\u001B[0m \u001B[0mfname\u001B[0m\u001B[0;34m,\u001B[0m \u001B[0mreplace_invalid\u001B[0m\u001B[0;34m=\u001B[0m\u001B[0;32mTrue\u001B[0m\u001B[0;34m,\u001B[0m \u001B[0mmask_over_land\u001B[0m\u001B[0;34m=\u001B[0m\u001B[0;32mFalse\u001B[0m\u001B[0;34m)\u001B[0m\u001B[0;34m:\u001B[0m\u001B[0;34m\u001B[0m\u001B[0;34m\u001B[0m\u001B[0m\n\u001B[1;32m     46\u001B[0m         \u001B[0mlogging\u001B[0m\u001B[0;34m.\u001B[0m\u001B[0minfo\u001B[0m\u001B[0;34m(\u001B[0m\u001B[0;34m'Loading radial file: {}'\u001B[0m\u001B[0;34m.\u001B[0m\u001B[0mformat\u001B[0m\u001B[0;34m(\u001B[0m\u001B[0mfname\u001B[0m\u001B[0;34m)\u001B[0m\u001B[0;34m)\u001B[0m\u001B[0;34m\u001B[0m\u001B[0;34m\u001B[0m\u001B[0m\n\u001B[0;32m---> 47\u001B[0;31m         \u001B[0msuper\u001B[0m\u001B[0;34m(\u001B[0m\u001B[0;34m)\u001B[0m\u001B[0;34m.\u001B[0m\u001B[0m__init__\u001B[0m\u001B[0;34m(\u001B[0m\u001B[0mfname\u001B[0m\u001B[0;34m)\u001B[0m\u001B[0;34m\u001B[0m\u001B[0;34m\u001B[0m\u001B[0m\n\u001B[0m\u001B[1;32m     48\u001B[0m \u001B[0;34m\u001B[0m\u001B[0m\n\u001B[1;32m     49\u001B[0m         \u001B[0;31m# Initialize QC tests to empty\u001B[0m\u001B[0;34m\u001B[0m\u001B[0;34m\u001B[0m\u001B[0;34m\u001B[0m\u001B[0m\n",
      "\u001B[0;32m~/Documents/github/rucool/HFRadarPy/hfradar/src/common.py\u001B[0m in \u001B[0;36m__init__\u001B[0;34m(self, fname)\u001B[0m\n\u001B[1;32m    159\u001B[0m         \u001B[0mprocessing_info\u001B[0m \u001B[0;34m=\u001B[0m \u001B[0;34m[\u001B[0m\u001B[0;34m]\u001B[0m\u001B[0;34m\u001B[0m\u001B[0;34m\u001B[0m\u001B[0m\n\u001B[1;32m    160\u001B[0m \u001B[0;34m\u001B[0m\u001B[0m\n\u001B[0;32m--> 161\u001B[0;31m         \u001B[0;32mwith\u001B[0m \u001B[0mopen\u001B[0m\u001B[0;34m(\u001B[0m\u001B[0mself\u001B[0m\u001B[0;34m.\u001B[0m\u001B[0mfull_file\u001B[0m\u001B[0;34m,\u001B[0m \u001B[0;34m'r'\u001B[0m\u001B[0;34m,\u001B[0m \u001B[0mencoding\u001B[0m\u001B[0;34m=\u001B[0m\u001B[0;34m'ISO-8859-1'\u001B[0m\u001B[0;34m)\u001B[0m \u001B[0;32mas\u001B[0m \u001B[0mopen_file\u001B[0m\u001B[0;34m:\u001B[0m\u001B[0;34m\u001B[0m\u001B[0;34m\u001B[0m\u001B[0m\n\u001B[0m\u001B[1;32m    162\u001B[0m             \u001B[0mopen_lluv\u001B[0m \u001B[0;34m=\u001B[0m \u001B[0mopen_file\u001B[0m\u001B[0;34m.\u001B[0m\u001B[0mreadlines\u001B[0m\u001B[0;34m(\u001B[0m\u001B[0;34m)\u001B[0m\u001B[0;34m\u001B[0m\u001B[0;34m\u001B[0m\u001B[0m\n\u001B[1;32m    163\u001B[0m             \u001B[0;32mif\u001B[0m \u001B[0many\u001B[0m\u001B[0;34m(\u001B[0m\u001B[0;34m'%End:'\u001B[0m \u001B[0;32min\u001B[0m \u001B[0ms\u001B[0m \u001B[0;32mor\u001B[0m \u001B[0ms\u001B[0m\u001B[0;34m.\u001B[0m\u001B[0mstrip\u001B[0m\u001B[0;34m(\u001B[0m\u001B[0;34m)\u001B[0m \u001B[0;34m==\u001B[0m \u001B[0;34m'%End'\u001B[0m \u001B[0;32mfor\u001B[0m \u001B[0ms\u001B[0m \u001B[0;32min\u001B[0m \u001B[0mopen_lluv\u001B[0m\u001B[0;34m)\u001B[0m\u001B[0;34m:\u001B[0m  \u001B[0;31m# if there is no %End: the file is corrupt!\u001B[0m\u001B[0;34m\u001B[0m\u001B[0;34m\u001B[0m\u001B[0m\n",
      "\u001B[0;31mFileNotFoundError\u001B[0m: [Errno 2] No such file or directory: '/hfradar/data/radials/ruv/SEAB/RDLi_SEAB_2019_01_01_0100.ruv'"
     ]
    }
   ],
   "source": [
    "r = Radial(radial_file)"
   ]
  },
  {
   "cell_type": "markdown",
   "metadata": {},
   "source": [
    "This is a list of all methods of a hfradar.radials.Radial instance.\n",
    "\n",
    "## Radial File Information\n",
    "* file_path - String of the file path including the filename\n",
    "* file_name - String of the filename\n",
    "* file_type - String of the filetype\n",
    "\n",
    "## Radial Metadata File\n",
    "* header - Dictionary of header information\n",
    "* footer - Dictionary of footer information\n",
    "\n",
    "## Clean up metadata\n",
    "* clean_header - Run this if you are planning to insert the radial data into the MySQL database.\n",
    "\n",
    "## Radial Table Data (Pandas Dataframe)\n",
    "* data - Dataframe of radial data\n",
    "* diags_radial - Dataframe of radial diagnostic data\n",
    "* diags_hardware - Dataframe of radial hardware data\n",
    "\n",
    "## Quality Control tests\n",
    "* qc_qartod_syntax (QC06) - QARTOD HF Radar Syntax Test\n",
    "* qc_qartod_maximum_velocity (QC07) - QARTOD HF Radar Maximum Speed test\n",
    "* qc_qartod_valid_location (QC08)- QARTOD HF Radar Location test\n",
    "* qc_qartod_radial_count (QC09) - QARTOD HF Radar Radial Threshold test\n",
    "* qc_qartod_spatial_median (QC10) - QARTOD HF Radar Spatial Median test\n",
    "* qc_qartod_temporal_gradient (QC11) - QARTOD HF Radar Temporal Gradient test\n",
    "* qc_qartod_avg_radial_bearing (QC12) - QARTOD HF Radar Average Radial Bearing test\n",
    "* qc_qartod_primary_flag - QARTOD Primary Flag\n",
    "\n",
    "## Export to new file format\n",
    "* export - Export the Radial instance as either a new ruv file or netcdf by specifying file_type='radial' or 'netcdf' respectively... \n",
    "* eg. r.export(filename, file_type='radial')"
   ]
  },
  {
   "cell_type": "markdown",
   "metadata": {},
   "source": [
    "# Radial File Information"
   ]
  },
  {
   "cell_type": "code",
   "execution_count": null,
   "metadata": {},
   "outputs": [],
   "source": [
    "r.file_name"
   ]
  },
  {
   "cell_type": "code",
   "execution_count": null,
   "metadata": {},
   "outputs": [],
   "source": [
    "r.file_path"
   ]
  },
  {
   "cell_type": "code",
   "execution_count": null,
   "metadata": {},
   "outputs": [],
   "source": [
    "r.file_type()"
   ]
  },
  {
   "cell_type": "markdown",
   "metadata": {},
   "source": [
    "# Radial Metadata Information\n",
    "\n",
    "We can view the header and footer information in a dictionary format by doing the following:"
   ]
  },
  {
   "cell_type": "code",
   "execution_count": 4,
   "metadata": {
    "scrolled": false
   },
   "outputs": [
    {
     "ename": "NameError",
     "evalue": "name 'r' is not defined",
     "output_type": "error",
     "traceback": [
      "\u001B[0;31m---------------------------------------------------------------------------\u001B[0m",
      "\u001B[0;31mNameError\u001B[0m                                 Traceback (most recent call last)",
      "\u001B[0;32m<ipython-input-4-5968550c0aaf>\u001B[0m in \u001B[0;36m<module>\u001B[0;34m\u001B[0m\n\u001B[0;32m----> 1\u001B[0;31m \u001B[0mr\u001B[0m\u001B[0;34m.\u001B[0m\u001B[0mmetadata\u001B[0m\u001B[0;34m\u001B[0m\u001B[0;34m\u001B[0m\u001B[0m\n\u001B[0m\u001B[1;32m      2\u001B[0m \u001B[0;34m\u001B[0m\u001B[0m\n",
      "\u001B[0;31mNameError\u001B[0m: name 'r' is not defined"
     ]
    }
   ],
   "source": [
    "r.metadata"
   ]
  },
  {
   "cell_type": "markdown",
   "metadata": {},
   "source": [
    "Next, we can clean up the header dictionary. Validate_header() is specifically coded to clean the header data up so that we can insert it into the database without error"
   ]
  },
  {
   "cell_type": "code",
   "execution_count": 5,
   "metadata": {},
   "outputs": [],
   "source": [
    "# r.clean_header()"
   ]
  },
  {
   "cell_type": "code",
   "execution_count": 6,
   "metadata": {
    "scrolled": true
   },
   "outputs": [
    {
     "ename": "NameError",
     "evalue": "name 'r' is not defined",
     "output_type": "error",
     "traceback": [
      "\u001B[0;31m---------------------------------------------------------------------------\u001B[0m",
      "\u001B[0;31mNameError\u001B[0m                                 Traceback (most recent call last)",
      "\u001B[0;32m<ipython-input-6-5968550c0aaf>\u001B[0m in \u001B[0;36m<module>\u001B[0;34m\u001B[0m\n\u001B[0;32m----> 1\u001B[0;31m \u001B[0mr\u001B[0m\u001B[0;34m.\u001B[0m\u001B[0mmetadata\u001B[0m\u001B[0;34m\u001B[0m\u001B[0;34m\u001B[0m\u001B[0m\n\u001B[0m\u001B[1;32m      2\u001B[0m \u001B[0;34m\u001B[0m\u001B[0m\n",
      "\u001B[0;31mNameError\u001B[0m: name 'r' is not defined"
     ]
    }
   ],
   "source": [
    "r.metadata"
   ]
  },
  {
   "cell_type": "markdown",
   "metadata": {},
   "source": [
    "# Radial Table Data\n",
    "Dataframes will start with an index automatically generated by Pandas when the data is loaded into the dataframe. The second column for each dataframe will always be '%%.' This is a placeholder column that exists only to be used during export. Export will look for the column and comment out any row that includes a single '%.' This is to preserve the exact order of the radial file that was generated at the CODAR site."
   ]
  },
  {
   "cell_type": "code",
   "execution_count": 7,
   "metadata": {},
   "outputs": [
    {
     "ename": "NameError",
     "evalue": "name 'r' is not defined",
     "output_type": "error",
     "traceback": [
      "\u001B[0;31m---------------------------------------------------------------------------\u001B[0m",
      "\u001B[0;31mNameError\u001B[0m                                 Traceback (most recent call last)",
      "\u001B[0;32m<ipython-input-7-1a617615da05>\u001B[0m in \u001B[0;36m<module>\u001B[0;34m\u001B[0m\n\u001B[0;32m----> 1\u001B[0;31m \u001B[0mr\u001B[0m\u001B[0;34m.\u001B[0m\u001B[0mdata\u001B[0m\u001B[0;34m\u001B[0m\u001B[0;34m\u001B[0m\u001B[0m\n\u001B[0m\u001B[1;32m      2\u001B[0m \u001B[0;34m\u001B[0m\u001B[0m\n",
      "\u001B[0;31mNameError\u001B[0m: name 'r' is not defined"
     ]
    }
   ],
   "source": [
    "r.data"
   ]
  },
  {
   "cell_type": "code",
   "execution_count": 11,
   "metadata": {},
   "outputs": [
    {
     "data": {
      "text/plain": "    TIME  RTMP  MTMP  XTRP   RUNT  SP24  SP05  SN05   SP12  XPHT  ...  EXTA  EXTB   CRUN  TYRS  TMON  TDAY  THRS  TMIN  TSEC            datetime\n0  -35.0    23    35     0  35635   0.0  5.08 -5.05  12.16    20  ...     0     0  24.62  2019     1     1     0    25     0 2019-01-01 00:25:00\n1  -30.0    23    35     0  35905   0.0  5.08 -5.05  12.16    20  ...     0     0  29.17  2019     1     1     0    30     0 2019-01-01 00:30:00\n2  -25.0    23    35     0  36204   0.0  5.08 -5.03  12.16    20  ...     0     0  34.62  2019     1     1     0    35     0 2019-01-01 00:35:00\n3  -20.0    23    35     0  36504   0.0  5.08 -5.05  12.16    20  ...     0     0  39.19  2019     1     1     0    40     0 2019-01-01 00:40:00\n4  -15.0    23    35     0  36803   0.0  5.08 -5.05  12.16    20  ...     0     0  44.20  2019     1     1     0    45     0 2019-01-01 00:45:00\n5  -10.0    23    35     0  37103   0.0  5.08 -5.03  12.16    20  ...     0     0  49.41  2019     1     1     0    50     0 2019-01-01 00:50:00\n6   -5.0    23    35     0  37402   0.0  5.08 -5.05  12.16    20  ...     0     0  54.22  2019     1     1     0    55     0 2019-01-01 00:55:00\n7    0.0    23    35     0  37702   0.0  5.08 -5.03  12.16    20  ...     0     0  59.23  2019     1     1     1     0     0 2019-01-01 01:00:00\n8    5.0    23    35     0  38001   0.0  5.08 -5.05  12.16    20  ...     0     0  64.24  2019     1     1     1     5     0 2019-01-01 01:05:00\n9   10.0    23    35     0  38300   0.0  5.08 -5.05  12.16    20  ...     0     0  69.25  2019     1     1     1    10     0 2019-01-01 01:10:00\n10  15.0    23    35     0  38600   0.0  5.08 -5.05  12.16    20  ...     0     0  74.41  2019     1     1     1    15     0 2019-01-01 01:15:00\n11  20.0    23    35     0  38899   0.0  5.08 -5.05  12.16    20  ...     0     0  79.28  2019     1     1     1    20     0 2019-01-01 01:20:00\n12  25.0    23    35     0  39199   0.0  5.08 -5.05  12.16    20  ...     0     0  84.29  2019     1     1     1    25     0 2019-01-01 01:25:00\n13  30.0    23    35     0  39498   0.0  5.08 -5.05  12.16    20  ...     0     0  89.30  2019     1     1     1    30     0 2019-01-01 01:30:00\n14  35.0    23    35     0  39797   0.0  5.08 -5.03  12.16    20  ...     0     0  94.32  2019     1     1     1    35     0 2019-01-01 01:35:00\n\n[15 rows x 34 columns]",
      "text/html": "<div>\n<style scoped>\n    .dataframe tbody tr th:only-of-type {\n        vertical-align: middle;\n    }\n\n    .dataframe tbody tr th {\n        vertical-align: top;\n    }\n\n    .dataframe thead th {\n        text-align: right;\n    }\n</style>\n<table border=\"1\" class=\"dataframe\">\n  <thead>\n    <tr style=\"text-align: right;\">\n      <th></th>\n      <th>TIME</th>\n      <th>RTMP</th>\n      <th>MTMP</th>\n      <th>XTRP</th>\n      <th>RUNT</th>\n      <th>SP24</th>\n      <th>SP05</th>\n      <th>SN05</th>\n      <th>SP12</th>\n      <th>XPHT</th>\n      <th>...</th>\n      <th>EXTA</th>\n      <th>EXTB</th>\n      <th>CRUN</th>\n      <th>TYRS</th>\n      <th>TMON</th>\n      <th>TDAY</th>\n      <th>THRS</th>\n      <th>TMIN</th>\n      <th>TSEC</th>\n      <th>datetime</th>\n    </tr>\n  </thead>\n  <tbody>\n    <tr>\n      <th>0</th>\n      <td>-35.0</td>\n      <td>23</td>\n      <td>35</td>\n      <td>0</td>\n      <td>35635</td>\n      <td>0.0</td>\n      <td>5.08</td>\n      <td>-5.05</td>\n      <td>12.16</td>\n      <td>20</td>\n      <td>...</td>\n      <td>0</td>\n      <td>0</td>\n      <td>24.62</td>\n      <td>2019</td>\n      <td>1</td>\n      <td>1</td>\n      <td>0</td>\n      <td>25</td>\n      <td>0</td>\n      <td>2019-01-01 00:25:00</td>\n    </tr>\n    <tr>\n      <th>1</th>\n      <td>-30.0</td>\n      <td>23</td>\n      <td>35</td>\n      <td>0</td>\n      <td>35905</td>\n      <td>0.0</td>\n      <td>5.08</td>\n      <td>-5.05</td>\n      <td>12.16</td>\n      <td>20</td>\n      <td>...</td>\n      <td>0</td>\n      <td>0</td>\n      <td>29.17</td>\n      <td>2019</td>\n      <td>1</td>\n      <td>1</td>\n      <td>0</td>\n      <td>30</td>\n      <td>0</td>\n      <td>2019-01-01 00:30:00</td>\n    </tr>\n    <tr>\n      <th>2</th>\n      <td>-25.0</td>\n      <td>23</td>\n      <td>35</td>\n      <td>0</td>\n      <td>36204</td>\n      <td>0.0</td>\n      <td>5.08</td>\n      <td>-5.03</td>\n      <td>12.16</td>\n      <td>20</td>\n      <td>...</td>\n      <td>0</td>\n      <td>0</td>\n      <td>34.62</td>\n      <td>2019</td>\n      <td>1</td>\n      <td>1</td>\n      <td>0</td>\n      <td>35</td>\n      <td>0</td>\n      <td>2019-01-01 00:35:00</td>\n    </tr>\n    <tr>\n      <th>3</th>\n      <td>-20.0</td>\n      <td>23</td>\n      <td>35</td>\n      <td>0</td>\n      <td>36504</td>\n      <td>0.0</td>\n      <td>5.08</td>\n      <td>-5.05</td>\n      <td>12.16</td>\n      <td>20</td>\n      <td>...</td>\n      <td>0</td>\n      <td>0</td>\n      <td>39.19</td>\n      <td>2019</td>\n      <td>1</td>\n      <td>1</td>\n      <td>0</td>\n      <td>40</td>\n      <td>0</td>\n      <td>2019-01-01 00:40:00</td>\n    </tr>\n    <tr>\n      <th>4</th>\n      <td>-15.0</td>\n      <td>23</td>\n      <td>35</td>\n      <td>0</td>\n      <td>36803</td>\n      <td>0.0</td>\n      <td>5.08</td>\n      <td>-5.05</td>\n      <td>12.16</td>\n      <td>20</td>\n      <td>...</td>\n      <td>0</td>\n      <td>0</td>\n      <td>44.20</td>\n      <td>2019</td>\n      <td>1</td>\n      <td>1</td>\n      <td>0</td>\n      <td>45</td>\n      <td>0</td>\n      <td>2019-01-01 00:45:00</td>\n    </tr>\n    <tr>\n      <th>5</th>\n      <td>-10.0</td>\n      <td>23</td>\n      <td>35</td>\n      <td>0</td>\n      <td>37103</td>\n      <td>0.0</td>\n      <td>5.08</td>\n      <td>-5.03</td>\n      <td>12.16</td>\n      <td>20</td>\n      <td>...</td>\n      <td>0</td>\n      <td>0</td>\n      <td>49.41</td>\n      <td>2019</td>\n      <td>1</td>\n      <td>1</td>\n      <td>0</td>\n      <td>50</td>\n      <td>0</td>\n      <td>2019-01-01 00:50:00</td>\n    </tr>\n    <tr>\n      <th>6</th>\n      <td>-5.0</td>\n      <td>23</td>\n      <td>35</td>\n      <td>0</td>\n      <td>37402</td>\n      <td>0.0</td>\n      <td>5.08</td>\n      <td>-5.05</td>\n      <td>12.16</td>\n      <td>20</td>\n      <td>...</td>\n      <td>0</td>\n      <td>0</td>\n      <td>54.22</td>\n      <td>2019</td>\n      <td>1</td>\n      <td>1</td>\n      <td>0</td>\n      <td>55</td>\n      <td>0</td>\n      <td>2019-01-01 00:55:00</td>\n    </tr>\n    <tr>\n      <th>7</th>\n      <td>0.0</td>\n      <td>23</td>\n      <td>35</td>\n      <td>0</td>\n      <td>37702</td>\n      <td>0.0</td>\n      <td>5.08</td>\n      <td>-5.03</td>\n      <td>12.16</td>\n      <td>20</td>\n      <td>...</td>\n      <td>0</td>\n      <td>0</td>\n      <td>59.23</td>\n      <td>2019</td>\n      <td>1</td>\n      <td>1</td>\n      <td>1</td>\n      <td>0</td>\n      <td>0</td>\n      <td>2019-01-01 01:00:00</td>\n    </tr>\n    <tr>\n      <th>8</th>\n      <td>5.0</td>\n      <td>23</td>\n      <td>35</td>\n      <td>0</td>\n      <td>38001</td>\n      <td>0.0</td>\n      <td>5.08</td>\n      <td>-5.05</td>\n      <td>12.16</td>\n      <td>20</td>\n      <td>...</td>\n      <td>0</td>\n      <td>0</td>\n      <td>64.24</td>\n      <td>2019</td>\n      <td>1</td>\n      <td>1</td>\n      <td>1</td>\n      <td>5</td>\n      <td>0</td>\n      <td>2019-01-01 01:05:00</td>\n    </tr>\n    <tr>\n      <th>9</th>\n      <td>10.0</td>\n      <td>23</td>\n      <td>35</td>\n      <td>0</td>\n      <td>38300</td>\n      <td>0.0</td>\n      <td>5.08</td>\n      <td>-5.05</td>\n      <td>12.16</td>\n      <td>20</td>\n      <td>...</td>\n      <td>0</td>\n      <td>0</td>\n      <td>69.25</td>\n      <td>2019</td>\n      <td>1</td>\n      <td>1</td>\n      <td>1</td>\n      <td>10</td>\n      <td>0</td>\n      <td>2019-01-01 01:10:00</td>\n    </tr>\n    <tr>\n      <th>10</th>\n      <td>15.0</td>\n      <td>23</td>\n      <td>35</td>\n      <td>0</td>\n      <td>38600</td>\n      <td>0.0</td>\n      <td>5.08</td>\n      <td>-5.05</td>\n      <td>12.16</td>\n      <td>20</td>\n      <td>...</td>\n      <td>0</td>\n      <td>0</td>\n      <td>74.41</td>\n      <td>2019</td>\n      <td>1</td>\n      <td>1</td>\n      <td>1</td>\n      <td>15</td>\n      <td>0</td>\n      <td>2019-01-01 01:15:00</td>\n    </tr>\n    <tr>\n      <th>11</th>\n      <td>20.0</td>\n      <td>23</td>\n      <td>35</td>\n      <td>0</td>\n      <td>38899</td>\n      <td>0.0</td>\n      <td>5.08</td>\n      <td>-5.05</td>\n      <td>12.16</td>\n      <td>20</td>\n      <td>...</td>\n      <td>0</td>\n      <td>0</td>\n      <td>79.28</td>\n      <td>2019</td>\n      <td>1</td>\n      <td>1</td>\n      <td>1</td>\n      <td>20</td>\n      <td>0</td>\n      <td>2019-01-01 01:20:00</td>\n    </tr>\n    <tr>\n      <th>12</th>\n      <td>25.0</td>\n      <td>23</td>\n      <td>35</td>\n      <td>0</td>\n      <td>39199</td>\n      <td>0.0</td>\n      <td>5.08</td>\n      <td>-5.05</td>\n      <td>12.16</td>\n      <td>20</td>\n      <td>...</td>\n      <td>0</td>\n      <td>0</td>\n      <td>84.29</td>\n      <td>2019</td>\n      <td>1</td>\n      <td>1</td>\n      <td>1</td>\n      <td>25</td>\n      <td>0</td>\n      <td>2019-01-01 01:25:00</td>\n    </tr>\n    <tr>\n      <th>13</th>\n      <td>30.0</td>\n      <td>23</td>\n      <td>35</td>\n      <td>0</td>\n      <td>39498</td>\n      <td>0.0</td>\n      <td>5.08</td>\n      <td>-5.05</td>\n      <td>12.16</td>\n      <td>20</td>\n      <td>...</td>\n      <td>0</td>\n      <td>0</td>\n      <td>89.30</td>\n      <td>2019</td>\n      <td>1</td>\n      <td>1</td>\n      <td>1</td>\n      <td>30</td>\n      <td>0</td>\n      <td>2019-01-01 01:30:00</td>\n    </tr>\n    <tr>\n      <th>14</th>\n      <td>35.0</td>\n      <td>23</td>\n      <td>35</td>\n      <td>0</td>\n      <td>39797</td>\n      <td>0.0</td>\n      <td>5.08</td>\n      <td>-5.03</td>\n      <td>12.16</td>\n      <td>20</td>\n      <td>...</td>\n      <td>0</td>\n      <td>0</td>\n      <td>94.32</td>\n      <td>2019</td>\n      <td>1</td>\n      <td>1</td>\n      <td>1</td>\n      <td>35</td>\n      <td>0</td>\n      <td>2019-01-01 01:35:00</td>\n    </tr>\n  </tbody>\n</table>\n<p>15 rows × 34 columns</p>\n</div>"
     },
     "execution_count": 11,
     "metadata": {},
     "output_type": "execute_result"
    }
   ],
   "source": [
    "r.diagnostics_hardware"
   ]
  },
  {
   "cell_type": "code",
   "execution_count": 12,
   "metadata": {},
   "outputs": [
    {
     "data": {
      "text/plain": "   TIME   AMP1   AMP2  PH13  PH23  CPH1  CPH2   SNF1   SNF2   SNF3  ...   RABA  RTYP  STYP  TYRS  TMON  TDAY  THRS  TMIN  TSEC            datetime\n0 -1800  0.261  0.455  58.1  79.5  59.0  80.0 -144.0 -145.0 -147.0  ...  103.1     1    68  2019     1     1     0    30     0 2019-01-01 00:30:00\n1 -1200  0.248  0.466  58.2  78.4  59.0  80.0 -144.0 -145.0 -146.0  ...  103.7     1    68  2019     1     1     0    40     0 2019-01-01 00:40:00\n2  -600  0.239  0.449  57.9  80.1  59.0  80.0 -145.0 -146.0 -148.0  ...  103.3     1    68  2019     1     1     0    50     0 2019-01-01 00:50:00\n3     0  0.240  0.445  59.0  80.4  59.0  80.0 -143.0 -144.0 -146.0  ...  102.2     1    68  2019     1     1     1     0     0 2019-01-01 01:00:00\n4   600  0.247  0.443  58.1  79.6  59.0  80.0 -144.0 -145.0 -146.0  ...  105.6     1    68  2019     1     1     1    10     0 2019-01-01 01:10:00\n5  1200  0.248  0.442  58.3  78.8  59.0  80.0 -144.0 -144.0 -148.0  ...  106.6     1    68  2019     1     1     1    20     0 2019-01-01 01:20:00\n6  1800  0.239  0.480  58.8  79.3  59.0  80.0 -144.0 -146.0 -147.0  ...  105.3     1    68  2019     1     1     1    30     0 2019-01-01 01:30:00\n\n[7 rows x 32 columns]",
      "text/html": "<div>\n<style scoped>\n    .dataframe tbody tr th:only-of-type {\n        vertical-align: middle;\n    }\n\n    .dataframe tbody tr th {\n        vertical-align: top;\n    }\n\n    .dataframe thead th {\n        text-align: right;\n    }\n</style>\n<table border=\"1\" class=\"dataframe\">\n  <thead>\n    <tr style=\"text-align: right;\">\n      <th></th>\n      <th>TIME</th>\n      <th>AMP1</th>\n      <th>AMP2</th>\n      <th>PH13</th>\n      <th>PH23</th>\n      <th>CPH1</th>\n      <th>CPH2</th>\n      <th>SNF1</th>\n      <th>SNF2</th>\n      <th>SNF3</th>\n      <th>...</th>\n      <th>RABA</th>\n      <th>RTYP</th>\n      <th>STYP</th>\n      <th>TYRS</th>\n      <th>TMON</th>\n      <th>TDAY</th>\n      <th>THRS</th>\n      <th>TMIN</th>\n      <th>TSEC</th>\n      <th>datetime</th>\n    </tr>\n  </thead>\n  <tbody>\n    <tr>\n      <th>0</th>\n      <td>-1800</td>\n      <td>0.261</td>\n      <td>0.455</td>\n      <td>58.1</td>\n      <td>79.5</td>\n      <td>59.0</td>\n      <td>80.0</td>\n      <td>-144.0</td>\n      <td>-145.0</td>\n      <td>-147.0</td>\n      <td>...</td>\n      <td>103.1</td>\n      <td>1</td>\n      <td>68</td>\n      <td>2019</td>\n      <td>1</td>\n      <td>1</td>\n      <td>0</td>\n      <td>30</td>\n      <td>0</td>\n      <td>2019-01-01 00:30:00</td>\n    </tr>\n    <tr>\n      <th>1</th>\n      <td>-1200</td>\n      <td>0.248</td>\n      <td>0.466</td>\n      <td>58.2</td>\n      <td>78.4</td>\n      <td>59.0</td>\n      <td>80.0</td>\n      <td>-144.0</td>\n      <td>-145.0</td>\n      <td>-146.0</td>\n      <td>...</td>\n      <td>103.7</td>\n      <td>1</td>\n      <td>68</td>\n      <td>2019</td>\n      <td>1</td>\n      <td>1</td>\n      <td>0</td>\n      <td>40</td>\n      <td>0</td>\n      <td>2019-01-01 00:40:00</td>\n    </tr>\n    <tr>\n      <th>2</th>\n      <td>-600</td>\n      <td>0.239</td>\n      <td>0.449</td>\n      <td>57.9</td>\n      <td>80.1</td>\n      <td>59.0</td>\n      <td>80.0</td>\n      <td>-145.0</td>\n      <td>-146.0</td>\n      <td>-148.0</td>\n      <td>...</td>\n      <td>103.3</td>\n      <td>1</td>\n      <td>68</td>\n      <td>2019</td>\n      <td>1</td>\n      <td>1</td>\n      <td>0</td>\n      <td>50</td>\n      <td>0</td>\n      <td>2019-01-01 00:50:00</td>\n    </tr>\n    <tr>\n      <th>3</th>\n      <td>0</td>\n      <td>0.240</td>\n      <td>0.445</td>\n      <td>59.0</td>\n      <td>80.4</td>\n      <td>59.0</td>\n      <td>80.0</td>\n      <td>-143.0</td>\n      <td>-144.0</td>\n      <td>-146.0</td>\n      <td>...</td>\n      <td>102.2</td>\n      <td>1</td>\n      <td>68</td>\n      <td>2019</td>\n      <td>1</td>\n      <td>1</td>\n      <td>1</td>\n      <td>0</td>\n      <td>0</td>\n      <td>2019-01-01 01:00:00</td>\n    </tr>\n    <tr>\n      <th>4</th>\n      <td>600</td>\n      <td>0.247</td>\n      <td>0.443</td>\n      <td>58.1</td>\n      <td>79.6</td>\n      <td>59.0</td>\n      <td>80.0</td>\n      <td>-144.0</td>\n      <td>-145.0</td>\n      <td>-146.0</td>\n      <td>...</td>\n      <td>105.6</td>\n      <td>1</td>\n      <td>68</td>\n      <td>2019</td>\n      <td>1</td>\n      <td>1</td>\n      <td>1</td>\n      <td>10</td>\n      <td>0</td>\n      <td>2019-01-01 01:10:00</td>\n    </tr>\n    <tr>\n      <th>5</th>\n      <td>1200</td>\n      <td>0.248</td>\n      <td>0.442</td>\n      <td>58.3</td>\n      <td>78.8</td>\n      <td>59.0</td>\n      <td>80.0</td>\n      <td>-144.0</td>\n      <td>-144.0</td>\n      <td>-148.0</td>\n      <td>...</td>\n      <td>106.6</td>\n      <td>1</td>\n      <td>68</td>\n      <td>2019</td>\n      <td>1</td>\n      <td>1</td>\n      <td>1</td>\n      <td>20</td>\n      <td>0</td>\n      <td>2019-01-01 01:20:00</td>\n    </tr>\n    <tr>\n      <th>6</th>\n      <td>1800</td>\n      <td>0.239</td>\n      <td>0.480</td>\n      <td>58.8</td>\n      <td>79.3</td>\n      <td>59.0</td>\n      <td>80.0</td>\n      <td>-144.0</td>\n      <td>-146.0</td>\n      <td>-147.0</td>\n      <td>...</td>\n      <td>105.3</td>\n      <td>1</td>\n      <td>68</td>\n      <td>2019</td>\n      <td>1</td>\n      <td>1</td>\n      <td>1</td>\n      <td>30</td>\n      <td>0</td>\n      <td>2019-01-01 01:30:00</td>\n    </tr>\n  </tbody>\n</table>\n<p>7 rows × 32 columns</p>\n</div>"
     },
     "execution_count": 12,
     "metadata": {},
     "output_type": "execute_result"
    }
   ],
   "source": [
    "r.diagnostics_radial"
   ]
  },
  {
   "cell_type": "markdown",
   "metadata": {},
   "source": [
    "# Radial Quality Control Tests\n",
    "\n",
    "We have implemented eight QARTOD radial tests"
   ]
  },
  {
   "cell_type": "markdown",
   "metadata": {},
   "source": [
    "## QC Test Initialization\n",
    "You must tell the instance that you are about to execute the qc tests. This is necessary in order to preserve the original .ruv structure of the raw radial files. This way, we can still utilize the manufacturer's tools as intended."
   ]
  },
  {
   "cell_type": "code",
   "execution_count": 13,
   "metadata": {},
   "outputs": [],
   "source": [
    "r.initialize_qc()"
   ]
  },
  {
   "cell_type": "markdown",
   "metadata": {},
   "source": [
    "## Syntax\n",
    "\n",
    "**Description:** A collection of tests ensuring proper formatting and existence of fields within a radial file.\n",
    "\n",
    "**Test specifications:** Acceptable files types, site codes, coordinates, APM names, etc., must be presented. For example, the national network performs the following suite of tests:\n",
    "* All radial files acquired by HFRNet portals report the data timestamp in the filename.\n",
    "The filename timestamp must not be any more than 72 hours in the future relative to the\n",
    "portals’ system time.\n",
    "* The file name timestamp must match the timestamp reported within the file.\n",
    "* Radial data tables (Lon, Lat, U, V, ...) must not be empty.\n",
    "* Radial data table columns stated must match the number of columns reported for each\n",
    "row (a useful test for catching partial or corrupted files).\n",
    "* The site location must be within range: − 180 ≤ Longitude ≤ 180 − 90 ≤ Latitude ≤ 90.\n",
    "* As a minimum, the following metadata must be defined:\n",
    "    * File type (LLUV)\n",
    "    * Site code\n",
    "    * Timestamp\n",
    "    * Site coordinates\n",
    "    * Antenna pattern type (measured or idealized)\n",
    "    * Time zone (only Coordinated Universal Time or Greenwich Mean Time accepted)\n",
    "\n",
    "If a radial file is successfully loaded by the Radial class that file automatically passes the QARTOD Syntax test. "
   ]
  },
  {
   "cell_type": "code",
   "execution_count": 14,
   "metadata": {},
   "outputs": [],
   "source": [
    "r.qc_qartod_syntax()"
   ]
  },
  {
   "cell_type": "code",
   "execution_count": 15,
   "metadata": {
    "scrolled": true
   },
   "outputs": [
    {
     "data": {
      "text/plain": "        LOND       LATD   VELU    VELV  VFLG   ESPC    ETMP    MAXV    MINV  ERSC  ERTC    XDST    YDST    RNGE  BEAR    VELO   HEAD  SPRC  QC06\n0 -73.972291  40.421208 -0.031  -1.788   128    NaN   1.633   2.333   1.244     1     2  0.1054  6.0397  6.0406   1.0   1.788  181.0     2     1\n1 -73.966093  40.420918 -0.358  -3.403   128    NaN   1.779   3.422   3.422     1     3  0.6314  6.0075  6.0406   6.0   3.422  186.0     2     1\n2 -73.959952  40.420216 -2.629 -13.516   128  1.089   4.901  14.314  13.224     2     2  1.1526  5.9296  6.0406  11.0  13.769  191.0     2     1\n3 -73.953915  40.419107 -3.948 -13.758   128    NaN   6.413  14.313  14.313     1     3  1.6650  5.8066  6.0406  16.0  14.313  196.0     2     1\n4 -73.942334  40.415706  5.460  11.185     0  1.089  14.930  -2.023 -22.871     2     4  2.6480  5.4293  6.0406  26.0 -12.447  206.0     2     1",
      "text/html": "<div>\n<style scoped>\n    .dataframe tbody tr th:only-of-type {\n        vertical-align: middle;\n    }\n\n    .dataframe tbody tr th {\n        vertical-align: top;\n    }\n\n    .dataframe thead th {\n        text-align: right;\n    }\n</style>\n<table border=\"1\" class=\"dataframe\">\n  <thead>\n    <tr style=\"text-align: right;\">\n      <th></th>\n      <th>LOND</th>\n      <th>LATD</th>\n      <th>VELU</th>\n      <th>VELV</th>\n      <th>VFLG</th>\n      <th>ESPC</th>\n      <th>ETMP</th>\n      <th>MAXV</th>\n      <th>MINV</th>\n      <th>ERSC</th>\n      <th>ERTC</th>\n      <th>XDST</th>\n      <th>YDST</th>\n      <th>RNGE</th>\n      <th>BEAR</th>\n      <th>VELO</th>\n      <th>HEAD</th>\n      <th>SPRC</th>\n      <th>QC06</th>\n    </tr>\n  </thead>\n  <tbody>\n    <tr>\n      <th>0</th>\n      <td>-73.972291</td>\n      <td>40.421208</td>\n      <td>-0.031</td>\n      <td>-1.788</td>\n      <td>128</td>\n      <td>NaN</td>\n      <td>1.633</td>\n      <td>2.333</td>\n      <td>1.244</td>\n      <td>1</td>\n      <td>2</td>\n      <td>0.1054</td>\n      <td>6.0397</td>\n      <td>6.0406</td>\n      <td>1.0</td>\n      <td>1.788</td>\n      <td>181.0</td>\n      <td>2</td>\n      <td>1</td>\n    </tr>\n    <tr>\n      <th>1</th>\n      <td>-73.966093</td>\n      <td>40.420918</td>\n      <td>-0.358</td>\n      <td>-3.403</td>\n      <td>128</td>\n      <td>NaN</td>\n      <td>1.779</td>\n      <td>3.422</td>\n      <td>3.422</td>\n      <td>1</td>\n      <td>3</td>\n      <td>0.6314</td>\n      <td>6.0075</td>\n      <td>6.0406</td>\n      <td>6.0</td>\n      <td>3.422</td>\n      <td>186.0</td>\n      <td>2</td>\n      <td>1</td>\n    </tr>\n    <tr>\n      <th>2</th>\n      <td>-73.959952</td>\n      <td>40.420216</td>\n      <td>-2.629</td>\n      <td>-13.516</td>\n      <td>128</td>\n      <td>1.089</td>\n      <td>4.901</td>\n      <td>14.314</td>\n      <td>13.224</td>\n      <td>2</td>\n      <td>2</td>\n      <td>1.1526</td>\n      <td>5.9296</td>\n      <td>6.0406</td>\n      <td>11.0</td>\n      <td>13.769</td>\n      <td>191.0</td>\n      <td>2</td>\n      <td>1</td>\n    </tr>\n    <tr>\n      <th>3</th>\n      <td>-73.953915</td>\n      <td>40.419107</td>\n      <td>-3.948</td>\n      <td>-13.758</td>\n      <td>128</td>\n      <td>NaN</td>\n      <td>6.413</td>\n      <td>14.313</td>\n      <td>14.313</td>\n      <td>1</td>\n      <td>3</td>\n      <td>1.6650</td>\n      <td>5.8066</td>\n      <td>6.0406</td>\n      <td>16.0</td>\n      <td>14.313</td>\n      <td>196.0</td>\n      <td>2</td>\n      <td>1</td>\n    </tr>\n    <tr>\n      <th>4</th>\n      <td>-73.942334</td>\n      <td>40.415706</td>\n      <td>5.460</td>\n      <td>11.185</td>\n      <td>0</td>\n      <td>1.089</td>\n      <td>14.930</td>\n      <td>-2.023</td>\n      <td>-22.871</td>\n      <td>2</td>\n      <td>4</td>\n      <td>2.6480</td>\n      <td>5.4293</td>\n      <td>6.0406</td>\n      <td>26.0</td>\n      <td>-12.447</td>\n      <td>206.0</td>\n      <td>2</td>\n      <td>1</td>\n    </tr>\n  </tbody>\n</table>\n</div>"
     },
     "execution_count": 15,
     "metadata": {},
     "output_type": "execute_result"
    }
   ],
   "source": [
    "r.data.head()"
   ]
  },
  {
   "cell_type": "markdown",
   "metadata": {},
   "source": [
    "## Maximum Velocity Threshold\n",
    "Ensures that a radial currend speed is not unrealistically high.\n",
    "\n",
    "**Description:** The maximum radial speed threshold (RSPDMAX) represents the maximum reasonable surface radial\n",
    "velocity for the given domain.\n",
    "\n",
    "**Test Specifications:** The maximum total speed threshold is 1 m/s for the West\n",
    "Coast of the United States and 3 m/s for the East/Gulf Coast domain. The threshold must vary by region. For\n",
    "example, the presence of the Gulf Stream dictates the higher threshold on the East Coast.\n",
    "\n",
    "**Default Max Threshold:** 250 cm/s\n",
    "\n",
    "Flags (VLOC): \n",
    "* Fail = 4\n",
    "    * Radial current speed exceeds the maximum radial speed threshold\n",
    "* Pass = 1\n",
    "    * Radial current speed is less than or equal to the maximum radial speed threshold."
   ]
  },
  {
   "cell_type": "code",
   "execution_count": 16,
   "metadata": {},
   "outputs": [],
   "source": [
    "r.qc_qartod_maximum_velocity(radial_max_speed=250, radial_high_speed=150) #cm/s"
   ]
  },
  {
   "cell_type": "code",
   "execution_count": 17,
   "metadata": {},
   "outputs": [
    {
     "data": {
      "text/plain": "        LOND       LATD   VELU    VELV  VFLG   ESPC    ETMP    MAXV    MINV  ERSC  ERTC    XDST    YDST    RNGE  BEAR    VELO   HEAD  SPRC  QC06  QC07\n0 -73.972291  40.421208 -0.031  -1.788   128    NaN   1.633   2.333   1.244     1     2  0.1054  6.0397  6.0406   1.0   1.788  181.0     2     1     1\n1 -73.966093  40.420918 -0.358  -3.403   128    NaN   1.779   3.422   3.422     1     3  0.6314  6.0075  6.0406   6.0   3.422  186.0     2     1     1\n2 -73.959952  40.420216 -2.629 -13.516   128  1.089   4.901  14.314  13.224     2     2  1.1526  5.9296  6.0406  11.0  13.769  191.0     2     1     1\n3 -73.953915  40.419107 -3.948 -13.758   128    NaN   6.413  14.313  14.313     1     3  1.6650  5.8066  6.0406  16.0  14.313  196.0     2     1     1\n4 -73.942334  40.415706  5.460  11.185     0  1.089  14.930  -2.023 -22.871     2     4  2.6480  5.4293  6.0406  26.0 -12.447  206.0     2     1     1",
      "text/html": "<div>\n<style scoped>\n    .dataframe tbody tr th:only-of-type {\n        vertical-align: middle;\n    }\n\n    .dataframe tbody tr th {\n        vertical-align: top;\n    }\n\n    .dataframe thead th {\n        text-align: right;\n    }\n</style>\n<table border=\"1\" class=\"dataframe\">\n  <thead>\n    <tr style=\"text-align: right;\">\n      <th></th>\n      <th>LOND</th>\n      <th>LATD</th>\n      <th>VELU</th>\n      <th>VELV</th>\n      <th>VFLG</th>\n      <th>ESPC</th>\n      <th>ETMP</th>\n      <th>MAXV</th>\n      <th>MINV</th>\n      <th>ERSC</th>\n      <th>ERTC</th>\n      <th>XDST</th>\n      <th>YDST</th>\n      <th>RNGE</th>\n      <th>BEAR</th>\n      <th>VELO</th>\n      <th>HEAD</th>\n      <th>SPRC</th>\n      <th>QC06</th>\n      <th>QC07</th>\n    </tr>\n  </thead>\n  <tbody>\n    <tr>\n      <th>0</th>\n      <td>-73.972291</td>\n      <td>40.421208</td>\n      <td>-0.031</td>\n      <td>-1.788</td>\n      <td>128</td>\n      <td>NaN</td>\n      <td>1.633</td>\n      <td>2.333</td>\n      <td>1.244</td>\n      <td>1</td>\n      <td>2</td>\n      <td>0.1054</td>\n      <td>6.0397</td>\n      <td>6.0406</td>\n      <td>1.0</td>\n      <td>1.788</td>\n      <td>181.0</td>\n      <td>2</td>\n      <td>1</td>\n      <td>1</td>\n    </tr>\n    <tr>\n      <th>1</th>\n      <td>-73.966093</td>\n      <td>40.420918</td>\n      <td>-0.358</td>\n      <td>-3.403</td>\n      <td>128</td>\n      <td>NaN</td>\n      <td>1.779</td>\n      <td>3.422</td>\n      <td>3.422</td>\n      <td>1</td>\n      <td>3</td>\n      <td>0.6314</td>\n      <td>6.0075</td>\n      <td>6.0406</td>\n      <td>6.0</td>\n      <td>3.422</td>\n      <td>186.0</td>\n      <td>2</td>\n      <td>1</td>\n      <td>1</td>\n    </tr>\n    <tr>\n      <th>2</th>\n      <td>-73.959952</td>\n      <td>40.420216</td>\n      <td>-2.629</td>\n      <td>-13.516</td>\n      <td>128</td>\n      <td>1.089</td>\n      <td>4.901</td>\n      <td>14.314</td>\n      <td>13.224</td>\n      <td>2</td>\n      <td>2</td>\n      <td>1.1526</td>\n      <td>5.9296</td>\n      <td>6.0406</td>\n      <td>11.0</td>\n      <td>13.769</td>\n      <td>191.0</td>\n      <td>2</td>\n      <td>1</td>\n      <td>1</td>\n    </tr>\n    <tr>\n      <th>3</th>\n      <td>-73.953915</td>\n      <td>40.419107</td>\n      <td>-3.948</td>\n      <td>-13.758</td>\n      <td>128</td>\n      <td>NaN</td>\n      <td>6.413</td>\n      <td>14.313</td>\n      <td>14.313</td>\n      <td>1</td>\n      <td>3</td>\n      <td>1.6650</td>\n      <td>5.8066</td>\n      <td>6.0406</td>\n      <td>16.0</td>\n      <td>14.313</td>\n      <td>196.0</td>\n      <td>2</td>\n      <td>1</td>\n      <td>1</td>\n    </tr>\n    <tr>\n      <th>4</th>\n      <td>-73.942334</td>\n      <td>40.415706</td>\n      <td>5.460</td>\n      <td>11.185</td>\n      <td>0</td>\n      <td>1.089</td>\n      <td>14.930</td>\n      <td>-2.023</td>\n      <td>-22.871</td>\n      <td>2</td>\n      <td>4</td>\n      <td>2.6480</td>\n      <td>5.4293</td>\n      <td>6.0406</td>\n      <td>26.0</td>\n      <td>-12.447</td>\n      <td>206.0</td>\n      <td>2</td>\n      <td>1</td>\n      <td>1</td>\n    </tr>\n  </tbody>\n</table>\n</div>"
     },
     "execution_count": 17,
     "metadata": {},
     "output_type": "execute_result"
    }
   ],
   "source": [
    "r.data.head()"
   ]
  },
  {
   "cell_type": "markdown",
   "metadata": {},
   "source": [
    "## Valid Location \n",
    "Removes radial vectors placed over land or in other unmeasureable areas.\n",
    "\n",
    "**Description:** Radial vector coordinates are checked against a reference file containing information about which locations\n",
    "are over land or in an unmeasurable area (for example, behind an island or point of land). Radials in these\n",
    "areas will be flagged with a code (FLOC) in the radial file (+128 in CODAR radial files) and are not included in\n",
    "total vector calculations.\n",
    "\n",
    "**Test Specifications:**\n",
    "For CODAR systems, the reference file is called AngSeg_XXXX.txt, where XXXX is the four-letter site code of the station and is located in the “RadialConfigs” folder. These vectors receive a code of +128 in the flag column of the radial text file. BF systems use pre-set grid locations for radials.\n",
    "\n",
    "**Default Location Flag:** 128 (corresponds to CODAR AngSeg flag)\n",
    "\n",
    "Flags (VLOC): \n",
    "* Fail = 4\n",
    "    * Radial contains a user-defined location flag code in the radial file\n",
    "* Pass = 1\n",
    "    * Radial does not contain a user-defined location flag code in the radial file."
   ]
  },
  {
   "cell_type": "code",
   "execution_count": 18,
   "metadata": {},
   "outputs": [],
   "source": [
    "r.qc_qartod_valid_location()"
   ]
  },
  {
   "cell_type": "code",
   "execution_count": 19,
   "metadata": {},
   "outputs": [
    {
     "data": {
      "text/plain": "        LOND       LATD   VELU    VELV  VFLG   ESPC    ETMP    MAXV    MINV  ERSC  ...    XDST    YDST    RNGE  BEAR    VELO   HEAD  SPRC  QC06  QC07  QC08\n0 -73.972291  40.421208 -0.031  -1.788   128    NaN   1.633   2.333   1.244     1  ...  0.1054  6.0397  6.0406   1.0   1.788  181.0     2     1     1     4\n1 -73.966093  40.420918 -0.358  -3.403   128    NaN   1.779   3.422   3.422     1  ...  0.6314  6.0075  6.0406   6.0   3.422  186.0     2     1     1     4\n2 -73.959952  40.420216 -2.629 -13.516   128  1.089   4.901  14.314  13.224     2  ...  1.1526  5.9296  6.0406  11.0  13.769  191.0     2     1     1     4\n3 -73.953915  40.419107 -3.948 -13.758   128    NaN   6.413  14.313  14.313     1  ...  1.6650  5.8066  6.0406  16.0  14.313  196.0     2     1     1     4\n4 -73.942334  40.415706  5.460  11.185     0  1.089  14.930  -2.023 -22.871     2  ...  2.6480  5.4293  6.0406  26.0 -12.447  206.0     2     1     1     1\n\n[5 rows x 21 columns]",
      "text/html": "<div>\n<style scoped>\n    .dataframe tbody tr th:only-of-type {\n        vertical-align: middle;\n    }\n\n    .dataframe tbody tr th {\n        vertical-align: top;\n    }\n\n    .dataframe thead th {\n        text-align: right;\n    }\n</style>\n<table border=\"1\" class=\"dataframe\">\n  <thead>\n    <tr style=\"text-align: right;\">\n      <th></th>\n      <th>LOND</th>\n      <th>LATD</th>\n      <th>VELU</th>\n      <th>VELV</th>\n      <th>VFLG</th>\n      <th>ESPC</th>\n      <th>ETMP</th>\n      <th>MAXV</th>\n      <th>MINV</th>\n      <th>ERSC</th>\n      <th>...</th>\n      <th>XDST</th>\n      <th>YDST</th>\n      <th>RNGE</th>\n      <th>BEAR</th>\n      <th>VELO</th>\n      <th>HEAD</th>\n      <th>SPRC</th>\n      <th>QC06</th>\n      <th>QC07</th>\n      <th>QC08</th>\n    </tr>\n  </thead>\n  <tbody>\n    <tr>\n      <th>0</th>\n      <td>-73.972291</td>\n      <td>40.421208</td>\n      <td>-0.031</td>\n      <td>-1.788</td>\n      <td>128</td>\n      <td>NaN</td>\n      <td>1.633</td>\n      <td>2.333</td>\n      <td>1.244</td>\n      <td>1</td>\n      <td>...</td>\n      <td>0.1054</td>\n      <td>6.0397</td>\n      <td>6.0406</td>\n      <td>1.0</td>\n      <td>1.788</td>\n      <td>181.0</td>\n      <td>2</td>\n      <td>1</td>\n      <td>1</td>\n      <td>4</td>\n    </tr>\n    <tr>\n      <th>1</th>\n      <td>-73.966093</td>\n      <td>40.420918</td>\n      <td>-0.358</td>\n      <td>-3.403</td>\n      <td>128</td>\n      <td>NaN</td>\n      <td>1.779</td>\n      <td>3.422</td>\n      <td>3.422</td>\n      <td>1</td>\n      <td>...</td>\n      <td>0.6314</td>\n      <td>6.0075</td>\n      <td>6.0406</td>\n      <td>6.0</td>\n      <td>3.422</td>\n      <td>186.0</td>\n      <td>2</td>\n      <td>1</td>\n      <td>1</td>\n      <td>4</td>\n    </tr>\n    <tr>\n      <th>2</th>\n      <td>-73.959952</td>\n      <td>40.420216</td>\n      <td>-2.629</td>\n      <td>-13.516</td>\n      <td>128</td>\n      <td>1.089</td>\n      <td>4.901</td>\n      <td>14.314</td>\n      <td>13.224</td>\n      <td>2</td>\n      <td>...</td>\n      <td>1.1526</td>\n      <td>5.9296</td>\n      <td>6.0406</td>\n      <td>11.0</td>\n      <td>13.769</td>\n      <td>191.0</td>\n      <td>2</td>\n      <td>1</td>\n      <td>1</td>\n      <td>4</td>\n    </tr>\n    <tr>\n      <th>3</th>\n      <td>-73.953915</td>\n      <td>40.419107</td>\n      <td>-3.948</td>\n      <td>-13.758</td>\n      <td>128</td>\n      <td>NaN</td>\n      <td>6.413</td>\n      <td>14.313</td>\n      <td>14.313</td>\n      <td>1</td>\n      <td>...</td>\n      <td>1.6650</td>\n      <td>5.8066</td>\n      <td>6.0406</td>\n      <td>16.0</td>\n      <td>14.313</td>\n      <td>196.0</td>\n      <td>2</td>\n      <td>1</td>\n      <td>1</td>\n      <td>4</td>\n    </tr>\n    <tr>\n      <th>4</th>\n      <td>-73.942334</td>\n      <td>40.415706</td>\n      <td>5.460</td>\n      <td>11.185</td>\n      <td>0</td>\n      <td>1.089</td>\n      <td>14.930</td>\n      <td>-2.023</td>\n      <td>-22.871</td>\n      <td>2</td>\n      <td>...</td>\n      <td>2.6480</td>\n      <td>5.4293</td>\n      <td>6.0406</td>\n      <td>26.0</td>\n      <td>-12.447</td>\n      <td>206.0</td>\n      <td>2</td>\n      <td>1</td>\n      <td>1</td>\n      <td>1</td>\n    </tr>\n  </tbody>\n</table>\n<p>5 rows × 21 columns</p>\n</div>"
     },
     "execution_count": 19,
     "metadata": {},
     "output_type": "execute_result"
    }
   ],
   "source": [
    "r.data.head()"
   ]
  },
  {
   "cell_type": "markdown",
   "metadata": {},
   "source": [
    "## Radial Count\n",
    "Rejects radials in files with low radial counts (poor radial map coverage)\n",
    "\n",
    "**Description:** The number of radials (RCNT) in a radial file must be above a threshold value RCNT_MIN to pass the test and above a value RC_LOW to not be considered suspect. If the number of radials is below the minimum level, it indicates a problem with data collection. In this case, the file should be rejected and none of the radials used for total vector processing.\n",
    "\n",
    "**Test Specifications:** The RC_LOW threshold may be based on the national\n",
    "network performance metric threshold value of 300. The choice of 300 radial solutions came from grouping\n",
    "radial files over a certain time period from all stations, looking at the cumulative density function for counts,\n",
    "and selecting a value around 10%. However, this threshold does not work for all stations. A custom value for\n",
    "a site might be found by following the same procedure for the individual station.\n",
    "\n",
    "**Default Max Threshold:** min_radials = 150; low_radials = 300 \n",
    "\n",
    "Flags (VLOC): \n",
    "* Fail = 4\n",
    "    * Number of radials is less than min_radials\n",
    "* Suspect = 3\n",
    "    * Number of radials is greater than min_radials but less than or equal to low_radials\n",
    "* Pass = 1\n",
    "    * Number of radials is greater than low_radials.\n",
    "    \n",
    "This will not add an extra column to the file. Rather it will add the test result a new key, qc_qartod_radial_count, to the header file of a newly exported radial."
   ]
  },
  {
   "cell_type": "code",
   "execution_count": 20,
   "metadata": {},
   "outputs": [],
   "source": [
    "r.qc_qartod_radial_count(radial_low_count=140, radial_min_count=50)"
   ]
  },
  {
   "cell_type": "code",
   "execution_count": 21,
   "metadata": {},
   "outputs": [
    {
     "data": {
      "text/plain": "          LOND       LATD   VELU    VELV  VFLG   ESPC    ETMP    MAXV    MINV  ERSC  ...     YDST     RNGE   BEAR    VELO   HEAD  SPRC  QC06  QC07  QC08  QC09\n0   -73.972291  40.421208 -0.031  -1.788   128    NaN   1.633   2.333   1.244     1  ...   6.0397   6.0406    1.0   1.788  181.0     2     1     1     4     1\n1   -73.966093  40.420918 -0.358  -3.403   128    NaN   1.779   3.422   3.422     1  ...   6.0075   6.0406    6.0   3.422  186.0     2     1     1     4     1\n2   -73.959952  40.420216 -2.629 -13.516   128  1.089   4.901  14.314  13.224     2  ...   5.9296   6.0406   11.0  13.769  191.0     2     1     1     4     1\n3   -73.953915  40.419107 -3.948 -13.758   128    NaN   6.413  14.313  14.313     1  ...   5.8066   6.0406   16.0  14.313  196.0     2     1     1     4     1\n4   -73.942334  40.415706  5.460  11.185     0  1.089  14.930  -2.023 -22.871     2  ...   5.4293   6.0406   26.0 -12.447  206.0     2     1     1     1     1\n..         ...        ...    ...     ...   ...    ...     ...     ...     ...   ...  ...      ...      ...    ...     ...    ...   ...   ...   ...   ...   ...\n728 -74.313784  39.828457 -3.383  -7.005   128    NaN     NaN  -7.779  -7.779     1  ... -59.7218  66.4466  206.0  -7.779   25.8    22     1     1     4     1\n729 -73.160940  40.298568  0.154  -0.018     0    NaN   1.089  -0.155  -0.155     1  ...  -7.2613  69.4669   96.0  -0.155  276.5    23     1     1     1     1\n730 -73.241405  40.090246 -0.349   0.174     0  3.267   0.544   2.023  -1.244     2  ... -30.4523  69.4669  116.0   0.390  296.5    23     1     1     1     1\n731 -73.275802  40.042493 -1.726   1.056     0    NaN   1.089   2.023   2.023     1  ... -35.7781  69.4669  121.0   2.023  301.5    23     1     1     1     1\n732 -74.196994  39.765210 -0.637  -2.244   128    NaN   1.089  -2.333  -2.333     1  ... -66.7759  69.4669  196.0  -2.333   15.9    23     1     1     4     1\n\n[733 rows x 22 columns]",
      "text/html": "<div>\n<style scoped>\n    .dataframe tbody tr th:only-of-type {\n        vertical-align: middle;\n    }\n\n    .dataframe tbody tr th {\n        vertical-align: top;\n    }\n\n    .dataframe thead th {\n        text-align: right;\n    }\n</style>\n<table border=\"1\" class=\"dataframe\">\n  <thead>\n    <tr style=\"text-align: right;\">\n      <th></th>\n      <th>LOND</th>\n      <th>LATD</th>\n      <th>VELU</th>\n      <th>VELV</th>\n      <th>VFLG</th>\n      <th>ESPC</th>\n      <th>ETMP</th>\n      <th>MAXV</th>\n      <th>MINV</th>\n      <th>ERSC</th>\n      <th>...</th>\n      <th>YDST</th>\n      <th>RNGE</th>\n      <th>BEAR</th>\n      <th>VELO</th>\n      <th>HEAD</th>\n      <th>SPRC</th>\n      <th>QC06</th>\n      <th>QC07</th>\n      <th>QC08</th>\n      <th>QC09</th>\n    </tr>\n  </thead>\n  <tbody>\n    <tr>\n      <th>0</th>\n      <td>-73.972291</td>\n      <td>40.421208</td>\n      <td>-0.031</td>\n      <td>-1.788</td>\n      <td>128</td>\n      <td>NaN</td>\n      <td>1.633</td>\n      <td>2.333</td>\n      <td>1.244</td>\n      <td>1</td>\n      <td>...</td>\n      <td>6.0397</td>\n      <td>6.0406</td>\n      <td>1.0</td>\n      <td>1.788</td>\n      <td>181.0</td>\n      <td>2</td>\n      <td>1</td>\n      <td>1</td>\n      <td>4</td>\n      <td>1</td>\n    </tr>\n    <tr>\n      <th>1</th>\n      <td>-73.966093</td>\n      <td>40.420918</td>\n      <td>-0.358</td>\n      <td>-3.403</td>\n      <td>128</td>\n      <td>NaN</td>\n      <td>1.779</td>\n      <td>3.422</td>\n      <td>3.422</td>\n      <td>1</td>\n      <td>...</td>\n      <td>6.0075</td>\n      <td>6.0406</td>\n      <td>6.0</td>\n      <td>3.422</td>\n      <td>186.0</td>\n      <td>2</td>\n      <td>1</td>\n      <td>1</td>\n      <td>4</td>\n      <td>1</td>\n    </tr>\n    <tr>\n      <th>2</th>\n      <td>-73.959952</td>\n      <td>40.420216</td>\n      <td>-2.629</td>\n      <td>-13.516</td>\n      <td>128</td>\n      <td>1.089</td>\n      <td>4.901</td>\n      <td>14.314</td>\n      <td>13.224</td>\n      <td>2</td>\n      <td>...</td>\n      <td>5.9296</td>\n      <td>6.0406</td>\n      <td>11.0</td>\n      <td>13.769</td>\n      <td>191.0</td>\n      <td>2</td>\n      <td>1</td>\n      <td>1</td>\n      <td>4</td>\n      <td>1</td>\n    </tr>\n    <tr>\n      <th>3</th>\n      <td>-73.953915</td>\n      <td>40.419107</td>\n      <td>-3.948</td>\n      <td>-13.758</td>\n      <td>128</td>\n      <td>NaN</td>\n      <td>6.413</td>\n      <td>14.313</td>\n      <td>14.313</td>\n      <td>1</td>\n      <td>...</td>\n      <td>5.8066</td>\n      <td>6.0406</td>\n      <td>16.0</td>\n      <td>14.313</td>\n      <td>196.0</td>\n      <td>2</td>\n      <td>1</td>\n      <td>1</td>\n      <td>4</td>\n      <td>1</td>\n    </tr>\n    <tr>\n      <th>4</th>\n      <td>-73.942334</td>\n      <td>40.415706</td>\n      <td>5.460</td>\n      <td>11.185</td>\n      <td>0</td>\n      <td>1.089</td>\n      <td>14.930</td>\n      <td>-2.023</td>\n      <td>-22.871</td>\n      <td>2</td>\n      <td>...</td>\n      <td>5.4293</td>\n      <td>6.0406</td>\n      <td>26.0</td>\n      <td>-12.447</td>\n      <td>206.0</td>\n      <td>2</td>\n      <td>1</td>\n      <td>1</td>\n      <td>1</td>\n      <td>1</td>\n    </tr>\n    <tr>\n      <th>...</th>\n      <td>...</td>\n      <td>...</td>\n      <td>...</td>\n      <td>...</td>\n      <td>...</td>\n      <td>...</td>\n      <td>...</td>\n      <td>...</td>\n      <td>...</td>\n      <td>...</td>\n      <td>...</td>\n      <td>...</td>\n      <td>...</td>\n      <td>...</td>\n      <td>...</td>\n      <td>...</td>\n      <td>...</td>\n      <td>...</td>\n      <td>...</td>\n      <td>...</td>\n      <td>...</td>\n    </tr>\n    <tr>\n      <th>728</th>\n      <td>-74.313784</td>\n      <td>39.828457</td>\n      <td>-3.383</td>\n      <td>-7.005</td>\n      <td>128</td>\n      <td>NaN</td>\n      <td>NaN</td>\n      <td>-7.779</td>\n      <td>-7.779</td>\n      <td>1</td>\n      <td>...</td>\n      <td>-59.7218</td>\n      <td>66.4466</td>\n      <td>206.0</td>\n      <td>-7.779</td>\n      <td>25.8</td>\n      <td>22</td>\n      <td>1</td>\n      <td>1</td>\n      <td>4</td>\n      <td>1</td>\n    </tr>\n    <tr>\n      <th>729</th>\n      <td>-73.160940</td>\n      <td>40.298568</td>\n      <td>0.154</td>\n      <td>-0.018</td>\n      <td>0</td>\n      <td>NaN</td>\n      <td>1.089</td>\n      <td>-0.155</td>\n      <td>-0.155</td>\n      <td>1</td>\n      <td>...</td>\n      <td>-7.2613</td>\n      <td>69.4669</td>\n      <td>96.0</td>\n      <td>-0.155</td>\n      <td>276.5</td>\n      <td>23</td>\n      <td>1</td>\n      <td>1</td>\n      <td>1</td>\n      <td>1</td>\n    </tr>\n    <tr>\n      <th>730</th>\n      <td>-73.241405</td>\n      <td>40.090246</td>\n      <td>-0.349</td>\n      <td>0.174</td>\n      <td>0</td>\n      <td>3.267</td>\n      <td>0.544</td>\n      <td>2.023</td>\n      <td>-1.244</td>\n      <td>2</td>\n      <td>...</td>\n      <td>-30.4523</td>\n      <td>69.4669</td>\n      <td>116.0</td>\n      <td>0.390</td>\n      <td>296.5</td>\n      <td>23</td>\n      <td>1</td>\n      <td>1</td>\n      <td>1</td>\n      <td>1</td>\n    </tr>\n    <tr>\n      <th>731</th>\n      <td>-73.275802</td>\n      <td>40.042493</td>\n      <td>-1.726</td>\n      <td>1.056</td>\n      <td>0</td>\n      <td>NaN</td>\n      <td>1.089</td>\n      <td>2.023</td>\n      <td>2.023</td>\n      <td>1</td>\n      <td>...</td>\n      <td>-35.7781</td>\n      <td>69.4669</td>\n      <td>121.0</td>\n      <td>2.023</td>\n      <td>301.5</td>\n      <td>23</td>\n      <td>1</td>\n      <td>1</td>\n      <td>1</td>\n      <td>1</td>\n    </tr>\n    <tr>\n      <th>732</th>\n      <td>-74.196994</td>\n      <td>39.765210</td>\n      <td>-0.637</td>\n      <td>-2.244</td>\n      <td>128</td>\n      <td>NaN</td>\n      <td>1.089</td>\n      <td>-2.333</td>\n      <td>-2.333</td>\n      <td>1</td>\n      <td>...</td>\n      <td>-66.7759</td>\n      <td>69.4669</td>\n      <td>196.0</td>\n      <td>-2.333</td>\n      <td>15.9</td>\n      <td>23</td>\n      <td>1</td>\n      <td>1</td>\n      <td>4</td>\n      <td>1</td>\n    </tr>\n  </tbody>\n</table>\n<p>733 rows × 22 columns</p>\n</div>"
     },
     "execution_count": 21,
     "metadata": {},
     "output_type": "execute_result"
    }
   ],
   "source": [
    "r.data"
   ]
  },
  {
   "cell_type": "markdown",
   "metadata": {},
   "source": [
    "## Spatial Median \n",
    "Reduces outlier velocities in radials.\n",
    "\n",
    "**Description:** \n",
    "RV is the radial velocity\n",
    "NV is a set of radial velocities for neighboring radial cells (cells within radius of 'radial_smed_range_cell_limit' * Range Step (km)and whose vector bearing (angle of arrival at site) is also within 'radial_smed_angular_limit' degrees of the source vector's bearing)\n",
    "\n",
    "**Test Specifications:** Required to pass the test: |RV - median(NV)| <= radial_smed_current_difference\n",
    "\n",
    "Flags (VLOC): \n",
    "* Fail = 4\n",
    "    * Difference between the vector velocity and the median velocity is greater than the threshold.\n",
    "* Pass = 1\n",
    "    * If the difference between the vector velocity and the median velocity is less or equal to the threshold, the vector value is CHANGED to the median value."
   ]
  },
  {
   "cell_type": "code",
   "execution_count": 22,
   "metadata": {},
   "outputs": [
    {
     "name": "stderr",
     "output_type": "stream",
     "text": [
      "/Users/mikesmith/miniconda3/envs/hfradar/lib/python3.7/site-packages/numpy/lib/nanfunctions.py:1114: RuntimeWarning: All-NaN slice encountered\n",
      "  overwrite_input=overwrite_input)\n"
     ]
    }
   ],
   "source": [
    "r.qc_qartod_spatial_median(radial_smed_range_cell_limit=2.1, radial_smed_angular_limit=10, radial_smed_current_difference=30)"
   ]
  },
  {
   "cell_type": "raw",
   "metadata": {},
   "source": [
    "r.data"
   ]
  },
  {
   "cell_type": "markdown",
   "metadata": {},
   "source": [
    "## Temporal Gradient  \n",
    "Checks for satisfactory temporal rate of change of radial components.\n",
    "\n",
    "**Description:** \n",
    "Test determines whether changes between successive radial velocity measurements at a particular range and bearing cell are within an acceptable range. GRADIENT_TEMP = |Rt-1 - Rt|\n",
    "\n",
    "**Test Specifications:** Required to pass the test: |RV - median(NV)| <= radial_smed_current_difference\n",
    "\n",
    "Flags (VLOC): \n",
    "* Fail = 4\n",
    "    * The temporal change between successive radial velocities exceeds the gradient failure threshold.\n",
    "\n",
    "* Suspect = 3\n",
    "    * The temporal change between successive radial velocities is less than the gradient failure threshold but exceeds the gradient warn threshold.\n",
    "    \n",
    "* Pass = 1\n",
    "    * The temporal change between successive radial velocities is less than the gradient warn threshold."
   ]
  },
  {
   "cell_type": "code",
   "execution_count": 23,
   "metadata": {},
   "outputs": [],
   "source": [
    "# r0 set so we can demonstrate temporal gradient test\n",
    "r0 = '../hfradar/data/radials/ruv/SEAB/RDLi_SEAB_2019_01_01_0000.ruv'"
   ]
  },
  {
   "cell_type": "code",
   "execution_count": 24,
   "metadata": {},
   "outputs": [],
   "source": [
    "r.qc_qartod_temporal_gradient(r0, gradient_temp_fail=54, gradient_temp_warn=36)"
   ]
  },
  {
   "cell_type": "code",
   "execution_count": 25,
   "metadata": {},
   "outputs": [
    {
     "data": {
      "text/plain": "          LOND       LATD   VELU    VELV  VFLG   ESPC    ETMP    MAXV    MINV  ERSC  ...   BEAR    VELO   HEAD  SPRC  QC06  QC07  QC08  QC09  QC10  QC11\n0   -73.972291  40.421208 -0.031  -1.788   128    NaN   1.633   2.333   1.244     1  ...    1.0   1.788  181.0     2     1     1     4     1     1     1\n1   -73.966093  40.420918 -0.358  -3.403   128    NaN   1.779   3.422   3.422     1  ...    6.0   3.422  186.0     2     1     1     4     1     1     2\n2   -73.959952  40.420216 -2.629 -13.516   128  1.089   4.901  14.314  13.224     2  ...   11.0  13.769  191.0     2     1     1     4     1     1     1\n3   -73.953915  40.419107 -3.948 -13.758   128    NaN   6.413  14.313  14.313     1  ...   16.0  14.313  196.0     2     1     1     4     1     1     1\n4   -73.942334  40.415706  5.460  11.185     0  1.089  14.930  -2.023 -22.871     2  ...   26.0 -12.447  206.0     2     1     1     1     1     1     1\n..         ...        ...    ...     ...   ...    ...     ...     ...     ...   ...  ...    ...     ...    ...   ...   ...   ...   ...   ...   ...   ...\n728 -74.313784  39.828457 -3.383  -7.005   128    NaN     NaN  -7.779  -7.779     1  ...  206.0  -7.779   25.8    22     1     1     4     1     1     2\n729 -73.160940  40.298568  0.154  -0.018     0    NaN   1.089  -0.155  -0.155     1  ...   96.0  -0.155  276.5    23     1     1     1     1     1     2\n730 -73.241405  40.090246 -0.349   0.174     0  3.267   0.544   2.023  -1.244     2  ...  116.0   0.390  296.5    23     1     1     1     1     1     1\n731 -73.275802  40.042493 -1.726   1.056     0    NaN   1.089   2.023   2.023     1  ...  121.0   2.023  301.5    23     1     1     1     1     1     1\n732 -74.196994  39.765210 -0.637  -2.244   128    NaN   1.089  -2.333  -2.333     1  ...  196.0  -2.333   15.9    23     1     1     4     1     1     2\n\n[733 rows x 24 columns]",
      "text/html": "<div>\n<style scoped>\n    .dataframe tbody tr th:only-of-type {\n        vertical-align: middle;\n    }\n\n    .dataframe tbody tr th {\n        vertical-align: top;\n    }\n\n    .dataframe thead th {\n        text-align: right;\n    }\n</style>\n<table border=\"1\" class=\"dataframe\">\n  <thead>\n    <tr style=\"text-align: right;\">\n      <th></th>\n      <th>LOND</th>\n      <th>LATD</th>\n      <th>VELU</th>\n      <th>VELV</th>\n      <th>VFLG</th>\n      <th>ESPC</th>\n      <th>ETMP</th>\n      <th>MAXV</th>\n      <th>MINV</th>\n      <th>ERSC</th>\n      <th>...</th>\n      <th>BEAR</th>\n      <th>VELO</th>\n      <th>HEAD</th>\n      <th>SPRC</th>\n      <th>QC06</th>\n      <th>QC07</th>\n      <th>QC08</th>\n      <th>QC09</th>\n      <th>QC10</th>\n      <th>QC11</th>\n    </tr>\n  </thead>\n  <tbody>\n    <tr>\n      <th>0</th>\n      <td>-73.972291</td>\n      <td>40.421208</td>\n      <td>-0.031</td>\n      <td>-1.788</td>\n      <td>128</td>\n      <td>NaN</td>\n      <td>1.633</td>\n      <td>2.333</td>\n      <td>1.244</td>\n      <td>1</td>\n      <td>...</td>\n      <td>1.0</td>\n      <td>1.788</td>\n      <td>181.0</td>\n      <td>2</td>\n      <td>1</td>\n      <td>1</td>\n      <td>4</td>\n      <td>1</td>\n      <td>1</td>\n      <td>1</td>\n    </tr>\n    <tr>\n      <th>1</th>\n      <td>-73.966093</td>\n      <td>40.420918</td>\n      <td>-0.358</td>\n      <td>-3.403</td>\n      <td>128</td>\n      <td>NaN</td>\n      <td>1.779</td>\n      <td>3.422</td>\n      <td>3.422</td>\n      <td>1</td>\n      <td>...</td>\n      <td>6.0</td>\n      <td>3.422</td>\n      <td>186.0</td>\n      <td>2</td>\n      <td>1</td>\n      <td>1</td>\n      <td>4</td>\n      <td>1</td>\n      <td>1</td>\n      <td>2</td>\n    </tr>\n    <tr>\n      <th>2</th>\n      <td>-73.959952</td>\n      <td>40.420216</td>\n      <td>-2.629</td>\n      <td>-13.516</td>\n      <td>128</td>\n      <td>1.089</td>\n      <td>4.901</td>\n      <td>14.314</td>\n      <td>13.224</td>\n      <td>2</td>\n      <td>...</td>\n      <td>11.0</td>\n      <td>13.769</td>\n      <td>191.0</td>\n      <td>2</td>\n      <td>1</td>\n      <td>1</td>\n      <td>4</td>\n      <td>1</td>\n      <td>1</td>\n      <td>1</td>\n    </tr>\n    <tr>\n      <th>3</th>\n      <td>-73.953915</td>\n      <td>40.419107</td>\n      <td>-3.948</td>\n      <td>-13.758</td>\n      <td>128</td>\n      <td>NaN</td>\n      <td>6.413</td>\n      <td>14.313</td>\n      <td>14.313</td>\n      <td>1</td>\n      <td>...</td>\n      <td>16.0</td>\n      <td>14.313</td>\n      <td>196.0</td>\n      <td>2</td>\n      <td>1</td>\n      <td>1</td>\n      <td>4</td>\n      <td>1</td>\n      <td>1</td>\n      <td>1</td>\n    </tr>\n    <tr>\n      <th>4</th>\n      <td>-73.942334</td>\n      <td>40.415706</td>\n      <td>5.460</td>\n      <td>11.185</td>\n      <td>0</td>\n      <td>1.089</td>\n      <td>14.930</td>\n      <td>-2.023</td>\n      <td>-22.871</td>\n      <td>2</td>\n      <td>...</td>\n      <td>26.0</td>\n      <td>-12.447</td>\n      <td>206.0</td>\n      <td>2</td>\n      <td>1</td>\n      <td>1</td>\n      <td>1</td>\n      <td>1</td>\n      <td>1</td>\n      <td>1</td>\n    </tr>\n    <tr>\n      <th>...</th>\n      <td>...</td>\n      <td>...</td>\n      <td>...</td>\n      <td>...</td>\n      <td>...</td>\n      <td>...</td>\n      <td>...</td>\n      <td>...</td>\n      <td>...</td>\n      <td>...</td>\n      <td>...</td>\n      <td>...</td>\n      <td>...</td>\n      <td>...</td>\n      <td>...</td>\n      <td>...</td>\n      <td>...</td>\n      <td>...</td>\n      <td>...</td>\n      <td>...</td>\n      <td>...</td>\n    </tr>\n    <tr>\n      <th>728</th>\n      <td>-74.313784</td>\n      <td>39.828457</td>\n      <td>-3.383</td>\n      <td>-7.005</td>\n      <td>128</td>\n      <td>NaN</td>\n      <td>NaN</td>\n      <td>-7.779</td>\n      <td>-7.779</td>\n      <td>1</td>\n      <td>...</td>\n      <td>206.0</td>\n      <td>-7.779</td>\n      <td>25.8</td>\n      <td>22</td>\n      <td>1</td>\n      <td>1</td>\n      <td>4</td>\n      <td>1</td>\n      <td>1</td>\n      <td>2</td>\n    </tr>\n    <tr>\n      <th>729</th>\n      <td>-73.160940</td>\n      <td>40.298568</td>\n      <td>0.154</td>\n      <td>-0.018</td>\n      <td>0</td>\n      <td>NaN</td>\n      <td>1.089</td>\n      <td>-0.155</td>\n      <td>-0.155</td>\n      <td>1</td>\n      <td>...</td>\n      <td>96.0</td>\n      <td>-0.155</td>\n      <td>276.5</td>\n      <td>23</td>\n      <td>1</td>\n      <td>1</td>\n      <td>1</td>\n      <td>1</td>\n      <td>1</td>\n      <td>2</td>\n    </tr>\n    <tr>\n      <th>730</th>\n      <td>-73.241405</td>\n      <td>40.090246</td>\n      <td>-0.349</td>\n      <td>0.174</td>\n      <td>0</td>\n      <td>3.267</td>\n      <td>0.544</td>\n      <td>2.023</td>\n      <td>-1.244</td>\n      <td>2</td>\n      <td>...</td>\n      <td>116.0</td>\n      <td>0.390</td>\n      <td>296.5</td>\n      <td>23</td>\n      <td>1</td>\n      <td>1</td>\n      <td>1</td>\n      <td>1</td>\n      <td>1</td>\n      <td>1</td>\n    </tr>\n    <tr>\n      <th>731</th>\n      <td>-73.275802</td>\n      <td>40.042493</td>\n      <td>-1.726</td>\n      <td>1.056</td>\n      <td>0</td>\n      <td>NaN</td>\n      <td>1.089</td>\n      <td>2.023</td>\n      <td>2.023</td>\n      <td>1</td>\n      <td>...</td>\n      <td>121.0</td>\n      <td>2.023</td>\n      <td>301.5</td>\n      <td>23</td>\n      <td>1</td>\n      <td>1</td>\n      <td>1</td>\n      <td>1</td>\n      <td>1</td>\n      <td>1</td>\n    </tr>\n    <tr>\n      <th>732</th>\n      <td>-74.196994</td>\n      <td>39.765210</td>\n      <td>-0.637</td>\n      <td>-2.244</td>\n      <td>128</td>\n      <td>NaN</td>\n      <td>1.089</td>\n      <td>-2.333</td>\n      <td>-2.333</td>\n      <td>1</td>\n      <td>...</td>\n      <td>196.0</td>\n      <td>-2.333</td>\n      <td>15.9</td>\n      <td>23</td>\n      <td>1</td>\n      <td>1</td>\n      <td>4</td>\n      <td>1</td>\n      <td>1</td>\n      <td>2</td>\n    </tr>\n  </tbody>\n</table>\n<p>733 rows × 24 columns</p>\n</div>"
     },
     "execution_count": 25,
     "metadata": {},
     "output_type": "execute_result"
    }
   ],
   "source": [
    "r.data"
   ]
  },
  {
   "cell_type": "markdown",
   "metadata": {},
   "source": [
    "## Average Radial Bearing\n",
    "Check that the average radial bearing remains relatively constant (Roarty et al. 2012).\n",
    "\n",
    "**Description:** \n",
    "It is expected that the average of all radial velocity bearings AVG_RAD_BEAR obtained during a sample interval (e.g., 1 hour) should be close to a reference bearing REF_RAD_BEAR and not vary beyond warning or failure thresholds.\n",
    "\n",
    "**Test Specifications:**  RAD_BEAR_DIF_FAIL =30°, RAD_BEAR DIF_WARN = 15°\n",
    "\n",
    "Flags (VLOC): \n",
    "* Fail = 4\n",
    "    * The absolute difference between the average radial bearing and a reference bearing exceeds a failure threshold.\n",
    "\n",
    "* Suspect = 3\n",
    "    * The absolute difference between the average radial bearing and a reference bearing is less than the failure threshold but exceeds the warning threshold.\n",
    "    \n",
    "* Pass = 1\n",
    "    * The absolute difference between the average radial bearing and a reference bearing is less than the warning threshold."
   ]
  },
  {
   "cell_type": "code",
   "execution_count": 26,
   "metadata": {},
   "outputs": [],
   "source": [
    "r.qc_qartod_avg_radial_bearing(reference_bearing=151, warning_threshold=15, failure_threshold=30)"
   ]
  },
  {
   "cell_type": "code",
   "execution_count": 27,
   "metadata": {},
   "outputs": [
    {
     "data": {
      "text/plain": "          LOND       LATD   VELU    VELV  VFLG   ESPC    ETMP    MAXV    MINV  ERSC  ...    VELO   HEAD  SPRC  QC06  QC07  QC08  QC09  QC10  QC11  QC12\n0   -73.972291  40.421208 -0.031  -1.788   128    NaN   1.633   2.333   1.244     1  ...   1.788  181.0     2     1     1     4     1     1     1     1\n1   -73.966093  40.420918 -0.358  -3.403   128    NaN   1.779   3.422   3.422     1  ...   3.422  186.0     2     1     1     4     1     1     2     1\n2   -73.959952  40.420216 -2.629 -13.516   128  1.089   4.901  14.314  13.224     2  ...  13.769  191.0     2     1     1     4     1     1     1     1\n3   -73.953915  40.419107 -3.948 -13.758   128    NaN   6.413  14.313  14.313     1  ...  14.313  196.0     2     1     1     4     1     1     1     1\n4   -73.942334  40.415706  5.460  11.185     0  1.089  14.930  -2.023 -22.871     2  ... -12.447  206.0     2     1     1     1     1     1     1     1\n..         ...        ...    ...     ...   ...    ...     ...     ...     ...   ...  ...     ...    ...   ...   ...   ...   ...   ...   ...   ...   ...\n728 -74.313784  39.828457 -3.383  -7.005   128    NaN     NaN  -7.779  -7.779     1  ...  -7.779   25.8    22     1     1     4     1     1     2     1\n729 -73.160940  40.298568  0.154  -0.018     0    NaN   1.089  -0.155  -0.155     1  ...  -0.155  276.5    23     1     1     1     1     1     2     1\n730 -73.241405  40.090246 -0.349   0.174     0  3.267   0.544   2.023  -1.244     2  ...   0.390  296.5    23     1     1     1     1     1     1     1\n731 -73.275802  40.042493 -1.726   1.056     0    NaN   1.089   2.023   2.023     1  ...   2.023  301.5    23     1     1     1     1     1     1     1\n732 -74.196994  39.765210 -0.637  -2.244   128    NaN   1.089  -2.333  -2.333     1  ...  -2.333   15.9    23     1     1     4     1     1     2     1\n\n[733 rows x 25 columns]",
      "text/html": "<div>\n<style scoped>\n    .dataframe tbody tr th:only-of-type {\n        vertical-align: middle;\n    }\n\n    .dataframe tbody tr th {\n        vertical-align: top;\n    }\n\n    .dataframe thead th {\n        text-align: right;\n    }\n</style>\n<table border=\"1\" class=\"dataframe\">\n  <thead>\n    <tr style=\"text-align: right;\">\n      <th></th>\n      <th>LOND</th>\n      <th>LATD</th>\n      <th>VELU</th>\n      <th>VELV</th>\n      <th>VFLG</th>\n      <th>ESPC</th>\n      <th>ETMP</th>\n      <th>MAXV</th>\n      <th>MINV</th>\n      <th>ERSC</th>\n      <th>...</th>\n      <th>VELO</th>\n      <th>HEAD</th>\n      <th>SPRC</th>\n      <th>QC06</th>\n      <th>QC07</th>\n      <th>QC08</th>\n      <th>QC09</th>\n      <th>QC10</th>\n      <th>QC11</th>\n      <th>QC12</th>\n    </tr>\n  </thead>\n  <tbody>\n    <tr>\n      <th>0</th>\n      <td>-73.972291</td>\n      <td>40.421208</td>\n      <td>-0.031</td>\n      <td>-1.788</td>\n      <td>128</td>\n      <td>NaN</td>\n      <td>1.633</td>\n      <td>2.333</td>\n      <td>1.244</td>\n      <td>1</td>\n      <td>...</td>\n      <td>1.788</td>\n      <td>181.0</td>\n      <td>2</td>\n      <td>1</td>\n      <td>1</td>\n      <td>4</td>\n      <td>1</td>\n      <td>1</td>\n      <td>1</td>\n      <td>1</td>\n    </tr>\n    <tr>\n      <th>1</th>\n      <td>-73.966093</td>\n      <td>40.420918</td>\n      <td>-0.358</td>\n      <td>-3.403</td>\n      <td>128</td>\n      <td>NaN</td>\n      <td>1.779</td>\n      <td>3.422</td>\n      <td>3.422</td>\n      <td>1</td>\n      <td>...</td>\n      <td>3.422</td>\n      <td>186.0</td>\n      <td>2</td>\n      <td>1</td>\n      <td>1</td>\n      <td>4</td>\n      <td>1</td>\n      <td>1</td>\n      <td>2</td>\n      <td>1</td>\n    </tr>\n    <tr>\n      <th>2</th>\n      <td>-73.959952</td>\n      <td>40.420216</td>\n      <td>-2.629</td>\n      <td>-13.516</td>\n      <td>128</td>\n      <td>1.089</td>\n      <td>4.901</td>\n      <td>14.314</td>\n      <td>13.224</td>\n      <td>2</td>\n      <td>...</td>\n      <td>13.769</td>\n      <td>191.0</td>\n      <td>2</td>\n      <td>1</td>\n      <td>1</td>\n      <td>4</td>\n      <td>1</td>\n      <td>1</td>\n      <td>1</td>\n      <td>1</td>\n    </tr>\n    <tr>\n      <th>3</th>\n      <td>-73.953915</td>\n      <td>40.419107</td>\n      <td>-3.948</td>\n      <td>-13.758</td>\n      <td>128</td>\n      <td>NaN</td>\n      <td>6.413</td>\n      <td>14.313</td>\n      <td>14.313</td>\n      <td>1</td>\n      <td>...</td>\n      <td>14.313</td>\n      <td>196.0</td>\n      <td>2</td>\n      <td>1</td>\n      <td>1</td>\n      <td>4</td>\n      <td>1</td>\n      <td>1</td>\n      <td>1</td>\n      <td>1</td>\n    </tr>\n    <tr>\n      <th>4</th>\n      <td>-73.942334</td>\n      <td>40.415706</td>\n      <td>5.460</td>\n      <td>11.185</td>\n      <td>0</td>\n      <td>1.089</td>\n      <td>14.930</td>\n      <td>-2.023</td>\n      <td>-22.871</td>\n      <td>2</td>\n      <td>...</td>\n      <td>-12.447</td>\n      <td>206.0</td>\n      <td>2</td>\n      <td>1</td>\n      <td>1</td>\n      <td>1</td>\n      <td>1</td>\n      <td>1</td>\n      <td>1</td>\n      <td>1</td>\n    </tr>\n    <tr>\n      <th>...</th>\n      <td>...</td>\n      <td>...</td>\n      <td>...</td>\n      <td>...</td>\n      <td>...</td>\n      <td>...</td>\n      <td>...</td>\n      <td>...</td>\n      <td>...</td>\n      <td>...</td>\n      <td>...</td>\n      <td>...</td>\n      <td>...</td>\n      <td>...</td>\n      <td>...</td>\n      <td>...</td>\n      <td>...</td>\n      <td>...</td>\n      <td>...</td>\n      <td>...</td>\n      <td>...</td>\n    </tr>\n    <tr>\n      <th>728</th>\n      <td>-74.313784</td>\n      <td>39.828457</td>\n      <td>-3.383</td>\n      <td>-7.005</td>\n      <td>128</td>\n      <td>NaN</td>\n      <td>NaN</td>\n      <td>-7.779</td>\n      <td>-7.779</td>\n      <td>1</td>\n      <td>...</td>\n      <td>-7.779</td>\n      <td>25.8</td>\n      <td>22</td>\n      <td>1</td>\n      <td>1</td>\n      <td>4</td>\n      <td>1</td>\n      <td>1</td>\n      <td>2</td>\n      <td>1</td>\n    </tr>\n    <tr>\n      <th>729</th>\n      <td>-73.160940</td>\n      <td>40.298568</td>\n      <td>0.154</td>\n      <td>-0.018</td>\n      <td>0</td>\n      <td>NaN</td>\n      <td>1.089</td>\n      <td>-0.155</td>\n      <td>-0.155</td>\n      <td>1</td>\n      <td>...</td>\n      <td>-0.155</td>\n      <td>276.5</td>\n      <td>23</td>\n      <td>1</td>\n      <td>1</td>\n      <td>1</td>\n      <td>1</td>\n      <td>1</td>\n      <td>2</td>\n      <td>1</td>\n    </tr>\n    <tr>\n      <th>730</th>\n      <td>-73.241405</td>\n      <td>40.090246</td>\n      <td>-0.349</td>\n      <td>0.174</td>\n      <td>0</td>\n      <td>3.267</td>\n      <td>0.544</td>\n      <td>2.023</td>\n      <td>-1.244</td>\n      <td>2</td>\n      <td>...</td>\n      <td>0.390</td>\n      <td>296.5</td>\n      <td>23</td>\n      <td>1</td>\n      <td>1</td>\n      <td>1</td>\n      <td>1</td>\n      <td>1</td>\n      <td>1</td>\n      <td>1</td>\n    </tr>\n    <tr>\n      <th>731</th>\n      <td>-73.275802</td>\n      <td>40.042493</td>\n      <td>-1.726</td>\n      <td>1.056</td>\n      <td>0</td>\n      <td>NaN</td>\n      <td>1.089</td>\n      <td>2.023</td>\n      <td>2.023</td>\n      <td>1</td>\n      <td>...</td>\n      <td>2.023</td>\n      <td>301.5</td>\n      <td>23</td>\n      <td>1</td>\n      <td>1</td>\n      <td>1</td>\n      <td>1</td>\n      <td>1</td>\n      <td>1</td>\n      <td>1</td>\n    </tr>\n    <tr>\n      <th>732</th>\n      <td>-74.196994</td>\n      <td>39.765210</td>\n      <td>-0.637</td>\n      <td>-2.244</td>\n      <td>128</td>\n      <td>NaN</td>\n      <td>1.089</td>\n      <td>-2.333</td>\n      <td>-2.333</td>\n      <td>1</td>\n      <td>...</td>\n      <td>-2.333</td>\n      <td>15.9</td>\n      <td>23</td>\n      <td>1</td>\n      <td>1</td>\n      <td>4</td>\n      <td>1</td>\n      <td>1</td>\n      <td>2</td>\n      <td>1</td>\n    </tr>\n  </tbody>\n</table>\n<p>733 rows × 25 columns</p>\n</div>"
     },
     "execution_count": 27,
     "metadata": {},
     "output_type": "execute_result"
    }
   ],
   "source": [
    "r.data"
   ]
  },
  {
   "cell_type": "markdown",
   "metadata": {},
   "source": [
    "## Primary Flag \n",
    "Create primary flag column that gives the highest level of failure for each row.\n"
   ]
  },
  {
   "cell_type": "code",
   "execution_count": 28,
   "metadata": {},
   "outputs": [],
   "source": [
    "r.qc_qartod_primary_flag()"
   ]
  },
  {
   "cell_type": "raw",
   "metadata": {},
   "source": [
    "r.data"
   ]
  },
  {
   "cell_type": "markdown",
   "metadata": {},
   "source": [
    "Finally, lets export the qc'ed radial file back to the CODAR .ruv format"
   ]
  },
  {
   "cell_type": "code",
   "execution_count": 29,
   "metadata": {},
   "outputs": [],
   "source": [
    "# r.clean_header()"
   ]
  },
  {
   "cell_type": "code",
   "execution_count": 30,
   "metadata": {
    "pycharm": {
     "name": "#%%\n"
    }
   },
   "outputs": [],
   "source": [
    "save_dir = '../codar_processing/data/radials_qc/'\n",
    "r.export(os.path.join(save_dir, 'ruv', r.file_name), 'radial')"
   ]
  }
 ],
 "metadata": {
  "kernelspec": {
   "name": "python3",
   "language": "python",
   "display_name": "Python 3"
  },
  "language_info": {
   "codemirror_mode": {
    "name": "ipython",
    "version": 3
   },
   "file_extension": ".py",
   "mimetype": "text/x-python",
   "name": "python",
   "nbconvert_exporter": "python",
   "pygments_lexer": "ipython3",
   "version": "3.6.10"
  }
 },
 "nbformat": 4,
 "nbformat_minor": 2
}