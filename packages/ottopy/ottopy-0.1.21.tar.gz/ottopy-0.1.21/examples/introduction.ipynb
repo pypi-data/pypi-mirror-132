{
 "cells": [
  {
   "cell_type": "markdown",
   "metadata": {},
   "source": [
    "# Introduction\n"
   ]
  },
  {
   "cell_type": "code",
   "execution_count": 5,
   "metadata": {},
   "outputs": [],
   "source": [
    "%load_ext autoreload\n",
    "\n",
    "%autoreload 1\n"
   ]
  },
  {
   "cell_type": "code",
   "execution_count": 6,
   "metadata": {},
   "outputs": [
    {
     "name": "stdout",
     "output_type": "stream",
     "text": [
      "ottopy version: 0.1.21\n"
     ]
    }
   ],
   "source": [
    "from worlds.levels import get_robo\n"
   ]
  },
  {
   "cell_type": "code",
   "execution_count": 7,
   "metadata": {},
   "outputs": [],
   "source": [
    "def turn_right(bot):\n",
    "    for x in range(3):\n",
    "        bot.turn_left()\n",
    "\n",
    "\n",
    "def u_turn(bot):\n",
    "    bot.turn_left()\n",
    "    bot.turn_left()\n",
    "\n",
    "\n",
    "def pick_all_items(bot, object_name):\n",
    "    steps = 0\n",
    "    # complete this\n",
    "    while bot.object_here():\n",
    "        if bot.object_here() == object_name:\n",
    "            bot.take()\n",
    "        bot.move()\n",
    "        steps += 1\n",
    "    return steps\n",
    "\n",
    "\n",
    "def move_one_row_up(bot):\n",
    "    bot.turn_left()\n",
    "    if not bot.wall_in_front():\n",
    "        bot.move(\"Adsd\")\n",
    "        turn_right(bot)\n"
   ]
  },
  {
   "cell_type": "code",
   "execution_count": 12,
   "metadata": {
    "tags": []
   },
   "outputs": [
    {
     "data": {
      "application/vnd.jupyter.widget-view+json": {
       "model_id": "51aa81814da44840ba397011ce35dc74",
       "version_major": 2,
       "version_minor": 0
      },
      "text/plain": [
       "Maze(floating=True)"
      ]
     },
     "metadata": {},
     "output_type": "display_data"
    },
    {
     "name": "stdout",
     "output_type": "stream",
     "text": [
      "ipykernel is outdated . should be >=6.0. Using default wait\n"
     ]
    }
   ],
   "source": [
    "bot  = get_robo(\"test\", floating=True)\n",
    "bot.move()\n",
    "bot.turn_left()\n",
    "bot.move()"
   ]
  },
  {
   "cell_type": "code",
   "execution_count": 19,
   "metadata": {},
   "outputs": [],
   "source": [
    "bot.take_if(\"leaf\")"
   ]
  },
  {
   "cell_type": "code",
   "execution_count": null,
   "metadata": {},
   "outputs": [],
   "source": []
  },
  {
   "cell_type": "code",
   "execution_count": null,
   "metadata": {},
   "outputs": [],
   "source": []
  }
 ],
 "metadata": {
  "kernelspec": {
   "display_name": "Python 3",
   "language": "python",
   "name": "python3"
  },
  "language_info": {
   "codemirror_mode": {
    "name": "ipython",
    "version": 3
   },
   "file_extension": ".py",
   "mimetype": "text/x-python",
   "name": "python",
   "nbconvert_exporter": "python",
   "pygments_lexer": "ipython3",
   "version": "3.8.8"
  }
 },
 "nbformat": 4,
 "nbformat_minor": 4
}
