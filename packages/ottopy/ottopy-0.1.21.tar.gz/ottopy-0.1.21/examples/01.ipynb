{
 "cells": [
  {
   "cell_type": "code",
   "execution_count": 19,
   "id": "b9e1c2a9-4487-4cd0-818b-257dea7aac4d",
   "metadata": {},
   "outputs": [],
   "source": [
    "import ipython_blocking\n",
    "import time\n"
   ]
  },
  {
   "cell_type": "code",
   "execution_count": 41,
   "id": "cba48ef7-4ece-4903-9970-1ccf80c27320",
   "metadata": {},
   "outputs": [
    {
     "data": {
      "application/vnd.jupyter.widget-view+json": {
       "model_id": "4b55af4d38d9420fbd27ef79f0c6c378",
       "version_major": 2,
       "version_minor": 0
      },
      "text/plain": [
       "Dropdown(options=('', 'foo', 'bar', 'baz'), value='')"
      ]
     },
     "metadata": {},
     "output_type": "display_data"
    }
   ],
   "source": [
    "import ipywidgets as widgets\n",
    "\n",
    "dropdown = widgets.Dropdown(options=['', 'foo', 'bar', 'baz'])\n",
    "dropdown "
   ]
  },
  {
   "cell_type": "code",
   "execution_count": null,
   "id": "d2d749d7-3c6b-471c-b1f1-eb578d0fbb53",
   "metadata": {},
   "outputs": [],
   "source": [
    "\n",
    "k=get_ipython().kernel\n",
    "x=[]\n",
    "ctx = ipython_blocking.CaptureExecution(replay=True)\n",
    "with ctx: \n",
    "#while not dropdown.value:\n",
    "    for i in range(5):\n",
    "        time.sleep(2)\n",
    "        print(x)\n",
    "        try:\n",
    "            await self.kernel.do_one_iteration()\n",
    "        except tornado.queues.QueueEmpty:\n",
    "            pass\n",
    "        print(f\"checking {dropdown.value} really {ctx.captured_events}!\")\n",
    "    print(f\"oow value {dropdown.value}\") "
   ]
  },
  {
   "cell_type": "code",
   "execution_count": null,
   "id": "39330c75-74ef-404e-ba7b-30bfc2e81d00",
   "metadata": {},
   "outputs": [],
   "source": [
    "def tap(type):\n",
    "    old_exec = k.shell_handlers[type]\n",
    "    async def collect(stream, ident, parent):\n",
    "        global x\n",
    "        x.append([stream, ident, parent])\n",
    "        return  old_exec(stream, ident, parent)\n",
    "\n",
    "    k.shell_handlers[type] = collect\n",
    "\n",
    "tap(\"comm_msg\")"
   ]
  },
  {
   "cell_type": "code",
   "execution_count": null,
   "id": "e8b5a2c7-b59c-4e4b-bc71-46c5d36d77be",
   "metadata": {},
   "outputs": [],
   "source": [
    "print(\"cdsd\")"
   ]
  },
  {
   "cell_type": "code",
   "execution_count": null,
   "id": "f7841993-a3f6-4415-a941-000f8f530fe0",
   "metadata": {},
   "outputs": [],
   "source": []
  },
  {
   "cell_type": "code",
   "execution_count": null,
   "id": "4bf86ad7-1461-44bd-ad87-2ef03a7c95b3",
   "metadata": {},
   "outputs": [],
   "source": []
  }
 ],
 "metadata": {
  "kernelspec": {
   "display_name": "Python 3",
   "language": "python",
   "name": "python3"
  },
  "language_info": {
   "codemirror_mode": {
    "name": "ipython",
    "version": 3
   },
   "file_extension": ".py",
   "mimetype": "text/x-python",
   "name": "python",
   "nbconvert_exporter": "python",
   "pygments_lexer": "ipython3",
   "version": "3.8.8"
  }
 },
 "nbformat": 4,
 "nbformat_minor": 5
}
