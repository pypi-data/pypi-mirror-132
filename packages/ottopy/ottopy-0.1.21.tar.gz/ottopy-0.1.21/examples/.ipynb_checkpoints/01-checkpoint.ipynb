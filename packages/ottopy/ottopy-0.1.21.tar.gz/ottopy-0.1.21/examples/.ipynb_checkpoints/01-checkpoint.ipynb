{
 "cells": [
  {
   "cell_type": "code",
   "execution_count": 1,
   "id": "b9e1c2a9-4487-4cd0-818b-257dea7aac4d",
   "metadata": {},
   "outputs": [],
   "source": [
    "import ipython_blocking\n",
    "import time\n"
   ]
  },
  {
   "cell_type": "code",
   "execution_count": 2,
   "id": "cba48ef7-4ece-4903-9970-1ccf80c27320",
   "metadata": {},
   "outputs": [
    {
     "data": {
      "application/vnd.jupyter.widget-view+json": {
       "model_id": "f0ed37ee66dc4190a7f936cd7e4c905c",
       "version_major": 2,
       "version_minor": 0
      },
      "text/plain": [
       "Dropdown(options=('', 'foo', 'bar', 'baz'), value='')"
      ]
     },
     "metadata": {},
     "output_type": "display_data"
    }
   ],
   "source": [
    "import ipywidgets as widgets\n",
    "\n",
    "dropdown = widgets.Dropdown(options=['', 'foo', 'bar', 'baz'])\n",
    "dropdown "
   ]
  },
  {
   "cell_type": "code",
   "execution_count": null,
   "id": "d2d749d7-3c6b-471c-b1f1-eb578d0fbb53",
   "metadata": {},
   "outputs": [],
   "source": [
    "\n",
    "k=get_ipython().kernel\n",
    "ctx = ipython_blocking.CaptureExecution(replay=True)\n",
    "with ctx: \n",
    "#while not dropdown.value:\n",
    "    for i in range(5):\n",
    "        time.sleep(2)\n",
    "        ctx.step()\n",
    "        print(f\"checking {dropdown.value} really {ctx.captured_events}!\")\n",
    "    print(f\"oow value {dropdown.value}\") "
   ]
  },
  {
   "cell_type": "code",
   "execution_count": 4,
   "id": "1307d05e-deb9-46c9-a826-7bd0883d2375",
   "metadata": {},
   "outputs": [
    {
     "name": "stdout",
     "output_type": "stream",
     "text": [
      "checking  really [(<zmq.eventloop.zmqstream.ZMQStream object at 0x7f17b90b8460>, [b'b217db89-d8c4-43e8-8b30-6b8d115a7c82'], {'header': {'date': datetime.datetime(2021, 11, 14, 5, 1, 32, 960000, tzinfo=tzlocal()), 'msg_id': '5a0d48be-a575-4f7b-badd-8670dc3320cf', 'msg_type': 'execute_request', 'session': 'b217db89-d8c4-43e8-8b30-6b8d115a7c82', 'username': '', 'version': '5.2'}, 'msg_id': '5a0d48be-a575-4f7b-badd-8670dc3320cf', 'msg_type': 'execute_request', 'parent_header': {}, 'metadata': {'deletedCells': [], 'recordTiming': False, 'cellId': '1307d05e-deb9-46c9-a826-7bd0883d2375'}, 'content': {'silent': False, 'store_history': True, 'user_expressions': {}, 'allow_stdin': True, 'stop_on_error': True, 'code': 'print(\"printing d\")'}, 'buffers': []})]!\n",
      "checking  really [(<zmq.eventloop.zmqstream.ZMQStream object at 0x7f17b90b8460>, [b'b217db89-d8c4-43e8-8b30-6b8d115a7c82'], {'header': {'date': datetime.datetime(2021, 11, 14, 5, 1, 32, 960000, tzinfo=tzlocal()), 'msg_id': '5a0d48be-a575-4f7b-badd-8670dc3320cf', 'msg_type': 'execute_request', 'session': 'b217db89-d8c4-43e8-8b30-6b8d115a7c82', 'username': '', 'version': '5.2'}, 'msg_id': '5a0d48be-a575-4f7b-badd-8670dc3320cf', 'msg_type': 'execute_request', 'parent_header': {}, 'metadata': {'deletedCells': [], 'recordTiming': False, 'cellId': '1307d05e-deb9-46c9-a826-7bd0883d2375'}, 'content': {'silent': False, 'store_history': True, 'user_expressions': {}, 'allow_stdin': True, 'stop_on_error': True, 'code': 'print(\"printing d\")'}, 'buffers': []})]!\n",
      "checking  really [(<zmq.eventloop.zmqstream.ZMQStream object at 0x7f17b90b8460>, [b'b217db89-d8c4-43e8-8b30-6b8d115a7c82'], {'header': {'date': datetime.datetime(2021, 11, 14, 5, 1, 32, 960000, tzinfo=tzlocal()), 'msg_id': '5a0d48be-a575-4f7b-badd-8670dc3320cf', 'msg_type': 'execute_request', 'session': 'b217db89-d8c4-43e8-8b30-6b8d115a7c82', 'username': '', 'version': '5.2'}, 'msg_id': '5a0d48be-a575-4f7b-badd-8670dc3320cf', 'msg_type': 'execute_request', 'parent_header': {}, 'metadata': {'deletedCells': [], 'recordTiming': False, 'cellId': '1307d05e-deb9-46c9-a826-7bd0883d2375'}, 'content': {'silent': False, 'store_history': True, 'user_expressions': {}, 'allow_stdin': True, 'stop_on_error': True, 'code': 'print(\"printing d\")'}, 'buffers': []})]!\n",
      "printing d\n"
     ]
    }
   ],
   "source": [
    "print(\"printing d\")"
   ]
  },
  {
   "cell_type": "code",
   "execution_count": null,
   "id": "14fe230c-2569-4c8a-b08e-fa5d2f1c1278",
   "metadata": {},
   "outputs": [],
   "source": []
  }
 ],
 "metadata": {
  "kernelspec": {
   "display_name": "Python 3",
   "language": "python",
   "name": "python3"
  },
  "language_info": {
   "codemirror_mode": {
    "name": "ipython",
    "version": 3
   },
   "file_extension": ".py",
   "mimetype": "text/x-python",
   "name": "python",
   "nbconvert_exporter": "python",
   "pygments_lexer": "ipython3",
   "version": "3.8.8"
  }
 },
 "nbformat": 4,
 "nbformat_minor": 5
}
