{
 "cells": [
  {
   "cell_type": "code",
   "execution_count": 1,
   "id": "ethical-given",
   "metadata": {},
   "outputs": [
    {
     "name": "stdout",
     "output_type": "stream",
     "text": [
      "\u001b[34mInstalling dependencies from lock file\u001b[0m\n",
      "\n",
      "No dependencies to install or update\n",
      "\n",
      "\u001b[1mInstalling\u001b[0m the current project: \u001b[36mmetadoctor\u001b[0m (\u001b[39;1m0.1.3\u001b[0\u001b[1mInstalling\u001b[0m the current project: \u001b[36mmetadoctor\u001b[0m (\u001b[32m0.1.3\u001b[0m)\n"
     ]
    }
   ],
   "source": [
    "!poetry install"
   ]
  },
  {
   "cell_type": "code",
   "execution_count": 2,
   "id": "dying-bridge",
   "metadata": {},
   "outputs": [
    {
     "name": "stdout",
     "output_type": "stream",
     "text": [
      "Building \u001b[36mmetadoctor\u001b[0m (\u001b[39;1m0.1.3\u001b[0m)\n",
      "  - Building \u001b[34msdist\u001b[0m\n",
      "  - Built \u001b[32mmetadoctor-0.1.3.tar.gz\u001b[0m\n",
      "  - Building \u001b[34mwheel\u001b[0m\n",
      "  - Built \u001b[32mmetadoctor-0.1.3-py3-none-any.whl\u001b[0m\n"
     ]
    }
   ],
   "source": [
    "!poetry build"
   ]
  },
  {
   "cell_type": "code",
   "execution_count": null,
   "id": "catholic-actress",
   "metadata": {},
   "outputs": [],
   "source": []
  },
  {
   "cell_type": "code",
   "execution_count": 3,
   "id": "cross-appendix",
   "metadata": {},
   "outputs": [
    {
     "data": {
      "text/plain": [
       "'daniel.arantes'"
      ]
     },
     "execution_count": 3,
     "metadata": {},
     "output_type": "execute_result"
    }
   ],
   "source": [
    "'daniel.arantes'"
   ]
  },
  {
   "cell_type": "code",
   "execution_count": 4,
   "id": "involved-induction",
   "metadata": {},
   "outputs": [],
   "source": [
    "!code ."
   ]
  },
  {
   "cell_type": "code",
   "execution_count": null,
   "id": "crude-savage",
   "metadata": {},
   "outputs": [],
   "source": []
  }
 ],
 "metadata": {
  "kernelspec": {
   "display_name": "env3.9",
   "language": "python",
   "name": "env3.9"
  },
  "language_info": {
   "codemirror_mode": {
    "name": "ipython",
    "version": 3
   },
   "file_extension": ".py",
   "mimetype": "text/x-python",
   "name": "python",
   "nbconvert_exporter": "python",
   "pygments_lexer": "ipython3",
   "version": "3.9.7"
  }
 },
 "nbformat": 4,
 "nbformat_minor": 5
}
