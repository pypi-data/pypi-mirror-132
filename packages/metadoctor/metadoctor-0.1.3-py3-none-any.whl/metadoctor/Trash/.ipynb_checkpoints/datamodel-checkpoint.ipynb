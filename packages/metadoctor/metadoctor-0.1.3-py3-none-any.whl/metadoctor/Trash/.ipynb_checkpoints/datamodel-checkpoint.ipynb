{
 "cells": [
  {
   "cell_type": "code",
   "execution_count": 96,
   "id": "3187a668-e03c-4b2c-9c60-2479aabb6e9c",
   "metadata": {},
   "outputs": [],
   "source": [
    "import re\n",
    "import datetime as dt\n",
    "from dataclasses import dataclass, field, MISSING, asdict, astuple, fields\n",
    "from enum import Enum\n",
    "from typing import Optional \n",
    "\n",
    "\n",
    "def only_digits(string: str):\n",
    "    return ''.join(filter(str.isdigit, string))\n",
    "\n",
    "\n",
    "def str_to_date(string: str):\n",
    "    return dt.date.fromisoformat(string)\n",
    "\n",
    "\n",
    "@dataclass\n",
    "class IntraModel:\n",
    "    \n",
    "    @property\n",
    "    def json(self):\n",
    "        result = {}\n",
    "        data = asdict(self)\n",
    "        for k,v in data.items():\n",
    "            if isinstance(v, IntraModel):\n",
    "                v = asdict(v)\n",
    "            result[k] = v\n",
    "        return result\n",
    "        \n",
    "\n",
    "@dataclass\n",
    "class DataModel:\n",
    "    pass \n",
    "\n",
    "\n",
    "@dataclass\n",
    "class Region(DataModel):\n",
    "    name: str \n",
    "    abbrev: str \n",
    "\n",
    "    def __post_init__(self):\n",
    "        self.name = self.name.title()\n",
    "        self.abbrev = self.abbrev.upper()\n",
    "        \n",
    "        \n",
    "class Gender(Enum):\n",
    "    M = 'Masculino'\n",
    "    F = 'Feminino'\n",
    "    N = 'Nenhum'\n",
    "    O = 'Outro'\n",
    "        \n",
    "        \n",
    "class Profession(Enum):\n",
    "    MEDICINA = 'Medicina'\n",
    "    FISIOTERAPIA = 'Fisioterapia'\n",
    "    PSICOLOGIA = 'Psicologia'\n",
    "    PSICOANALISE = 'Psicoanálise'\n",
    "    ENFERMAGEM = 'Enfermagem'\n",
    "    \n",
    "class Region(Enum):\n",
    "    GO = 'Goiás'\n",
    "    DF = 'Distrito Federal'\n",
    "\n",
    "        \n",
    "@dataclass\n",
    "class City(DataModel):\n",
    "    name: str = 'Anápolis'\n",
    "    region: Region = field(default=Region.GO)\n",
    "\n",
    "    def __post_init__(self):\n",
    "        self.name = self.name.title()\n",
    "            \n",
    "            \n",
    "@dataclass\n",
    "class Contact(IntraModel):\n",
    "    phone1: Optional[str] = None   \n",
    "    phone2: Optional[str] = None\n",
    "    email: Optional[str] = None\n",
    "    \n",
    "    def __post_init__(self):\n",
    "        if self.phone1:\n",
    "            self.phone1 = only_digits(self.phone1)\n",
    "        if self.phone2:\n",
    "            self.phone2 = only_digits(self.phone2)\n",
    "\n",
    "\n",
    "@dataclass\n",
    "class Address(IntraModel):\n",
    "    street: Optional[str] = None   \n",
    "    number: Optional[str] = None\n",
    "    complement: Optional[str] = None\n",
    "    district: Optional[str] = None\n",
    "    cep: Optional[str] = None\n",
    "    city: City = field(default_factory=City)\n",
    "    \n",
    "    def __post_init__(self):\n",
    "        self.city = f'{self.city.name}/{self.city.region.name}'\n",
    "        if self.cep:\n",
    "            self.cep = only_digits(str(self.cep))\n",
    "\n",
    "@dataclass\n",
    "class Person(DataModel):\n",
    "    name: str\n",
    "    gender: Gender \n",
    "    bdate: dt.date\n",
    "    \n",
    "    def __post_init__(self):\n",
    "        self.name = self.name.title()\n",
    "        self.gender = Gender[self.gender[0].upper()].name\n",
    "        self.bdate = str_to_date(self.bdate) if isinstance(self.bdate, str) else self.bdate\n",
    "\n",
    "\n",
    "@dataclass\n",
    "class Patient(Person):\n",
    "    address: Address = field(default=Address(City()))\n",
    "    contact: Contact = field(default_factory=Contact)\n",
    "    \n",
    "    \n",
    "@dataclass\n",
    "class Provider(Person):\n",
    "    licence: str = field(default=MISSING)\n",
    "    contact: Contact = field(default_factory=Contact)\n",
    "    address: Address = field(default_factory=Address)        \n",
    "\n",
    "    @property \n",
    "    def profession(self):\n",
    "        return NotImplemented\n",
    "    \n",
    "    \n",
    "@dataclass\n",
    "class Doctor(Provider):\n",
    "    \n",
    "    @property \n",
    "    def profession(self):\n",
    "        return Profession.MEDICINA \n",
    "    \n",
    "\n",
    "@dataclass\n",
    "class Psychologist(Provider):\n",
    "    \n",
    "    @property \n",
    "    def profession(self):\n",
    "        return Profession.PSICOLOGIA \n",
    "\n",
    "\n",
    "@dataclass\n",
    "class Psychoanalyst(Provider):\n",
    "    \n",
    "    @property \n",
    "    def profession(self):\n",
    "        return Profession.PSICOANALISE \n",
    "    "
   ]
  },
  {
   "cell_type": "code",
   "execution_count": 97,
   "id": "43a06afa-597e-4d6d-9f0d-7c8284a5294c",
   "metadata": {},
   "outputs": [],
   "source": [
    "x = Doctor('daniel victor arantes', 'masc', '1978-09-07', 'CRMGO 9553', contact=Contact('062992227861'))"
   ]
  },
  {
   "cell_type": "code",
   "execution_count": 98,
   "id": "ad6299fe-03b4-43bd-973d-26d2901f988f",
   "metadata": {},
   "outputs": [
    {
     "data": {
      "text/plain": [
       "<Profession.MEDICINA: 'Medicina'>"
      ]
     },
     "execution_count": 98,
     "metadata": {},
     "output_type": "execute_result"
    }
   ],
   "source": [
    "x.profession"
   ]
  },
  {
   "cell_type": "code",
   "execution_count": 99,
   "id": "1ca05d53-aa0d-466d-b084-763659fa058a",
   "metadata": {},
   "outputs": [
    {
     "data": {
      "text/plain": [
       "'M'"
      ]
     },
     "execution_count": 99,
     "metadata": {},
     "output_type": "execute_result"
    }
   ],
   "source": [
    "x.gender"
   ]
  },
  {
   "cell_type": "code",
   "execution_count": 100,
   "id": "78715314-9b5a-479c-9324-02f8c85f7760",
   "metadata": {},
   "outputs": [
    {
     "data": {
      "text/plain": [
       "(Field(name='name',type=<class 'str'>,default=<dataclasses._MISSING_TYPE object at 0x7fd636200bb0>,default_factory=<dataclasses._MISSING_TYPE object at 0x7fd636200bb0>,init=True,repr=True,hash=None,compare=True,metadata=mappingproxy({}),_field_type=_FIELD),\n",
       " Field(name='gender',type=<enum 'Gender'>,default=<dataclasses._MISSING_TYPE object at 0x7fd636200bb0>,default_factory=<dataclasses._MISSING_TYPE object at 0x7fd636200bb0>,init=True,repr=True,hash=None,compare=True,metadata=mappingproxy({}),_field_type=_FIELD),\n",
       " Field(name='bdate',type=<class 'datetime.date'>,default=<dataclasses._MISSING_TYPE object at 0x7fd636200bb0>,default_factory=<dataclasses._MISSING_TYPE object at 0x7fd636200bb0>,init=True,repr=True,hash=None,compare=True,metadata=mappingproxy({}),_field_type=_FIELD),\n",
       " Field(name='licence',type=<class 'str'>,default=<dataclasses._MISSING_TYPE object at 0x7fd636200bb0>,default_factory=<dataclasses._MISSING_TYPE object at 0x7fd636200bb0>,init=True,repr=True,hash=None,compare=True,metadata=mappingproxy({}),_field_type=_FIELD),\n",
       " Field(name='contact',type=<class '__main__.Contact'>,default=<dataclasses._MISSING_TYPE object at 0x7fd636200bb0>,default_factory=<class '__main__.Contact'>,init=True,repr=True,hash=None,compare=True,metadata=mappingproxy({}),_field_type=_FIELD),\n",
       " Field(name='address',type=<class '__main__.Address'>,default=<dataclasses._MISSING_TYPE object at 0x7fd636200bb0>,default_factory=<class '__main__.Address'>,init=True,repr=True,hash=None,compare=True,metadata=mappingproxy({}),_field_type=_FIELD))"
      ]
     },
     "execution_count": 100,
     "metadata": {},
     "output_type": "execute_result"
    }
   ],
   "source": [
    "fields(x)"
   ]
  },
  {
   "cell_type": "code",
   "execution_count": 101,
   "id": "551f888c-8824-40ad-81ca-6537a2beec9c",
   "metadata": {},
   "outputs": [
    {
     "data": {
      "text/plain": [
       "{'name': 'Daniel Victor Arantes',\n",
       " 'gender': 'M',\n",
       " 'bdate': datetime.date(1978, 9, 7),\n",
       " 'licence': 'CRMGO 9553',\n",
       " 'contact': {'phone1': '062992227861', 'phone2': None, 'email': None},\n",
       " 'address': {'street': None,\n",
       "  'number': None,\n",
       "  'complement': None,\n",
       "  'district': None,\n",
       "  'cep': None,\n",
       "  'city': 'Anápolis/GO'}}"
      ]
     },
     "execution_count": 101,
     "metadata": {},
     "output_type": "execute_result"
    }
   ],
   "source": [
    "asdict(x)"
   ]
  },
  {
   "cell_type": "code",
   "execution_count": 102,
   "id": "0250d076-50ae-4a2a-b03c-7e122c9e00ce",
   "metadata": {},
   "outputs": [
    {
     "data": {
      "text/plain": [
       "('Daniel Victor Arantes',\n",
       " 'M',\n",
       " datetime.date(1978, 9, 7),\n",
       " 'CRMGO 9553',\n",
       " ('062992227861', None, None),\n",
       " (None, None, None, None, None, 'Anápolis/GO'))"
      ]
     },
     "execution_count": 102,
     "metadata": {},
     "output_type": "execute_result"
    }
   ],
   "source": [
    "astuple(x)"
   ]
  },
  {
   "cell_type": "code",
   "execution_count": 103,
   "id": "a8b9e531-5b28-40b7-9e64-e22296af793d",
   "metadata": {},
   "outputs": [],
   "source": [
    "city = City('Goiânia')"
   ]
  },
  {
   "cell_type": "code",
   "execution_count": 104,
   "id": "1a85699b-ea5f-41fa-9c53-2565b7721332",
   "metadata": {},
   "outputs": [
    {
     "data": {
      "text/plain": [
       "City(name='Goiânia', region=<Region.GO: 'Goiás'>)"
      ]
     },
     "execution_count": 104,
     "metadata": {},
     "output_type": "execute_result"
    }
   ],
   "source": [
    "city"
   ]
  },
  {
   "cell_type": "code",
   "execution_count": 105,
   "id": "8c2f6bdc-1875-456a-b610-6c98316a2587",
   "metadata": {},
   "outputs": [],
   "source": [
    "address = Address('Av. República do Líbado', city=city)"
   ]
  },
  {
   "cell_type": "code",
   "execution_count": 106,
   "id": "cdafe9f0-685e-4739-a481-dc2612f482f6",
   "metadata": {},
   "outputs": [
    {
     "data": {
      "text/plain": [
       "Address(street='Av. República do Líbado', number=None, complement=None, district=None, cep=None, city='Goiânia/GO')"
      ]
     },
     "execution_count": 106,
     "metadata": {},
     "output_type": "execute_result"
    }
   ],
   "source": [
    "address"
   ]
  },
  {
   "cell_type": "code",
   "execution_count": null,
   "id": "e24cf40f-1dd1-4a37-ae63-19e471a0061a",
   "metadata": {},
   "outputs": [],
   "source": []
  },
  {
   "cell_type": "code",
   "execution_count": null,
   "id": "6afef2d2-1e0c-4447-8344-3573cec3534c",
   "metadata": {},
   "outputs": [],
   "source": []
  },
  {
   "cell_type": "code",
   "execution_count": null,
   "id": "b3ab0b30-b34f-48a4-a80e-00c521db217a",
   "metadata": {},
   "outputs": [],
   "source": []
  }
 ],
 "metadata": {
  "kernelspec": {
   "display_name": "env3.9",
   "language": "python",
   "name": "env3.9"
  },
  "language_info": {
   "codemirror_mode": {
    "name": "ipython",
    "version": 3
   },
   "file_extension": ".py",
   "mimetype": "text/x-python",
   "name": "python",
   "nbconvert_exporter": "python",
   "pygments_lexer": "ipython3",
   "version": "3.9.7"
  }
 },
 "nbformat": 4,
 "nbformat_minor": 5
}
