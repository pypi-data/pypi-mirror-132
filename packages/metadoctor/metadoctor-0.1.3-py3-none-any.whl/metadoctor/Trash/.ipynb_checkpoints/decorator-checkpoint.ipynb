{
 "cells": [
  {
   "cell_type": "code",
   "execution_count": 19,
   "id": "b271d2a1-6c99-41c2-90ae-faaec7bbf572",
   "metadata": {},
   "outputs": [],
   "source": [
    "from functools import wraps\n",
    "from starlette.config import environ\n",
    "\n",
    "%run db.py #from metadoctor.db import Connection\n",
    "%run manager.py #from metadoctor.manager import BaseManager\n",
    "%run __init__.py \n",
    "%run user.py \n",
    "%run settings.py # from metadoctor.settings import AUTH_USER\n",
    "\n",
    "def add_kwargs(**kwargs):\n",
    "    def decorator(func):\n",
    "        @wraps(func)\n",
    "        def decorated(*dargs, **dkwargs):\n",
    "            return func(*dargs, **dkwargs, **kwargs)\n",
    "        return decorated\n",
    "    return decorator\n",
    "\n",
    "\n",
    "def add_args_and_kwargs(*args, **kwargs):\n",
    "    def decorator(func):\n",
    "        @wraps(func)\n",
    "        def decorated(*dargs, **dkwargs):\n",
    "            return func(*dargs, *args, **dkwargs, **kwargs)\n",
    "        return decorated\n",
    "    return decorator\n",
    "\n",
    "\n",
    "@add_kwargs(manager=BaseManager())\n",
    "def list_all(*args, **kwargs):\n",
    "    return manager.sync_list_all(args[0])"
   ]
  },
  {
   "cell_type": "code",
   "execution_count": null,
   "id": "d3b96490-d31a-4e26-a984-a342724b9601",
   "metadata": {},
   "outputs": [],
   "source": []
  },
  {
   "cell_type": "code",
   "execution_count": null,
   "id": "f9fc277d-2cbb-4921-bbf4-c102861c3b67",
   "metadata": {},
   "outputs": [],
   "source": []
  },
  {
   "cell_type": "code",
   "execution_count": null,
   "id": "8c987dd1-a68c-4d63-ac3a-8df22f4bbf71",
   "metadata": {},
   "outputs": [],
   "source": []
  },
  {
   "cell_type": "code",
   "execution_count": null,
   "id": "58e8ecb0-2782-498f-81f1-36de1cf1c74f",
   "metadata": {},
   "outputs": [],
   "source": []
  },
  {
   "cell_type": "code",
   "execution_count": null,
   "id": "3eb2ecb4-cae2-4afa-b9df-a2b6e4771600",
   "metadata": {},
   "outputs": [],
   "source": []
  },
  {
   "cell_type": "code",
   "execution_count": null,
   "id": "e222ab06-2ab8-4072-bda5-6d6c30c469a5",
   "metadata": {},
   "outputs": [],
   "source": []
  },
  {
   "cell_type": "code",
   "execution_count": null,
   "id": "49f150cc-828b-4fe9-9913-b747c70eb604",
   "metadata": {},
   "outputs": [],
   "source": []
  },
  {
   "cell_type": "code",
   "execution_count": null,
   "id": "e1084d31-f73d-4ddc-918e-1779c3f0f10a",
   "metadata": {},
   "outputs": [],
   "source": []
  },
  {
   "cell_type": "code",
   "execution_count": null,
   "id": "547f1017-082b-4247-a99f-e096ecb5cc47",
   "metadata": {},
   "outputs": [],
   "source": []
  }
 ],
 "metadata": {
  "kernelspec": {
   "display_name": "env3.9",
   "language": "python",
   "name": "env3.9"
  },
  "language_info": {
   "codemirror_mode": {
    "name": "ipython",
    "version": 3
   },
   "file_extension": ".py",
   "mimetype": "text/x-python",
   "name": "python",
   "nbconvert_exporter": "python",
   "pygments_lexer": "ipython3",
   "version": "3.9.7"
  }
 },
 "nbformat": 4,
 "nbformat_minor": 5
}
