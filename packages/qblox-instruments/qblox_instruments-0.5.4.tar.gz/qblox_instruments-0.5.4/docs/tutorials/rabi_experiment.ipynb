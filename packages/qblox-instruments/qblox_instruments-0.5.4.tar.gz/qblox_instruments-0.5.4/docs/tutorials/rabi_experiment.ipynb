{
 "cells": [
  {
   "cell_type": "markdown",
   "id": "04a43c87",
   "metadata": {},
   "source": [
    "# Rabi experiment"
   ]
  },
  {
   "cell_type": "markdown",
   "id": "f45c56a5",
   "metadata": {},
   "source": [
    "In this tutorial we will combine the techniques explained in the other tutorials and show how to perform a Rabi experiment. For this tutorial we will need one Pulsar QCM to generate the Rabi pulses and one Pulsar QRM to perform the readout, although the QCM could be replaced by another QRM if needed.\n",
    "\n",
    "Ports $\\text{O}^{[1-2]}$ of the QCM are used for the driving pulse, while $\\text{O}^{[1-2]}$ of the QRM are used for the readout pulse. Finally, ports $\\text{I}^{[1-2]}$ are used for the acquisition of the readout tone. In this tutorial it is assumed $\\text{O}^{1}$ of the QRM is connected to $\\text{I}^{1}$ of the QRM for time of flight calibration.\n",
    "Furthermore we assume that $\\text{O}^{1}$ of the QCM and $\\text{O}^{2}$ of the QRM are connected to an external oscilloscope to view the Rabi experiment patter. The scope can be triggered of marker 1 of the QCM."
   ]
  },
  {
   "cell_type": "code",
   "execution_count": 1,
   "id": "ffcedb93",
   "metadata": {},
   "outputs": [
    {
     "name": "stdout",
     "output_type": "stream",
     "text": [
      "QCM status:\n",
      "{'status': 'OKAY', 'flags': []}\n",
      "\n",
      "QRM status:\n",
      "{'status': 'OKAY', 'flags': []}\n"
     ]
    }
   ],
   "source": [
    "#Set up the environment.\n",
    "import pprint\n",
    "import os\n",
    "import scipy.signal\n",
    "import math\n",
    "import json\n",
    "import matplotlib.pyplot as plt\n",
    "import numpy as np\n",
    "\n",
    "from pulsar_qcm.pulsar_qcm import pulsar_qcm\n",
    "from pulsar_qrm.pulsar_qrm import pulsar_qrm\n",
    "\n",
    "#Close any existing connections to any pulsar module\n",
    "pulsar_qcm.close_all()\n",
    "pulsar_qrm.close_all()\n",
    "\n",
    "#Connect to the Pulsar QRM at alternate address.\n",
    "pulsar_qrm = pulsar_qrm(\"qrm\", \"192.168.0.2\")\n",
    "\n",
    "#Connect to the Pulsar QCM at default IP address.\n",
    "pulsar_qcm = pulsar_qcm(\"qcm\", \"192.168.0.3\")\n",
    "\n",
    "#Reset the Pulsar QCM for good measure.\n",
    "pulsar_qcm.reset()\n",
    "print(\"QCM status:\")\n",
    "print(pulsar_qcm.get_system_status())\n",
    "print()\n",
    "\n",
    "#Reset the Pulsar QRM for good measure.\n",
    "pulsar_qrm.reset()\n",
    "print(\"QRM status:\")\n",
    "print(pulsar_qrm.get_system_status())"
   ]
  },
  {
   "cell_type": "markdown",
   "id": "5e91e1bb",
   "metadata": {},
   "source": [
    "As demonstrated in the synchronization tutorial, the SYNQ technology synchronizes the programs in the two modules.\n",
    "To ensure synchronization between the modules, connect the $\\text{REF}^{out}$ of the Pulsar QCM to the \n",
    "$\\text{REF}^{in}$ of the Pulsar QRM using a coaxial cable, and connect their SYNQ ports using the SYNQ cable.\n",
    "Then, we configure the QRM to use the external reference as a reference clock and enable syncing."
   ]
  },
  {
   "cell_type": "code",
   "execution_count": 2,
   "id": "b955c815",
   "metadata": {},
   "outputs": [],
   "source": [
    "pulsar_qrm.reference_source(\"external\")\n",
    "pulsar_qrm.sequencer0_sync_en(True)\n",
    "pulsar_qcm.sequencer0_sync_en(True)"
   ]
  },
  {
   "cell_type": "markdown",
   "id": "a8d7336d",
   "metadata": {},
   "source": [
    "Configure the `NCO` of both the QRM and QCM to 100 MHz and enable the up- and down-conversion in the sequencers"
   ]
  },
  {
   "cell_type": "code",
   "execution_count": 3,
   "id": "9d6e1389",
   "metadata": {},
   "outputs": [],
   "source": [
    "pulsar_qrm.sequencer0_nco_freq(100e6)\n",
    "pulsar_qrm.sequencer0_mod_en_awg(True)\n",
    "pulsar_qrm.sequencer0_demod_en_acq(True)\n",
    "\n",
    "pulsar_qcm.sequencer0_nco_freq(100e6)\n",
    "pulsar_qcm.sequencer0_mod_en_awg(True)"
   ]
  },
  {
   "cell_type": "markdown",
   "id": "6e3ee949",
   "metadata": {},
   "source": [
    "Configure the outputs of the QRM and QCM such that sequencer0 is the only enabled sequencer and maps to $\\text{O}^{[1-2]}$"
   ]
  },
  {
   "cell_type": "code",
   "execution_count": 4,
   "id": "6b78651b",
   "metadata": {},
   "outputs": [],
   "source": [
    "#Map sequencer of the Pulsar QCM to specific outputs (but first disable all sequencer connections)\n",
    "for sequencer in range(0, 6):\n",
    "    for out in range(0, 2):\n",
    "        pulsar_qcm.set(\"sequencer{}_channel_map_path{}_out{}_en\".format(sequencer, out%2, out), False)\n",
    "pulsar_qcm.sequencer0_channel_map_path0_out0_en(True)\n",
    "pulsar_qcm.sequencer0_channel_map_path1_out1_en(True)\n",
    "\n",
    "#Map sequencer of the Pulsar QRM to specific outputs (but first disable all sequencer connections)\n",
    "for sequencer in range(0, 6):\n",
    "    for out in range(0, 2):\n",
    "        pulsar_qrm.set(\"sequencer{}_channel_map_path{}_out{}_en\".format(sequencer, out%2, out), False)\n",
    "pulsar_qrm.sequencer0_channel_map_path0_out0_en(True)\n",
    "pulsar_qrm.sequencer0_channel_map_path1_out1_en(True)"
   ]
  },
  {
   "cell_type": "markdown",
   "id": "e3946ec5",
   "metadata": {},
   "source": [
    "## Define waveforms"
   ]
  },
  {
   "cell_type": "markdown",
   "id": "dd5bcd7b",
   "metadata": {},
   "source": [
    "To readout the systems we define constant pulses `one` and `zero` which will be up converted by the `NCO` to create the appropriate tones for an IQ mixer.\n",
    "Similarly for driving the qubit, we define a Gaussian pulse, together with a zero pulse of equal length to serve as inputs for an IQ mixer. In this tutorial we do not assume mixers to be connected to the inputs and outputs of the Pulsars."
   ]
  },
  {
   "cell_type": "code",
   "execution_count": 5,
   "id": "b82889f3",
   "metadata": {},
   "outputs": [],
   "source": [
    "t = np.arange(-80, 81, 1)\n",
    "sigma = 20\n",
    "wfs = {'zero': {'index':0, 'data': [0.]*1024},\n",
    "       'one': {'index':1, 'data': [1.]*1024},\n",
    "       'gauss': {'index': 2, 'data': list(np.exp(-(0.5 * t**2 / sigma**2)))},\n",
    "       'empty': {'index': 3, 'data': list(0.*t)}}"
   ]
  },
  {
   "cell_type": "markdown",
   "id": "c1c1de36",
   "metadata": {},
   "source": [
    "Hence we obtain the following waveforms for readout:"
   ]
  },
  {
   "cell_type": "code",
   "execution_count": 6,
   "id": "a257bd12",
   "metadata": {},
   "outputs": [
    {
     "data": {
      "text/plain": [
       "[<matplotlib.lines.Line2D at 0x222b77019d0>]"
      ]
     },
     "execution_count": 6,
     "metadata": {},
     "output_type": "execute_result"
    },
    {
     "data": {
      "image/png": "[encoded data removed]",
      "text/plain": [
       "<Figure size 432x288 with 1 Axes>"
      ]
     },
     "metadata": {
      "needs_background": "light"
     },
     "output_type": "display_data"
    }
   ],
   "source": [
    "plt.plot(wfs['zero']['data'])\n",
    "plt.plot(wfs['one']['data'])"
   ]
  },
  {
   "cell_type": "markdown",
   "id": "45f2341c",
   "metadata": {},
   "source": [
    "And for readout:"
   ]
  },
  {
   "cell_type": "code",
   "execution_count": 7,
   "id": "4055ceab",
   "metadata": {},
   "outputs": [
    {
     "data": {
      "text/plain": [
       "[<matplotlib.lines.Line2D at 0x222b98042e0>]"
      ]
     },
     "execution_count": 7,
     "metadata": {},
     "output_type": "execute_result"
    },
    {
     "data": {
      "image/png": "[encoded data removed]",
      "text/plain": [
       "<Figure size 432x288 with 1 Axes>"
      ]
     },
     "metadata": {
      "needs_background": "light"
     },
     "output_type": "display_data"
    }
   ],
   "source": [
    "plt.plot(wfs['gauss']['data'])\n",
    "plt.plot(wfs['empty']['data'])"
   ]
  },
  {
   "cell_type": "markdown",
   "id": "45ce9430",
   "metadata": {},
   "source": [
    "Finally, we define two acquisitions. A single readout to perform the calibration measurements. Secondly we create a `rabi` readout sequence that contains 50 different bins for saving the results, one for each of the different amplitudes used for the drive tone."
   ]
  },
  {
   "cell_type": "code",
   "execution_count": 8,
   "id": "845daedb",
   "metadata": {},
   "outputs": [],
   "source": [
    "acquisitions = {\"single\": {\"num_bins\": 1,\n",
    "                           \"index\": 0},\n",
    "                \"rabi\": {\"num_bins\": 50,\n",
    "                         \"index\": 1}}"
   ]
  },
  {
   "cell_type": "markdown",
   "id": "5b9b9b92",
   "metadata": {},
   "source": [
    "## Calibration experiments"
   ]
  },
  {
   "cell_type": "markdown",
   "id": "74fb800a",
   "metadata": {},
   "source": [
    "### TOF calibration"
   ]
  },
  {
   "cell_type": "markdown",
   "id": "d830e46e",
   "metadata": {},
   "source": [
    "As a first step, we calibrate the time of flight (tof) for the QRM module. In order to do so, we play a readout pulse and analyze the obtained signal on the oscilloscope to find the travel time of the pulse through the system."
   ]
  },
  {
   "cell_type": "code",
   "execution_count": 9,
   "id": "fd557810",
   "metadata": {},
   "outputs": [],
   "source": [
    "qrm_prog = f\"\"\"\n",
    "play    1, 0, 4     # start readout pulse\n",
    "acquire 0, 0, 16384 # start the 'single' acquisition sequence and wait for the length of the scope acquisition window\n",
    "stop\n",
    "\"\"\""
   ]
  },
  {
   "cell_type": "markdown",
   "id": "027218fe",
   "metadata": {},
   "source": [
    "Upload the program, together with the waveforms and acquisitions to the QRM"
   ]
  },
  {
   "cell_type": "code",
   "execution_count": 10,
   "id": "8a91f685",
   "metadata": {},
   "outputs": [],
   "source": [
    "wave_and_prog_dict = {\"waveforms\": wfs, \"weights\": {}, \"acquisitions\": acquisitions, \"program\": qrm_prog}\n",
    "with open(\"sequence.json\", 'w', encoding='utf-8') as file:\n",
    "    json.dump(wave_and_prog_dict, file, indent=4)\n",
    "    file.close()\n",
    "#Upload waveforms and programs.\n",
    "pulsar_qrm.sequencer0_waveforms_and_program(os.path.join(os.getcwd(), \"sequence.json\"))"
   ]
  },
  {
   "cell_type": "markdown",
   "id": "acf3037c",
   "metadata": {},
   "source": [
    "Perform the calibration experiment"
   ]
  },
  {
   "cell_type": "code",
   "execution_count": 11,
   "id": "6fa2379f",
   "metadata": {},
   "outputs": [
    {
     "name": "stdout",
     "output_type": "stream",
     "text": [
      "Status:\n",
      "{'status': 'STOPPED', 'flags': ['FORCED STOP', 'ACQ SCOPE DONE PATH 0', 'ACQ SCOPE DONE PATH 1', 'ACQ BINNING DONE']}\n"
     ]
    }
   ],
   "source": [
    "#Arm and start sequencer.\n",
    "pulsar_qrm.arm_sequencer(0)\n",
    "pulsar_qrm.start_sequencer()\n",
    "\n",
    "#Wait for the sequencer to stop with a timeout period of one minute.\n",
    "pulsar_qrm.get_sequencer_state(0, 1)\n",
    "\n",
    "#Wait for the acquisition to finish with a timeout period of one minute.\n",
    "pulsar_qrm.get_acquisition_state(0, 1)\n",
    "pulsar_qrm.store_scope_acquisition(0, \"single\")\n",
    "#Print status of sequencer.\n",
    "print(\"Status:\")\n",
    "print(pulsar_qrm.get_sequencer_state(0))"
   ]
  },
  {
   "cell_type": "markdown",
   "id": "d725fbe4",
   "metadata": {},
   "source": [
    "Analyze the resulting signal on the scope to find the tof"
   ]
  },
  {
   "cell_type": "code",
   "execution_count": 12,
   "id": "3e5f4893",
   "metadata": {},
   "outputs": [],
   "source": [
    "p0 = np.array(pulsar_qrm.get_acquisitions(0)['single']['acquisition']['scope']['path0']['data'])\n",
    "p1 = np.array(pulsar_qrm.get_acquisitions(0)['single']['acquisition']['scope']['path1']['data'])\n",
    "tof_measured = np.where(np.abs(p0)>np.max(p0)/2)[0][0]-1/pulsar_qrm.sequencer0_nco_freq()*1e9/8"
   ]
  },
  {
   "cell_type": "markdown",
   "id": "ed9007fa",
   "metadata": {},
   "source": [
    "Plot the signal on the scope, around the rising and falling edge of the acquisition signal, as determined by the tof analysis above:"
   ]
  },
  {
   "cell_type": "code",
   "execution_count": 13,
   "id": "a61e57f8",
   "metadata": {},
   "outputs": [
    {
     "data": {
      "image/png": "[encoded data removed]",
      "text/plain": [
       "<Figure size 432x288 with 1 Axes>"
      ]
     },
     "metadata": {
      "needs_background": "light"
     },
     "output_type": "display_data"
    },
    {
     "data": {
      "image/png": "[encoded data removed]",
      "text/plain": [
       "<Figure size 432x288 with 1 Axes>"
      ]
     },
     "metadata": {
      "needs_background": "light"
     },
     "output_type": "display_data"
    }
   ],
   "source": [
    "r = pulsar_qrm.get_acquisitions(0)['single']['acquisition']['scope']\n",
    "plt.plot(r['path0']['data'], '.-')\n",
    "plt.plot(r['path1']['data'], '.-')\n",
    "plt.axvline(tof_measured, c='k')\n",
    "plt.xlim(tof_measured-10/pulsar_qrm.sequencer0_nco_freq()*1e9, tof_measured+10/pulsar_qrm.sequencer0_nco_freq()*1e9)\n",
    "plt.show()\n",
    "\n",
    "plt.plot(r['path0']['data'], '.-')\n",
    "plt.plot(r['path1']['data'], '.-')\n",
    "plt.axvline(1024+tof_measured, c='k')\n",
    "plt.xlim(1024+tof_measured-10/pulsar_qrm.sequencer0_nco_freq()*1e9, 1024+tof_measured+10/pulsar_qrm.sequencer0_nco_freq()*1e9)\n",
    "plt.show()"
   ]
  },
  {
   "cell_type": "markdown",
   "id": "105d1de1",
   "metadata": {},
   "source": [
    "## Parameters"
   ]
  },
  {
   "cell_type": "markdown",
   "id": "53b19da8",
   "metadata": {},
   "source": [
    "Set the parameters for the Rabi experiment"
   ]
  },
  {
   "cell_type": "code",
   "execution_count": 14,
   "id": "ced76a24",
   "metadata": {},
   "outputs": [],
   "source": [
    "# all times must be divisible by 4\n",
    "reset_time = 200  # reset time for the qubit in microseconds\n",
    "tof = int(tof_measured/4)*4  # time of flight must be divisible by 4\n",
    "readout_delay = 164  # time to delay the readout pulse after the start of the rotation pulse\n",
    "\n",
    "navg = 1000  # number of averages\n",
    "stepsize = int(65535/100)"
   ]
  },
  {
   "cell_type": "markdown",
   "id": "39a59874",
   "metadata": {},
   "source": [
    "## Rabi"
   ]
  },
  {
   "cell_type": "markdown",
   "id": "facf1337",
   "metadata": {},
   "source": [
    "Normally, a Rabi experiment would be performed by changing the amplitude in the inner loop, and averaging in the outer loop. To make the resulting experiment visible on an oscilloscope however, in this tutorial we swapped these two loops"
   ]
  },
  {
   "cell_type": "code",
   "execution_count": 15,
   "id": "ff7a9f84",
   "metadata": {},
   "outputs": [],
   "source": [
    "#Pulsar QCM sequence program.\n",
    "qcm_seq_prog = f\"\"\"\n",
    "# Registers used:\n",
    "# R0 loops over the different awg amplitudes used for the rabi driving pulse\n",
    "# R2 is used to count the averages needed for a single amplitude\n",
    "# R3 contains the qubit reset time in microseconds\n",
    "\n",
    "           wait_sync     4                           # Synchronize the QRM with the QCM\n",
    "           \n",
    "           move          0, R0                       # start with awg amplitude 0 \n",
    "ampl_loop: add           R0, {stepsize}, R0          # increase the pulse amplitude by the stepsize\n",
    "           move          {navg}, R2                  # reset the number of averages and save in the R2 register\n",
    "           \n",
    "           # let the qubit relax to its groundstate\n",
    "navg_loop: move          {reset_time}, R3            # reset the number of microseconds to wait and save in the R3 register\n",
    "rst_loop:  wait          1000                        # wait 1 microsecond\n",
    "           loop          R3,@rst_loop                # repeat the 1 microsecond wait as much as needed to let the qubit relax\n",
    "           \n",
    "           set_awg_gain  R0, R0                      # Set the new amplitude used for the drive pulse\n",
    "           set_mrk       1                           # Set marker 1 high for to enable synchronization with external oscilloscope\n",
    "           wait_sync     4                           # Synchronize with the qrm to signify a measurement is coming\n",
    "           play          2,3,16384                   # Play waveforms and wait remaining duration of scope acquisition\n",
    "           \n",
    "           set_mrk       0                           # Reset marker 1\n",
    "           upd_param     4\n",
    "           \n",
    "           loop          R2,@navg_loop               # Repeat the experiment to average, until R2 becomes 0\n",
    "           jlt           R0,{50*stepsize},@ampl_loop # Repeat the experiment for different pulse amplitudes\n",
    "           stop                                      # Stop.\n",
    "\"\"\"\n",
    "\n",
    "#Pulsar QRM sequence program.\n",
    "qrm_seq_prog = f\"\"\"\n",
    "# Registers used:\n",
    "# R0 counts which bin to acquire into, a new bin for every new amplitude\n",
    "# R2 is used to count the averages needed for a single amplitude\n",
    "\n",
    "           wait_sync     4                           # Synchronize the QRM with the QCM.\n",
    "           move          0, R0                       # the first acquisition uses bin 0\n",
    "ampl_loop: move          {navg}, R2                  # reset the amount of averages to be taken to the initial value\n",
    "\n",
    "navg_loop: wait_sync     {readout_delay}             # wait for the QCM to signal a pulse is coming and wait the readout_delay\n",
    "           play          1,0,{tof}                   # play readout pulse and wait for the tof\n",
    "           acquire       1,R0,16384                  # Acquire waveforms and wait remaining duration of scope acquisition.\n",
    "           \n",
    "           loop          R2, @navg_loop              # Repeat this measurement for every average\n",
    "           add           R0,1,R0                     # Increment the bin into which we are measuring\n",
    "           jmp           @ampl_loop                  # repeat\n",
    "\"\"\""
   ]
  },
  {
   "cell_type": "markdown",
   "id": "15da9147",
   "metadata": {},
   "source": [
    "Upload programs and waveforms to QRM and QCM"
   ]
  },
  {
   "cell_type": "code",
   "execution_count": 16,
   "id": "7f711837",
   "metadata": {},
   "outputs": [],
   "source": [
    "#Add QCM sequence program and waveforms to single dictionary and write to JSON file.\n",
    "wave_and_prog_dict = {\"waveforms\": wfs, \"weights\": {}, \"acquisitions\": acquisitions, \"program\": qcm_seq_prog}\n",
    "with open(\"qcm_sequence.json\", 'w', encoding='utf-8') as file:\n",
    "    json.dump(wave_and_prog_dict, file, indent=4)\n",
    "    file.close()\n",
    "\n",
    "#Add QRM sequence program and waveforms to single dictionary and write to JSON file.\n",
    "wave_and_prog_dict = {\"waveforms\": wfs, \"weights\": {}, \"acquisitions\": acquisitions, \"program\": qrm_seq_prog}\n",
    "with open(\"qrm_sequence.json\", 'w', encoding='utf-8') as file:\n",
    "    json.dump(wave_and_prog_dict, file, indent=4)\n",
    "    file.close()\n",
    "    \n",
    "#Upload waveforms and programs to Pulsar QCM.\n",
    "pulsar_qcm.sequencer0_waveforms_and_program(os.path.join(os.getcwd(), \"qcm_sequence.json\"))\n",
    "\n",
    "#Upload waveforms and programs to Pulsar QRM.\n",
    "pulsar_qrm.sequencer0_waveforms_and_program(os.path.join(os.getcwd(), \"qrm_sequence.json\"))"
   ]
  },
  {
   "cell_type": "markdown",
   "id": "c4b9affc",
   "metadata": {},
   "source": [
    "Arm and start sequencer0 of both the QCM and QRM. The `wait_sync` command together with the SYNQ technology ensures both modules start simultaneously."
   ]
  },
  {
   "cell_type": "code",
   "execution_count": 17,
   "id": "a466edae",
   "metadata": {},
   "outputs": [
    {
     "name": "stdout",
     "output_type": "stream",
     "text": [
      "QCM status:\n",
      "{'status': 'RUNNING', 'flags': []}\n",
      "\n",
      "QRM status:\n",
      "{'status': 'RUNNING', 'flags': ['ACQ SCOPE DONE PATH 0', 'ACQ SCOPE OVERWRITTEN PATH 0', 'ACQ SCOPE DONE PATH 1', 'ACQ SCOPE OVERWRITTEN PATH 1', 'ACQ BINNING DONE']}\n",
      "QCM status:\n",
      "{'status': 'STOPPED', 'flags': []}\n",
      "QRM status:\n",
      "{'status': 'STOPPED', 'flags': ['FORCED STOP', 'ACQ SCOPE DONE PATH 0', 'ACQ SCOPE OVERWRITTEN PATH 0', 'ACQ SCOPE DONE PATH 1', 'ACQ SCOPE OVERWRITTEN PATH 1', 'ACQ BINNING DONE']}\n"
     ]
    }
   ],
   "source": [
    "#Arm and start sequencer of the Pulsar QCM (only sequencer 0).\n",
    "pulsar_qcm.arm_sequencer(0)\n",
    "pulsar_qcm.start_sequencer()\n",
    "\n",
    "#Print status of sequencer of the Pulsar QCM.\n",
    "print(\"QCM status:\")\n",
    "print(pulsar_qcm.get_sequencer_state(0))\n",
    "print()\n",
    "\n",
    "#Arm and start sequencer of the Pulsar QRM (only sequencer 0).\n",
    "pulsar_qrm.arm_sequencer(0)\n",
    "pulsar_qrm.start_sequencer()\n",
    "\n",
    "#Print status of sequencer of the Pulsar QRM.\n",
    "print(\"QRM status:\")\n",
    "print(pulsar_qrm.get_sequencer_state(0))\n",
    "print(\"QCM status:\")\n",
    "print(pulsar_qcm.get_sequencer_state(0, 1))\n",
    "pulsar_qrm.stop_sequencer(0) # We didn't tell the QRM how many different amplitudes would be measured, so here we tell it to stop.\n",
    "print(\"QRM status:\")\n",
    "print(pulsar_qrm.get_sequencer_state(0, 1))\n"
   ]
  },
  {
   "cell_type": "markdown",
   "id": "6c46924f",
   "metadata": {},
   "source": [
    "## Stop"
   ]
  },
  {
   "cell_type": "code",
   "execution_count": 18,
   "id": "c52425aa",
   "metadata": {
    "scrolled": false
   },
   "outputs": [
    {
     "name": "stdout",
     "output_type": "stream",
     "text": [
      "QCM status:\n",
      "{'status': 'STOPPED', 'flags': ['FORCED STOP']}\n",
      "\n",
      "QRM status:\n",
      "{'status': 'STOPPED', 'flags': ['FORCED STOP', 'ACQ SCOPE DONE PATH 0', 'ACQ SCOPE OVERWRITTEN PATH 0', 'ACQ SCOPE DONE PATH 1', 'ACQ SCOPE OVERWRITTEN PATH 1', 'ACQ BINNING DONE']}\n",
      "\n",
      "QCM snapshot:\n",
      "qcm:\n",
      "\tparameter                                  value\n",
      "--------------------------------------------------------------------------------\n",
      "IDN                                         :\t{'manufacturer': 'Qblox', 'mode...\n",
      "out0_offset                                 :\t0 (V)\n",
      "out1_offset                                 :\t0 (V)\n",
      "out2_offset                                 :\t0 (V)\n",
      "out3_offset                                 :\t0 (V)\n",
      "reference_source                            :\tinternal \n",
      "sequencer0_channel_map_path0_out0_en        :\tTrue \n",
      "sequencer0_channel_map_path0_out2_en        :\tTrue \n",
      "sequencer0_channel_map_path1_out1_en        :\tTrue \n",
      "sequencer0_channel_map_path1_out3_en        :\tTrue \n",
      "sequencer0_cont_mode_en_awg_path0           :\tFalse \n",
      "sequencer0_cont_mode_en_awg_path1           :\tFalse \n",
      "sequencer0_cont_mode_waveform_idx_awg_path0 :\t0 \n",
      "sequencer0_cont_mode_waveform_idx_awg_path1 :\t0 \n",
      "sequencer0_gain_awg_path0                   :\t1 \n",
      "sequencer0_gain_awg_path1                   :\t1 \n",
      "sequencer0_marker_ovr_en                    :\tFalse \n",
      "sequencer0_marker_ovr_value                 :\t0 \n",
      "sequencer0_mixer_corr_gain_ratio            :\t1 \n",
      "sequencer0_mixer_corr_phase_offset_degree   :\t-0 \n",
      "sequencer0_mod_en_awg                       :\tTrue \n",
      "sequencer0_nco_freq                         :\t1e+08 (Hz)\n",
      "sequencer0_nco_phase_offs                   :\t0 (Degrees)\n",
      "sequencer0_offset_awg_path0                 :\t0 \n",
      "sequencer0_offset_awg_path1                 :\t0 \n",
      "sequencer0_sync_en                          :\tTrue \n",
      "sequencer0_upsample_rate_awg_path0          :\t0 \n",
      "sequencer0_upsample_rate_awg_path1          :\t0 \n",
      "sequencer0_waveforms_and_program            :\tC:\\Users\\Damaz\\PycharmProjects\\...\n",
      "sequencer1_channel_map_path0_out0_en        :\tFalse \n",
      "sequencer1_channel_map_path0_out2_en        :\tTrue \n",
      "sequencer1_channel_map_path1_out1_en        :\tFalse \n",
      "sequencer1_channel_map_path1_out3_en        :\tTrue \n",
      "sequencer1_cont_mode_en_awg_path0           :\tFalse \n",
      "sequencer1_cont_mode_en_awg_path1           :\tFalse \n",
      "sequencer1_cont_mode_waveform_idx_awg_path0 :\t0 \n",
      "sequencer1_cont_mode_waveform_idx_awg_path1 :\t0 \n",
      "sequencer1_gain_awg_path0                   :\t1 \n",
      "sequencer1_gain_awg_path1                   :\t1 \n",
      "sequencer1_marker_ovr_en                    :\tFalse \n",
      "sequencer1_marker_ovr_value                 :\t0 \n",
      "sequencer1_mixer_corr_gain_ratio            :\t1 \n",
      "sequencer1_mixer_corr_phase_offset_degree   :\t-0 \n",
      "sequencer1_mod_en_awg                       :\tFalse \n",
      "sequencer1_nco_freq                         :\t0 (Hz)\n",
      "sequencer1_nco_phase_offs                   :\t0 (Degrees)\n",
      "sequencer1_offset_awg_path0                 :\t0 \n",
      "sequencer1_offset_awg_path1                 :\t0 \n",
      "sequencer1_sync_en                          :\tFalse \n",
      "sequencer1_upsample_rate_awg_path0          :\t0 \n",
      "sequencer1_upsample_rate_awg_path1          :\t0 \n",
      "sequencer1_waveforms_and_program            :\tNone \n",
      "sequencer2_channel_map_path0_out0_en        :\tFalse \n",
      "sequencer2_channel_map_path0_out2_en        :\tTrue \n",
      "sequencer2_channel_map_path1_out1_en        :\tFalse \n",
      "sequencer2_channel_map_path1_out3_en        :\tTrue \n",
      "sequencer2_cont_mode_en_awg_path0           :\tFalse \n",
      "sequencer2_cont_mode_en_awg_path1           :\tFalse \n",
      "sequencer2_cont_mode_waveform_idx_awg_path0 :\t0 \n",
      "sequencer2_cont_mode_waveform_idx_awg_path1 :\t0 \n",
      "sequencer2_gain_awg_path0                   :\t1 \n",
      "sequencer2_gain_awg_path1                   :\t1 \n",
      "sequencer2_marker_ovr_en                    :\tFalse \n",
      "sequencer2_marker_ovr_value                 :\t0 \n",
      "sequencer2_mixer_corr_gain_ratio            :\t1 \n",
      "sequencer2_mixer_corr_phase_offset_degree   :\t-0 \n",
      "sequencer2_mod_en_awg                       :\tFalse \n",
      "sequencer2_nco_freq                         :\t0 (Hz)\n",
      "sequencer2_nco_phase_offs                   :\t0 (Degrees)\n",
      "sequencer2_offset_awg_path0                 :\t0 \n",
      "sequencer2_offset_awg_path1                 :\t0 \n",
      "sequencer2_sync_en                          :\tFalse \n",
      "sequencer2_upsample_rate_awg_path0          :\t0 \n",
      "sequencer2_upsample_rate_awg_path1          :\t0 \n",
      "sequencer2_waveforms_and_program            :\tNone \n",
      "sequencer3_channel_map_path0_out0_en        :\tFalse \n",
      "sequencer3_channel_map_path0_out2_en        :\tTrue \n",
      "sequencer3_channel_map_path1_out1_en        :\tFalse \n",
      "sequencer3_channel_map_path1_out3_en        :\tTrue \n",
      "sequencer3_cont_mode_en_awg_path0           :\tFalse \n",
      "sequencer3_cont_mode_en_awg_path1           :\tFalse \n",
      "sequencer3_cont_mode_waveform_idx_awg_path0 :\t0 \n",
      "sequencer3_cont_mode_waveform_idx_awg_path1 :\t0 \n",
      "sequencer3_gain_awg_path0                   :\t1 \n",
      "sequencer3_gain_awg_path1                   :\t1 \n",
      "sequencer3_marker_ovr_en                    :\tFalse \n",
      "sequencer3_marker_ovr_value                 :\t0 \n",
      "sequencer3_mixer_corr_gain_ratio            :\t1 \n",
      "sequencer3_mixer_corr_phase_offset_degree   :\t-0 \n",
      "sequencer3_mod_en_awg                       :\tFalse \n",
      "sequencer3_nco_freq                         :\t0 (Hz)\n",
      "sequencer3_nco_phase_offs                   :\t0 (Degrees)\n",
      "sequencer3_offset_awg_path0                 :\t0 \n",
      "sequencer3_offset_awg_path1                 :\t0 \n",
      "sequencer3_sync_en                          :\tFalse \n",
      "sequencer3_upsample_rate_awg_path0          :\t0 \n",
      "sequencer3_upsample_rate_awg_path1          :\t0 \n",
      "sequencer3_waveforms_and_program            :\tNone \n",
      "sequencer4_channel_map_path0_out0_en        :\tFalse \n",
      "sequencer4_channel_map_path0_out2_en        :\tTrue \n",
      "sequencer4_channel_map_path1_out1_en        :\tFalse \n",
      "sequencer4_channel_map_path1_out3_en        :\tTrue \n",
      "sequencer4_cont_mode_en_awg_path0           :\tFalse \n",
      "sequencer4_cont_mode_en_awg_path1           :\tFalse \n",
      "sequencer4_cont_mode_waveform_idx_awg_path0 :\t0 \n",
      "sequencer4_cont_mode_waveform_idx_awg_path1 :\t0 \n",
      "sequencer4_gain_awg_path0                   :\t1 \n",
      "sequencer4_gain_awg_path1                   :\t1 \n",
      "sequencer4_marker_ovr_en                    :\tFalse \n",
      "sequencer4_marker_ovr_value                 :\t0 \n",
      "sequencer4_mixer_corr_gain_ratio            :\t1 \n",
      "sequencer4_mixer_corr_phase_offset_degree   :\t-0 \n",
      "sequencer4_mod_en_awg                       :\tFalse \n",
      "sequencer4_nco_freq                         :\t0 (Hz)\n",
      "sequencer4_nco_phase_offs                   :\t0 (Degrees)\n",
      "sequencer4_offset_awg_path0                 :\t0 \n",
      "sequencer4_offset_awg_path1                 :\t0 \n",
      "sequencer4_sync_en                          :\tFalse \n",
      "sequencer4_upsample_rate_awg_path0          :\t0 \n",
      "sequencer4_upsample_rate_awg_path1          :\t0 \n",
      "sequencer4_waveforms_and_program            :\tNone \n",
      "sequencer5_channel_map_path0_out0_en        :\tFalse \n",
      "sequencer5_channel_map_path0_out2_en        :\tTrue \n",
      "sequencer5_channel_map_path1_out1_en        :\tFalse \n",
      "sequencer5_channel_map_path1_out3_en        :\tTrue \n",
      "sequencer5_cont_mode_en_awg_path0           :\tFalse \n",
      "sequencer5_cont_mode_en_awg_path1           :\tFalse \n",
      "sequencer5_cont_mode_waveform_idx_awg_path0 :\t0 \n",
      "sequencer5_cont_mode_waveform_idx_awg_path1 :\t0 \n",
      "sequencer5_gain_awg_path0                   :\t1 \n",
      "sequencer5_gain_awg_path1                   :\t1 \n",
      "sequencer5_marker_ovr_en                    :\tFalse \n",
      "sequencer5_marker_ovr_value                 :\t0 \n",
      "sequencer5_mixer_corr_gain_ratio            :\t1 \n",
      "sequencer5_mixer_corr_phase_offset_degree   :\t-0 \n",
      "sequencer5_mod_en_awg                       :\tFalse \n",
      "sequencer5_nco_freq                         :\t0 (Hz)\n",
      "sequencer5_nco_phase_offs                   :\t0 (Degrees)\n",
      "sequencer5_offset_awg_path0                 :\t0 \n",
      "sequencer5_offset_awg_path1                 :\t0 \n",
      "sequencer5_sync_en                          :\tFalse \n",
      "sequencer5_upsample_rate_awg_path0          :\t0 \n",
      "sequencer5_upsample_rate_awg_path1          :\t0 \n",
      "sequencer5_waveforms_and_program            :\tNone \n",
      "\n",
      "QRM snapshot:\n",
      "qrm:\n",
      "\tparameter                                  value\n",
      "--------------------------------------------------------------------------------\n",
      "IDN                                         :\t{'manufacturer': 'Qblox', 'mode...\n",
      "in0_gain                                    :\t-6 (dB)\n",
      "in1_gain                                    :\t-6 (dB)\n",
      "out0_offset                                 :\t0 (V)\n",
      "out1_offset                                 :\t0 (V)\n",
      "reference_source                            :\texternal \n",
      "scope_acq_avg_mode_en_path0                 :\tFalse \n",
      "scope_acq_avg_mode_en_path1                 :\tFalse \n",
      "scope_acq_sequencer_select                  :\t0 \n",
      "scope_acq_trigger_level_path0               :\t0 \n",
      "scope_acq_trigger_level_path1               :\t0 \n",
      "scope_acq_trigger_mode_path0                :\tsequencer \n",
      "scope_acq_trigger_mode_path1                :\tsequencer \n",
      "sequencer0_channel_map_path0_out0_en        :\tTrue \n",
      "sequencer0_channel_map_path1_out1_en        :\tTrue \n",
      "sequencer0_cont_mode_en_awg_path0           :\tFalse \n",
      "sequencer0_cont_mode_en_awg_path1           :\tFalse \n",
      "sequencer0_cont_mode_waveform_idx_awg_path0 :\t0 \n",
      "sequencer0_cont_mode_waveform_idx_awg_path1 :\t0 \n",
      "sequencer0_demod_en_acq                     :\tTrue \n",
      "sequencer0_discretization_threshold_acq     :\t0 \n",
      "sequencer0_gain_awg_path0                   :\t1 \n",
      "sequencer0_gain_awg_path1                   :\t1 \n",
      "sequencer0_integration_length_acq           :\t1024 \n",
      "sequencer0_marker_ovr_en                    :\tFalse \n",
      "sequencer0_marker_ovr_value                 :\t0 \n",
      "sequencer0_mixer_corr_gain_ratio            :\t1 \n",
      "sequencer0_mixer_corr_phase_offset_degree   :\t-0 \n",
      "sequencer0_mod_en_awg                       :\tTrue \n",
      "sequencer0_nco_freq                         :\t1e+08 (Hz)\n",
      "sequencer0_nco_phase_offs                   :\t0 (Degrees)\n",
      "sequencer0_offset_awg_path0                 :\t0 \n",
      "sequencer0_offset_awg_path1                 :\t0 \n",
      "sequencer0_phase_rotation_acq               :\t0 (Degrees)\n",
      "sequencer0_sync_en                          :\tTrue \n",
      "sequencer0_upsample_rate_awg_path0          :\t0 \n",
      "sequencer0_upsample_rate_awg_path1          :\t0 \n",
      "sequencer0_waveforms_and_program            :\tC:\\Users\\Damaz\\PycharmProjects\\...\n",
      "sequencer1_channel_map_path0_out0_en        :\tFalse \n",
      "sequencer1_channel_map_path1_out1_en        :\tFalse \n",
      "sequencer1_cont_mode_en_awg_path0           :\tFalse \n",
      "sequencer1_cont_mode_en_awg_path1           :\tFalse \n",
      "sequencer1_cont_mode_waveform_idx_awg_path0 :\t0 \n",
      "sequencer1_cont_mode_waveform_idx_awg_path1 :\t0 \n",
      "sequencer1_demod_en_acq                     :\tFalse \n",
      "sequencer1_discretization_threshold_acq     :\t0 \n",
      "sequencer1_gain_awg_path0                   :\t1 \n",
      "sequencer1_gain_awg_path1                   :\t1 \n",
      "sequencer1_integration_length_acq           :\t1024 \n",
      "sequencer1_marker_ovr_en                    :\tFalse \n",
      "sequencer1_marker_ovr_value                 :\t0 \n",
      "sequencer1_mixer_corr_gain_ratio            :\t1 \n",
      "sequencer1_mixer_corr_phase_offset_degree   :\t-0 \n",
      "sequencer1_mod_en_awg                       :\tFalse \n",
      "sequencer1_nco_freq                         :\t0 (Hz)\n",
      "sequencer1_nco_phase_offs                   :\t0 (Degrees)\n",
      "sequencer1_offset_awg_path0                 :\t0 \n",
      "sequencer1_offset_awg_path1                 :\t0 \n",
      "sequencer1_phase_rotation_acq               :\t0 (Degrees)\n",
      "sequencer1_sync_en                          :\tFalse \n",
      "sequencer1_upsample_rate_awg_path0          :\t0 \n",
      "sequencer1_upsample_rate_awg_path1          :\t0 \n",
      "sequencer1_waveforms_and_program            :\tNone \n",
      "sequencer2_channel_map_path0_out0_en        :\tFalse \n",
      "sequencer2_channel_map_path1_out1_en        :\tFalse \n",
      "sequencer2_cont_mode_en_awg_path0           :\tFalse \n",
      "sequencer2_cont_mode_en_awg_path1           :\tFalse \n",
      "sequencer2_cont_mode_waveform_idx_awg_path0 :\t0 \n",
      "sequencer2_cont_mode_waveform_idx_awg_path1 :\t0 \n",
      "sequencer2_demod_en_acq                     :\tFalse \n",
      "sequencer2_discretization_threshold_acq     :\t0 \n",
      "sequencer2_gain_awg_path0                   :\t1 \n",
      "sequencer2_gain_awg_path1                   :\t1 \n",
      "sequencer2_integration_length_acq           :\t1024 \n",
      "sequencer2_marker_ovr_en                    :\tFalse \n",
      "sequencer2_marker_ovr_value                 :\t0 \n",
      "sequencer2_mixer_corr_gain_ratio            :\t1 \n",
      "sequencer2_mixer_corr_phase_offset_degree   :\t-0 \n",
      "sequencer2_mod_en_awg                       :\tFalse \n",
      "sequencer2_nco_freq                         :\t0 (Hz)\n",
      "sequencer2_nco_phase_offs                   :\t0 (Degrees)\n",
      "sequencer2_offset_awg_path0                 :\t0 \n",
      "sequencer2_offset_awg_path1                 :\t0 \n",
      "sequencer2_phase_rotation_acq               :\t0 (Degrees)\n",
      "sequencer2_sync_en                          :\tFalse \n",
      "sequencer2_upsample_rate_awg_path0          :\t0 \n",
      "sequencer2_upsample_rate_awg_path1          :\t0 \n",
      "sequencer2_waveforms_and_program            :\tNone \n",
      "sequencer3_channel_map_path0_out0_en        :\tFalse \n",
      "sequencer3_channel_map_path1_out1_en        :\tFalse \n",
      "sequencer3_cont_mode_en_awg_path0           :\tFalse \n",
      "sequencer3_cont_mode_en_awg_path1           :\tFalse \n",
      "sequencer3_cont_mode_waveform_idx_awg_path0 :\t0 \n",
      "sequencer3_cont_mode_waveform_idx_awg_path1 :\t0 \n",
      "sequencer3_demod_en_acq                     :\tFalse \n",
      "sequencer3_discretization_threshold_acq     :\t0 \n",
      "sequencer3_gain_awg_path0                   :\t1 \n",
      "sequencer3_gain_awg_path1                   :\t1 \n",
      "sequencer3_integration_length_acq           :\t1024 \n",
      "sequencer3_marker_ovr_en                    :\tFalse \n",
      "sequencer3_marker_ovr_value                 :\t0 \n",
      "sequencer3_mixer_corr_gain_ratio            :\t1 \n",
      "sequencer3_mixer_corr_phase_offset_degree   :\t-0 \n",
      "sequencer3_mod_en_awg                       :\tFalse \n",
      "sequencer3_nco_freq                         :\t0 (Hz)\n",
      "sequencer3_nco_phase_offs                   :\t0 (Degrees)\n",
      "sequencer3_offset_awg_path0                 :\t0 \n",
      "sequencer3_offset_awg_path1                 :\t0 \n",
      "sequencer3_phase_rotation_acq               :\t0 (Degrees)\n",
      "sequencer3_sync_en                          :\tFalse \n",
      "sequencer3_upsample_rate_awg_path0          :\t0 \n",
      "sequencer3_upsample_rate_awg_path1          :\t0 \n",
      "sequencer3_waveforms_and_program            :\tNone \n",
      "sequencer4_channel_map_path0_out0_en        :\tFalse \n",
      "sequencer4_channel_map_path1_out1_en        :\tFalse \n",
      "sequencer4_cont_mode_en_awg_path0           :\tFalse \n",
      "sequencer4_cont_mode_en_awg_path1           :\tFalse \n",
      "sequencer4_cont_mode_waveform_idx_awg_path0 :\t0 \n",
      "sequencer4_cont_mode_waveform_idx_awg_path1 :\t0 \n",
      "sequencer4_demod_en_acq                     :\tFalse \n",
      "sequencer4_discretization_threshold_acq     :\t0 \n",
      "sequencer4_gain_awg_path0                   :\t1 \n",
      "sequencer4_gain_awg_path1                   :\t1 \n",
      "sequencer4_integration_length_acq           :\t1024 \n",
      "sequencer4_marker_ovr_en                    :\tFalse \n",
      "sequencer4_marker_ovr_value                 :\t0 \n",
      "sequencer4_mixer_corr_gain_ratio            :\t1 \n",
      "sequencer4_mixer_corr_phase_offset_degree   :\t-0 \n",
      "sequencer4_mod_en_awg                       :\tFalse \n",
      "sequencer4_nco_freq                         :\t0 (Hz)\n",
      "sequencer4_nco_phase_offs                   :\t0 (Degrees)\n",
      "sequencer4_offset_awg_path0                 :\t0 \n",
      "sequencer4_offset_awg_path1                 :\t0 \n",
      "sequencer4_phase_rotation_acq               :\t0 (Degrees)\n",
      "sequencer4_sync_en                          :\tFalse \n",
      "sequencer4_upsample_rate_awg_path0          :\t0 \n",
      "sequencer4_upsample_rate_awg_path1          :\t0 \n",
      "sequencer4_waveforms_and_program            :\tNone \n",
      "sequencer5_channel_map_path0_out0_en        :\tFalse \n",
      "sequencer5_channel_map_path1_out1_en        :\tFalse \n",
      "sequencer5_cont_mode_en_awg_path0           :\tFalse \n",
      "sequencer5_cont_mode_en_awg_path1           :\tFalse \n",
      "sequencer5_cont_mode_waveform_idx_awg_path0 :\t0 \n",
      "sequencer5_cont_mode_waveform_idx_awg_path1 :\t0 \n",
      "sequencer5_demod_en_acq                     :\tFalse \n",
      "sequencer5_discretization_threshold_acq     :\t0 \n",
      "sequencer5_gain_awg_path0                   :\t1 \n",
      "sequencer5_gain_awg_path1                   :\t1 \n",
      "sequencer5_integration_length_acq           :\t1024 \n",
      "sequencer5_marker_ovr_en                    :\tFalse \n",
      "sequencer5_marker_ovr_value                 :\t0 \n",
      "sequencer5_mixer_corr_gain_ratio            :\t1 \n",
      "sequencer5_mixer_corr_phase_offset_degree   :\t-0 \n",
      "sequencer5_mod_en_awg                       :\tFalse \n",
      "sequencer5_nco_freq                         :\t0 (Hz)\n",
      "sequencer5_nco_phase_offs                   :\t0 (Degrees)\n",
      "sequencer5_offset_awg_path0                 :\t0 \n",
      "sequencer5_offset_awg_path1                 :\t0 \n",
      "sequencer5_phase_rotation_acq               :\t0 (Degrees)\n",
      "sequencer5_sync_en                          :\tFalse \n",
      "sequencer5_upsample_rate_awg_path0          :\t0 \n",
      "sequencer5_upsample_rate_awg_path1          :\t0 \n",
      "sequencer5_waveforms_and_program            :\tNone \n"
     ]
    }
   ],
   "source": [
    "#Stop sequencers.\n",
    "pulsar_qcm.stop_sequencer()\n",
    "pulsar_qrm.stop_sequencer()\n",
    "\n",
    "#Print status of sequencers.\n",
    "print(\"QCM status:\")\n",
    "print(pulsar_qcm.get_sequencer_state(0))\n",
    "print()\n",
    "\n",
    "print(\"QRM status:\")\n",
    "print(pulsar_qrm.get_sequencer_state(0))\n",
    "print()\n",
    "\n",
    "#Print an overview of instrument parameters.\n",
    "print(\"QCM snapshot:\")\n",
    "pulsar_qcm.print_readable_snapshot(update=True)\n",
    "print()\n",
    "\n",
    "print(\"QRM snapshot:\")\n",
    "pulsar_qrm.print_readable_snapshot(update=True)\n",
    "\n",
    "#Close the instrument connections.\n",
    "pulsar_qcm.close()\n",
    "pulsar_qrm.close()"
   ]
  }
 ],
 "metadata": {
  "jupytext": {
   "formats": "ipynb,md"
  },
  "kernelspec": {
   "display_name": "Python 3 (ipykernel)",
   "language": "python",
   "name": "python3"
  },
  "language_info": {
   "codemirror_mode": {
    "name": "ipython",
    "version": 3
   },
   "file_extension": ".py",
   "mimetype": "text/x-python",
   "name": "python",
   "nbconvert_exporter": "python",
   "pygments_lexer": "ipython3",
   "version": "3.8.11"
  }
 },
 "nbformat": 4,
 "nbformat_minor": 5
}
