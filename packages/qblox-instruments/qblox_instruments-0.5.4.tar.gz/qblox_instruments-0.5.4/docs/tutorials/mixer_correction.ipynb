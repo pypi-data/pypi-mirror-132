{
 "cells": [
  {
   "cell_type": "markdown",
   "metadata": {},
   "source": [
    "# Mixer correction\n",
    "In this simple tutorial we will demonstrate the ability to compensate for output mixer non-idealities and observe the changes using an oscilloscope.\n",
    "\n",
    "Mixer non-idealities can lead to unwanted spurs on the output (LO/RF/IF feedthrough and other spurious products) and they can be compensated by applying adjustments to the I/Q outputs: phase offset, gain ratio and DC offset. This solution applies to both baseband QCM/QRM products using external mixers as well as QCM-RF and QRM-RF products.\n",
    "\n",
    "The tutorial is designed with a baseband Pulsar QRM in mind, but also can easily be used with all QBLOX baseband products: Pulsar QRM, Pulsar QCM, Cluster QRM, Cluster QCM. We will adjust all the parameters listed above and observe the changes to the I/Q outputs directly on an oscilloscope.\n",
    "\n",
    "The tutorial can also work with QCM-RF and QRM-RF products, but the effects can only be observed indirectly by connecting a signal analyzer to the mixed output.\n",
    "\n",
    "Requirements: \n",
    "- Oscilloscope\n",
    "- Install ipywidgets: \"pip install ipywidgets\"\n",
    "- Changes to notebook extensions: \"jupyter nbextension enable --py widgetsnbextension\""
   ]
  },
  {
   "cell_type": "code",
   "execution_count": 1,
   "metadata": {},
   "outputs": [
    {
     "name": "stdout",
     "output_type": "stream",
     "text": [
      "Status:\n",
      "{'status': 'OKAY', 'flags': []}\n"
     ]
    }
   ],
   "source": [
    "#Set up environment\n",
    "import pprint\n",
    "import os\n",
    "import json\n",
    "import ipywidgets as widgets\n",
    "from ipywidgets import interact\n",
    "\n",
    "#Add Pulsar QRM interface\n",
    "from pulsar_qrm.pulsar_qrm import pulsar_qrm\n",
    "\n",
    "#Close any existing connections to any pulsar_qrm\n",
    "pulsar_qrm.close_all()\n",
    "\n",
    "#Connect to the Pulsar QRM at default IP address.\n",
    "pulsar = pulsar_qrm(\"qrm\", \"192.168.0.2\")\n",
    "\n",
    "#Reset the instrument for good measure.\n",
    "pulsar.reset()\n",
    "print(\"Status:\")\n",
    "print(pulsar.get_system_status())"
   ]
  },
  {
   "cell_type": "markdown",
   "metadata": {},
   "source": [
    "Setup\n",
    "-----\n",
    "\n",
    "The easiest way to view the influence of the mixer correction is to mix the NCO sin and cos with I and Q values of 1 (fullscale). The instrument output would be simple sinusoids with a 90deg phase offset and identical amplitude.\n",
    "\n",
    "We use sequencer 0 to set I and Q values of 1 (fullscle) using DC offset and we mix those with the NCO signals."
   ]
  },
  {
   "cell_type": "code",
   "execution_count": 2,
   "metadata": {},
   "outputs": [],
   "source": [
    "#Program sequence we will not use\n",
    "wave_and_prog_dict = {\"waveforms\": {}, \"weights\": {}, \"acquisitions\": {}, \"program\": \"stop\"}\n",
    "with open(\"sequence.json\", 'w', encoding='utf-8') as file:\n",
    "    json.dump(wave_and_prog_dict, file, indent=4)\n",
    "    file.close()\n",
    "pulsar.sequencer0_waveforms_and_program(os.path.join(os.getcwd(), \"sequence.json\"))\n",
    "\n",
    "#Program fullscale DC offset on I & Q, turn on NCO and enable modulation\n",
    "pulsar.sequencer0_offset_awg_path0(1.0)\n",
    "pulsar.sequencer0_offset_awg_path1(1.0)\n",
    "pulsar.sequencer0_nco_freq(10e6)\n",
    "pulsar.sequencer0_mod_en_awg(True)"
   ]
  },
  {
   "cell_type": "markdown",
   "metadata": {},
   "source": [
    "Control sliders\n",
    "-----\n",
    "\n",
    "Create control sliders for the parameters described in the introduction. Each time the value of a parameter is updated, the sequencer is automatically stopped from the embedded firmware for safety reasons and has to be manually restarted.\n",
    "\n",
    "The sliders cover the valid parameter range. If the code below is modified to input invalid values, the Pulsar firmware will not program the values.\n",
    "\n",
    "Please connect the I/Q outputs to an oscilloscope and set to trigger continuously on the I channel at 0V. Execute the code below, move the sliders and observe the result on the oscilloscope."
   ]
  },
  {
   "cell_type": "code",
   "execution_count": 3,
   "metadata": {},
   "outputs": [
    {
     "data": {
      "application/vnd.jupyter.widget-view+json": {
       "model_id": "22a141e65e83408f8685e73e8f5133cc",
       "version_major": 2,
       "version_minor": 0
      },
      "text/plain": [
       "interactive(children=(FloatSlider(value=0.0, description='offset_I', max=1.0, min=-1.0, step=0.01), Output()),…"
      ]
     },
     "metadata": {},
     "output_type": "display_data"
    },
    {
     "data": {
      "application/vnd.jupyter.widget-view+json": {
       "model_id": "4cf204be130242f7ac8c5b7a5bc9daf1",
       "version_major": 2,
       "version_minor": 0
      },
      "text/plain": [
       "interactive(children=(FloatSlider(value=0.0, description='offset_Q', max=1.0, min=-1.0, step=0.01), Output()),…"
      ]
     },
     "metadata": {},
     "output_type": "display_data"
    },
    {
     "data": {
      "application/vnd.jupyter.widget-view+json": {
       "model_id": "39c2b3c7723f476f953d36f4b3218b73",
       "version_major": 2,
       "version_minor": 0
      },
      "text/plain": [
       "interactive(children=(FloatSlider(value=0.5, description='gain_ratio', max=2.0, min=0.5), Output()), _dom_clas…"
      ]
     },
     "metadata": {},
     "output_type": "display_data"
    },
    {
     "data": {
      "application/vnd.jupyter.widget-view+json": {
       "model_id": "5831515976ea4f97ba189546878c4bf8",
       "version_major": 2,
       "version_minor": 0
      },
      "text/plain": [
       "interactive(children=(FloatSlider(value=0.0, description='phase_offset', max=45.0, min=-45.0, step=1.0), Outpu…"
      ]
     },
     "metadata": {},
     "output_type": "display_data"
    },
    {
     "data": {
      "text/plain": [
       "<function __main__.set_phase_offset(phase_offset)>"
      ]
     },
     "execution_count": 3,
     "metadata": {},
     "output_type": "execute_result"
    }
   ],
   "source": [
    "def set_offset_I(offset_I):\n",
    "    pulsar.out0_offset(offset_I)\n",
    "    pulsar.arm_sequencer(0)\n",
    "    pulsar.start_sequencer(0)\n",
    "    \n",
    "def set_offset_Q(offset_Q):\n",
    "    pulsar.out1_offset(offset_Q)\n",
    "    pulsar.arm_sequencer(0)\n",
    "    pulsar.start_sequencer(0)\n",
    "    \n",
    "def set_gain_ratio(gain_ratio):\n",
    "    pulsar.sequencer0_mixer_corr_gain_ratio(gain_ratio)\n",
    "    pulsar.arm_sequencer(0)\n",
    "    pulsar.start_sequencer(0)\n",
    "    \n",
    "def set_phase_offset(phase_offset):\n",
    "    pulsar.sequencer0_mixer_corr_phase_offset_degree(phase_offset)\n",
    "    pulsar.arm_sequencer(0)\n",
    "    pulsar.start_sequencer(0)\n",
    "    \n",
    "interact(set_offset_I, offset_I=widgets.FloatSlider(min=-1.0, max=1.0, step=0.01, start=0.0))\n",
    "interact(set_offset_Q, offset_Q=widgets.FloatSlider(min=-1.0, max=1.0, step=0.01, start=0.0))\n",
    "interact(set_gain_ratio, gain_ratio=widgets.FloatSlider(min=0.5, max=2.0, step=0.1, start=0.5))\n",
    "interact(set_phase_offset, phase_offset=widgets.FloatSlider(min=-45.0, max=45.0, step=1.0, start=0.0))"
   ]
  },
  {
   "cell_type": "markdown",
   "metadata": {},
   "source": [
    "Stop\n",
    "----\n",
    "\n",
    "Finally, let's stop the sequencer and close the instrument connection."
   ]
  },
  {
   "cell_type": "code",
   "execution_count": 4,
   "metadata": {},
   "outputs": [
    {
     "name": "stdout",
     "output_type": "stream",
     "text": [
      "Status:\n",
      "{'status': 'STOPPED', 'flags': ['FORCED STOP']}\n",
      "Snapshot:\n",
      "qrm:\n",
      "\tparameter                                  value\n",
      "--------------------------------------------------------------------------------\n",
      "IDN                                         :\t{'manufacturer': 'Qblox', 'mode...\n",
      "in0_gain                                    :\t-6 (dB)\n",
      "in1_gain                                    :\t-6 (dB)\n",
      "out0_offset                                 :\t0 (V)\n",
      "out1_offset                                 :\t0 (V)\n",
      "reference_source                            :\tinternal \n",
      "scope_acq_avg_mode_en_path0                 :\tFalse \n",
      "scope_acq_avg_mode_en_path1                 :\tFalse \n",
      "scope_acq_sequencer_select                  :\t0 \n",
      "scope_acq_trigger_level_path0               :\t0 \n",
      "scope_acq_trigger_level_path1               :\t0 \n",
      "scope_acq_trigger_mode_path0                :\tsequencer \n",
      "scope_acq_trigger_mode_path1                :\tsequencer \n",
      "sequencer0_channel_map_path0_out0_en        :\tTrue \n",
      "sequencer0_channel_map_path1_out1_en        :\tTrue \n",
      "sequencer0_cont_mode_en_awg_path0           :\tFalse \n",
      "sequencer0_cont_mode_en_awg_path1           :\tFalse \n",
      "sequencer0_cont_mode_waveform_idx_awg_path0 :\t0 \n",
      "sequencer0_cont_mode_waveform_idx_awg_path1 :\t0 \n",
      "sequencer0_demod_en_acq                     :\tFalse \n",
      "sequencer0_discretization_threshold_acq     :\t0 \n",
      "sequencer0_gain_awg_path0                   :\t1 \n",
      "sequencer0_gain_awg_path1                   :\t1 \n",
      "sequencer0_integration_length_acq           :\t1024 \n",
      "sequencer0_marker_ovr_en                    :\tFalse \n",
      "sequencer0_marker_ovr_value                 :\t0 \n",
      "sequencer0_mixer_corr_gain_ratio            :\t0.50002 \n",
      "sequencer0_mixer_corr_phase_offset_degree   :\t-0 \n",
      "sequencer0_mod_en_awg                       :\tTrue \n",
      "sequencer0_nco_freq                         :\t1e+07 (Hz)\n",
      "sequencer0_nco_phase_offs                   :\t0 (Degrees)\n",
      "sequencer0_offset_awg_path0                 :\t1 \n",
      "sequencer0_offset_awg_path1                 :\t1 \n",
      "sequencer0_phase_rotation_acq               :\t0 (Degrees)\n",
      "sequencer0_sync_en                          :\tFalse \n",
      "sequencer0_upsample_rate_awg_path0          :\t0 \n",
      "sequencer0_upsample_rate_awg_path1          :\t0 \n",
      "sequencer0_waveforms_and_program            :\t/home/jordy/qblox/projects/puls...\n",
      "sequencer1_channel_map_path0_out0_en        :\tTrue \n",
      "sequencer1_channel_map_path1_out1_en        :\tTrue \n",
      "sequencer1_cont_mode_en_awg_path0           :\tFalse \n",
      "sequencer1_cont_mode_en_awg_path1           :\tFalse \n",
      "sequencer1_cont_mode_waveform_idx_awg_path0 :\t0 \n",
      "sequencer1_cont_mode_waveform_idx_awg_path1 :\t0 \n",
      "sequencer1_demod_en_acq                     :\tFalse \n",
      "sequencer1_discretization_threshold_acq     :\t0 \n",
      "sequencer1_gain_awg_path0                   :\t1 \n",
      "sequencer1_gain_awg_path1                   :\t1 \n",
      "sequencer1_integration_length_acq           :\t1024 \n",
      "sequencer1_marker_ovr_en                    :\tFalse \n",
      "sequencer1_marker_ovr_value                 :\t0 \n",
      "sequencer1_mixer_corr_gain_ratio            :\t1 \n",
      "sequencer1_mixer_corr_phase_offset_degree   :\t-0 \n",
      "sequencer1_mod_en_awg                       :\tFalse \n",
      "sequencer1_nco_freq                         :\t0 (Hz)\n",
      "sequencer1_nco_phase_offs                   :\t0 (Degrees)\n",
      "sequencer1_offset_awg_path0                 :\t0 \n",
      "sequencer1_offset_awg_path1                 :\t0 \n",
      "sequencer1_phase_rotation_acq               :\t0 (Degrees)\n",
      "sequencer1_sync_en                          :\tFalse \n",
      "sequencer1_upsample_rate_awg_path0          :\t0 \n",
      "sequencer1_upsample_rate_awg_path1          :\t0 \n",
      "sequencer1_waveforms_and_program            :\tNone \n",
      "sequencer2_channel_map_path0_out0_en        :\tTrue \n",
      "sequencer2_channel_map_path1_out1_en        :\tTrue \n",
      "sequencer2_cont_mode_en_awg_path0           :\tFalse \n",
      "sequencer2_cont_mode_en_awg_path1           :\tFalse \n",
      "sequencer2_cont_mode_waveform_idx_awg_path0 :\t0 \n",
      "sequencer2_cont_mode_waveform_idx_awg_path1 :\t0 \n",
      "sequencer2_demod_en_acq                     :\tFalse \n",
      "sequencer2_discretization_threshold_acq     :\t0 \n",
      "sequencer2_gain_awg_path0                   :\t1 \n",
      "sequencer2_gain_awg_path1                   :\t1 \n",
      "sequencer2_integration_length_acq           :\t1024 \n",
      "sequencer2_marker_ovr_en                    :\tFalse \n",
      "sequencer2_marker_ovr_value                 :\t0 \n",
      "sequencer2_mixer_corr_gain_ratio            :\t1 \n",
      "sequencer2_mixer_corr_phase_offset_degree   :\t-0 \n",
      "sequencer2_mod_en_awg                       :\tFalse \n",
      "sequencer2_nco_freq                         :\t0 (Hz)\n",
      "sequencer2_nco_phase_offs                   :\t0 (Degrees)\n",
      "sequencer2_offset_awg_path0                 :\t0 \n",
      "sequencer2_offset_awg_path1                 :\t0 \n",
      "sequencer2_phase_rotation_acq               :\t0 (Degrees)\n",
      "sequencer2_sync_en                          :\tFalse \n",
      "sequencer2_upsample_rate_awg_path0          :\t0 \n",
      "sequencer2_upsample_rate_awg_path1          :\t0 \n",
      "sequencer2_waveforms_and_program            :\tNone \n",
      "sequencer3_channel_map_path0_out0_en        :\tTrue \n",
      "sequencer3_channel_map_path1_out1_en        :\tTrue \n",
      "sequencer3_cont_mode_en_awg_path0           :\tFalse \n",
      "sequencer3_cont_mode_en_awg_path1           :\tFalse \n",
      "sequencer3_cont_mode_waveform_idx_awg_path0 :\t0 \n",
      "sequencer3_cont_mode_waveform_idx_awg_path1 :\t0 \n",
      "sequencer3_demod_en_acq                     :\tFalse \n",
      "sequencer3_discretization_threshold_acq     :\t0 \n",
      "sequencer3_gain_awg_path0                   :\t1 \n",
      "sequencer3_gain_awg_path1                   :\t1 \n",
      "sequencer3_integration_length_acq           :\t1024 \n",
      "sequencer3_marker_ovr_en                    :\tFalse \n",
      "sequencer3_marker_ovr_value                 :\t0 \n",
      "sequencer3_mixer_corr_gain_ratio            :\t1 \n",
      "sequencer3_mixer_corr_phase_offset_degree   :\t-0 \n",
      "sequencer3_mod_en_awg                       :\tFalse \n",
      "sequencer3_nco_freq                         :\t0 (Hz)\n",
      "sequencer3_nco_phase_offs                   :\t0 (Degrees)\n",
      "sequencer3_offset_awg_path0                 :\t0 \n",
      "sequencer3_offset_awg_path1                 :\t0 \n",
      "sequencer3_phase_rotation_acq               :\t0 (Degrees)\n",
      "sequencer3_sync_en                          :\tFalse \n",
      "sequencer3_upsample_rate_awg_path0          :\t0 \n",
      "sequencer3_upsample_rate_awg_path1          :\t0 \n",
      "sequencer3_waveforms_and_program            :\tNone \n",
      "sequencer4_channel_map_path0_out0_en        :\tTrue \n",
      "sequencer4_channel_map_path1_out1_en        :\tTrue \n",
      "sequencer4_cont_mode_en_awg_path0           :\tFalse \n",
      "sequencer4_cont_mode_en_awg_path1           :\tFalse \n",
      "sequencer4_cont_mode_waveform_idx_awg_path0 :\t0 \n",
      "sequencer4_cont_mode_waveform_idx_awg_path1 :\t0 \n",
      "sequencer4_demod_en_acq                     :\tFalse \n",
      "sequencer4_discretization_threshold_acq     :\t0 \n",
      "sequencer4_gain_awg_path0                   :\t1 \n",
      "sequencer4_gain_awg_path1                   :\t1 \n",
      "sequencer4_integration_length_acq           :\t1024 \n",
      "sequencer4_marker_ovr_en                    :\tFalse \n",
      "sequencer4_marker_ovr_value                 :\t0 \n",
      "sequencer4_mixer_corr_gain_ratio            :\t1 \n",
      "sequencer4_mixer_corr_phase_offset_degree   :\t-0 \n",
      "sequencer4_mod_en_awg                       :\tFalse \n",
      "sequencer4_nco_freq                         :\t0 (Hz)\n",
      "sequencer4_nco_phase_offs                   :\t0 (Degrees)\n",
      "sequencer4_offset_awg_path0                 :\t0 \n",
      "sequencer4_offset_awg_path1                 :\t0 \n",
      "sequencer4_phase_rotation_acq               :\t0 (Degrees)\n",
      "sequencer4_sync_en                          :\tFalse \n",
      "sequencer4_upsample_rate_awg_path0          :\t0 \n",
      "sequencer4_upsample_rate_awg_path1          :\t0 \n",
      "sequencer4_waveforms_and_program            :\tNone \n",
      "sequencer5_channel_map_path0_out0_en        :\tTrue \n",
      "sequencer5_channel_map_path1_out1_en        :\tTrue \n",
      "sequencer5_cont_mode_en_awg_path0           :\tFalse \n",
      "sequencer5_cont_mode_en_awg_path1           :\tFalse \n",
      "sequencer5_cont_mode_waveform_idx_awg_path0 :\t0 \n",
      "sequencer5_cont_mode_waveform_idx_awg_path1 :\t0 \n",
      "sequencer5_demod_en_acq                     :\tFalse \n",
      "sequencer5_discretization_threshold_acq     :\t0 \n",
      "sequencer5_gain_awg_path0                   :\t1 \n",
      "sequencer5_gain_awg_path1                   :\t1 \n",
      "sequencer5_integration_length_acq           :\t1024 \n",
      "sequencer5_marker_ovr_en                    :\tFalse \n",
      "sequencer5_marker_ovr_value                 :\t0 \n",
      "sequencer5_mixer_corr_gain_ratio            :\t1 \n",
      "sequencer5_mixer_corr_phase_offset_degree   :\t-0 \n",
      "sequencer5_mod_en_awg                       :\tFalse \n",
      "sequencer5_nco_freq                         :\t0 (Hz)\n",
      "sequencer5_nco_phase_offs                   :\t0 (Degrees)\n",
      "sequencer5_offset_awg_path0                 :\t0 \n",
      "sequencer5_offset_awg_path1                 :\t0 \n",
      "sequencer5_phase_rotation_acq               :\t0 (Degrees)\n",
      "sequencer5_sync_en                          :\tFalse \n",
      "sequencer5_upsample_rate_awg_path0          :\t0 \n",
      "sequencer5_upsample_rate_awg_path1          :\t0 \n",
      "sequencer5_waveforms_and_program            :\tNone \n"
     ]
    }
   ],
   "source": [
    "#Stop sequencers\n",
    "pulsar.stop_sequencer()\n",
    "\n",
    "#Print sequencer status (should now say it is stopped).\n",
    "print(\"Status:\")\n",
    "print(pulsar.get_sequencer_state(0))\n",
    "\n",
    "#Print an overview of the instrument parameters.\n",
    "print(\"Snapshot:\")\n",
    "pulsar.print_readable_snapshot(update=True)\n",
    "\n",
    "#Close the instrument connection.\n",
    "pulsar.close()"
   ]
  }
 ],
 "metadata": {
  "interpreter": {
   "hash": "31f2aee4e71d21fbe5cf8b01ff0e069b9275f58929596ceb00d14d90e3e16cd6"
  },
  "kernelspec": {
   "display_name": "Python 3",
   "language": "python",
   "name": "python3"
  },
  "language_info": {
   "codemirror_mode": {
    "name": "ipython",
    "version": 3
   },
   "file_extension": ".py",
   "mimetype": "text/x-python",
   "name": "python",
   "nbconvert_exporter": "python",
   "pygments_lexer": "ipython3",
   "version": "3.7.12"
  }
 },
 "nbformat": 4,
 "nbformat_minor": 4
}
