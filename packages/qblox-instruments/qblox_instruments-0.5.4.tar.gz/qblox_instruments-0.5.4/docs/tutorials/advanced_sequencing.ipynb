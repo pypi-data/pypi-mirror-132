{
 "cells": [
  {
   "cell_type": "markdown",
   "metadata": {},
   "source": [
    "Advanced sequencing\n",
    "================\n",
    "\n",
    "In this tutorial we will demonstrate advanced sequencer based operations, where we focus on waveform parametrization (see section [Sequencer](https://qblox-qblox-instruments.readthedocs-hosted.com/en/master/documentation/sequencer.html)). We will demonstrate this by creating a sequence that will show various sequencer features, \n",
    "including complex looping constructs, dynamic gain control, hardware-based modulation and markour output control.\n",
    "\n",
    "The sequence itself will use four waveform envelopes with a duration of 1μs each; a gaussian, a sine, a sawtooth and a block. We will have several nested loops\n",
    "in the sequence. The first loop will increase the wait period between the start of the iteration and playback of the waveform envelope and also increase the gain of\n",
    "the waveform envelope on every iteration. At the end of this loop a second loop will do the inverse operations. A third loop will loop over the first and\n",
    "second loops to iterate over the four waveform envelopes. And finally a fourth loop will function as an infinite loop over the third loop.\n",
    "At the same time, the sequence will also control marker output 1 and create a trigger point at the start of each iteration of the first and second loops as well an\n",
    "\"enable\" during playback. Finally, each waveform envelope will be modulated at 10MHz.\n",
    "\n",
    "The result of this sequence, when observed on an oscilloscope, will be iterating waveform envelopes that will be sliding over the modulation frequency with varying gain,\n",
    "encapsulated by an \"enable\" on the marker output. We highly recommend that you take a look at it, to get an impression of what is possible with the sequencers.\n",
    "\n",
    "This tutorial is designed with the Pulsar QCM in mind, but can easily be used with a Pulsar QRM as well. Change any Pulsar QCM reference to\n",
    "Pulsar QRM and only use one sequencer."
   ]
  },
  {
   "cell_type": "markdown",
   "metadata": {},
   "source": [
    "Setup\n",
    "-----\n",
    "\n",
    "First, we are going to import the required packages and connect to the instrument."
   ]
  },
  {
   "cell_type": "code",
   "execution_count": 1,
   "metadata": {},
   "outputs": [
    {
     "name": "stdout",
     "output_type": "stream",
     "text": [
      "Status:\n",
      "{'status': 'OKAY', 'flags': []}\n"
     ]
    }
   ],
   "source": [
    "#Set up the environment.\n",
    "import pprint\n",
    "import os\n",
    "import scipy.signal\n",
    "import math\n",
    "import json\n",
    "import matplotlib.pyplot\n",
    "import numpy\n",
    "\n",
    "from pulsar_qcm.pulsar_qcm import pulsar_qcm\n",
    "\n",
    "#Close any existing connections to any pulsar_qcm\n",
    "pulsar_qcm.close_all()\n",
    "\n",
    "#Connect to the Pulsar QCM at default IP address.\n",
    "pulsar = pulsar_qcm(\"qcm\", \"192.168.0.2\")\n",
    "\n",
    "#Reset the instrument for good measure.\n",
    "pulsar.reset()\n",
    "print(\"Status:\")\n",
    "print(pulsar.get_system_status())"
   ]
  },
  {
   "cell_type": "markdown",
   "metadata": {},
   "source": [
    "Generate waveforms\n",
    "------------------\n",
    "\n",
    "Next, we need to create the gaussian, sine, sawtooth and block waveform envelopes for the sequence."
   ]
  },
  {
   "cell_type": "code",
   "execution_count": 2,
   "metadata": {},
   "outputs": [],
   "source": [
    "#Waveform parameters\n",
    "waveform_length = 1000 #nanoseconds\n",
    "\n",
    "#Waveform dictionary (data will hold the samples and index will be used to select the waveforms in the instrument).\n",
    "waveforms = {\n",
    "                \"gaussian\": {\"data\": [], \"index\": 0},\n",
    "                \"sine\":     {\"data\": [], \"index\": 1},\n",
    "                \"sawtooth\": {\"data\": [], \"index\": 2},\n",
    "                \"block\":    {\"data\": [], \"index\": 3}\n",
    "            }\n",
    "\n",
    "#Create gaussian waveform\n",
    "if \"gaussian\" in waveforms:\n",
    "    waveforms[\"gaussian\"][\"data\"] = scipy.signal.gaussian(waveform_length, std=0.12 * waveform_length)\n",
    "\n",
    "#Create sine waveform\n",
    "if \"sine\" in waveforms:\n",
    "    waveforms[\"sine\"][\"data\"] = [math.sin((2 * math.pi / waveform_length) * i ) for i in range(0, waveform_length)]\n",
    "\n",
    "#Create sawtooth waveform\n",
    "if \"sawtooth\" in waveforms:\n",
    "    waveforms[\"sawtooth\"][\"data\"] = [(1.0 / (waveform_length)) * i for i in range(0, waveform_length)]\n",
    "\n",
    "#Create block waveform\n",
    "if \"block\" in waveforms:\n",
    "    waveforms[\"block\"][\"data\"] = [1.0 for i in range(0, waveform_length)]"
   ]
  },
  {
   "cell_type": "markdown",
   "metadata": {},
   "source": [
    "Let's plot the waveforms to see what we have created."
   ]
  },
  {
   "cell_type": "code",
   "execution_count": 3,
   "metadata": {},
   "outputs": [
    {
     "data": {
      "image/png": "[encoded data removed]",
      "text/plain": [
       "<Figure size 720x447.205 with 1 Axes>"
      ]
     },
     "metadata": {
      "needs_background": "light"
     },
     "output_type": "display_data"
    }
   ],
   "source": [
    "time    = numpy.arange(0, max(map(lambda d: len(d[\"data\"]), waveforms.values())), 1)\n",
    "fig, ax = matplotlib.pyplot.subplots(1,1, figsize=(10, 10/1.61))\n",
    "\n",
    "ax.set_ylabel(\"Waveform primitive amplitude\")\n",
    "ax.set_xlabel(\"Time (ns)\")\n",
    "\n",
    "for wf, d in waveforms.items():\n",
    "    ax.plot(time[:len(d[\"data\"])], d[\"data\"], \".-\", linewidth=0.5, label=wf)\n",
    "\n",
    "ax.legend(loc=4)\n",
    "ax.yaxis.grid()\n",
    "ax.xaxis.grid()\n",
    "\n",
    "matplotlib.pyplot.draw()\n",
    "matplotlib.pyplot.show()   # add this at EOF to prevent execution stall"
   ]
  },
  {
   "cell_type": "markdown",
   "metadata": {},
   "source": [
    "Create Q1ASM program\n",
    "--------------------\n",
    "\n",
    "Now that we have the waveforms for the sequence, we need a Q1ASM program that sequences the waveforms as previously described."
   ]
  },
  {
   "cell_type": "code",
   "execution_count": 4,
   "metadata": {},
   "outputs": [],
   "source": [
    "#Sequence program.\n",
    "seq_prog = \"\"\"\n",
    "                  wait_sync    4                    #Wait for synchronization\n",
    "                  reset_ph                          #Reset absolute phase\n",
    "                  upd_param    4                    #Update all parameters and wait 4ns\n",
    "start:            move         4,R0                 #Init number of waveforms\n",
    "                  move         0,R1                 #Init waveform index\n",
    "\n",
    "mult_wave_loop:   move         166,R2               #Init number of single wave loops (increasing wait)\n",
    "                  move         166,R3               #Init number of single wave loops (decreasing wait)\n",
    "                  move         24,R4                #Init number of dynamic wait time (total of 4us)\n",
    "                  move         3976,R5              #Init number of dynamic wait time remainder\n",
    "                  move         32768,R6             #Init gain (Maximum gain)\n",
    "\n",
    "sngl_wave_loop_0: move         800,R7               #Init number of long wait loops (total of 40ms)\n",
    "                  set_mrk      15                   #Set marker to 0xF\n",
    "                  upd_param    4                    #Update all parameters and wait 4ns\n",
    "                  set_mrk      0                    #Set marker to 0\n",
    "                  upd_param    96                   #Update all parameters and wait 96ns\n",
    "\n",
    "                  wait         R4                   #Dynamic wait\n",
    "                  add          R4,24,R4             #Increase wait\n",
    "\n",
    "                  set_mrk      1                    #Set marker to 1\n",
    "                  play         R1,R1,996            #Play waveform and wait 996ns\n",
    "                  set_mrk      0                    #Set marker to 0\n",
    "                  upd_param    4                    #Update all parameters and wait for 4ns\n",
    "\n",
    "                  wait         R5                   #Compensate previous dynamic wait\n",
    "                  sub          R5,24,R5             #Decrease wait\n",
    "\n",
    "                  sub          R6,98,R6             #Decrease gain\n",
    "                  nop\n",
    "                  set_awg_gain R6,R6                #Set gain\n",
    "\n",
    "long_wait_loop_0: wait         50000                #Wait 50 us\n",
    "                  loop         R7,@long_wait_loop_0 #Wait total of 40ms\n",
    "                  loop         R2,@sngl_wave_loop_0 #Repeat single wave loop\n",
    "\n",
    "sngl_wave_loop_1: move         800,R7               #Init number of long wait loops (total of 40ms)\n",
    "                  set_mrk      15                   #Set marker to 0xF\n",
    "                  upd_param    8                    #Update all parameters and wait 8ns\n",
    "                  set_mrk      0                    #Set marker to 0\n",
    "                  upd_param    92                   #Update all parameters and wait 92ns\n",
    "\n",
    "                  wait         R4                   #Dynamic wait\n",
    "                  sub          R4,24,R4             #Decrease wait\n",
    "\n",
    "                  set_mrk      1                    #Set marker to 1\n",
    "                  play         R1,R1,996            #Play waveform and wait 996ns\n",
    "                  set_mrk      0                    #Set marker to 0\n",
    "                  upd_param    4                    #Update all parameters and wait 4ns\n",
    "\n",
    "                  wait         R5                   #Compensate previous dynamic wait\n",
    "                  add          R5,24,R5             #Increase wait\n",
    "\n",
    "                  sub          R6,98,R6             #Decrease gain\n",
    "                  nop\n",
    "                  set_awg_gain R6,R6                #Set gain\n",
    "\n",
    "long_wait_loop_1: wait         50000                #Wait for 50 us\n",
    "                  loop         R7,@long_wait_loop_1 #Wait total of 40ms\n",
    "                  loop         R3,@sngl_wave_loop_1 #Repeat single wave loop\n",
    "\n",
    "                  add          R1,1,R1              #Adjust waveform index\n",
    "                  loop         R0,@mult_wave_loop   #Repeat with next waveform envelope\n",
    "                  jmp          @start               #Repeat entire sequence\n",
    "\"\"\""
   ]
  },
  {
   "cell_type": "markdown",
   "metadata": {},
   "source": [
    "Upload sequence\n",
    "---------------\n",
    "\n",
    "Now that we have the waveforms and Q1ASM program, we can combine them in a sequence stored in a JSON file."
   ]
  },
  {
   "cell_type": "code",
   "execution_count": 5,
   "metadata": {},
   "outputs": [],
   "source": [
    "#Reformat waveforms to lists if necessary.\n",
    "for name in waveforms:\n",
    "    if str(type(waveforms[name][\"data\"]).__name__) == \"ndarray\":\n",
    "        waveforms[name][\"data\"] = waveforms[name][\"data\"].tolist()  # JSON only supports lists\n",
    "\n",
    "#Add sequence program and waveforms to single dictionary and write to JSON file.\n",
    "wave_and_prog_dict = {\"waveforms\": waveforms, \"weights\": {}, \"acquisitions\": {}, \"program\": seq_prog}\n",
    "with open(\"sequence.json\", 'w', encoding='utf-8') as file:\n",
    "    json.dump(wave_and_prog_dict, file, indent=4)\n",
    "    file.close()"
   ]
  },
  {
   "cell_type": "markdown",
   "metadata": {},
   "source": [
    "Let's write the JSON file to the instruments. We will use sequencer 0 and 1, which will drive outputs $\\text{O}^{[1-2]}$ and $\\text{O}^{[3-4]}$ respectively."
   ]
  },
  {
   "cell_type": "code",
   "execution_count": 6,
   "metadata": {},
   "outputs": [],
   "source": [
    "#Upload waveforms and programs.\n",
    "pulsar.sequencer0_waveforms_and_program(os.path.join(os.getcwd(), \"sequence.json\"))\n",
    "pulsar.sequencer1_waveforms_and_program(os.path.join(os.getcwd(), \"sequence.json\"))"
   ]
  },
  {
   "cell_type": "markdown",
   "metadata": {},
   "source": [
    "Play sequence\n",
    "-------------\n",
    "\n",
    "The sequence has been uploaded to the instrument. Now we need to configure the sequencers in the instrument to use the `wait_sync` instruction\n",
    "at the start of the Q1ASM program to synchronize and to enable the hardware-based modulation at 10MHz."
   ]
  },
  {
   "cell_type": "code",
   "execution_count": 7,
   "metadata": {},
   "outputs": [],
   "source": [
    "#Configure the sequencers to synchronize and enable modulation at 10MHz.\n",
    "pulsar.sequencer0_sync_en(True)\n",
    "pulsar.sequencer0_mod_en_awg(True)\n",
    "pulsar.sequencer0_nco_freq(10e6)\n",
    "pulsar.sequencer1_sync_en(True)\n",
    "pulsar.sequencer1_mod_en_awg(True)\n",
    "pulsar.sequencer1_nco_freq(10e6)\n",
    "\n",
    "#Map sequencers to specific outputs (but first disable all sequencer connections)\n",
    "for sequencer in range(0, 6):\n",
    "    for out in range(0, 4):\n",
    "        pulsar.set(\"sequencer{}_channel_map_path{}_out{}_en\".format(sequencer, out%2, out), False)\n",
    "pulsar.sequencer0_channel_map_path0_out0_en(True)\n",
    "pulsar.sequencer0_channel_map_path1_out1_en(True)\n",
    "pulsar.sequencer1_channel_map_path0_out2_en(True)\n",
    "pulsar.sequencer1_channel_map_path1_out3_en(True)"
   ]
  },
  {
   "cell_type": "markdown",
   "metadata": {},
   "source": [
    "Now let's start the sequence. If you want to observe the sequence, this is the time to connect an oscilloscope to marker output 1 and one or more\n",
    "of the four outputs. Configure the oscilloscope to trigger on marker output 1."
   ]
  },
  {
   "cell_type": "code",
   "execution_count": 8,
   "metadata": {},
   "outputs": [
    {
     "name": "stdout",
     "output_type": "stream",
     "text": [
      "Status:\n",
      "{'status': 'RUNNING', 'flags': []}\n",
      "{'status': 'RUNNING', 'flags': []}\n"
     ]
    }
   ],
   "source": [
    "#Arm and start both sequencers.\n",
    "pulsar.arm_sequencer(0)\n",
    "pulsar.arm_sequencer(1)\n",
    "pulsar.start_sequencer()\n",
    "\n",
    "#Print status of both sequencers.\n",
    "print(\"Status:\")\n",
    "print(pulsar.get_sequencer_state(0))\n",
    "print(pulsar.get_sequencer_state(1))"
   ]
  },
  {
   "cell_type": "markdown",
   "metadata": {},
   "source": [
    "Before we continue, have you looked at the oscilloscope? Pretty nifty right? This is just an example. Imaging what else you can do with the power of\n",
    "the sequencers to control and/or speed up your experiments."
   ]
  },
  {
   "cell_type": "markdown",
   "metadata": {},
   "source": [
    "Stop\n",
    "----\n",
    "\n",
    "Finally, let's stop the sequencers if they haven't already and close the instrument connection."
   ]
  },
  {
   "cell_type": "code",
   "execution_count": 9,
   "metadata": {},
   "outputs": [
    {
     "name": "stdout",
     "output_type": "stream",
     "text": [
      "Status:\n",
      "{'status': 'STOPPED', 'flags': ['FORCED STOP']}\n",
      "{'status': 'STOPPED', 'flags': ['FORCED STOP']}\n",
      "\n",
      "Snapshot:\n",
      "qcm:\n",
      "\tparameter                                  value\n",
      "--------------------------------------------------------------------------------\n",
      "IDN                                         :\t{'manufacturer': 'Qblox', 'mode...\n",
      "out0_offset                                 :\t0 (V)\n",
      "out1_offset                                 :\t0 (V)\n",
      "out2_offset                                 :\t0 (V)\n",
      "out3_offset                                 :\t0 (V)\n",
      "reference_source                            :\tinternal \n",
      "sequencer0_channel_map_path0_out0_en        :\tTrue \n",
      "sequencer0_channel_map_path0_out2_en        :\tFalse \n",
      "sequencer0_channel_map_path1_out1_en        :\tTrue \n",
      "sequencer0_channel_map_path1_out3_en        :\tFalse \n",
      "sequencer0_cont_mode_en_awg_path0           :\tFalse \n",
      "sequencer0_cont_mode_en_awg_path1           :\tFalse \n",
      "sequencer0_cont_mode_waveform_idx_awg_path0 :\t0 \n",
      "sequencer0_cont_mode_waveform_idx_awg_path1 :\t0 \n",
      "sequencer0_gain_awg_path0                   :\t1 \n",
      "sequencer0_gain_awg_path1                   :\t1 \n",
      "sequencer0_marker_ovr_en                    :\tFalse \n",
      "sequencer0_marker_ovr_value                 :\t0 \n",
      "sequencer0_mixer_corr_gain_ratio            :\t1 \n",
      "sequencer0_mixer_corr_phase_offset_degree   :\t-0 \n",
      "sequencer0_mod_en_awg                       :\tTrue \n",
      "sequencer0_nco_freq                         :\t1e+07 (Hz)\n",
      "sequencer0_nco_phase_offs                   :\t0 (Degrees)\n",
      "sequencer0_offset_awg_path0                 :\t0 \n",
      "sequencer0_offset_awg_path1                 :\t0 \n",
      "sequencer0_sync_en                          :\tTrue \n",
      "sequencer0_upsample_rate_awg_path0          :\t0 \n",
      "sequencer0_upsample_rate_awg_path1          :\t0 \n",
      "sequencer0_waveforms_and_program            :\tC:\\Users\\Damaz\\PycharmProjects\\...\n",
      "sequencer1_channel_map_path0_out0_en        :\tFalse \n",
      "sequencer1_channel_map_path0_out2_en        :\tTrue \n",
      "sequencer1_channel_map_path1_out1_en        :\tFalse \n",
      "sequencer1_channel_map_path1_out3_en        :\tTrue \n",
      "sequencer1_cont_mode_en_awg_path0           :\tFalse \n",
      "sequencer1_cont_mode_en_awg_path1           :\tFalse \n",
      "sequencer1_cont_mode_waveform_idx_awg_path0 :\t0 \n",
      "sequencer1_cont_mode_waveform_idx_awg_path1 :\t0 \n",
      "sequencer1_gain_awg_path0                   :\t1 \n",
      "sequencer1_gain_awg_path1                   :\t1 \n",
      "sequencer1_marker_ovr_en                    :\tFalse \n",
      "sequencer1_marker_ovr_value                 :\t0 \n",
      "sequencer1_mixer_corr_gain_ratio            :\t1 \n",
      "sequencer1_mixer_corr_phase_offset_degree   :\t-0 \n",
      "sequencer1_mod_en_awg                       :\tTrue \n",
      "sequencer1_nco_freq                         :\t1e+07 (Hz)\n",
      "sequencer1_nco_phase_offs                   :\t0 (Degrees)\n",
      "sequencer1_offset_awg_path0                 :\t0 \n",
      "sequencer1_offset_awg_path1                 :\t0 \n",
      "sequencer1_sync_en                          :\tTrue \n",
      "sequencer1_upsample_rate_awg_path0          :\t0 \n",
      "sequencer1_upsample_rate_awg_path1          :\t0 \n",
      "sequencer1_waveforms_and_program            :\tC:\\Users\\Damaz\\PycharmProjects\\...\n",
      "sequencer2_channel_map_path0_out0_en        :\tFalse \n",
      "sequencer2_channel_map_path0_out2_en        :\tFalse \n",
      "sequencer2_channel_map_path1_out1_en        :\tFalse \n",
      "sequencer2_channel_map_path1_out3_en        :\tFalse \n",
      "sequencer2_cont_mode_en_awg_path0           :\tFalse \n",
      "sequencer2_cont_mode_en_awg_path1           :\tFalse \n",
      "sequencer2_cont_mode_waveform_idx_awg_path0 :\t0 \n",
      "sequencer2_cont_mode_waveform_idx_awg_path1 :\t0 \n",
      "sequencer2_gain_awg_path0                   :\t1 \n",
      "sequencer2_gain_awg_path1                   :\t1 \n",
      "sequencer2_marker_ovr_en                    :\tFalse \n",
      "sequencer2_marker_ovr_value                 :\t0 \n",
      "sequencer2_mixer_corr_gain_ratio            :\t1 \n",
      "sequencer2_mixer_corr_phase_offset_degree   :\t-0 \n",
      "sequencer2_mod_en_awg                       :\tFalse \n",
      "sequencer2_nco_freq                         :\t0 (Hz)\n",
      "sequencer2_nco_phase_offs                   :\t0 (Degrees)\n",
      "sequencer2_offset_awg_path0                 :\t0 \n",
      "sequencer2_offset_awg_path1                 :\t0 \n",
      "sequencer2_sync_en                          :\tFalse \n",
      "sequencer2_upsample_rate_awg_path0          :\t0 \n",
      "sequencer2_upsample_rate_awg_path1          :\t0 \n",
      "sequencer2_waveforms_and_program            :\tNone \n",
      "sequencer3_channel_map_path0_out0_en        :\tFalse \n",
      "sequencer3_channel_map_path0_out2_en        :\tFalse \n",
      "sequencer3_channel_map_path1_out1_en        :\tFalse \n",
      "sequencer3_channel_map_path1_out3_en        :\tFalse \n",
      "sequencer3_cont_mode_en_awg_path0           :\tFalse \n",
      "sequencer3_cont_mode_en_awg_path1           :\tFalse \n",
      "sequencer3_cont_mode_waveform_idx_awg_path0 :\t0 \n",
      "sequencer3_cont_mode_waveform_idx_awg_path1 :\t0 \n",
      "sequencer3_gain_awg_path0                   :\t1 \n",
      "sequencer3_gain_awg_path1                   :\t1 \n",
      "sequencer3_marker_ovr_en                    :\tFalse \n",
      "sequencer3_marker_ovr_value                 :\t0 \n",
      "sequencer3_mixer_corr_gain_ratio            :\t1 \n",
      "sequencer3_mixer_corr_phase_offset_degree   :\t-0 \n",
      "sequencer3_mod_en_awg                       :\tFalse \n",
      "sequencer3_nco_freq                         :\t0 (Hz)\n",
      "sequencer3_nco_phase_offs                   :\t0 (Degrees)\n",
      "sequencer3_offset_awg_path0                 :\t0 \n",
      "sequencer3_offset_awg_path1                 :\t0 \n",
      "sequencer3_sync_en                          :\tFalse \n",
      "sequencer3_upsample_rate_awg_path0          :\t0 \n",
      "sequencer3_upsample_rate_awg_path1          :\t0 \n",
      "sequencer3_waveforms_and_program            :\tNone \n",
      "sequencer4_channel_map_path0_out0_en        :\tFalse \n",
      "sequencer4_channel_map_path0_out2_en        :\tFalse \n",
      "sequencer4_channel_map_path1_out1_en        :\tFalse \n",
      "sequencer4_channel_map_path1_out3_en        :\tFalse \n",
      "sequencer4_cont_mode_en_awg_path0           :\tFalse \n",
      "sequencer4_cont_mode_en_awg_path1           :\tFalse \n",
      "sequencer4_cont_mode_waveform_idx_awg_path0 :\t0 \n",
      "sequencer4_cont_mode_waveform_idx_awg_path1 :\t0 \n",
      "sequencer4_gain_awg_path0                   :\t1 \n",
      "sequencer4_gain_awg_path1                   :\t1 \n",
      "sequencer4_marker_ovr_en                    :\tFalse \n",
      "sequencer4_marker_ovr_value                 :\t0 \n",
      "sequencer4_mixer_corr_gain_ratio            :\t1 \n",
      "sequencer4_mixer_corr_phase_offset_degree   :\t-0 \n",
      "sequencer4_mod_en_awg                       :\tFalse \n",
      "sequencer4_nco_freq                         :\t0 (Hz)\n",
      "sequencer4_nco_phase_offs                   :\t0 (Degrees)\n",
      "sequencer4_offset_awg_path0                 :\t0 \n",
      "sequencer4_offset_awg_path1                 :\t0 \n",
      "sequencer4_sync_en                          :\tFalse \n",
      "sequencer4_upsample_rate_awg_path0          :\t0 \n",
      "sequencer4_upsample_rate_awg_path1          :\t0 \n",
      "sequencer4_waveforms_and_program            :\tNone \n",
      "sequencer5_channel_map_path0_out0_en        :\tFalse \n",
      "sequencer5_channel_map_path0_out2_en        :\tFalse \n",
      "sequencer5_channel_map_path1_out1_en        :\tFalse \n",
      "sequencer5_channel_map_path1_out3_en        :\tFalse \n",
      "sequencer5_cont_mode_en_awg_path0           :\tFalse \n",
      "sequencer5_cont_mode_en_awg_path1           :\tFalse \n",
      "sequencer5_cont_mode_waveform_idx_awg_path0 :\t0 \n",
      "sequencer5_cont_mode_waveform_idx_awg_path1 :\t0 \n",
      "sequencer5_gain_awg_path0                   :\t1 \n",
      "sequencer5_gain_awg_path1                   :\t1 \n",
      "sequencer5_marker_ovr_en                    :\tFalse \n",
      "sequencer5_marker_ovr_value                 :\t0 \n",
      "sequencer5_mixer_corr_gain_ratio            :\t1 \n",
      "sequencer5_mixer_corr_phase_offset_degree   :\t-0 \n",
      "sequencer5_mod_en_awg                       :\tFalse \n",
      "sequencer5_nco_freq                         :\t0 (Hz)\n",
      "sequencer5_nco_phase_offs                   :\t0 (Degrees)\n",
      "sequencer5_offset_awg_path0                 :\t0 \n",
      "sequencer5_offset_awg_path1                 :\t0 \n",
      "sequencer5_sync_en                          :\tFalse \n",
      "sequencer5_upsample_rate_awg_path0          :\t0 \n",
      "sequencer5_upsample_rate_awg_path1          :\t0 \n",
      "sequencer5_waveforms_and_program            :\tNone \n"
     ]
    }
   ],
   "source": [
    "#Stop both sequencers.\n",
    "pulsar.stop_sequencer()\n",
    "    \n",
    "#Print status of both sequencers (should now say it is stopped).\n",
    "print(\"Status:\")\n",
    "print(pulsar.get_sequencer_state(0))\n",
    "print(pulsar.get_sequencer_state(1))\n",
    "print()\n",
    "\n",
    "#Print an overview of the instrument parameters.\n",
    "print(\"Snapshot:\")\n",
    "pulsar.print_readable_snapshot(update=True)\n",
    "    \n",
    "#Close the instrument connection.\n",
    "pulsar.close()"
   ]
  }
 ],
 "metadata": {
  "interpreter": {
   "hash": "31f2aee4e71d21fbe5cf8b01ff0e069b9275f58929596ceb00d14d90e3e16cd6"
  },
  "kernelspec": {
   "display_name": "Python 3 (ipykernel)",
   "language": "python",
   "name": "python3"
  },
  "language_info": {
   "codemirror_mode": {
    "name": "ipython",
    "version": 3
   },
   "file_extension": ".py",
   "mimetype": "text/x-python",
   "name": "python",
   "nbconvert_exporter": "python",
   "pygments_lexer": "ipython3",
   "version": "3.8.11"
  }
 },
 "nbformat": 4,
 "nbformat_minor": 4
}
