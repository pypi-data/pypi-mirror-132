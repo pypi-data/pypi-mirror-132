{
 "cells": [
  {
   "cell_type": "markdown",
   "metadata": {},
   "source": [
    "Basic sequencing\n",
    "================\n",
    "\n",
    "In this tutorial we will demonstrate basic sequencer based operations (see section [Sequencer](https://qblox-qblox-instruments.readthedocs-hosted.com/en/master/documentation/sequencer.html)). This includes creating a sequence, consisting of waveforms and a simple Q1ASM program,\n",
    "and executing this sequence synchronously on multiple sequencers.\n",
    "\n",
    "The sequence is going to consecutively play two waveforms, a gaussian and block with a duration of 20ns each, with an increasing wait period\n",
    "in between them. We will increase the wait period 20ns a 100 times after which the sequence is stopped. The sequence will also trigger marker\n",
    "output 1 at every interval, so that the sequence can be easily monitored on an oscilloscope.\n",
    "\n",
    "This tutorial is designed with the Pulsar QCM in mind, but can easily be used with a Pulsar QRM as well. Change any Pulsar QCM reference to\n",
    "Pulsar QRM and only use one sequencer."
   ]
  },
  {
   "cell_type": "markdown",
   "metadata": {},
   "source": [
    "Setup\n",
    "-----\n",
    "\n",
    "First, we are going to import the required packages and connect to the instrument."
   ]
  },
  {
   "cell_type": "code",
   "execution_count": 1,
   "metadata": {},
   "outputs": [
    {
     "name": "stdout",
     "output_type": "stream",
     "text": [
      "Status:\n",
      "{'status': 'OKAY', 'flags': []}\n"
     ]
    }
   ],
   "source": [
    "#Set up the environment.\n",
    "import scipy.signal\n",
    "import math\n",
    "import json\n",
    "import matplotlib.pyplot\n",
    "import numpy\n",
    "\n",
    "from pulsar_qcm.pulsar_qcm import pulsar_qcm\n",
    "\n",
    "#Close any existing connections to any pulsar_qcm\n",
    "pulsar_qcm.close_all()\n",
    "\n",
    "#Connect to the Pulsar QCM at default IP address.\n",
    "pulsar = pulsar_qcm(\"qcm\", \"192.168.0.2\")\n",
    "\n",
    "#Reset the instrument for good measure.\n",
    "pulsar.reset()\n",
    "print(\"Status:\")\n",
    "print(pulsar.get_system_status())"
   ]
  },
  {
   "cell_type": "markdown",
   "metadata": {},
   "source": [
    "Generate waveforms\n",
    "------------------\n",
    "\n",
    "Next, we need to create the gaussian and block waveforms for the sequence."
   ]
  },
  {
   "cell_type": "code",
   "execution_count": 2,
   "metadata": {},
   "outputs": [],
   "source": [
    "#Waveform parameters\n",
    "waveform_length = 20 #nanoseconds\n",
    "    \n",
    "#Waveform dictionary (data will hold the samples and index will be used to select the waveforms in the instrument).\n",
    "waveforms = {\n",
    "                \"gaussian\": {\"data\": [], \"index\": 0},\n",
    "                \"block\":    {\"data\": [], \"index\": 1}\n",
    "            }\n",
    "\n",
    "#Create gaussian waveform\n",
    "if \"gaussian\" in waveforms:\n",
    "    waveforms[\"gaussian\"][\"data\"] = scipy.signal.gaussian(waveform_length, std=0.12 * waveform_length)\n",
    "        \n",
    "#Create block waveform\n",
    "if \"block\" in waveforms:\n",
    "    waveforms[\"block\"][\"data\"] = [1.0 for i in range(0, waveform_length)]"
   ]
  },
  {
   "cell_type": "markdown",
   "metadata": {},
   "source": [
    "Let's plot the waveforms to see what we have created."
   ]
  },
  {
   "cell_type": "code",
   "execution_count": 3,
   "metadata": {},
   "outputs": [
    {
     "data": {
      "image/png": "[encoded data removed]",
      "text/plain": [
       "<Figure size 720x447.205 with 1 Axes>"
      ]
     },
     "metadata": {
      "needs_background": "light"
     },
     "output_type": "display_data"
    }
   ],
   "source": [
    "time    = numpy.arange(0, max(map(lambda d: len(d[\"data\"]), waveforms.values())), 1)\n",
    "fig, ax = matplotlib.pyplot.subplots(1,1, figsize=(10, 10/1.61))\n",
    "\n",
    "ax.set_ylabel(\"Waveform primitive amplitude\")\n",
    "ax.set_xlabel(\"Time (ns)\")\n",
    "\n",
    "for wf, d in waveforms.items():\n",
    "    ax.plot(time[:len(d[\"data\"])], d[\"data\"], \".-\", linewidth=0.5, label=wf)\n",
    "\n",
    "ax.legend(loc=4)\n",
    "ax.yaxis.grid()\n",
    "ax.xaxis.grid()\n",
    "\n",
    "matplotlib.pyplot.draw()\n",
    "matplotlib.pyplot.show()   # add this at EOF to prevent execution stall"
   ]
  },
  {
   "cell_type": "markdown",
   "metadata": {},
   "source": [
    "Create Q1ASM program\n",
    "--------------------\n",
    "\n",
    "Now that we have the waveforms for the sequence, we need a Q1ASM program that sequences the waveforms as previously described."
   ]
  },
  {
   "cell_type": "code",
   "execution_count": 4,
   "metadata": {},
   "outputs": [],
   "source": [
    "#Sequence program.\n",
    "seq_prog = \"\"\"\n",
    "       move      100,R0   #Loop iterator.\n",
    "       move      20,R1    #Initial wait period in ns.\n",
    "       wait_sync 4        #Wait for sequencers to synchronize and then wait another 4ns.\n",
    "\n",
    "loop:  set_mrk   1        #Set marker output 1.\n",
    "       play      0,1,4    #Play a gaussian and a block on output path 0 and 1 respectively and wait 4ns.\n",
    "       set_mrk   0        #Reset marker output 1.\n",
    "       upd_param 16       #Update parameters and wait the remaining 16ns of the waveforms.\n",
    "\n",
    "       wait      R1       #Wait period.\n",
    "\n",
    "       play      1,0,20   #Play a block and a gaussian on output path 0 and 1 respectively.\n",
    "       wait      1000     #Wait a 1us in between iterations.\n",
    "       add       R1,20,R1 #Increase wait period by 20ns.\n",
    "       loop      R0,@loop #Subtract one from loop iterator.\n",
    "\n",
    "       stop               #Stop the sequence after the last iteration.\n",
    "\"\"\""
   ]
  },
  {
   "cell_type": "markdown",
   "metadata": {},
   "source": [
    "Upload sequence\n",
    "---------------\n",
    "\n",
    "Now that we have the waveforms and Q1ASM program, we can combine them in a sequence stored in a JSON file."
   ]
  },
  {
   "cell_type": "code",
   "execution_count": 5,
   "metadata": {},
   "outputs": [],
   "source": [
    "#Reformat waveforms to lists if necessary.\n",
    "for name in waveforms:\n",
    "    if str(type(waveforms[name][\"data\"]).__name__) == \"ndarray\":\n",
    "        waveforms[name][\"data\"] = waveforms[name][\"data\"].tolist()  # JSON only supports lists\n",
    "\n",
    "#Add sequence program and waveforms to single dictionary and write to JSON file.\n",
    "wave_and_prog_dict = {\"waveforms\": waveforms, \"weights\": {}, \"acquisitions\": {}, \"program\": seq_prog}\n",
    "with open(\"sequence.json\", 'w', encoding='utf-8') as file:\n",
    "    json.dump(wave_and_prog_dict, file, indent=4)\n",
    "    file.close()"
   ]
  },
  {
   "cell_type": "markdown",
   "metadata": {},
   "source": [
    "Let's write the JSON file to the instruments. We will use sequencer 0 and 1, which will drive outputs $\\text{O}^{[1-2]}$ and $\\text{O}^{[3-4]}$ respectively."
   ]
  },
  {
   "cell_type": "code",
   "execution_count": 6,
   "metadata": {},
   "outputs": [],
   "source": [
    "#Upload waveforms and programs.\n",
    "pulsar.sequencer0_waveforms_and_program(os.path.join(os.getcwd(), \"sequence.json\"))\n",
    "pulsar.sequencer1_waveforms_and_program(os.path.join(os.getcwd(), \"sequence.json\"))"
   ]
  },
  {
   "cell_type": "markdown",
   "metadata": {},
   "source": [
    "Play sequence\n",
    "-------------\n",
    "\n",
    "The sequence has been uploaded to the instrument. Now we need to configure the sequencers in the instrument to use the `wait_sync` instruction\n",
    "at the start of the Q1ASM program to synchronize."
   ]
  },
  {
   "cell_type": "code",
   "execution_count": 7,
   "metadata": {},
   "outputs": [],
   "source": [
    "#Configure the sequencers to synchronize.\n",
    "pulsar.sequencer0_sync_en(True)\n",
    "pulsar.sequencer1_sync_en(True)\n",
    "\n",
    "#Map sequencers to specific outputs (but first disable all sequencer connections)\n",
    "for sequencer in range(0, 6):\n",
    "    for out in range(0, 4):\n",
    "        pulsar.set(\"sequencer{}_channel_map_path{}_out{}_en\".format(sequencer, out%2, out), False)\n",
    "pulsar.sequencer0_channel_map_path0_out0_en(True)\n",
    "pulsar.sequencer0_channel_map_path1_out1_en(True)\n",
    "pulsar.sequencer1_channel_map_path0_out2_en(True)\n",
    "pulsar.sequencer1_channel_map_path1_out3_en(True)"
   ]
  },
  {
   "cell_type": "markdown",
   "metadata": {},
   "source": [
    "Now let's start the sequence. If you want to observe the sequence, this is the time to connect an oscilloscope to marker output 1 and one or more\n",
    "of the four outputs. Configure the oscilloscope to trigger on the marker output 1."
   ]
  },
  {
   "cell_type": "code",
   "execution_count": 8,
   "metadata": {},
   "outputs": [
    {
     "name": "stdout",
     "output_type": "stream",
     "text": [
      "Status:\n",
      "{'status': 'STOPPED', 'flags': []}\n",
      "{'status': 'STOPPED', 'flags': []}\n"
     ]
    }
   ],
   "source": [
    "#Arm and start both sequencers.\n",
    "pulsar.arm_sequencer(0)\n",
    "pulsar.arm_sequencer(1)\n",
    "pulsar.start_sequencer()\n",
    "\n",
    "#Print status of both sequencers.\n",
    "print(\"Status:\")\n",
    "print(pulsar.get_sequencer_state(0))\n",
    "print(pulsar.get_sequencer_state(1))"
   ]
  },
  {
   "cell_type": "markdown",
   "metadata": {},
   "source": [
    "Stop\n",
    "----\n",
    "\n",
    "Finally, let's stop the sequencers if they haven't already and close the instrument connection."
   ]
  },
  {
   "cell_type": "code",
   "execution_count": 9,
   "metadata": {},
   "outputs": [
    {
     "name": "stdout",
     "output_type": "stream",
     "text": [
      "Status:\n",
      "{'status': 'STOPPED', 'flags': ['FORCED STOP']}\n",
      "{'status': 'STOPPED', 'flags': ['FORCED STOP']}\n",
      "\n",
      "Snapshot:\n",
      "qcm:\n",
      "\tparameter                                  value\n",
      "--------------------------------------------------------------------------------\n",
      "IDN                                         :\t{'manufacturer': 'Qblox', 'mode...\n",
      "out0_offset                                 :\t0 (V)\n",
      "out1_offset                                 :\t0 (V)\n",
      "out2_offset                                 :\t0 (V)\n",
      "out3_offset                                 :\t0 (V)\n",
      "reference_source                            :\tinternal \n",
      "sequencer0_channel_map_path0_out0_en        :\tTrue \n",
      "sequencer0_channel_map_path0_out2_en        :\tFalse \n",
      "sequencer0_channel_map_path1_out1_en        :\tTrue \n",
      "sequencer0_channel_map_path1_out3_en        :\tFalse \n",
      "sequencer0_cont_mode_en_awg_path0           :\tFalse \n",
      "sequencer0_cont_mode_en_awg_path1           :\tFalse \n",
      "sequencer0_cont_mode_waveform_idx_awg_path0 :\t0 \n",
      "sequencer0_cont_mode_waveform_idx_awg_path1 :\t0 \n",
      "sequencer0_gain_awg_path0                   :\t1 \n",
      "sequencer0_gain_awg_path1                   :\t1 \n",
      "sequencer0_marker_ovr_en                    :\tFalse \n",
      "sequencer0_marker_ovr_value                 :\t0 \n",
      "sequencer0_mixer_corr_gain_ratio            :\t1 \n",
      "sequencer0_mixer_corr_phase_offset_degree   :\t-0 \n",
      "sequencer0_mod_en_awg                       :\tFalse \n",
      "sequencer0_nco_freq                         :\t0 (Hz)\n",
      "sequencer0_nco_phase_offs                   :\t0 (Degrees)\n",
      "sequencer0_offset_awg_path0                 :\t0 \n",
      "sequencer0_offset_awg_path1                 :\t0 \n",
      "sequencer0_sync_en                          :\tTrue \n",
      "sequencer0_upsample_rate_awg_path0          :\t0 \n",
      "sequencer0_upsample_rate_awg_path1          :\t0 \n",
      "sequencer0_waveforms_and_program            :\t/home/jordy/Projects/pulsar_qrm...\n",
      "sequencer1_channel_map_path0_out0_en        :\tFalse \n",
      "sequencer1_channel_map_path0_out2_en        :\tTrue \n",
      "sequencer1_channel_map_path1_out1_en        :\tFalse \n",
      "sequencer1_channel_map_path1_out3_en        :\tTrue \n",
      "sequencer1_cont_mode_en_awg_path0           :\tFalse \n",
      "sequencer1_cont_mode_en_awg_path1           :\tFalse \n",
      "sequencer1_cont_mode_waveform_idx_awg_path0 :\t0 \n",
      "sequencer1_cont_mode_waveform_idx_awg_path1 :\t0 \n",
      "sequencer1_gain_awg_path0                   :\t1 \n",
      "sequencer1_gain_awg_path1                   :\t1 \n",
      "sequencer1_marker_ovr_en                    :\tFalse \n",
      "sequencer1_marker_ovr_value                 :\t0 \n",
      "sequencer1_mixer_corr_gain_ratio            :\t1 \n",
      "sequencer1_mixer_corr_phase_offset_degree   :\t-0 \n",
      "sequencer1_mod_en_awg                       :\tFalse \n",
      "sequencer1_nco_freq                         :\t0 (Hz)\n",
      "sequencer1_nco_phase_offs                   :\t0 (Degrees)\n",
      "sequencer1_offset_awg_path0                 :\t0 \n",
      "sequencer1_offset_awg_path1                 :\t0 \n",
      "sequencer1_sync_en                          :\tTrue \n",
      "sequencer1_upsample_rate_awg_path0          :\t0 \n",
      "sequencer1_upsample_rate_awg_path1          :\t0 \n",
      "sequencer1_waveforms_and_program            :\t/home/jordy/Projects/pulsar_qrm...\n",
      "sequencer2_channel_map_path0_out0_en        :\tFalse \n",
      "sequencer2_channel_map_path0_out2_en        :\tFalse \n",
      "sequencer2_channel_map_path1_out1_en        :\tFalse \n",
      "sequencer2_channel_map_path1_out3_en        :\tFalse \n",
      "sequencer2_cont_mode_en_awg_path0           :\tFalse \n",
      "sequencer2_cont_mode_en_awg_path1           :\tFalse \n",
      "sequencer2_cont_mode_waveform_idx_awg_path0 :\t0 \n",
      "sequencer2_cont_mode_waveform_idx_awg_path1 :\t0 \n",
      "sequencer2_gain_awg_path0                   :\t1 \n",
      "sequencer2_gain_awg_path1                   :\t1 \n",
      "sequencer2_marker_ovr_en                    :\tFalse \n",
      "sequencer2_marker_ovr_value                 :\t0 \n",
      "sequencer2_mixer_corr_gain_ratio            :\t1 \n",
      "sequencer2_mixer_corr_phase_offset_degree   :\t-0 \n",
      "sequencer2_mod_en_awg                       :\tFalse \n",
      "sequencer2_nco_freq                         :\t0 (Hz)\n",
      "sequencer2_nco_phase_offs                   :\t0 (Degrees)\n",
      "sequencer2_offset_awg_path0                 :\t0 \n",
      "sequencer2_offset_awg_path1                 :\t0 \n",
      "sequencer2_sync_en                          :\tFalse \n",
      "sequencer2_upsample_rate_awg_path0          :\t0 \n",
      "sequencer2_upsample_rate_awg_path1          :\t0 \n",
      "sequencer2_waveforms_and_program            :\tNone \n",
      "sequencer3_channel_map_path0_out0_en        :\tFalse \n",
      "sequencer3_channel_map_path0_out2_en        :\tFalse \n",
      "sequencer3_channel_map_path1_out1_en        :\tFalse \n",
      "sequencer3_channel_map_path1_out3_en        :\tFalse \n",
      "sequencer3_cont_mode_en_awg_path0           :\tFalse \n",
      "sequencer3_cont_mode_en_awg_path1           :\tFalse \n",
      "sequencer3_cont_mode_waveform_idx_awg_path0 :\t0 \n",
      "sequencer3_cont_mode_waveform_idx_awg_path1 :\t0 \n",
      "sequencer3_gain_awg_path0                   :\t1 \n",
      "sequencer3_gain_awg_path1                   :\t1 \n",
      "sequencer3_marker_ovr_en                    :\tFalse \n",
      "sequencer3_marker_ovr_value                 :\t0 \n",
      "sequencer3_mixer_corr_gain_ratio            :\t1 \n",
      "sequencer3_mixer_corr_phase_offset_degree   :\t-0 \n",
      "sequencer3_mod_en_awg                       :\tFalse \n",
      "sequencer3_nco_freq                         :\t0 (Hz)\n",
      "sequencer3_nco_phase_offs                   :\t0 (Degrees)\n",
      "sequencer3_offset_awg_path0                 :\t0 \n",
      "sequencer3_offset_awg_path1                 :\t0 \n",
      "sequencer3_sync_en                          :\tFalse \n",
      "sequencer3_upsample_rate_awg_path0          :\t0 \n",
      "sequencer3_upsample_rate_awg_path1          :\t0 \n",
      "sequencer3_waveforms_and_program            :\tNone \n",
      "sequencer4_channel_map_path0_out0_en        :\tFalse \n",
      "sequencer4_channel_map_path0_out2_en        :\tFalse \n",
      "sequencer4_channel_map_path1_out1_en        :\tFalse \n",
      "sequencer4_channel_map_path1_out3_en        :\tFalse \n",
      "sequencer4_cont_mode_en_awg_path0           :\tFalse \n",
      "sequencer4_cont_mode_en_awg_path1           :\tFalse \n",
      "sequencer4_cont_mode_waveform_idx_awg_path0 :\t0 \n",
      "sequencer4_cont_mode_waveform_idx_awg_path1 :\t0 \n",
      "sequencer4_gain_awg_path0                   :\t1 \n",
      "sequencer4_gain_awg_path1                   :\t1 \n",
      "sequencer4_marker_ovr_en                    :\tFalse \n",
      "sequencer4_marker_ovr_value                 :\t0 \n",
      "sequencer4_mixer_corr_gain_ratio            :\t1 \n",
      "sequencer4_mixer_corr_phase_offset_degree   :\t-0 \n",
      "sequencer4_mod_en_awg                       :\tFalse \n",
      "sequencer4_nco_freq                         :\t0 (Hz)\n",
      "sequencer4_nco_phase_offs                   :\t0 (Degrees)\n",
      "sequencer4_offset_awg_path0                 :\t0 \n",
      "sequencer4_offset_awg_path1                 :\t0 \n",
      "sequencer4_sync_en                          :\tFalse \n",
      "sequencer4_upsample_rate_awg_path0          :\t0 \n",
      "sequencer4_upsample_rate_awg_path1          :\t0 \n",
      "sequencer4_waveforms_and_program            :\tNone \n",
      "sequencer5_channel_map_path0_out0_en        :\tFalse \n",
      "sequencer5_channel_map_path0_out2_en        :\tFalse \n",
      "sequencer5_channel_map_path1_out1_en        :\tFalse \n",
      "sequencer5_channel_map_path1_out3_en        :\tFalse \n",
      "sequencer5_cont_mode_en_awg_path0           :\tFalse \n",
      "sequencer5_cont_mode_en_awg_path1           :\tFalse \n",
      "sequencer5_cont_mode_waveform_idx_awg_path0 :\t0 \n",
      "sequencer5_cont_mode_waveform_idx_awg_path1 :\t0 \n",
      "sequencer5_gain_awg_path0                   :\t1 \n",
      "sequencer5_gain_awg_path1                   :\t1 \n",
      "sequencer5_marker_ovr_en                    :\tFalse \n",
      "sequencer5_marker_ovr_value                 :\t0 \n",
      "sequencer5_mixer_corr_gain_ratio            :\t1 \n",
      "sequencer5_mixer_corr_phase_offset_degree   :\t-0 \n",
      "sequencer5_mod_en_awg                       :\tFalse \n",
      "sequencer5_nco_freq                         :\t0 (Hz)\n",
      "sequencer5_nco_phase_offs                   :\t0 (Degrees)\n",
      "sequencer5_offset_awg_path0                 :\t0 \n",
      "sequencer5_offset_awg_path1                 :\t0 \n",
      "sequencer5_sync_en                          :\tFalse \n",
      "sequencer5_upsample_rate_awg_path0          :\t0 \n",
      "sequencer5_upsample_rate_awg_path1          :\t0 \n",
      "sequencer5_waveforms_and_program            :\tNone \n"
     ]
    }
   ],
   "source": [
    "#Stop both sequencers.\n",
    "pulsar.stop_sequencer()\n",
    "    \n",
    "#Print status of both sequencers (should now say it is stopped).\n",
    "print(\"Status:\")\n",
    "print(pulsar.get_sequencer_state(0))\n",
    "print(pulsar.get_sequencer_state(1))\n",
    "print()\n",
    "\n",
    "#Print an overview of the instrument parameters.\n",
    "print(\"Snapshot:\")\n",
    "pulsar.print_readable_snapshot(update=True)\n",
    "    \n",
    "#Close the instrument connection.\n",
    "pulsar.close()"
   ]
  }
 ],
 "metadata": {
  "interpreter": {
   "hash": "31f2aee4e71d21fbe5cf8b01ff0e069b9275f58929596ceb00d14d90e3e16cd6"
  },
  "kernelspec": {
   "display_name": "Python 3 (ipykernel)",
   "language": "python",
   "name": "python3"
  },
  "language_info": {
   "codemirror_mode": {
    "name": "ipython",
    "version": 3
   },
   "file_extension": ".py",
   "mimetype": "text/x-python",
   "name": "python",
   "nbconvert_exporter": "python",
   "pygments_lexer": "ipython3",
   "version": "3.8.11"
  }
 },
 "nbformat": 4,
 "nbformat_minor": 4
}
